{
 "cells": [
  {
   "cell_type": "markdown",
   "metadata": {},
   "source": [
    "# Context\n",
    "\n",
    "This dataset describes about Customer acceptability evaluation. Buying an old car requires a lot of checks and tests. Many scenarios comes into picture when one is trying to purchase old car like Car condition, Safety, Buying Price, luggage boot size, maintenance. \n",
    "\n",
    "Making a correct decision while purchasing is not easy for all. Comparing with old data can make evaluation optimised. Here we are builiding a model on decision making whether we Customer go ahead and purchase or not.\n",
    "\n",
    "Download the data from https://archive-beta.ics.uci.edu/ml/datasets/19"
   ]
  },
  {
   "cell_type": "markdown",
   "metadata": {},
   "source": [
    "# Importing Required Modules"
   ]
  },
  {
   "cell_type": "code",
   "execution_count": 1,
   "metadata": {
    "scrolled": true
   },
   "outputs": [
    {
     "name": "stdout",
     "output_type": "stream",
     "text": [
      "Requirement already satisfied: xgboost in /opt/conda/envs/fastai/lib/python3.8/site-packages (1.4.2)\r\n",
      "Requirement already satisfied: numpy in /opt/conda/envs/fastai/lib/python3.8/site-packages (from xgboost) (1.19.4)\r\n",
      "Requirement already satisfied: scipy in /opt/conda/envs/fastai/lib/python3.8/site-packages (from xgboost) (1.5.3)\r\n"
     ]
    }
   ],
   "source": [
    "!pip install xgboost"
   ]
  },
  {
   "cell_type": "code",
   "execution_count": 2,
   "metadata": {},
   "outputs": [
    {
     "name": "stdout",
     "output_type": "stream",
     "text": [
      "Requirement already satisfied: kneed in /opt/conda/envs/fastai/lib/python3.8/site-packages (0.7.0)\n",
      "Requirement already satisfied: numpy>=1.14.2 in /opt/conda/envs/fastai/lib/python3.8/site-packages (from kneed) (1.19.4)\n",
      "Requirement already satisfied: scipy in /opt/conda/envs/fastai/lib/python3.8/site-packages (from kneed) (1.5.3)\n",
      "Requirement already satisfied: matplotlib in /opt/conda/envs/fastai/lib/python3.8/site-packages (from kneed) (3.3.3)\n",
      "Requirement already satisfied: python-dateutil>=2.1 in /opt/conda/envs/fastai/lib/python3.8/site-packages (from matplotlib->kneed) (2.8.1)\n",
      "Requirement already satisfied: pillow>=6.2.0 in /opt/conda/envs/fastai/lib/python3.8/site-packages (from matplotlib->kneed) (8.0.1)\n",
      "Requirement already satisfied: kiwisolver>=1.0.1 in /opt/conda/envs/fastai/lib/python3.8/site-packages (from matplotlib->kneed) (1.3.1)\n",
      "Requirement already satisfied: cycler>=0.10 in /opt/conda/envs/fastai/lib/python3.8/site-packages (from matplotlib->kneed) (0.10.0)\n",
      "Requirement already satisfied: pyparsing!=2.0.4,!=2.1.2,!=2.1.6,>=2.0.3 in /opt/conda/envs/fastai/lib/python3.8/site-packages (from matplotlib->kneed) (2.4.7)\n",
      "Requirement already satisfied: six>=1.5 in /opt/conda/envs/fastai/lib/python3.8/site-packages (from python-dateutil>=2.1->matplotlib->kneed) (1.15.0)\n"
     ]
    }
   ],
   "source": [
    "!pip install kneed"
   ]
  },
  {
   "cell_type": "code",
   "execution_count": 3,
   "metadata": {},
   "outputs": [
    {
     "name": "stdout",
     "output_type": "stream",
     "text": [
      "Requirement already satisfied: imblearn in /opt/conda/envs/fastai/lib/python3.8/site-packages (0.0)\n",
      "Requirement already satisfied: imbalanced-learn in /opt/conda/envs/fastai/lib/python3.8/site-packages (from imblearn) (0.8.1)\n",
      "Requirement already satisfied: scipy>=0.19.1 in /opt/conda/envs/fastai/lib/python3.8/site-packages (from imbalanced-learn->imblearn) (1.5.3)\n",
      "Requirement already satisfied: scikit-learn>=0.24 in /opt/conda/envs/fastai/lib/python3.8/site-packages (from imbalanced-learn->imblearn) (1.0)\n",
      "Requirement already satisfied: joblib>=0.11 in /opt/conda/envs/fastai/lib/python3.8/site-packages (from imbalanced-learn->imblearn) (0.17.0)\n",
      "Requirement already satisfied: numpy>=1.13.3 in /opt/conda/envs/fastai/lib/python3.8/site-packages (from imbalanced-learn->imblearn) (1.19.4)\n",
      "Requirement already satisfied: threadpoolctl>=2.0.0 in /opt/conda/envs/fastai/lib/python3.8/site-packages (from scikit-learn>=0.24->imbalanced-learn->imblearn) (2.1.0)\n"
     ]
    }
   ],
   "source": [
    "!pip install imblearn"
   ]
  },
  {
   "cell_type": "code",
   "execution_count": 4,
   "metadata": {},
   "outputs": [],
   "source": [
    "#importing Required Modules\n",
    "import pandas as pd\n",
    "import numpy as np\n",
    "pd.set_option('display.max_columns', None)\n",
    "\n",
    "#importing Graphical Charts Packages\n",
    "import matplotlib.pyplot as plt\n",
    "import seaborn as sns\n",
    "%matplotlib inline\n",
    "\n",
    "#importing ml models\n",
    "from sklearn.linear_model import LogisticRegression\n",
    "from sklearn.linear_model import SGDClassifier\n",
    "from sklearn.ensemble import AdaBoostClassifier # Adaboost classifier\n",
    "from xgboost import XGBClassifier # XGB Classifier\n",
    "\n",
    "#importing cross validation module\n",
    "from sklearn.model_selection import StratifiedKFold, cross_val_score\n",
    "\n",
    "#importing train test split module\n",
    "from sklearn.model_selection import train_test_split\n",
    "from sklearn.model_selection import StratifiedShuffleSplit\n",
    "\n",
    "#importing metrics evaluation modules\n",
    "from sklearn.metrics import roc_curve\n",
    "from sklearn.metrics import confusion_matrix\n",
    "from sklearn.metrics import precision_score, recall_score\n",
    "from sklearn.metrics import classification_report"
   ]
  },
  {
   "cell_type": "markdown",
   "metadata": {},
   "source": [
    "# Reading Data"
   ]
  },
  {
   "cell_type": "code",
   "execution_count": 5,
   "metadata": {
    "scrolled": true
   },
   "outputs": [
    {
     "name": "stdout",
     "output_type": "stream",
     "text": [
      "No of Instances : 1728\n",
      "No of Columns : 7\n"
     ]
    }
   ],
   "source": [
    "df  = pd.read_csv('car.data', header = None)\n",
    "df.columns = ['buying', 'maint', 'doors', 'persons', 'lug_boot', 'safety', 'accep']\n",
    "print(f\"No of Instances : {df.shape[0]}\")\n",
    "print(f\"No of Columns : {df.shape[1]}\")"
   ]
  },
  {
   "cell_type": "markdown",
   "metadata": {},
   "source": [
    "pd.read_csv() used to import the dataset and it support various parameters ex. header. The data doesnt have any header so here header=None.\n",
    "shape function provides dimensions of data(rows ,columns). index 0 contains no of instances and index 1 contains no of columns.\n"
   ]
  },
  {
   "cell_type": "markdown",
   "metadata": {},
   "source": [
    "# Sample Data"
   ]
  },
  {
   "cell_type": "code",
   "execution_count": 6,
   "metadata": {
    "scrolled": true
   },
   "outputs": [
    {
     "data": {
      "text/html": [
       "<div>\n",
       "<style scoped>\n",
       "    .dataframe tbody tr th:only-of-type {\n",
       "        vertical-align: middle;\n",
       "    }\n",
       "\n",
       "    .dataframe tbody tr th {\n",
       "        vertical-align: top;\n",
       "    }\n",
       "\n",
       "    .dataframe thead th {\n",
       "        text-align: right;\n",
       "    }\n",
       "</style>\n",
       "<table border=\"1\" class=\"dataframe\">\n",
       "  <thead>\n",
       "    <tr style=\"text-align: right;\">\n",
       "      <th></th>\n",
       "      <th>buying</th>\n",
       "      <th>maint</th>\n",
       "      <th>doors</th>\n",
       "      <th>persons</th>\n",
       "      <th>lug_boot</th>\n",
       "      <th>safety</th>\n",
       "      <th>accep</th>\n",
       "    </tr>\n",
       "  </thead>\n",
       "  <tbody>\n",
       "    <tr>\n",
       "      <th>0</th>\n",
       "      <td>vhigh</td>\n",
       "      <td>vhigh</td>\n",
       "      <td>2</td>\n",
       "      <td>2</td>\n",
       "      <td>small</td>\n",
       "      <td>low</td>\n",
       "      <td>unacc</td>\n",
       "    </tr>\n",
       "    <tr>\n",
       "      <th>1</th>\n",
       "      <td>vhigh</td>\n",
       "      <td>vhigh</td>\n",
       "      <td>2</td>\n",
       "      <td>2</td>\n",
       "      <td>small</td>\n",
       "      <td>med</td>\n",
       "      <td>unacc</td>\n",
       "    </tr>\n",
       "    <tr>\n",
       "      <th>2</th>\n",
       "      <td>vhigh</td>\n",
       "      <td>vhigh</td>\n",
       "      <td>2</td>\n",
       "      <td>2</td>\n",
       "      <td>small</td>\n",
       "      <td>high</td>\n",
       "      <td>unacc</td>\n",
       "    </tr>\n",
       "    <tr>\n",
       "      <th>3</th>\n",
       "      <td>vhigh</td>\n",
       "      <td>vhigh</td>\n",
       "      <td>2</td>\n",
       "      <td>2</td>\n",
       "      <td>med</td>\n",
       "      <td>low</td>\n",
       "      <td>unacc</td>\n",
       "    </tr>\n",
       "    <tr>\n",
       "      <th>4</th>\n",
       "      <td>vhigh</td>\n",
       "      <td>vhigh</td>\n",
       "      <td>2</td>\n",
       "      <td>2</td>\n",
       "      <td>med</td>\n",
       "      <td>med</td>\n",
       "      <td>unacc</td>\n",
       "    </tr>\n",
       "  </tbody>\n",
       "</table>\n",
       "</div>"
      ],
      "text/plain": [
       "  buying  maint doors persons lug_boot safety  accep\n",
       "0  vhigh  vhigh     2       2    small    low  unacc\n",
       "1  vhigh  vhigh     2       2    small    med  unacc\n",
       "2  vhigh  vhigh     2       2    small   high  unacc\n",
       "3  vhigh  vhigh     2       2      med    low  unacc\n",
       "4  vhigh  vhigh     2       2      med    med  unacc"
      ]
     },
     "execution_count": 6,
     "metadata": {},
     "output_type": "execute_result"
    }
   ],
   "source": [
    "df.head()"
   ]
  },
  {
   "cell_type": "markdown",
   "metadata": {},
   "source": [
    "head() function prints top 5 records. Looking at top 5 records, below are observations\n",
    "\n",
    "### Independent Variable\n",
    "* buying : values contains text data\n",
    "* maint : values contains text data\n",
    "* doors : values contains numerical data\n",
    "* persons : values contains numerical data\n",
    "* lug_boot : values contains text data\n",
    "* safety : values contains text data\n",
    "\n",
    "### Dependent Variable\n",
    "* accep : values contains text data\n",
    "\n",
    "* Target variable is categorical data, we need to develop classification model.\n"
   ]
  },
  {
   "cell_type": "markdown",
   "metadata": {},
   "source": [
    "# Looking at the data types and missing values"
   ]
  },
  {
   "cell_type": "code",
   "execution_count": 7,
   "metadata": {
    "scrolled": true
   },
   "outputs": [
    {
     "name": "stdout",
     "output_type": "stream",
     "text": [
      "<class 'pandas.core.frame.DataFrame'>\n",
      "RangeIndex: 1728 entries, 0 to 1727\n",
      "Data columns (total 7 columns):\n",
      " #   Column    Non-Null Count  Dtype \n",
      "---  ------    --------------  ----- \n",
      " 0   buying    1728 non-null   object\n",
      " 1   maint     1728 non-null   object\n",
      " 2   doors     1728 non-null   object\n",
      " 3   persons   1728 non-null   object\n",
      " 4   lug_boot  1728 non-null   object\n",
      " 5   safety    1728 non-null   object\n",
      " 6   accep     1728 non-null   object\n",
      "dtypes: object(7)\n",
      "memory usage: 94.6+ KB\n"
     ]
    }
   ],
   "source": [
    "df.info()"
   ]
  },
  {
   "cell_type": "markdown",
   "metadata": {},
   "source": [
    "Text data is represented as **object** by default in pandas dataframe. Looking at dtype column, All of the columns are object data type and can be validated from the sample data. But doors, persons might have null values, they are being treated as object type, if they contain null values they supposed to be int type(looking at the sample data). Let's look at null values and decide whether or not to convert doors, persons to int type in the later section"
   ]
  },
  {
   "cell_type": "code",
   "execution_count": 8,
   "metadata": {
    "scrolled": false
   },
   "outputs": [
    {
     "data": {
      "text/plain": [
       "buying      0\n",
       "maint       0\n",
       "doors       0\n",
       "persons     0\n",
       "lug_boot    0\n",
       "safety      0\n",
       "accep       0\n",
       "dtype: int64"
      ]
     },
     "execution_count": 8,
     "metadata": {},
     "output_type": "execute_result"
    }
   ],
   "source": [
    "df.isnull().sum()"
   ]
  },
  {
   "cell_type": "markdown",
   "metadata": {},
   "source": [
    "Null values are missing values in the data. The null values are handled in feature extraction phase and those values are imputed with imputed values. From the above result, we can tell there are no null values in the data"
   ]
  },
  {
   "cell_type": "markdown",
   "metadata": {},
   "source": [
    "# Since there are no null values, we manually add them into data"
   ]
  },
  {
   "cell_type": "code",
   "execution_count": 9,
   "metadata": {},
   "outputs": [],
   "source": [
    "def add_null_values(df, columns, null_count):\n",
    "    col_len = len(columns)\n",
    "    total_instances = df.shape[0]\n",
    "    \n",
    "    while(null_count > 0) :\n",
    "        random_column = columns[np.random.randint(0,col_len)]\n",
    "        random_row = np.random.randint(0,total_instances)\n",
    "        \n",
    "        df[random_column][random_row] = np.nan\n",
    "        null_count -=1\n"
   ]
  },
  {
   "cell_type": "code",
   "execution_count": 10,
   "metadata": {},
   "outputs": [],
   "source": [
    "cols = ['buying', 'doors', 'safety','persons','maint', 'lug_boot']\n",
    "add_null_values(df, cols, 130)"
   ]
  },
  {
   "cell_type": "code",
   "execution_count": 11,
   "metadata": {
    "scrolled": true
   },
   "outputs": [
    {
     "data": {
      "text/plain": [
       "buying      23\n",
       "maint       21\n",
       "doors       19\n",
       "persons     30\n",
       "lug_boot    21\n",
       "safety      16\n",
       "accep        0\n",
       "dtype: int64"
      ]
     },
     "execution_count": 11,
     "metadata": {},
     "output_type": "execute_result"
    }
   ],
   "source": [
    "df.isna().sum()"
   ]
  },
  {
   "cell_type": "markdown",
   "metadata": {},
   "source": [
    "We have added few null values in the data, to perform feature engineering on the data in later section. In most cases, the raw data contains null values and we need to impute them with suitable values.Looks like we pulled a processed data from UCI Machine learning repo."
   ]
  },
  {
   "cell_type": "markdown",
   "metadata": {},
   "source": [
    "# EDA - Exploratory Data Analysis"
   ]
  },
  {
   "cell_type": "markdown",
   "metadata": {},
   "source": [
    "EDA deals with charts and graphs on the data. EDA helps us to draw insights from the data, and also helps us to understand the data better. We use **matplotlib, seaborn** python packages to show the data through charts. "
   ]
  },
  {
   "cell_type": "code",
   "execution_count": 12,
   "metadata": {},
   "outputs": [
    {
     "data": {
      "text/html": [
       "<div>\n",
       "<style scoped>\n",
       "    .dataframe tbody tr th:only-of-type {\n",
       "        vertical-align: middle;\n",
       "    }\n",
       "\n",
       "    .dataframe tbody tr th {\n",
       "        vertical-align: top;\n",
       "    }\n",
       "\n",
       "    .dataframe thead th {\n",
       "        text-align: right;\n",
       "    }\n",
       "</style>\n",
       "<table border=\"1\" class=\"dataframe\">\n",
       "  <thead>\n",
       "    <tr style=\"text-align: right;\">\n",
       "      <th></th>\n",
       "      <th>buying</th>\n",
       "      <th>maint</th>\n",
       "      <th>doors</th>\n",
       "      <th>persons</th>\n",
       "      <th>lug_boot</th>\n",
       "      <th>safety</th>\n",
       "      <th>accep</th>\n",
       "      <th>accepted</th>\n",
       "    </tr>\n",
       "  </thead>\n",
       "  <tbody>\n",
       "    <tr>\n",
       "      <th>0</th>\n",
       "      <td>vhigh</td>\n",
       "      <td>vhigh</td>\n",
       "      <td>2</td>\n",
       "      <td>2</td>\n",
       "      <td>small</td>\n",
       "      <td>low</td>\n",
       "      <td>unacc</td>\n",
       "      <td>not accepted</td>\n",
       "    </tr>\n",
       "    <tr>\n",
       "      <th>1</th>\n",
       "      <td>vhigh</td>\n",
       "      <td>vhigh</td>\n",
       "      <td>2</td>\n",
       "      <td>2</td>\n",
       "      <td>small</td>\n",
       "      <td>med</td>\n",
       "      <td>unacc</td>\n",
       "      <td>not accepted</td>\n",
       "    </tr>\n",
       "  </tbody>\n",
       "</table>\n",
       "</div>"
      ],
      "text/plain": [
       "  buying  maint doors persons lug_boot safety  accep      accepted\n",
       "0  vhigh  vhigh     2       2    small    low  unacc  not accepted\n",
       "1  vhigh  vhigh     2       2    small    med  unacc  not accepted"
      ]
     },
     "execution_count": 12,
     "metadata": {},
     "output_type": "execute_result"
    }
   ],
   "source": [
    "df_copy = df.copy()\n",
    "df_copy['accepted'] = np.where(df_copy['accep'] == 'unacc', 'not accepted', 'accepted')\n",
    "df_copy.head(2)"
   ]
  },
  {
   "cell_type": "code",
   "execution_count": 13,
   "metadata": {},
   "outputs": [],
   "source": [
    "sns.set_style(\"whitegrid\")\n",
    "#sns.set_style(\"ticks\", {\"xtick.major.size\": 8, \"ytick.major.size\": 8})\n",
    "#color_palette = sns.color_palette(\"light:#5A9\")\n",
    "color_palette = sns.color_palette(\"ch:s=-.2,r=.6\")\n",
    "sns.set_palette(palette=color_palette)"
   ]
  },
  {
   "cell_type": "code",
   "execution_count": 14,
   "metadata": {
    "scrolled": false
   },
   "outputs": [
    {
     "data": {
      "image/png": "[encoded data removed]",
      "text/plain": [
       "<Figure size 1008x432 with 2 Axes>"
      ]
     },
     "metadata": {},
     "output_type": "display_data"
    }
   ],
   "source": [
    "#df_accepted = df_copy[df_copy['accepted'] == 'accepted']\n",
    "\n",
    "fig, axes = plt.subplots(1, 2, figsize=(14, 6))\n",
    "fig.suptitle('Buying Price vs Acceptance')\n",
    "\n",
    "sns.countplot(ax=axes[0], x=\"buying\",hue=\"accep\", data=df_copy)\n",
    "axes[0].set_xlabel(\"Buying\")\n",
    "axes[0].set_ylabel(\"Car Acceptance\")\n",
    "axes[0].set_title(\"Fig 1\")\n",
    "sns.countplot(ax=axes[1], x=\"buying\",hue=\"accepted\", data=df_copy)\n",
    "axes[1].set_xlabel(\"Buying\")\n",
    "axes[1].set_ylabel(\"Car Acceptance\")\n",
    "axes[1].set_title(\"Fig 2\")\n",
    "plt.show()"
   ]
  },
  {
   "cell_type": "markdown",
   "metadata": {},
   "source": [
    "Below are few keypoints observed from above chart between **buying** and **acceptance evaluation**. \n",
    "* Car is accepted even from lower price to very high price\n",
    "* Car rejection rate decreasing and car acceptance rate increasing from vhigh to low\n",
    "* Evaluation is having different levels when car buying price is low and medium. Looks like there are more changes of getting better deals at these prices."
   ]
  },
  {
   "cell_type": "code",
   "execution_count": 15,
   "metadata": {
    "scrolled": true
   },
   "outputs": [
    {
     "data": {
      "text/html": [
       "<div>\n",
       "<style scoped>\n",
       "    .dataframe tbody tr th:only-of-type {\n",
       "        vertical-align: middle;\n",
       "    }\n",
       "\n",
       "    .dataframe tbody tr th {\n",
       "        vertical-align: top;\n",
       "    }\n",
       "\n",
       "    .dataframe thead th {\n",
       "        text-align: right;\n",
       "    }\n",
       "</style>\n",
       "<table border=\"1\" class=\"dataframe\">\n",
       "  <thead>\n",
       "    <tr style=\"text-align: right;\">\n",
       "      <th></th>\n",
       "      <th>buying</th>\n",
       "      <th>maint</th>\n",
       "      <th>doors</th>\n",
       "      <th>persons</th>\n",
       "      <th>lug_boot</th>\n",
       "      <th>safety</th>\n",
       "      <th>accep</th>\n",
       "      <th>accepted</th>\n",
       "      <th>accepted_value</th>\n",
       "    </tr>\n",
       "  </thead>\n",
       "  <tbody>\n",
       "    <tr>\n",
       "      <th>0</th>\n",
       "      <td>vhigh</td>\n",
       "      <td>vhigh</td>\n",
       "      <td>2</td>\n",
       "      <td>2</td>\n",
       "      <td>small</td>\n",
       "      <td>low</td>\n",
       "      <td>unacc</td>\n",
       "      <td>not accepted</td>\n",
       "      <td>0</td>\n",
       "    </tr>\n",
       "    <tr>\n",
       "      <th>1</th>\n",
       "      <td>vhigh</td>\n",
       "      <td>vhigh</td>\n",
       "      <td>2</td>\n",
       "      <td>2</td>\n",
       "      <td>small</td>\n",
       "      <td>med</td>\n",
       "      <td>unacc</td>\n",
       "      <td>not accepted</td>\n",
       "      <td>0</td>\n",
       "    </tr>\n",
       "  </tbody>\n",
       "</table>\n",
       "</div>"
      ],
      "text/plain": [
       "  buying  maint doors persons lug_boot safety  accep      accepted  \\\n",
       "0  vhigh  vhigh     2       2    small    low  unacc  not accepted   \n",
       "1  vhigh  vhigh     2       2    small    med  unacc  not accepted   \n",
       "\n",
       "   accepted_value  \n",
       "0               0  \n",
       "1               0  "
      ]
     },
     "execution_count": 15,
     "metadata": {},
     "output_type": "execute_result"
    }
   ],
   "source": [
    "df_copy['accepted_value'] = np.where(df_copy['accepted'] == 'not accepted', 0, 1)\n",
    "df_copy.fillna(\"null_value\", inplace=True)\n",
    "df_copy.head(2)"
   ]
  },
  {
   "cell_type": "code",
   "execution_count": 16,
   "metadata": {},
   "outputs": [],
   "source": [
    "order = [\"vhigh\", \"high\", \"med\", \"low\", \"null_value\"]\n",
    "\n",
    "accepted = df_copy[df_copy['accepted'] == 'accepted']\n",
    "accepted_grp = accepted.groupby(['maint','buying'])['accepted'].count().unstack().astype(pd.Int64Dtype()).loc[order]"
   ]
  },
  {
   "cell_type": "code",
   "execution_count": 17,
   "metadata": {
    "scrolled": false
   },
   "outputs": [],
   "source": [
    "not_accepted = df_copy[df_copy['accepted'] == 'not accepted']\n",
    "not_accepted_grp = not_accepted.groupby(['maint','buying'])['accepted'].count().unstack().astype(pd.Int64Dtype()).loc[order]"
   ]
  },
  {
   "cell_type": "code",
   "execution_count": 18,
   "metadata": {
    "scrolled": true
   },
   "outputs": [
    {
     "data": {
      "image/png": "[encoded data removed]",
      "text/plain": [
       "<Figure size 1080x360 with 1 Axes>"
      ]
     },
     "metadata": {},
     "output_type": "display_data"
    },
    {
     "data": {
      "image/png": "[encoded data removed]",
      "text/plain": [
       "<Figure size 1080x360 with 1 Axes>"
      ]
     },
     "metadata": {},
     "output_type": "display_data"
    }
   ],
   "source": [
    "accepted_grp.plot(kind=\"bar\", figsize=(15, 5), title=\"Maintenance vs Car Accepted\", xlabel=\"Maintenance\", ylabel=\"Car Accepted\")\n",
    "plt.legend(title = \"buying\", loc=(1.01,0.655));\n",
    "not_accepted_grp.plot(kind=\"bar\", figsize=(15, 5), title=\"Maintenance vs Car Not Accepted\", xlabel=\"Maintenance\", ylabel=\"Car Not Accepted\")\n",
    "plt.legend(title = \"buying\", loc=(1.01,0.655));"
   ]
  },
  {
   "cell_type": "markdown",
   "metadata": {},
   "source": [
    "Keypoints:\n",
    "##### Chart - Maintenance vs Car Accepted\n",
    "\n",
    "* Maintenance is vhigh, and car should have low, medium price to accept.\n",
    "* low, medium maintenance required cars can quote for high price.\n",
    "* maintenance of null values have buying price low, high and vhigh. We should take care while imputing null values\n",
    "\n",
    "##### Chart - Maintenance vs Car Not Accepted\n",
    "* Car is not accepted at maintenance is vhigh, high even buying price is low, medium"
   ]
  },
  {
   "cell_type": "code",
   "execution_count": 19,
   "metadata": {},
   "outputs": [],
   "source": [
    "doors_lug_boot_grouped = df_copy.groupby(['doors', 'lug_boot', 'accep'])"
   ]
  },
  {
   "cell_type": "code",
   "execution_count": 20,
   "metadata": {},
   "outputs": [],
   "source": [
    "doors_lug_boot_acc = accepted.groupby(['doors', 'lug_boot'])['accepted'].count().unstack().astype(pd.Int64Dtype())\n",
    "doors_lug_boot_unacc = not_accepted.groupby(['doors', 'lug_boot'])['accepted'].count().unstack().astype(pd.Int64Dtype())"
   ]
  },
  {
   "cell_type": "code",
   "execution_count": 21,
   "metadata": {},
   "outputs": [],
   "source": [
    "doors_lug_boot_acc = accepted.groupby(['doors', 'lug_boot'])['accepted'].count()"
   ]
  },
  {
   "cell_type": "code",
   "execution_count": 22,
   "metadata": {
    "scrolled": true
   },
   "outputs": [],
   "source": [
    "#sns.relplot(x='doors', y='lug_boot', data=accepted.groupby(['doors', 'lug_boot'])['accepted'].count())"
   ]
  },
  {
   "cell_type": "code",
   "execution_count": 23,
   "metadata": {},
   "outputs": [
    {
     "data": {
      "image/png": "[encoded data removed]",
      "text/plain": [
       "<Figure size 360x360 with 1 Axes>"
      ]
     },
     "metadata": {},
     "output_type": "display_data"
    }
   ],
   "source": [
    "\n",
    "sns.catplot(x='doors', y='accepted', data=doors_lug_boot_acc.reset_index());\n",
    "#plt.legend(loc=(1.01,0.85))\n",
    "plt.show()"
   ]
  },
  {
   "cell_type": "markdown",
   "metadata": {},
   "source": [
    "# Split the data "
   ]
  },
  {
   "cell_type": "markdown",
   "metadata": {},
   "source": [
    "We will do feature engineering, feature selection on the entire data and we learn about the data in this process. After that we split the data into training data and test data. We train our model using training data to learn the patterns and later test it with test data to check the accuracy. This looks simple and perfect right then why we need to split the data right now?\n",
    "\n",
    "When we do EDA, feature engineering, feature selection on the entire data to identify underlying pattens in the data, and after we split data into training & test, there is a high chances of training data already known some patterns of test data and vice-versa as from starting phase we worked on entire data and it results in weak model and low accuracy\n",
    "\n",
    "\n",
    "To ensure our model is working better and provide good results, We initally split the data into train data, test data in the initial phases. So we cannot understand the underlying pattern in the test data"
   ]
  },
  {
   "cell_type": "code",
   "execution_count": 24,
   "metadata": {
    "scrolled": true
   },
   "outputs": [
    {
     "name": "stdout",
     "output_type": "stream",
     "text": [
      "Instances in Training Set : 1382\n",
      "Instances in Test Set : 346\n"
     ]
    }
   ],
   "source": [
    "X = df.iloc[:, :-1]\n",
    "y = df.iloc[:, -1]\n",
    "X_train, X_test, y_train, y_test = train_test_split(X, y, test_size=0.2, random_state=42)\n",
    "#split = StratifiedShuffleSplit(n_splits=1, test_size=0.2, random_state=42)\n",
    "#for train_index, test_index in split.split(df, df[\"accep\"]):\n",
    "#    X_train, X_test = df.iloc[train_index,:-1], df.iloc[test_index,:-1]\n",
    "#    y_train, y_test = df.iloc[train_index,-1], df.iloc[test_index,-1]\n",
    "\n",
    "print(f\"Instances in Training Set : {X_train.shape[0]}\")\n",
    "print(f\"Instances in Test Set : {X_test.shape[0]}\")"
   ]
  },
  {
   "cell_type": "markdown",
   "metadata": {},
   "source": [
    "# Describing the dataset"
   ]
  },
  {
   "cell_type": "code",
   "execution_count": 25,
   "metadata": {},
   "outputs": [
    {
     "data": {
      "text/html": [
       "<div>\n",
       "<style scoped>\n",
       "    .dataframe tbody tr th:only-of-type {\n",
       "        vertical-align: middle;\n",
       "    }\n",
       "\n",
       "    .dataframe tbody tr th {\n",
       "        vertical-align: top;\n",
       "    }\n",
       "\n",
       "    .dataframe thead th {\n",
       "        text-align: right;\n",
       "    }\n",
       "</style>\n",
       "<table border=\"1\" class=\"dataframe\">\n",
       "  <thead>\n",
       "    <tr style=\"text-align: right;\">\n",
       "      <th></th>\n",
       "      <th>buying</th>\n",
       "      <th>maint</th>\n",
       "      <th>doors</th>\n",
       "      <th>persons</th>\n",
       "      <th>lug_boot</th>\n",
       "      <th>safety</th>\n",
       "    </tr>\n",
       "  </thead>\n",
       "  <tbody>\n",
       "    <tr>\n",
       "      <th>count</th>\n",
       "      <td>1364</td>\n",
       "      <td>1365</td>\n",
       "      <td>1369</td>\n",
       "      <td>1361</td>\n",
       "      <td>1364</td>\n",
       "      <td>1369</td>\n",
       "    </tr>\n",
       "    <tr>\n",
       "      <th>unique</th>\n",
       "      <td>4</td>\n",
       "      <td>4</td>\n",
       "      <td>4</td>\n",
       "      <td>3</td>\n",
       "      <td>3</td>\n",
       "      <td>3</td>\n",
       "    </tr>\n",
       "    <tr>\n",
       "      <th>top</th>\n",
       "      <td>med</td>\n",
       "      <td>high</td>\n",
       "      <td>2</td>\n",
       "      <td>4</td>\n",
       "      <td>big</td>\n",
       "      <td>low</td>\n",
       "    </tr>\n",
       "    <tr>\n",
       "      <th>freq</th>\n",
       "      <td>349</td>\n",
       "      <td>353</td>\n",
       "      <td>346</td>\n",
       "      <td>469</td>\n",
       "      <td>458</td>\n",
       "      <td>463</td>\n",
       "    </tr>\n",
       "  </tbody>\n",
       "</table>\n",
       "</div>"
      ],
      "text/plain": [
       "       buying maint doors persons lug_boot safety\n",
       "count    1364  1365  1369    1361     1364   1369\n",
       "unique      4     4     4       3        3      3\n",
       "top       med  high     2       4      big    low\n",
       "freq      349   353   346     469      458    463"
      ]
     },
     "execution_count": 25,
     "metadata": {},
     "output_type": "execute_result"
    }
   ],
   "source": [
    "X_train.describe()"
   ]
  },
  {
   "cell_type": "markdown",
   "metadata": {},
   "source": [
    "We are looking into insights about the data which helps in understanding the data statistically \n",
    "* unique tells how many unique values present in the data\n",
    "* top tells top value in the data\n",
    "* freq tells maximum repeated count of a value\n",
    "\n",
    "But we knew doors and persons are not object data, lets understand the data and convert possible values to numeric, if required"
   ]
  },
  {
   "cell_type": "code",
   "execution_count": 26,
   "metadata": {},
   "outputs": [],
   "source": [
    "#sns.barplot(x=X_train['buying'], y=y_train);"
   ]
  },
  {
   "cell_type": "markdown",
   "metadata": {},
   "source": [
    "# Understanding Each Column data"
   ]
  },
  {
   "cell_type": "code",
   "execution_count": 27,
   "metadata": {
    "scrolled": false
   },
   "outputs": [
    {
     "data": {
      "text/plain": [
       "array(['5more', '3', '4', '2', nan], dtype=object)"
      ]
     },
     "execution_count": 27,
     "metadata": {},
     "output_type": "execute_result"
    }
   ],
   "source": [
    "X_train['doors'].unique()"
   ]
  },
  {
   "cell_type": "markdown",
   "metadata": {},
   "source": [
    "There is text **5more** in the data, but we knew maximum doors a car can have is 5. We have to fix '5more' and null values."
   ]
  },
  {
   "cell_type": "code",
   "execution_count": 28,
   "metadata": {
    "scrolled": false
   },
   "outputs": [
    {
     "data": {
      "text/plain": [
       "array(['more', '4', '2', nan], dtype=object)"
      ]
     },
     "execution_count": 28,
     "metadata": {},
     "output_type": "execute_result"
    }
   ],
   "source": [
    "X_train['persons'].unique()"
   ]
  },
  {
   "cell_type": "markdown",
   "metadata": {},
   "source": [
    "**Person** data tells car seater type may be 2 seater, 4 seater, till 7 seater max. In the data we observed unique values 2,4, more and nan.2 means 2 seater , 4 means 4 seater  and for value **more** there is chance of 5, 6 or 7 seater. We need to fix this more value and also null in later part"
   ]
  },
  {
   "cell_type": "code",
   "execution_count": 29,
   "metadata": {},
   "outputs": [
    {
     "data": {
      "text/plain": [
       "array(['vhigh', 'med', 'low', 'high', nan], dtype=object)"
      ]
     },
     "execution_count": 29,
     "metadata": {},
     "output_type": "execute_result"
    }
   ],
   "source": [
    "X_train['buying'].unique()"
   ]
  },
  {
   "cell_type": "markdown",
   "metadata": {},
   "source": [
    "Looks like **Buying** Column data is a categorical data and it is ordinal type because it has low, med, high etc. It represents the buying price of the car, the price is categorized from low to vhigh(very high). We need to give ranking to each of the value depending on their order (low < med < high < vhigh) and also null values needs to be imputed.\n",
    "\n",
    "***What is Ordinal Data?***\n",
    "\n",
    "The data is of type quantitative, categorized into different classes and there is a kind of order within the classes are Oridinal data. Below are examples\n",
    "* Users rating apps in google play from 0 to 5.\n",
    "* Ratings of restuarant food may be bad, average, tasty, awesome\n",
    "\n",
    "\n"
   ]
  },
  {
   "cell_type": "code",
   "execution_count": 30,
   "metadata": {
    "scrolled": true
   },
   "outputs": [
    {
     "data": {
      "text/plain": [
       "array(['vhigh', 'low', 'med', 'high', nan], dtype=object)"
      ]
     },
     "execution_count": 30,
     "metadata": {},
     "output_type": "execute_result"
    }
   ],
   "source": [
    "X_train['maint'].unique()"
   ]
  },
  {
   "cell_type": "markdown",
   "metadata": {},
   "source": [
    "Looks like **maint** Column data is a categorical data and it is ordinal type because it has low, med, high etc. It represents the car maintenance, it is categorized from low to vhigh(very high). We need to give ranking to each of the value depending on their order (low < med < high < vhigh) and also null values needs to be imputed."
   ]
  },
  {
   "cell_type": "code",
   "execution_count": 31,
   "metadata": {
    "scrolled": true
   },
   "outputs": [
    {
     "data": {
      "text/plain": [
       "array(['big', 'small', 'med', nan], dtype=object)"
      ]
     },
     "execution_count": 31,
     "metadata": {},
     "output_type": "execute_result"
    }
   ],
   "source": [
    "X_train['lug_boot'].unique()"
   ]
  },
  {
   "cell_type": "markdown",
   "metadata": {},
   "source": [
    "**lug_boot** talks about the boot size in the car. The size will be different for each car and here it is categorized into small, med, big. It is ordinal data and need to assign numerical value depending on the order ( small < med < big) and also null values needs to be imputed."
   ]
  },
  {
   "cell_type": "code",
   "execution_count": 32,
   "metadata": {
    "scrolled": true
   },
   "outputs": [
    {
     "data": {
      "text/plain": [
       "array(['high', 'med', 'low', nan], dtype=object)"
      ]
     },
     "execution_count": 32,
     "metadata": {},
     "output_type": "execute_result"
    }
   ],
   "source": [
    "X_train['safety'].unique()"
   ]
  },
  {
   "cell_type": "markdown",
   "metadata": {},
   "source": [
    "**Safety** column tells the car safety rating. It is classified into low, med, high and they are ordianal data. It also contains null values and we need to take care of them"
   ]
  },
  {
   "cell_type": "code",
   "execution_count": 33,
   "metadata": {},
   "outputs": [
    {
     "data": {
      "text/plain": [
       "array(['unacc', 'acc', 'vgood', 'good'], dtype=object)"
      ]
     },
     "execution_count": 33,
     "metadata": {},
     "output_type": "execute_result"
    }
   ],
   "source": [
    "y_train.unique()"
   ]
  },
  {
   "cell_type": "markdown",
   "metadata": {},
   "source": [
    "Target variable is also categorized into **unacc**(unacceptable), **acc**(acceptable), **vgood**(very good), **good**(good). It is ordinal type. we have to convert all the ordinal varibles into numeric variables"
   ]
  },
  {
   "cell_type": "markdown",
   "metadata": {},
   "source": [
    "***Why to convert from text data to numeric values?***\n",
    "\n",
    "The Main reason to convert all text data to numeric is the machine learning model understands only integers. There are many ways to convert text to integers, we have encoders like \n",
    "* Label encoding or Ordinal encoding\n",
    "* One hot encoding\n",
    "* Dummy encoding\n",
    "* Binary Encoding\n",
    "* BaseN Encoding\n",
    "* Hash Encoding\n",
    "* Target Encoding\n",
    "\n",
    "We will try to apply couple of encoding techniques in the feature engineering section to convert text data to numeric"
   ]
  },
  {
   "cell_type": "markdown",
   "metadata": {},
   "source": [
    "Looking at scatter plot above between buying and accep data, we can make below observations\n",
    "* When buying price is vhigh"
   ]
  },
  {
   "cell_type": "markdown",
   "metadata": {},
   "source": [
    "# Feature Engineering"
   ]
  },
  {
   "cell_type": "markdown",
   "metadata": {},
   "source": [
    "### Encoding Categorical Values"
   ]
  },
  {
   "cell_type": "markdown",
   "metadata": {},
   "source": [
    "Let's Convert categorical value to numerical values as machine learning models understand numbers, looks like all the columns have categorical data but this is not the case for doors, persons features. We will handle these features a bit later "
   ]
  },
  {
   "cell_type": "code",
   "execution_count": 34,
   "metadata": {},
   "outputs": [],
   "source": [
    "real_cols = X_train.columns"
   ]
  },
  {
   "cell_type": "code",
   "execution_count": 35,
   "metadata": {
    "scrolled": true
   },
   "outputs": [
    {
     "name": "stdout",
     "output_type": "stream",
     "text": [
      "buying feature unique values :  ['vhigh' 'med' 'low' 'high' nan]\n",
      "maint feature unique values :  ['vhigh' 'low' 'med' 'high' nan]\n",
      "lug_boot feature unique values :  ['big' 'small' 'med' nan]\n",
      "safety feature unique values :  ['high' 'med' 'low' nan]\n"
     ]
    }
   ],
   "source": [
    "encoder_features = [\"buying\",\"maint\",\"lug_boot\",\"safety\"]\n",
    "X_train[encoder_features].head()\n",
    "for feature in encoder_features:\n",
    "    print(f\"{feature} feature unique values : \", X_train[feature].unique())"
   ]
  },
  {
   "cell_type": "markdown",
   "metadata": {},
   "source": [
    "From above observation, all the categorical features ordinal features\n",
    "\n",
    "**Ordinal features:** Order of the values is important "
   ]
  },
  {
   "cell_type": "code",
   "execution_count": 36,
   "metadata": {
    "scrolled": false
   },
   "outputs": [
    {
     "data": {
      "text/html": [
       "<div>\n",
       "<style scoped>\n",
       "    .dataframe tbody tr th:only-of-type {\n",
       "        vertical-align: middle;\n",
       "    }\n",
       "\n",
       "    .dataframe tbody tr th {\n",
       "        vertical-align: top;\n",
       "    }\n",
       "\n",
       "    .dataframe thead th {\n",
       "        text-align: right;\n",
       "    }\n",
       "</style>\n",
       "<table border=\"1\" class=\"dataframe\">\n",
       "  <thead>\n",
       "    <tr style=\"text-align: right;\">\n",
       "      <th></th>\n",
       "      <th>buying</th>\n",
       "      <th>maint</th>\n",
       "      <th>doors</th>\n",
       "      <th>persons</th>\n",
       "      <th>lug_boot</th>\n",
       "      <th>safety</th>\n",
       "    </tr>\n",
       "  </thead>\n",
       "  <tbody>\n",
       "    <tr>\n",
       "      <th>107</th>\n",
       "      <td>4.0</td>\n",
       "      <td>4.0</td>\n",
       "      <td>5more</td>\n",
       "      <td>more</td>\n",
       "      <td>big</td>\n",
       "      <td>high</td>\n",
       "    </tr>\n",
       "    <tr>\n",
       "      <th>901</th>\n",
       "      <td>2.0</td>\n",
       "      <td>4.0</td>\n",
       "      <td>3</td>\n",
       "      <td>4</td>\n",
       "      <td>small</td>\n",
       "      <td>med</td>\n",
       "    </tr>\n",
       "    <tr>\n",
       "      <th>1709</th>\n",
       "      <td>1.0</td>\n",
       "      <td>1.0</td>\n",
       "      <td>5more</td>\n",
       "      <td>2</td>\n",
       "      <td>big</td>\n",
       "      <td>high</td>\n",
       "    </tr>\n",
       "    <tr>\n",
       "      <th>706</th>\n",
       "      <td>3.0</td>\n",
       "      <td>2.0</td>\n",
       "      <td>4</td>\n",
       "      <td>2</td>\n",
       "      <td>med</td>\n",
       "      <td>med</td>\n",
       "    </tr>\n",
       "    <tr>\n",
       "      <th>678</th>\n",
       "      <td>3.0</td>\n",
       "      <td>2.0</td>\n",
       "      <td>3</td>\n",
       "      <td>2</td>\n",
       "      <td>med</td>\n",
       "      <td>low</td>\n",
       "    </tr>\n",
       "  </tbody>\n",
       "</table>\n",
       "</div>"
      ],
      "text/plain": [
       "      buying  maint  doors persons lug_boot safety\n",
       "107      4.0    4.0  5more    more      big   high\n",
       "901      2.0    4.0      3       4    small    med\n",
       "1709     1.0    1.0  5more       2      big   high\n",
       "706      3.0    2.0      4       2      med    med\n",
       "678      3.0    2.0      3       2      med    low"
      ]
     },
     "execution_count": 36,
     "metadata": {},
     "output_type": "execute_result"
    }
   ],
   "source": [
    "order_1 = dict(((\"vhigh\",4), (\"high\",3), (\"med\",2), (\"low\",1), (np.nan, np.nan)))\n",
    "\n",
    "def _encode_order_1(data, features):\n",
    "    df = data.copy()\n",
    "    for feature in features:\n",
    "        df.loc[:,feature] = df[feature].apply(lambda x : order_1[x])\n",
    "        \n",
    "    return df\n",
    "        \n",
    "X_train = _encode_order_1(X_train, [\"buying\",\"maint\"])\n",
    "X_train.head()"
   ]
  },
  {
   "cell_type": "code",
   "execution_count": 37,
   "metadata": {},
   "outputs": [],
   "source": [
    "X_test = _encode_order_1(X_test, [\"buying\",\"maint\"])"
   ]
  },
  {
   "cell_type": "code",
   "execution_count": 38,
   "metadata": {
    "scrolled": true
   },
   "outputs": [
    {
     "data": {
      "text/html": [
       "<div>\n",
       "<style scoped>\n",
       "    .dataframe tbody tr th:only-of-type {\n",
       "        vertical-align: middle;\n",
       "    }\n",
       "\n",
       "    .dataframe tbody tr th {\n",
       "        vertical-align: top;\n",
       "    }\n",
       "\n",
       "    .dataframe thead th {\n",
       "        text-align: right;\n",
       "    }\n",
       "</style>\n",
       "<table border=\"1\" class=\"dataframe\">\n",
       "  <thead>\n",
       "    <tr style=\"text-align: right;\">\n",
       "      <th></th>\n",
       "      <th>buying</th>\n",
       "      <th>maint</th>\n",
       "      <th>doors</th>\n",
       "      <th>persons</th>\n",
       "      <th>lug_boot</th>\n",
       "      <th>safety</th>\n",
       "    </tr>\n",
       "  </thead>\n",
       "  <tbody>\n",
       "    <tr>\n",
       "      <th>107</th>\n",
       "      <td>4.0</td>\n",
       "      <td>4.0</td>\n",
       "      <td>5more</td>\n",
       "      <td>more</td>\n",
       "      <td>3.0</td>\n",
       "      <td>3.0</td>\n",
       "    </tr>\n",
       "    <tr>\n",
       "      <th>901</th>\n",
       "      <td>2.0</td>\n",
       "      <td>4.0</td>\n",
       "      <td>3</td>\n",
       "      <td>4</td>\n",
       "      <td>1.0</td>\n",
       "      <td>2.0</td>\n",
       "    </tr>\n",
       "    <tr>\n",
       "      <th>1709</th>\n",
       "      <td>1.0</td>\n",
       "      <td>1.0</td>\n",
       "      <td>5more</td>\n",
       "      <td>2</td>\n",
       "      <td>3.0</td>\n",
       "      <td>3.0</td>\n",
       "    </tr>\n",
       "    <tr>\n",
       "      <th>706</th>\n",
       "      <td>3.0</td>\n",
       "      <td>2.0</td>\n",
       "      <td>4</td>\n",
       "      <td>2</td>\n",
       "      <td>2.0</td>\n",
       "      <td>2.0</td>\n",
       "    </tr>\n",
       "    <tr>\n",
       "      <th>678</th>\n",
       "      <td>3.0</td>\n",
       "      <td>2.0</td>\n",
       "      <td>3</td>\n",
       "      <td>2</td>\n",
       "      <td>2.0</td>\n",
       "      <td>1.0</td>\n",
       "    </tr>\n",
       "  </tbody>\n",
       "</table>\n",
       "</div>"
      ],
      "text/plain": [
       "      buying  maint  doors persons  lug_boot  safety\n",
       "107      4.0    4.0  5more    more       3.0     3.0\n",
       "901      2.0    4.0      3       4       1.0     2.0\n",
       "1709     1.0    1.0  5more       2       3.0     3.0\n",
       "706      3.0    2.0      4       2       2.0     2.0\n",
       "678      3.0    2.0      3       2       2.0     1.0"
      ]
     },
     "execution_count": 38,
     "metadata": {},
     "output_type": "execute_result"
    }
   ],
   "source": [
    "order_2 = dict(((\"high\", 3), (\"big\",3), (\"med\",2), (\"small\",1), (\"low\",1), (np.nan, np.nan)))\n",
    "\n",
    "def _encode_order_2(data, features):\n",
    "    df = data.copy()\n",
    "    for feature in features:\n",
    "        df.loc[:,feature] = df[feature].apply(lambda x : order_2[x])\n",
    "        \n",
    "    return df\n",
    "        \n",
    "X_train = _encode_order_2(X_train, [\"lug_boot\",\"safety\"])\n",
    "X_train.head()"
   ]
  },
  {
   "cell_type": "code",
   "execution_count": 39,
   "metadata": {},
   "outputs": [],
   "source": [
    "X_test = _encode_order_2(X_test, [\"lug_boot\",\"safety\"])"
   ]
  },
  {
   "cell_type": "code",
   "execution_count": 40,
   "metadata": {
    "scrolled": true
   },
   "outputs": [
    {
     "name": "stdout",
     "output_type": "stream",
     "text": [
      "doors feature unique values :  ['5more' '3' '4' '2' nan]\n",
      "persons feature unique values :  ['more' '4' '2' nan]\n"
     ]
    }
   ],
   "source": [
    "for feature in [\"doors\",\"persons\"]:\n",
    "    print(f\"{feature} feature unique values : \", X_train[feature].unique())"
   ]
  },
  {
   "cell_type": "markdown",
   "metadata": {},
   "source": [
    "Doors, and Persons features are nominal categorical features, we cannot apply one hot encoder right now as the column have null values.Let's replace text data to meaning numerical value, impute null values and after that we will apply one hot encoder values"
   ]
  },
  {
   "cell_type": "code",
   "execution_count": 41,
   "metadata": {},
   "outputs": [],
   "source": [
    "X_train.loc[:,'doors'] = np.where(X_train['doors'] == \"5more\", 6, X_train['doors'])\n",
    "X_train.loc[:,'persons'] = np.where(X_train['persons'] == \"more\", 6, X_train['persons'])    "
   ]
  },
  {
   "cell_type": "code",
   "execution_count": 42,
   "metadata": {},
   "outputs": [],
   "source": [
    "X_test.loc[:,'doors'] = np.where(X_test['doors'] == \"5more\", 6, X_test['doors'])\n",
    "X_test.loc[:,'persons'] = np.where(X_test['persons'] == \"more\", 6, X_test['persons'])    "
   ]
  },
  {
   "cell_type": "code",
   "execution_count": 43,
   "metadata": {
    "scrolled": true
   },
   "outputs": [
    {
     "data": {
      "text/html": [
       "<div>\n",
       "<style scoped>\n",
       "    .dataframe tbody tr th:only-of-type {\n",
       "        vertical-align: middle;\n",
       "    }\n",
       "\n",
       "    .dataframe tbody tr th {\n",
       "        vertical-align: top;\n",
       "    }\n",
       "\n",
       "    .dataframe thead th {\n",
       "        text-align: right;\n",
       "    }\n",
       "</style>\n",
       "<table border=\"1\" class=\"dataframe\">\n",
       "  <thead>\n",
       "    <tr style=\"text-align: right;\">\n",
       "      <th></th>\n",
       "      <th>buying</th>\n",
       "      <th>maint</th>\n",
       "      <th>doors</th>\n",
       "      <th>persons</th>\n",
       "      <th>lug_boot</th>\n",
       "      <th>safety</th>\n",
       "    </tr>\n",
       "  </thead>\n",
       "  <tbody>\n",
       "    <tr>\n",
       "      <th>107</th>\n",
       "      <td>4</td>\n",
       "      <td>4</td>\n",
       "      <td>6</td>\n",
       "      <td>6</td>\n",
       "      <td>3</td>\n",
       "      <td>3</td>\n",
       "    </tr>\n",
       "    <tr>\n",
       "      <th>901</th>\n",
       "      <td>2</td>\n",
       "      <td>4</td>\n",
       "      <td>3</td>\n",
       "      <td>4</td>\n",
       "      <td>1</td>\n",
       "      <td>2</td>\n",
       "    </tr>\n",
       "    <tr>\n",
       "      <th>1709</th>\n",
       "      <td>1</td>\n",
       "      <td>1</td>\n",
       "      <td>6</td>\n",
       "      <td>2</td>\n",
       "      <td>3</td>\n",
       "      <td>3</td>\n",
       "    </tr>\n",
       "    <tr>\n",
       "      <th>706</th>\n",
       "      <td>3</td>\n",
       "      <td>2</td>\n",
       "      <td>4</td>\n",
       "      <td>2</td>\n",
       "      <td>2</td>\n",
       "      <td>2</td>\n",
       "    </tr>\n",
       "    <tr>\n",
       "      <th>678</th>\n",
       "      <td>3</td>\n",
       "      <td>2</td>\n",
       "      <td>3</td>\n",
       "      <td>2</td>\n",
       "      <td>2</td>\n",
       "      <td>1</td>\n",
       "    </tr>\n",
       "  </tbody>\n",
       "</table>\n",
       "</div>"
      ],
      "text/plain": [
       "      buying  maint  doors  persons  lug_boot  safety\n",
       "107        4      4      6        6         3       3\n",
       "901        2      4      3        4         1       2\n",
       "1709       1      1      6        2         3       3\n",
       "706        3      2      4        2         2       2\n",
       "678        3      2      3        2         2       1"
      ]
     },
     "execution_count": 43,
     "metadata": {},
     "output_type": "execute_result"
    }
   ],
   "source": [
    "def _convert_to_numeric(data):\n",
    "    df = data.copy()\n",
    "    for feature in data.columns:\n",
    "        df[feature] = pd.to_numeric(df[feature], errors='coerce').astype('Int64')\n",
    "    return df\n",
    "\n",
    "X_train = _convert_to_numeric(X_train)\n",
    "X_train.head()"
   ]
  },
  {
   "cell_type": "code",
   "execution_count": 44,
   "metadata": {},
   "outputs": [],
   "source": [
    "X_test = _convert_to_numeric(X_test)"
   ]
  },
  {
   "cell_type": "code",
   "execution_count": 45,
   "metadata": {
    "scrolled": false
   },
   "outputs": [
    {
     "name": "stdout",
     "output_type": "stream",
     "text": [
      "*** Dtypes ***\n",
      "buying      Int64\n",
      "maint       Int64\n",
      "doors       Int64\n",
      "persons     Int64\n",
      "lug_boot    Int64\n",
      "safety      Int64\n",
      "dtype: object\n",
      "*** Null Values ***\n",
      "buying      18\n",
      "maint       17\n",
      "doors       13\n",
      "persons     21\n",
      "lug_boot    18\n",
      "safety      13\n",
      "dtype: int64\n"
     ]
    }
   ],
   "source": [
    "print(\"*** Dtypes ***\")\n",
    "print(X_train[real_cols].dtypes)\n",
    "print(\"*** Null Values ***\")\n",
    "print(X_train[real_cols].isna().sum())"
   ]
  },
  {
   "cell_type": "markdown",
   "metadata": {},
   "source": [
    "All the features are in numeric values, lets apply knn imputer or mice imputer"
   ]
  },
  {
   "cell_type": "markdown",
   "metadata": {},
   "source": [
    "### Imputing Null Values"
   ]
  },
  {
   "cell_type": "code",
   "execution_count": 46,
   "metadata": {
    "scrolled": true
   },
   "outputs": [
    {
     "data": {
      "text/html": [
       "<div>\n",
       "<style scoped>\n",
       "    .dataframe tbody tr th:only-of-type {\n",
       "        vertical-align: middle;\n",
       "    }\n",
       "\n",
       "    .dataframe tbody tr th {\n",
       "        vertical-align: top;\n",
       "    }\n",
       "\n",
       "    .dataframe thead th {\n",
       "        text-align: right;\n",
       "    }\n",
       "</style>\n",
       "<table border=\"1\" class=\"dataframe\">\n",
       "  <thead>\n",
       "    <tr style=\"text-align: right;\">\n",
       "      <th></th>\n",
       "      <th>buying</th>\n",
       "      <th>maint</th>\n",
       "      <th>doors</th>\n",
       "      <th>persons</th>\n",
       "      <th>lug_boot</th>\n",
       "      <th>safety</th>\n",
       "    </tr>\n",
       "  </thead>\n",
       "  <tbody>\n",
       "    <tr>\n",
       "      <th>107</th>\n",
       "      <td>4</td>\n",
       "      <td>4</td>\n",
       "      <td>6</td>\n",
       "      <td>6</td>\n",
       "      <td>3</td>\n",
       "      <td>3</td>\n",
       "    </tr>\n",
       "    <tr>\n",
       "      <th>901</th>\n",
       "      <td>2</td>\n",
       "      <td>4</td>\n",
       "      <td>3</td>\n",
       "      <td>4</td>\n",
       "      <td>1</td>\n",
       "      <td>2</td>\n",
       "    </tr>\n",
       "    <tr>\n",
       "      <th>1709</th>\n",
       "      <td>1</td>\n",
       "      <td>1</td>\n",
       "      <td>6</td>\n",
       "      <td>2</td>\n",
       "      <td>3</td>\n",
       "      <td>3</td>\n",
       "    </tr>\n",
       "    <tr>\n",
       "      <th>706</th>\n",
       "      <td>3</td>\n",
       "      <td>2</td>\n",
       "      <td>4</td>\n",
       "      <td>2</td>\n",
       "      <td>2</td>\n",
       "      <td>2</td>\n",
       "    </tr>\n",
       "    <tr>\n",
       "      <th>678</th>\n",
       "      <td>3</td>\n",
       "      <td>2</td>\n",
       "      <td>3</td>\n",
       "      <td>2</td>\n",
       "      <td>2</td>\n",
       "      <td>1</td>\n",
       "    </tr>\n",
       "  </tbody>\n",
       "</table>\n",
       "</div>"
      ],
      "text/plain": [
       "      buying  maint  doors  persons  lug_boot  safety\n",
       "107        4      4      6        6         3       3\n",
       "901        2      4      3        4         1       2\n",
       "1709       1      1      6        2         3       3\n",
       "706        3      2      4        2         2       2\n",
       "678        3      2      3        2         2       1"
      ]
     },
     "execution_count": 46,
     "metadata": {},
     "output_type": "execute_result"
    }
   ],
   "source": [
    "na_columns = X_train[real_cols].isna().sum().index\n",
    "X_train[na_columns].head()"
   ]
  },
  {
   "cell_type": "code",
   "execution_count": 47,
   "metadata": {
    "scrolled": false
   },
   "outputs": [
    {
     "name": "stdout",
     "output_type": "stream",
     "text": [
      "Null values in training set : 100\n"
     ]
    },
    {
     "data": {
      "text/html": [
       "<div>\n",
       "<style scoped>\n",
       "    .dataframe tbody tr th:only-of-type {\n",
       "        vertical-align: middle;\n",
       "    }\n",
       "\n",
       "    .dataframe tbody tr th {\n",
       "        vertical-align: top;\n",
       "    }\n",
       "\n",
       "    .dataframe thead th {\n",
       "        text-align: right;\n",
       "    }\n",
       "</style>\n",
       "<table border=\"1\" class=\"dataframe\">\n",
       "  <thead>\n",
       "    <tr style=\"text-align: right;\">\n",
       "      <th></th>\n",
       "      <th>buying</th>\n",
       "      <th>maint</th>\n",
       "      <th>doors</th>\n",
       "      <th>persons</th>\n",
       "      <th>lug_boot</th>\n",
       "      <th>safety</th>\n",
       "      <th>buying_na</th>\n",
       "      <th>maint_na</th>\n",
       "      <th>doors_na</th>\n",
       "      <th>persons_na</th>\n",
       "      <th>lug_boot_na</th>\n",
       "      <th>safety_na</th>\n",
       "    </tr>\n",
       "  </thead>\n",
       "  <tbody>\n",
       "    <tr>\n",
       "      <th>107</th>\n",
       "      <td>4</td>\n",
       "      <td>4</td>\n",
       "      <td>6</td>\n",
       "      <td>6</td>\n",
       "      <td>3</td>\n",
       "      <td>3</td>\n",
       "      <td>0</td>\n",
       "      <td>0</td>\n",
       "      <td>0</td>\n",
       "      <td>0</td>\n",
       "      <td>0</td>\n",
       "      <td>0</td>\n",
       "    </tr>\n",
       "    <tr>\n",
       "      <th>901</th>\n",
       "      <td>2</td>\n",
       "      <td>4</td>\n",
       "      <td>3</td>\n",
       "      <td>4</td>\n",
       "      <td>1</td>\n",
       "      <td>2</td>\n",
       "      <td>0</td>\n",
       "      <td>0</td>\n",
       "      <td>0</td>\n",
       "      <td>0</td>\n",
       "      <td>0</td>\n",
       "      <td>0</td>\n",
       "    </tr>\n",
       "    <tr>\n",
       "      <th>1709</th>\n",
       "      <td>1</td>\n",
       "      <td>1</td>\n",
       "      <td>6</td>\n",
       "      <td>2</td>\n",
       "      <td>3</td>\n",
       "      <td>3</td>\n",
       "      <td>0</td>\n",
       "      <td>0</td>\n",
       "      <td>0</td>\n",
       "      <td>0</td>\n",
       "      <td>0</td>\n",
       "      <td>0</td>\n",
       "    </tr>\n",
       "    <tr>\n",
       "      <th>706</th>\n",
       "      <td>3</td>\n",
       "      <td>2</td>\n",
       "      <td>4</td>\n",
       "      <td>2</td>\n",
       "      <td>2</td>\n",
       "      <td>2</td>\n",
       "      <td>0</td>\n",
       "      <td>0</td>\n",
       "      <td>0</td>\n",
       "      <td>0</td>\n",
       "      <td>0</td>\n",
       "      <td>0</td>\n",
       "    </tr>\n",
       "    <tr>\n",
       "      <th>678</th>\n",
       "      <td>3</td>\n",
       "      <td>2</td>\n",
       "      <td>3</td>\n",
       "      <td>2</td>\n",
       "      <td>2</td>\n",
       "      <td>1</td>\n",
       "      <td>0</td>\n",
       "      <td>0</td>\n",
       "      <td>0</td>\n",
       "      <td>0</td>\n",
       "      <td>0</td>\n",
       "      <td>0</td>\n",
       "    </tr>\n",
       "  </tbody>\n",
       "</table>\n",
       "</div>"
      ],
      "text/plain": [
       "      buying  maint  doors  persons  lug_boot  safety  buying_na  maint_na  \\\n",
       "107        4      4      6        6         3       3          0         0   \n",
       "901        2      4      3        4         1       2          0         0   \n",
       "1709       1      1      6        2         3       3          0         0   \n",
       "706        3      2      4        2         2       2          0         0   \n",
       "678        3      2      3        2         2       1          0         0   \n",
       "\n",
       "      doors_na  persons_na  lug_boot_na  safety_na  \n",
       "107          0           0            0          0  \n",
       "901          0           0            0          0  \n",
       "1709         0           0            0          0  \n",
       "706          0           0            0          0  \n",
       "678          0           0            0          0  "
      ]
     },
     "execution_count": 47,
     "metadata": {},
     "output_type": "execute_result"
    }
   ],
   "source": [
    "def _na_rows(data, features):\n",
    "    df = data.copy()\n",
    "    for feature in features:\n",
    "        df[feature + '_na'] = np.where(df[feature].isna(), 1, 0)\n",
    "        \n",
    "    return df\n",
    "\n",
    "X_train = _na_rows(X_train, na_columns)\n",
    "print(f\"Null values in training set : {X_train.isna().sum().sum()}\")\n",
    "X_train.head()"
   ]
  },
  {
   "cell_type": "code",
   "execution_count": 48,
   "metadata": {},
   "outputs": [],
   "source": [
    "X_test = _na_rows(X_test, na_columns)"
   ]
  },
  {
   "cell_type": "code",
   "execution_count": 49,
   "metadata": {
    "scrolled": false
   },
   "outputs": [
    {
     "data": {
      "text/plain": [
       "2    349\n",
       "1    342\n",
       "3    337\n",
       "4    336\n",
       "Name: buying, dtype: Int64"
      ]
     },
     "execution_count": 49,
     "metadata": {},
     "output_type": "execute_result"
    }
   ],
   "source": [
    "X_train['buying'].value_counts()"
   ]
  },
  {
   "cell_type": "markdown",
   "metadata": {},
   "source": [
    "Looking at unique values for buying column, we cannot impute missing values with most occuring value because the four values frequencies are very close to each other. We can try using \n",
    "1. knn imputer\n",
    "2. MICE imputer\n",
    "\n",
    "we will create new feature to differentiate normal values vs imputed values"
   ]
  },
  {
   "cell_type": "markdown",
   "metadata": {},
   "source": [
    "# Checking outliers"
   ]
  },
  {
   "cell_type": "code",
   "execution_count": 50,
   "metadata": {
    "scrolled": true
   },
   "outputs": [
    {
     "data": {
      "image/png": "[encoded data removed]",
      "text/plain": [
       "<Figure size 432x288 with 1 Axes>"
      ]
     },
     "metadata": {},
     "output_type": "display_data"
    },
    {
     "data": {
      "image/png": "[encoded data removed]",
      "text/plain": [
       "<Figure size 432x288 with 1 Axes>"
      ]
     },
     "metadata": {},
     "output_type": "display_data"
    },
    {
     "data": {
      "image/png": "[encoded data removed]",
      "text/plain": [
       "<Figure size 432x288 with 1 Axes>"
      ]
     },
     "metadata": {},
     "output_type": "display_data"
    },
    {
     "data": {
      "image/png": "[encoded data removed]",
      "text/plain": [
       "<Figure size 432x288 with 1 Axes>"
      ]
     },
     "metadata": {},
     "output_type": "display_data"
    },
    {
     "data": {
      "image/png": "[encoded data removed]",
      "text/plain": [
       "<Figure size 432x288 with 1 Axes>"
      ]
     },
     "metadata": {},
     "output_type": "display_data"
    },
    {
     "data": {
      "image/png": "[encoded data removed]",
      "text/plain": [
       "<Figure size 432x288 with 1 Axes>"
      ]
     },
     "metadata": {},
     "output_type": "display_data"
    }
   ],
   "source": [
    "for feature in real_cols:\n",
    "    plt.title(f\"{feature} - Box plot\")\n",
    "    sns.boxplot(x= feature, data=X_train)\n",
    "    plt.show()"
   ]
  },
  {
   "cell_type": "code",
   "execution_count": 51,
   "metadata": {},
   "outputs": [],
   "source": [
    "from sklearn.impute import KNNImputer\n",
    "from sklearn.experimental import enable_iterative_imputer\n",
    "from sklearn.impute import IterativeImputer"
   ]
  },
  {
   "cell_type": "markdown",
   "metadata": {},
   "source": [
    "# Imputing Null values using IterativeImputer"
   ]
  },
  {
   "cell_type": "code",
   "execution_count": 52,
   "metadata": {
    "scrolled": false
   },
   "outputs": [
    {
     "name": "stdout",
     "output_type": "stream",
     "text": [
      "[IterativeImputer] Completing matrix with shape (1382, 12)\n",
      "[IterativeImputer] Ending imputation round 1/10, elapsed time 0.30\n",
      "[IterativeImputer] Change: 2.740381385721931, scaled tolerance: 0.006 \n",
      "[IterativeImputer] Ending imputation round 2/10, elapsed time 0.40\n",
      "[IterativeImputer] Change: 0.0004572130024280696, scaled tolerance: 0.006 \n",
      "[IterativeImputer] Early stopping criterion reached.\n",
      "[IterativeImputer] Completing matrix with shape (1382, 12)\n",
      "[IterativeImputer] Ending imputation round 1/2, elapsed time 0.00\n",
      "[IterativeImputer] Ending imputation round 2/2, elapsed time 0.01\n",
      "Missing values in train data set using Iterative imputer\n",
      "buying         0\n",
      "maint          0\n",
      "doors          0\n",
      "persons        0\n",
      "lug_boot       0\n",
      "safety         0\n",
      "buying_na      0\n",
      "maint_na       0\n",
      "doors_na       0\n",
      "persons_na     0\n",
      "lug_boot_na    0\n",
      "safety_na      0\n",
      "dtype: int64\n"
     ]
    }
   ],
   "source": [
    "iter_imputer = IterativeImputer(random_state=42, verbose=2, missing_values=np.nan, \n",
    "                        initial_strategy='most_frequent')\n",
    "iter_imputer.fit(X_train)\n",
    "X_train_iter = iter_imputer.transform(X_train)\n",
    "X_train_iter = pd.DataFrame(X_train_iter, columns=X_train.columns)\n",
    "print(f\"Missing values in train data set using Iterative imputer\\n{X_train_iter.isna().sum()}\")"
   ]
  },
  {
   "cell_type": "code",
   "execution_count": 53,
   "metadata": {
    "scrolled": false
   },
   "outputs": [
    {
     "name": "stdout",
     "output_type": "stream",
     "text": [
      "[IterativeImputer] Completing matrix with shape (346, 12)\n",
      "[IterativeImputer] Ending imputation round 1/2, elapsed time 0.00\n",
      "[IterativeImputer] Ending imputation round 2/2, elapsed time 0.00\n"
     ]
    }
   ],
   "source": [
    "X_test_iter = iter_imputer.transform(X_test)"
   ]
  },
  {
   "cell_type": "markdown",
   "metadata": {},
   "source": [
    "### Handling Imbalanced Dataset"
   ]
  },
  {
   "cell_type": "code",
   "execution_count": 54,
   "metadata": {
    "scrolled": false
   },
   "outputs": [
    {
     "data": {
      "text/plain": [
       "unacc    70.549928\n",
       "acc      21.780029\n",
       "good      4.196816\n",
       "vgood     3.473227\n",
       "Name: accep, dtype: float64"
      ]
     },
     "execution_count": 54,
     "metadata": {},
     "output_type": "execute_result"
    }
   ],
   "source": [
    "y_train.value_counts()/y_train.shape[0] * 100"
   ]
  },
  {
   "cell_type": "markdown",
   "metadata": {},
   "source": [
    "looking at target variable, **unacc(1), acc(2)** accounts for 92% of training data and this is clear indication of biased data. We will handle the biased data using two methods **1. undersampling 2. Oversampling** methods from imblearn package\n",
    "Applying underlying method, sample down the data  to make all categories value counts equal to least count whereas oversampling increase the data and make equal to maximum count values"
   ]
  },
  {
   "cell_type": "code",
   "execution_count": 55,
   "metadata": {
    "scrolled": false
   },
   "outputs": [
    {
     "data": {
      "text/plain": [
       "unacc    975\n",
       "acc      301\n",
       "good      58\n",
       "vgood     48\n",
       "Name: accep, dtype: int64"
      ]
     },
     "execution_count": 55,
     "metadata": {},
     "output_type": "execute_result"
    }
   ],
   "source": [
    "y_train.value_counts()"
   ]
  },
  {
   "cell_type": "code",
   "execution_count": 56,
   "metadata": {
    "scrolled": true
   },
   "outputs": [],
   "source": [
    "#!pip install imblearn"
   ]
  },
  {
   "cell_type": "code",
   "execution_count": 57,
   "metadata": {},
   "outputs": [],
   "source": [
    "from imblearn.over_sampling import SMOTE\n",
    "from imblearn.under_sampling import NearMiss "
   ]
  },
  {
   "cell_type": "code",
   "execution_count": 58,
   "metadata": {},
   "outputs": [],
   "source": [
    "ovr_spl = SMOTE(random_state=42)\n",
    "undr_spl = NearMiss()"
   ]
  },
  {
   "cell_type": "code",
   "execution_count": 59,
   "metadata": {},
   "outputs": [],
   "source": [
    "X_train_iter = X_train_iter.copy()\n",
    "X_test_iter = X_test_iter.copy()"
   ]
  },
  {
   "cell_type": "code",
   "execution_count": 60,
   "metadata": {
    "scrolled": true
   },
   "outputs": [
    {
     "data": {
      "text/plain": [
       "((1382, 12), (346, 12), (1382,), (346,))"
      ]
     },
     "execution_count": 60,
     "metadata": {},
     "output_type": "execute_result"
    }
   ],
   "source": [
    "X_train_iter.shape, X_test_iter.shape, y_train.shape, y_test.shape"
   ]
  },
  {
   "cell_type": "code",
   "execution_count": 61,
   "metadata": {},
   "outputs": [],
   "source": [
    "y_train_cp = y_train.copy()"
   ]
  },
  {
   "cell_type": "code",
   "execution_count": 62,
   "metadata": {
    "scrolled": false
   },
   "outputs": [
    {
     "data": {
      "text/plain": [
       "(3900, 12)"
      ]
     },
     "execution_count": 62,
     "metadata": {},
     "output_type": "execute_result"
    }
   ],
   "source": [
    "X_train_iter, y_train = ovr_spl.fit_resample(X_train_iter,y_train)\n",
    "X_train_iter.shape"
   ]
  },
  {
   "cell_type": "code",
   "execution_count": 63,
   "metadata": {},
   "outputs": [],
   "source": [
    "X_train_iter = pd.DataFrame(X_train_iter, columns=X_train.columns)"
   ]
  },
  {
   "cell_type": "code",
   "execution_count": 64,
   "metadata": {},
   "outputs": [],
   "source": [
    "X_test_iter = pd.DataFrame(X_test_iter, columns=X_test.columns)"
   ]
  },
  {
   "cell_type": "code",
   "execution_count": 65,
   "metadata": {
    "scrolled": true
   },
   "outputs": [
    {
     "name": "stdout",
     "output_type": "stream",
     "text": [
      "buying feature unique values with Iter imputer :  [4.         2.         1.         3.         2.48944562 2.4892653\n",
      " 2.48944796 2.48708078 2.48819012 2.48775211 2.48773794 2.48956264\n",
      " 2.48738117 2.48944981 2.48971492 2.4883946  2.48679924 2.49029452\n",
      " 2.48672636 2.49168886 2.49001144 2.76719485 3.68103943 3.47771489\n",
      " 3.43633583 2.19789075 2.6545778  1.95659922 2.07535667 3.07543455\n",
      " 1.16621543 3.70550605 3.3945218  3.22939475 2.41120672 2.27095764\n",
      " 3.07620038 1.41883738 3.08082345 1.87666149 2.7711137  1.83516574\n",
      " 1.51962992 2.98528605 1.37673897 1.7495783  1.03682187 1.53434628\n",
      " 3.27387916 2.37785055 3.24300087 3.02218474 3.4762107  3.63936136\n",
      " 3.80504467 1.39191215 1.08952872 1.79647178 1.45934681 2.76891774\n",
      " 2.57964993 3.8743176  1.48476395 3.97311035 1.4655765  3.35599148\n",
      " 1.68778472 1.48834299 3.99740498 2.08451701 1.59727808 1.013743\n",
      " 2.92404176 3.23611653 1.53126575 3.72051606 1.14773909 1.86721498\n",
      " 2.39716383 1.56396509 2.84070999 3.4795821  2.44225773 2.2024168\n",
      " 1.56445854 2.19230243 1.33034848 1.93369182 1.99246564 1.85081752\n",
      " 1.80586489 1.01824248 3.99725553 1.89661026 1.7228961  2.90823413\n",
      " 3.71845727 1.47661948 3.26375282 1.91270982 1.06798566 1.45426797\n",
      " 1.45107802 3.13882477 1.9972891  3.89330075 3.14927254 2.59148171\n",
      " 1.93293807 2.92644942 3.78151448 2.79953713 1.31701794 2.22221809\n",
      " 3.57748627 1.35536245 2.42131442 2.37882157 3.60395787 1.40895518\n",
      " 3.4015573  2.21290588 1.59902936 3.04092521 2.22735098 2.42359686\n",
      " 3.84043963 1.0893138  2.574425   3.68855574 1.77260438 3.1142673\n",
      " 1.41450458 3.92296023 1.53429988 3.51916302 1.41293178 1.31147317\n",
      " 3.22009721 1.13936798 2.3977684  1.30993693 1.57321109 1.349387\n",
      " 3.62497599 1.62227405 3.16343519 1.29404468 1.51891205 1.50298805\n",
      " 1.33436281 1.72769815 3.52657847 2.4482774  1.59504898 1.43055648\n",
      " 1.2791869  3.80531497 3.01127122 2.94440973 3.1518719  2.82510733\n",
      " 1.63694079 1.03422811 1.22616548 3.86106802 1.21951053 1.77975877\n",
      " 3.51522163 3.51245766 2.69122186 2.15533322 2.9052594  1.0671754\n",
      " 3.72020258 3.10657873 3.14001854 3.2636838  1.42670562 3.57796394\n",
      " 3.90966304 1.5628066  1.27846714 3.38959533 1.13500128 2.95523631\n",
      " 3.35154016 3.59828606 1.92406659 1.10309375 1.52130067 1.63723158\n",
      " 1.64666492 3.94840419 2.04416544 2.21765986 3.20465816 2.74506455\n",
      " 3.88499836 2.66165518 1.94731616 1.96240323 1.73227181 1.14717818\n",
      " 1.71555332 1.58910853 1.27726565 2.2023033  3.98233052 1.39920155\n",
      " 1.09627603 1.25664718 2.06498641 3.95305464 1.37022208 2.48173963\n",
      " 3.59727407 2.23353672 1.10507856 3.52332317 1.14780647 1.03542237\n",
      " 3.26478735 3.04878358 1.15253904 1.39328495 2.28185672 1.11323805\n",
      " 1.0151588  1.86989636 1.51883806 2.29415549 1.66480276 1.2933052\n",
      " 1.60183131 1.08014438 1.34634599 1.54756048 2.42050377 1.17638699\n",
      " 1.50163223 1.63226429 1.66353737 2.28551832 1.74996047 1.56484113\n",
      " 1.93429136 1.45328883 1.44076275 1.55964033 1.15524025 1.81807187\n",
      " 1.72925533 1.64399954 1.02538636 1.8438474  1.20008391 2.33980797\n",
      " 1.75682781 1.39718353 1.20788626 1.0265322  1.65818265 1.26806364\n",
      " 1.37585109 1.56387347 1.29446576 1.14011318 1.5125688  1.20014474\n",
      " 1.4252135  1.02246931 1.45836579 1.36652178 1.74211231 1.13935607\n",
      " 1.08570119 1.88224892 1.09998136 1.39948314 1.17537128 1.58122948\n",
      " 1.61686147 1.83371663 1.91720133 1.75465089 1.61070439 1.35567272\n",
      " 2.27626506 1.5239496  1.93682974 1.7325721  1.03118314 1.49636625\n",
      " 1.33424389 1.7709122  1.50450868 1.20058412 1.72785486 1.59023067\n",
      " 1.6390261  1.90841793 1.73222489 1.80656115 1.22120944 1.03942681\n",
      " 1.81942465 1.56794523 1.96605402 2.3427195  1.52578578 1.40373012\n",
      " 1.0769532  1.31529034 1.46050871 2.18801408 1.87009887 1.02126941\n",
      " 1.52893713 1.35071182 1.47987562 1.37249454 1.12632289 1.76827341\n",
      " 1.8662187  1.578643   1.32035272 2.2991927  1.99116863 1.39226321\n",
      " 1.82347197 1.77951379 1.99490782 1.24176152 1.69602062 1.18416688\n",
      " 1.77618239 1.41991379 1.12253914 1.73439996 1.9556515  1.13787238\n",
      " 1.40845321 1.37268852 2.45061912 1.49514653 1.65219079 1.32198385\n",
      " 2.21181515 1.79742602 1.65845183 2.07287908 1.69747146 1.38138862\n",
      " 1.24728336 1.88087076 2.4442394  1.2591415  1.8392401  1.81796702\n",
      " 1.36818647 2.43557208 1.34187217 1.93202811 1.31211428 2.45624307\n",
      " 1.58217046 1.37908448 2.02231077 1.02651103 1.96887786 1.86991376\n",
      " 1.22959258 1.83637618 1.30631777 1.41972732 1.2131047  1.03113408\n",
      " 1.36852634 1.86435825 1.03180657 1.77659685 1.22907816 1.23897601\n",
      " 2.30544028 1.61665031 1.48152235 1.87481421 1.31443471 1.20052473\n",
      " 1.50840545 1.4180286  1.2689934  1.01162054 2.19143956 1.20834008\n",
      " 1.77985099 2.34262877 1.99022915 1.35062693 1.9214215  1.13271575\n",
      " 1.56754085 1.8005867  1.71408693 1.19827192 1.33945019 1.18517489\n",
      " 1.08011485 1.89481666 1.45231828 1.33689579 1.81788208 1.21030149\n",
      " 1.34129222 2.21687237 1.28079822 1.22845474 1.31977176 1.92780159\n",
      " 1.25768289 1.46262296 1.86827251 1.72716907 1.57450667 1.65406501\n",
      " 2.30677717 1.1329685  1.42132459 2.43931923 1.2768278  1.21066219\n",
      " 1.63156022 1.97139509 1.81902305 1.1292501  1.40704915 1.39108154\n",
      " 2.29304454 1.54621046 2.03584819 1.83024209 1.48022605 1.56911248\n",
      " 1.24871427 1.29322278 1.66380453 1.52536912 2.09511389 1.58535436\n",
      " 1.88808038 1.73025039 1.94291314 1.46883047 1.06339431 1.6838439\n",
      " 1.53690007 1.51115342 1.33313574 1.30792994 1.20185345 1.67343243\n",
      " 1.67260212 1.44375022 1.96961294 1.78432485 1.10659303 1.04821204\n",
      " 1.02282582 1.59309204 1.20218635 1.87979094 1.32458583 2.29926756\n",
      " 1.55130638 1.76245587 1.3317872  1.61949035 2.23456887 1.02564207\n",
      " 1.65875217 1.38019562 1.39882278 1.62459944 1.46639745 1.28187692\n",
      " 1.98176742 1.64747471 1.89803055 1.93973261 1.51412824 1.7151271\n",
      " 1.46083872 1.6886923  1.272624   1.87249356 1.81856165 1.29095374\n",
      " 1.64446492 1.74343722 1.96292688 1.28896355 1.41102847 1.1601387\n",
      " 1.09997688 1.72519396 1.6675499  1.45176768 1.16801421 1.13720292\n",
      " 1.90428544 1.54669741 1.2319471  1.390906   2.24229908 1.59568123\n",
      " 1.57180039 1.42014452 1.00874401 1.10410965 1.72583933 2.36959577\n",
      " 1.80813268 1.67662844 1.7733436  1.35499631 2.45389048 1.48094021\n",
      " 1.23371208 1.66183919 1.73065051 1.43770318 1.17530294 1.90332355\n",
      " 1.33508828 1.23464208 1.15796671 1.47904202 1.37641431 1.96383962\n",
      " 2.31317843 1.91235725 1.06304218 1.44619776 1.69447569 1.60301848\n",
      " 1.50303652 1.8059254  1.82647549 1.9756102  1.53414455 1.7648098\n",
      " 2.29330338 1.36753442 1.56750212 1.43951169 1.89433532 2.38370668\n",
      " 1.61958795 1.0581638  1.00513368 1.81379502 1.08907282 1.17746276\n",
      " 1.86606389 1.37646337 1.81055333 1.84958311 1.46869316 1.27340707\n",
      " 1.86472238 2.48825671 1.84964739 1.45054414 1.39382537 2.30189049\n",
      " 1.3284268  1.4796923  1.77231839 1.4798365  1.44809316 1.43906203\n",
      " 2.06024171 1.86598477 1.75513726 1.13637148 1.01454467 1.35058756\n",
      " 1.39224405 1.56252508 1.51398949 2.42117377 1.07341237 1.49211629\n",
      " 1.25824439 1.98003258 1.49261809 1.36659915 1.24014562 1.12887972\n",
      " 1.86117283 1.34566728 1.47396164 1.66755774 1.95913138 1.27859034\n",
      " 1.91129747 1.36426986 1.49658273 1.30960517 1.06107796 2.36544599\n",
      " 1.81547898 1.3704721  2.26249514 1.74747094 1.74756306 1.71334959\n",
      " 2.26988081 1.2424705  1.37728416 1.0200712  1.32207917 1.78855199\n",
      " 1.59359245 1.78917124 1.91307971 1.74543947 1.56834045 2.34979998\n",
      " 1.35408276 1.4292217  1.01348475 1.60577482 1.10178247 1.75404227\n",
      " 1.18656702 1.52451139 1.1120389  1.82911241 2.21647461 1.23050707\n",
      " 1.32367924 1.49238962 1.53258943 1.05182354 2.15555235 1.59563874\n",
      " 1.65113173 1.92952914 1.96502691 1.87570278 1.42552689 1.20162732\n",
      " 1.83634406 1.47693458 1.64116952 1.56086509 2.26242429 1.30137787\n",
      " 1.09352789 1.11689804 1.66509439 1.13927207 1.79402519 2.18555441\n",
      " 1.10610742 1.84832512 1.31172207 1.74394629 1.56988968 1.76245869\n",
      " 1.87676564 1.8212573  1.84645229 1.79729537 1.85008257 1.64114763\n",
      " 1.69394844 1.54272444 1.18159772 1.90845056 1.40085142 1.4620058\n",
      " 1.94728334 1.58622983 1.49411132 1.61145424 1.87212391 1.93211828\n",
      " 1.70723863 1.60671505 1.57586933 1.06563299 1.16110191 1.3990027\n",
      " 1.05476164 1.66650083 1.6530468  1.54778206 1.45243952 1.41892545\n",
      " 1.3623939  1.98690554 1.17803597 1.08534967 1.40461498 1.06707648\n",
      " 1.79009441 1.89805429 1.79486036 1.80931228 1.96345033 1.47206695\n",
      " 1.43515887 1.94611546 1.27074467 1.59126583 1.97290401 1.77802784\n",
      " 1.17854466 1.23818278 1.66808514 1.10366418 1.18143544 1.58304156\n",
      " 1.89267171 1.59029494 1.62414891 1.55204718 1.70553424 1.05154669\n",
      " 1.13153202 1.4874312  1.89455223 1.73132264 1.83493024 2.00761789\n",
      " 1.47430982 1.17167929 1.72769267 1.01839068 1.65142039 1.01099583\n",
      " 1.86311437 1.12610992 1.4025869  1.66503667 1.48108229 2.02293792\n",
      " 1.08279867 1.24534911 1.38929561 1.29712172 1.56640464 1.66367117\n",
      " 1.96881686 1.59507793 1.59684285 1.10659825 1.27181124 1.6884024\n",
      " 1.43482734 1.18089768 1.04976265 1.81486707 1.87294584 2.24936209\n",
      " 1.77879056 1.94405934 1.18057535 1.9243962  1.97105825 1.13795735\n",
      " 2.33254765 1.17108453 1.33987496 2.155677   1.38413681 1.97873059\n",
      " 1.20121676 1.00206589 1.59806909 1.23172659 1.41776678 1.421357\n",
      " 1.76122285 1.35462216 1.28723899 1.29630812 2.46783651 1.38432665\n",
      " 1.78174611 1.94996118 1.78634501 2.44472675 1.46740151 1.05726823\n",
      " 1.51268851 1.22048621 1.35012526 1.17389525 1.39624202 1.75823848\n",
      " 1.15389591 1.22381761 1.40706007 1.88874808 1.34475802 1.55085737\n",
      " 1.25975378 1.49587574 1.91895378 1.68325876 1.59240778 1.67801615\n",
      " 1.56573196 1.26702827 1.87862999 1.8672942  1.16298667 1.68014077\n",
      " 1.87184353 1.33511885 1.74350826 1.1607599  1.18203298 1.83213418\n",
      " 2.17874964 1.54126658 1.93722849 1.68788572 1.06783706 1.30096357\n",
      " 1.9326494  1.03112214 1.74965183 1.68329538 1.9971245  1.4261813\n",
      " 1.77923039 1.08238105 1.3195007  1.36147405 1.7257848  1.40933401\n",
      " 1.8940992  1.22995461 1.34833317 1.63147366 1.96819343 2.39778494\n",
      " 1.03252618 1.51847765 1.11730819 1.06420894 1.7310066  1.45522015\n",
      " 1.07244689 1.60750644 1.47993883 1.60002055 1.29166258 1.30501811\n",
      " 1.10493018 1.01333741 1.85750446 1.32646131 1.0878665  1.03320311\n",
      " 1.31053503 1.1994133  1.79984976 1.70647573 1.96841386 1.80172808\n",
      " 1.81729777 1.91837002 2.45891896 1.15954468 1.65870778 1.0306525\n",
      " 1.74270652 2.46880548 1.57827907 1.59235033 1.08763665 1.73311302\n",
      " 1.13156769 1.90903252 1.23754332 2.40000643 1.49227786 1.75276893\n",
      " 1.64076663 1.59295085 1.83647613 1.22652687 1.96982105 1.23605046\n",
      " 1.16975791 1.17111663 1.43088752 1.86827128 1.79415879 1.05708686\n",
      " 1.45219903 1.04157286 1.0348813  1.00493998 1.95181179]\n",
      "maint feature unique values with Iter imputer :  [4.         1.         2.         3.         2.50519383 2.50610271\n",
      " 2.50576358 2.50672657 2.50326346 2.5045816  2.50414055 2.502813\n",
      " 2.50567329 2.50428087 2.50621403 2.50532253 2.50578374 2.50348273\n",
      " 2.50307756 2.50376301 2.50302344 2.91710868 2.56366417 2.78319089\n",
      " 2.69692506 1.38420183 2.13236526 1.08474566 3.0578639  1.66433994\n",
      " 1.1696799  2.35315164 1.6396549  3.96768405 2.19983152 1.86681487\n",
      " 1.51962992 3.2504217  2.56908147 1.93648817 2.07535906 1.91316575\n",
      " 3.41485047 1.7570812  2.36573888 2.95310353 1.69222276 2.96797377\n",
      " 1.20818216 2.4100441  2.78466826 1.61726371 2.99029941 2.36335568\n",
      " 2.54744631 3.70204055 1.47639772 1.84209142 1.34156321 1.53726342\n",
      " 1.59969951 1.69766757 3.69650147 2.70834921 2.20015206 1.54871531\n",
      " 2.5344235  3.8712516  3.67841724 2.09229059 2.48114539 1.99740498\n",
      " 2.986257   2.76388347 2.88081372 2.76707544 3.13278502 3.35414667\n",
      " 1.26259479 2.76678359 2.6448957  1.4795821  2.58419948 3.33744683\n",
      " 3.60755522 2.5017523  1.2253328  1.4878098  2.84231404 1.94836452\n",
      " 2.49364045 2.57599842 2.02493284 2.25680565 1.46496327 3.52338052\n",
      " 1.96799407 1.73624718 3.52984002 1.67935781 1.20173046 2.68457155\n",
      " 1.9972891  1.5268338  2.60610188 2.96665768 1.99092948 3.20500181\n",
      " 2.37922858 3.17205911 1.24949808 1.17486732 1.63375856 2.79558716\n",
      " 2.28621755 3.10033255 1.56125532 2.22902539 1.73054914 1.12137088\n",
      " 1.28593592 3.54299978 1.50228835 3.53986064 1.48635748 1.22811802\n",
      " 2.34252426 2.7136795  1.61495026 1.91185241 1.27390441 1.89778734\n",
      " 1.20991536 1.65136721 2.76409397 1.31144426 1.39210561 3.21221011\n",
      " 2.04105664 2.03284667 1.57763195 1.16551332 2.03387916 1.78731922\n",
      " 2.02445868 2.86063202 1.18446287 2.70040409 3.57321109 3.349387\n",
      " 2.37502401 2.5874536  1.49701195 1.07550336 2.94915429 1.80074977\n",
      " 1.83978886 1.86699376 1.5920155  1.25388856 1.49449212 1.33927125\n",
      " 3.44327842 2.3968026  3.63324077 3.35707444 1.70394614 2.089376\n",
      " 3.33586586 1.03422811 3.34519214 1.22616548 1.63724211 3.98536731\n",
      " 2.18210714 2.30115415 1.42170393 1.9005723  1.49809075 2.9328246\n",
      " 1.73350161 3.36690194 3.4043815  1.0506932  2.53984278 3.83798612\n",
      " 3.15847034 1.37666745 1.58720645 1.00233939 2.69056023 2.95817079\n",
      " 2.8802305  2.36105061 2.24096415 3.09663619 2.35333508 2.44419342\n",
      " 2.34651415 2.94511739 3.47756542 1.48106188 2.24197004 3.81452709\n",
      " 2.61603611 2.06741009 1.07002971 1.00948543 1.94731616 3.91145659\n",
      " 1.90830066 3.66362954 1.73227181 2.99665364 1.14717818 1.71555332\n",
      " 1.58910853 2.01766948 3.11580102 1.90372397 2.74335282 2.16935748\n",
      " 2.12033876 1.95305464 3.04272974 2.62977792 1.51826037 2.49118634\n",
      " 2.45124256 2.37706262 2.39116977 3.72704063 1.95562334 1.32905137\n",
      " 1.06841051 1.00508214 3.53260252 1.07750062 1.84746096 1.57586933\n",
      " 1.26355576 1.92556851 1.07915812 1.13010364 1.40872456 1.6009973\n",
      " 1.00463202 1.66650083 1.39816869 1.73750125 1.45243952 1.85914298\n",
      " 1.82361301 1.0851541  1.98690554 1.96107032 1.99687425 1.49780499\n",
      " 1.93292352 1.25003953 1.80931228 1.47206695 1.43515887 1.40076306\n",
      " 1.44035967 1.84475975 1.18192813 1.27074467 1.35600046 1.71597223\n",
      " 1.97290401 1.79991609 1.82145534 1.23818278 1.09944139 1.24317219\n",
      " 1.27773307 1.85569647 1.83021986 1.7950157  1.98699808 1.79211374\n",
      " 1.9734678  1.18143544 1.37969241 1.43612653 1.85988682 1.73132264\n",
      " 1.63347822 1.11775108 1.57651648 1.27405522 1.20642127 1.01099583\n",
      " 1.90001864 1.12610992 1.5974131  1.64432728 1.28095409 1.29712172\n",
      " 1.4760504  1.33632883 1.06317026 1.21494038 1.96881686 1.59507793\n",
      " 1.50363375 1.2290878  1.10659825 1.72818876 1.49549132 1.75359797\n",
      " 1.40976933 1.81486707 1.87294584 1.19343885 1.98766801 1.96057319\n",
      " 1.92524832 1.69742027 1.0756038  1.94426649 1.13795735 1.68089953\n",
      " 1.03700763 1.59626988 1.76999116 1.87943311 1.30371122 1.66012504\n",
      " 1.53949129 1.20927684 1.62589138 1.38413681 1.02440078 1.97873059\n",
      " 1.9390677  1.00206589 1.23172659 1.421357   1.7375823  1.76122285\n",
      " 1.11047411 1.71276101 1.29630812 1.04209319 1.01787393 1.57222687\n",
      " 1.38432665 1.67964728 1.05003882 1.910589   1.46740151 1.16703395\n",
      " 1.2316717  1.94273177 1.60773679 1.81356174 1.03089737 1.07224772\n",
      " 1.00509218 1.81583312 1.77555943 1.22381761 1.53697442 1.58008621\n",
      " 1.19048393 1.55085737 1.91895378 1.50485347 1.40759222 1.82468097\n",
      " 1.12137001 1.34154817 1.12815647 1.02924728 1.82581675 1.18203298\n",
      " 1.46001462 1.037008   1.65812783 1.93216294 1.29182791 1.25034817\n",
      " 1.02458692 1.67638978 1.55409729 1.27362667 1.16362382 1.34548879\n",
      " 1.4323348  1.22995461 1.7868953  1.63147366 1.13564175 1.52679009\n",
      " 1.18552552 1.13124488 1.38334969 1.51847765 1.68556529 1.79947527\n",
      " 1.07244689 1.69498189 1.1398776  1.00977085 1.67353869 1.51771164\n",
      " 1.64937307 1.86728425 1.1994133  1.16748258 1.29352427 1.03158614\n",
      " 1.94802872 1.66054981 1.10518334 1.18270223 1.54768172 1.93964792\n",
      " 1.78078601 1.02413474 1.50180428 1.68022824 1.74231711 1.53737704\n",
      " 1.13172749 1.27283093 1.25729348 1.95989081 1.8670315  1.43861542\n",
      " 1.78933781 1.09096748 1.02860491 1.14561491 1.49227786 1.75276893\n",
      " 1.8707499  1.03058768 1.45378954 1.66299682 1.75128573 1.61714499\n",
      " 1.03667143 1.26359798 1.47463088 1.19432985 1.11191962 1.3161561\n",
      " 1.50723481 1.95842714 1.63911994 1.51559603 1.69207006 1.79814655\n",
      " 1.96991205 1.90609928 1.32739788 1.55624978 1.13185775 1.38215276\n",
      " 1.03038706 1.39386441 1.00058627 1.95178796 1.40690796 1.12148444\n",
      " 1.66759339 1.19215406 1.23771487 1.60382731 1.30453279 1.6114419\n",
      " 1.23754413 1.60344859 1.38050965 1.46349404 1.47918188 1.60117722\n",
      " 1.58017237 1.39209491 1.23511674 1.7565177  1.06556397 1.89857917\n",
      " 1.2848729  1.38966622 1.727376   1.89312308 1.43268778 1.03707312\n",
      " 1.48354565 1.19400745 1.21204484 1.90002312 1.21947448 1.57626175\n",
      " 1.3324501  1.58660846 1.7832602  1.02363859 1.609094   1.01221448\n",
      " 1.86356025 1.69514455 1.71759777 1.99125599 1.87160571 1.89589035\n",
      " 1.27566118 1.27416067 1.07941937 1.89419087 1.19186732 1.54001191\n",
      " 1.34912263 1.67566625 1.99413936 1.33816081 1.26934949 1.79906631\n",
      " 1.45037094 1.07282218 1.76535792 1.60068408 1.52095798 1.21797191\n",
      " 1.2912553  1.03616038 1.63986359 1.93695782 1.55380224 1.39698152\n",
      " 1.55279746 1.39940567 1.91939197 1.30504891 1.64097208 1.13798552\n",
      " 1.63246558 1.93182769 1.54952954 1.68818387 1.78396182 1.38041205\n",
      " 1.84797515 1.06134963 1.54019958 1.99486632 1.69047238 1.81379502\n",
      " 1.94979991 1.3865848  1.93272848 1.86606389 1.04521867 2.94726605\n",
      " 2.18944667 1.84958311 1.9699144  1.5851805  1.9436245  1.13527762\n",
      " 1.18709899 1.7526519  1.45054414 1.12915942 1.09189795 2.22864281\n",
      " 1.6715732  1.5203077  2.22768161 1.5201635  1.8521815  1.86598477\n",
      " 1.02878268 2.86362852 1.35058756 1.41008231 1.48601051 1.92658763\n",
      " 2.50788371 1.25824439 1.32875161 1.36659915 1.12887972 1.86117283\n",
      " 1.89678841 2.52603836 1.33244226 2.80771098 1.04086862 1.83106494\n",
      " 1.82298952 2.07844246 1.36426986 1.50341727 1.30960517 1.03931214\n",
      " 1.72312235 1.63108636 1.46253472 1.74747094 1.0366832  1.10479316\n",
      " 1.48832256 1.44741237 1.46738273 1.67250265 1.8724197  1.35408276\n",
      " 1.01348475 2.52554642 1.10178247 2.15285914 2.81343298 1.10323458\n",
      " 1.91976625 2.47548861 1.01762138 1.6021444  1.74209717 1.55676289\n",
      " 1.49238962 1.75759027 2.71136945 1.84563728 1.5188599  1.53258943\n",
      " 1.33660428 1.13441468 2.80987445 1.74535935 1.59563874 1.07047086\n",
      " 1.12429722 1.73086748 1.57447311 1.31634245 1.86022762 1.79526731\n",
      " 1.16365594 1.1642658  2.35883048 1.12279946 2.60755489 1.36680112\n",
      " 2.43913491 1.62305557 1.50478124 1.50272039 1.13927207 2.20597481\n",
      " 2.15167488 1.68827793 2.25605371 2.43011032 2.23754131 1.34208175\n",
      " 2.1787427  1.15354771 1.85008257 1.55549486 1.27996346 1.45727556\n",
      " 2.81840228 2.41660821 2.5379942  2.05271666 2.69329719 2.41377017\n",
      " 2.38854576 1.98188982 2.06788172 1.69665082 2.07750062 1.42371164\n",
      " 2.39328495 2.83889809 1.92084188 1.08014438 2.3469532  1.54778206\n",
      " 1.77539518 1.41892545 1.36773571 1.66353737 2.82196403 2.85133727\n",
      " 1.58537588 2.91465033 2.25003953 1.79009441 2.19847388 1.86178562\n",
      " 2.05388454 2.25338137 1.59126583 2.28402777 1.67189274 2.72226693\n",
      " 1.14430353 2.60281647 1.81856456 2.41695844 1.81744356 1.25942343\n",
      " 1.59058835 1.56387347 1.76360579 2.85988682 1.86846798 1.74211231\n",
      " 2.72128785 2.16506976 1.72769267 1.01839068 1.08570119 2.98900417\n",
      " 1.39948314 2.58122948 1.61686147 2.66743326 1.60315211 1.38929561\n",
      " 2.64432728 2.70287828 1.56640464 2.33632883 2.78505962 2.73773596\n",
      " 2.94857419 1.49636625 2.40315715 2.07513778 2.72818876 1.3115976\n",
      " 2.56517266 1.18089768 1.30530353 2.27214514 1.59023067 2.3609739\n",
      " 2.91731358 2.13681863 1.44600577 1.26777511 1.30772344 2.15080435\n",
      " 2.75033199 1.48942496 1.22120944 1.01233199 2.05594066 1.18057535\n",
      " 2.43205477 1.03394598 1.29734901 1.9243962  1.47421422 1.31910047\n",
      " 1.82891547 1.69628878 1.33987496 2.72476677 1.2280445  1.61586319\n",
      " 1.97559922 1.12990113 1.12529833 1.47106287 2.40193091 1.47987562\n",
      " 1.01591653 2.58223322 2.2624177  2.70369188 2.5327845  2.61567335\n",
      " 1.78174611 2.05003882 2.21365499 2.87911831 1.05526798 1.38658861\n",
      " 1.7683283  1.64964665 1.22048621 1.18643826 2.64987474 1.94215732\n",
      " 2.03089737 1.88378588 2.60375798 1.84610409 2.77618239 1.40706007\n",
      " 1.12253914 2.11125192 1.9556515  2.86212762 1.65524198 2.44914263\n",
      " 2.59154679 2.62731148 2.74024622 1.72342011 2.08104622 1.48058658\n",
      " 2.40759222 1.34780921 1.67801615 2.43426804 1.14941827 2.1327058\n",
      " 1.16298667 2.30252854 1.38138862 2.94150543 1.74350826 1.00638587\n",
      " 2.74019642 1.6340057  1.2201546  2.7610279  1.45873342 1.06797189\n",
      " 1.06277151 1.68788572 1.06783706 1.0673506  1.65411694 2.37908448\n",
      " 2.96887786 2.97541308 1.32361022 1.45918516 1.30631777 1.72674047\n",
      " 1.95086356 1.58027268 1.63852595 1.7257848  2.59066599 2.1059008\n",
      " 2.36852634 2.03180657 2.22340315 1.62622032 1.79653729 2.93579106\n",
      " 2.54477985 2.98837946 2.92755311 1.60002055 1.29166258 1.8601224\n",
      " 1.22014901 1.51949305 2.89506982 2.98666259 2.50111185 1.38184427\n",
      " 2.67353869 1.03320311 1.13271575 1.56754085 1.36356975 2.29352427\n",
      " 1.93621225 2.94802872 1.29093948 2.87096912 1.28591307 1.80172808\n",
      " 1.45240762 1.26841048 1.06035208 2.84045532 1.87178357 1.81788208\n",
      " 1.55536355 2.77154526 1.02520684 2.34967431 2.07219841 2.53737704\n",
      " 1.02470087 2.8670315  2.57867541 1.27474234 1.42172093 2.40764967\n",
      " 2.26688698 1.13156769 2.82031689 2.02860491 1.85438509 1.44530526\n",
      " 1.97036529 1.64076663 2.03058768 1.65673666 1.32519006 1.13087366\n",
      " 2.54621046 1.92650325 2.83024209 2.82888337 2.56911248 1.24871427\n",
      " 1.58644557 2.26359798 1.67239094 2.13172872 1.20584121 1.87789009\n",
      " 1.45219903 1.8516568  1.01336988 2.9651187  2.04818821]\n",
      "doors feature unique values with Iter imputer :  [6.         3.         4.         2.         3.74627236 3.7493667\n",
      " 3.74816617 3.74790628 3.74858156 3.7481172  3.74926206 3.74794413\n",
      " 3.74930008 3.74864098 3.74733784 3.74947133 3.74905859 3.17720965\n",
      " 3.40022289 2.02209933 3.30458888 2.10675607 2.8303201  3.84619939\n",
      " 2.86681487 2.05946817 3.58336094 2.22239772 3.01471395 3.17083578\n",
      " 3.27387916 2.7570812  3.24108483 2.12177933 2.48004597 2.80504467\n",
      " 2.09684894 3.38273629 3.54065319 3.95413873 3.20913079 3.58476611\n",
      " 3.81993273 3.41166121 3.8778963  3.34508263 3.96819532 3.90770941\n",
      " 3.48834299 3.62271403 3.86830111 2.53659065 3.06234136 2.91079567\n",
      " 3.65707314 3.8308044  3.99246564 2.36535682 3.96230723 2.05565349\n",
      " 2.42400158 3.00530001 3.2771039  2.7072301  3.49389604 2.93201434\n",
      " 3.67935781 3.39389812 3.79428945 3.95190536 3.81359501 3.36624144\n",
      " 3.68380342 3.46021894 2.56125532 3.93338089 2.45715069 3.56847186\n",
      " 3.33281579 3.26945086 3.7894644  3.25853909 3.79545541 3.24536471\n",
      " 3.10291603 3.39604213 2.53986064 3.4015573  2.43449165 2.71617907\n",
      " 2.17320117 3.13911619 3.40703709 3.89575303 2.18632088 3.16250921\n",
      " 3.66785359 2.74424965 2.20557981 3.43756288 2.91274946 2.75177356\n",
      " 2.57763195 3.72241283 2.45898899 2.46493028 3.70040409 3.69006307\n",
      " 3.39731812 3.79978202 2.53176817 3.34849773 3.51891205 2.89701852\n",
      " 2.10256959 2.97893144 3.44327842 3.92967762 3.85891815 2.40639231\n",
      " 3.87722311 2.87644408 4.75047746 3.96577189 2.88576207 2.47106545\n",
      " 3.79436665 3.35494583 3.86772379 2.82258388 3.49746489 2.73218458\n",
      " 3.74926934 3.35387138 2.95862718 3.18437092 2.95408694 2.84640785\n",
      " 2.65561627 2.59828606 3.54031849 3.96769939 2.79001356 2.24160759\n",
      " 2.75903585 3.30682479 3.33008254 2.41173624 2.52678988 3.12052258\n",
      " 3.42176266 2.35545335 3.34983265 3.63530275 2.56067719 3.44103216\n",
      " 3.42757224 2.41750608 3.41924279 3.72831303 2.70299712 3.72273435\n",
      " 2.0896609  3.87556244 2.79798932 2.16217426 3.04272974 2.1737943\n",
      " 2.21632402 2.4749685  3.73976663 3.86508402 3.96513484 3.13987318\n",
      " 3.32905137 3.71860904 3.74735091 3.99491786 2.03787803 2.07750062\n",
      " 3.29276137 2.26355576 2.93436701 2.11323805 3.16110191 5.75067464\n",
      " 3.4626044  2.91985562 2.73750125 3.45221794 3.77539518 3.54756048\n",
      " 2.41892545 3.41941165 3.33646263 3.40461498 3.20990559 3.10194571\n",
      " 3.79486036 3.96345033 2.06570864 3.59923694 5.25338137 3.72925533\n",
      " 2.40873417 3.8438474  2.71597223 3.97290401 3.7689252  3.32810726\n",
      " 3.20008391 2.85569647 2.60281647 3.29314773 3.10366418 5.82898294\n",
      " 3.9734678  5.1571509  2.10732829 3.65818265 3.74057657 2.59029494\n",
      " 3.59058835 2.13153202 2.10544777 3.52569018 2.27230733 3.98160932\n",
      " 2.91429881 3.1702582  3.86311437 2.33496333 2.41877052 2.51891771\n",
      " 3.73803362 2.73773596 2.40315715 3.2290878  3.89340175 2.07513778\n",
      " 3.3115976  2.81910232 3.30530353 2.13681863 2.44600577 2.54190095\n",
      " 2.87294584 3.34121663 3.69227656 4.3016087  3.51057504 2.22120944\n",
      " 2.05594066 2.92524832 3.0845117  3.05573351 3.86204265 3.1554506\n",
      " 3.82891547 2.03700763 2.23000884 3.87943311 2.30371122 2.27523323\n",
      " 3.46050871 2.3187525  2.88597775 3.47106287 2.20121676 2.29630812\n",
      " 3.98212607 2.38432665 2.87911831 3.05726823 2.35035335 2.51268851\n",
      " 3.18643826 3.22041553 2.35012526 2.24176152 3.30397938 3.12253914\n",
      " 2.26560004 4.22250384 2.86212762 3.34475802 3.08698676 3.59154679\n",
      " 5.48049243 5.00824853 2.91895378 3.7798168  3.14879309 2.48058658\n",
      " 3.73297173 3.1327058  2.83701333 2.68014077 5.68278979 2.12886987\n",
      " 3.83213418 3.49253227 3.28703813 3.01881382 2.74019642 3.3659943\n",
      " 3.7798454  2.7610279  3.037008   2.93202811 3.06277151 3.93216294\n",
      " 3.9326494  2.58217046 5.30823389 2.62091552 3.7582632  3.97541308\n",
      " 2.51135681 2.68329538 3.55409729 3.4261813  3.83637618 3.22076961\n",
      " 3.91761895 2.94361592 3.58027268 2.3975944  3.59066599 2.1059008\n",
      " 3.77004539 3.34833317 2.18552552 2.84478323 2.76102399 3.92084785\n",
      " 3.20346271 2.93579106 2.2689934  3.31036196 3.54477985 2.47993883\n",
      " 3.39997945 3.29166258 2.69498189 2.03961883 3.51949305 4.02667481\n",
      " 2.50111185 2.55964868 3.67353869 3.39692328 3.43245915 3.20015024\n",
      " 3.89543216 2.93621225 2.05197128 4.91740733 3.12903088 3.45240762\n",
      " 2.6435777  3.47359734 2.26841048 3.84045532 2.65870778 3.99633392\n",
      " 2.34967431 2.92780159 2.65406501 3.27474234 3.51333106 2.91236335\n",
      " 2.62296658 2.13156769 3.67480994 4.45305375 3.54621046 3.56911248\n",
      " 2.16704191 2.03667143 3.15582955 3.19432985 3.13172872 3.79415879\n",
      " 3.53116953 3.06612498 3.04818821 3.13208171 3.86034875 3.02997359\n",
      " 3.69207006 3.03008795 2.90609928 2.17714979 3.16188471 3.94461422\n",
      " 2.31675197 3.0690513  2.32348661 3.65888547 3.21761452 2.56701626\n",
      " 3.73844921 2.67296684 2.18216578 2.5444891  5.26707693 3.6682128\n",
      " 3.13666635 2.97435793 2.01823258 2.10196945 3.06026739 3.25677657\n",
      " 4.56769865 3.81885065 3.47483662 2.44977346 4.09719332 3.58897153\n",
      " 2.64657862 3.23687056 2.27480604 4.75228135 3.73687374 2.39290596\n",
      " 3.30485545 2.69243615 2.12839429 3.91434175 2.67662844 2.35499631\n",
      " 2.06761256 2.54001191 3.11992091 2.53295779 3.66699809 3.06014234\n",
      " 3.04237472 2.69000489 3.53582768 3.75616333 4.40910008 3.07299903\n",
      " 4.92008574 3.84203329 2.08912443 2.87228652 2.82606763 3.78202809\n",
      " 3.63986359 3.91235725 3.44720254 3.60059433 2.79148949 4.13880957\n",
      " 3.12202568 3.91908072 3.59701982 5.30780055 3.82248056 2.07724281\n",
      " 5.02587616 3.82516137 2.86483371 3.96582216 3.49385814 3.35917369\n",
      " 3.78396182 3.34979891 3.15202485 2.06134963 3.45980042 2.30952762\n",
      " 2.81379502 2.31526883 5.67476612 3.72571951 2.6134152  3.95478133\n",
      " 4.02544774 2.38089086 2.84211892 2.8383287  3.72659293 3.99663684\n",
      " 3.44456829 5.53797483 3.05523427 3.12915942 4.65659863 3.35816272\n",
      " 5.77288482 3.44809316 2.56093797 3.1233464  2.40348287 2.75513726\n",
      " 3.62030955 3.29592023 3.41008231 2.34825547 3.78365301 3.39654278\n",
      " 3.6220867  3.89904125 2.54086424 3.50738191 2.67124839 2.07586333\n",
      " 2.12804584 3.84809731 2.64087474 3.80771098 3.17701048 3.08870253\n",
      " 5.75872826 2.79366628 3.7994104  2.37209961 2.91824097 3.87357862\n",
      " 2.9208724  3.06107796 2.79065068 3.51547701 4.76349046 3.36891364\n",
      " 3.67792083 2.32749735 2.88023787 2.78917124 3.5015578  3.25456053\n",
      " 3.43165955 2.15285914 2.16068137 2.71490483 2.1733736  2.08023375\n",
      " 3.41039683 2.98237862 4.26898575 2.92937599 2.38937996 3.41876178\n",
      " 3.94817646 2.32235384 3.25464065 3.65113173 3.83061941 3.26913252\n",
      " 3.18123307 2.87720054 2.39244511 3.69862213 2.7677873  3.88310196\n",
      " 2.13927207 2.24848914 2.03353243 2.11063174 5.74502268 2.39728729\n",
      " 5.54149721 2.25179906 3.09154944 2.58339179 3.59914858 3.87212391\n",
      " 2.93211828 2.92249938 2.42371164 2.39328495 3.26355576 2.90167874\n",
      " 3.11323805 2.0151588  3.13010364 2.3990027  2.00926405 2.26249875\n",
      " 5.71828596 2.82196403 2.85133727 3.58537588 2.99687425 3.59538502\n",
      " 3.56484113 3.06570864 2.77552762 2.44076275 3.44035967 3.13821438\n",
      " 3.02538636 2.28402777 2.7689252  3.89589142 2.20008391 2.17854466\n",
      " 2.65274611 3.09944139 3.16978014 3.33191486 3.2049843  3.89633582\n",
      " 2.0265322  2.18143544 3.10732829 4.6836347  3.37969241 3.44795282\n",
      " 3.4252135  3.63347822 3.11775108 4.89164399 3.34857961 3.20642127\n",
      " 3.66503667 2.82462872 3.91441195 3.38313853 3.75465089 3.71130626\n",
      " 2.5239496  2.93682974 3.2674279  3.59507793 3.05142581 2.10659825\n",
      " 2.50450868 3.20058412 2.55399423 3.26777511 2.80656115 3.03942681\n",
      " 5.41115035 3.92524832 3.9154883  2.69742027 3.76999116 3.69628878\n",
      " 2.33987496 2.13071268 5.36941932 2.53949129 3.79072316 2.62589138\n",
      " 2.23295947 3.97559922 3.97873059 2.87470167 2.52893713 2.9390677\n",
      " 5.29857637 2.87367711 2.58223322 3.7375823  3.88952589 3.64537784\n",
      " 3.98772239 3.57222687 2.58241922 3.83296605 3.17652803 2.22041553\n",
      " 2.39624202 2.30397938 2.15389591 2.77618239 2.53697442 2.73439996\n",
      " 5.74097016 2.88874808 4.17397352 2.59154679 3.49587574 5.5596336\n",
      " 3.31674124 2.85120691 2.50485347 2.59240778 4.35063807 2.67801615\n",
      " 2.8672942  2.29163702 3.68014077 2.75271664 3.12815647 3.82581675\n",
      " 3.16786582 2.28703813 3.38307308 2.98118618 3.46001462 2.65812783\n",
      " 3.93202811 3.10250973 2.41782954 3.37908448 3.97348897 2.96887786\n",
      " 2.74965183 2.13008624 3.2417368  3.02458692 2.97787645 3.67638978\n",
      " 3.51135681 3.31670462 3.27362667 3.0028755  2.45138702 2.08238105\n",
      " 2.34548879 2.04913644 5.2048112  2.7868953  2.36852634 3.86862317\n",
      " 2.22340315 2.23897601 3.86875512 2.03252618 4.1583043  2.86061179\n",
      " 2.50840545 3.7975591  2.54477985 2.07244689 2.29166258 2.89506982\n",
      " 3.00977085 2.0878665  3.86728425 2.45870366 2.08011485 2.89481666\n",
      " 3.18270223 3.6435777  3.97586526 3.57939701 3.50180428 3.28079822\n",
      " 3.34967431 3.31977176 2.25768289 2.13172749 4.54566186 3.57450667\n",
      " 5.25792247 2.57867541 2.48666894 3.90070186 3.37703342 3.28417504\n",
      " 3.76245668 3.40704915 3.13087366 2.51977395 2.56911248 5.92665715\n",
      " 5.6883409  3.26974961 3.94291314 3.87789009 5.36768779 2.50723481\n",
      " 3.36088006]\n",
      "persons feature unique values with Iter imputer :  [6.         4.         2.         4.01008583 4.00896547 4.00712672\n",
      " 4.00834988 4.00806097 4.0072392  4.00771277 4.00744179 4.00926473\n",
      " 4.01019685 4.00905723 4.00876356 4.00849773 4.00934407 4.00883245\n",
      " 4.00764388 4.00714958 4.00914276 4.0101769  4.00924478 4.00699302\n",
      " 4.00683928 4.00081578 4.00658188 4.00071734 4.00151721 4.00661788\n",
      " 4.00199092 4.00341439 4.00308988 4.00474467 5.64392807 5.17075175\n",
      " 5.55605568 4.66382973 4.03119564 4.56190819 5.40530199 5.86928732\n",
      " 4.03183306 5.52244571 4.55315977 4.86853607 4.92002924 5.79498054\n",
      " 5.69788422 5.56157203 4.18193496 5.50553785 4.97036529 4.06035791\n",
      " 5.80892937 5.72712049 5.30485695 5.23875341 5.39064172 4.00245905\n",
      " 4.00003015 4.00134798 4.00032132 4.0022958  4.0034041  5.80831739\n",
      " 4.0036786  4.00841788 4.00135524 4.00624356 4.00445398 4.00533409\n",
      " 4.0033251  5.63414414 4.66271356 4.0083323  4.00297509 4.47954428\n",
      " 4.00652801 4.66960556 4.00436531 4.00260344 4.00610149 4.0057231\n",
      " 4.00114647 5.18255087 4.006008   5.64722603 4.00350792 4.00406007\n",
      " 5.92214063 4.00238515 4.00633726 4.53612728 4.00336968 4.00515323\n",
      " 4.00311764 4.0030031  4.00388739 4.00363032 4.00395226 4.07401527\n",
      " 5.35929457 4.00034992 4.00522166 4.00161308 4.00216751 4.00481423\n",
      " 5.81702633 4.00608732 4.0043868  4.00517656 4.00053238 4.00452625\n",
      " 4.00286769 4.00588389 4.00678849 4.00257343 5.41634418 4.09148407\n",
      " 4.00387481 4.00651228 4.00705489 4.0067753  4.00160195 4.003586\n",
      " 4.00546005 4.3990849  4.00190791 4.00439834 4.25315352 4.00608917\n",
      " 5.48373313 4.00235667 4.76571003 5.06233906 4.00478213]\n",
      "lug_boot feature unique values with Iter imputer :  [3.         1.         2.         2.00182522 2.00127272 2.00090074\n",
      " 2.00074948 2.00147068 2.00070995 2.00169349 2.00057823 2.00116418\n",
      " 2.00178781 2.00254996 2.00173976 2.00100434 2.00029313 2.0004551\n",
      " 2.00067792 2.00202204 2.00151694 2.25578834 1.23750647 2.52228511\n",
      " 1.52837012 1.04340078 2.00416862 1.26289929 1.73406208 2.54675915\n",
      " 2.72023649 1.08274842 2.83516574 2.41125512 2.13385212 1.92464094\n",
      " 2.6917144  1.53434628 2.79495467 2.74855756 2.7252682  2.20722765\n",
      " 2.95310353 1.26867248 2.50183481 1.16862851 2.96797377 1.91159178\n",
      " 2.42053578 2.44518439 1.72639703 2.45091045 2.30235813 2.20352822\n",
      " 1.37919432 1.53988084 2.69766757 2.81993273 2.82179064 2.34761921\n",
      " 1.10578274 2.00170822 2.68778472 1.15697768 1.24004459 1.72051606\n",
      " 1.86688307 2.31283449 1.25038377 1.96952785 1.89513083 1.73740521\n",
      " 1.56396509 2.53533556 2.47396994 2.64882284 2.41346457 1.56445854\n",
      " 1.37877263 2.1003526  2.24435316 1.63464318 1.08788762 1.80586489\n",
      " 2.69696146 2.99725553 1.89661026 2.50925122 2.83858256 2.79492244\n",
      " 2.71095248 1.80049307 2.50610396 2.63076952 2.45463793 2.54860312\n",
      " 1.20173046 1.25402547 2.27840345 2.04809464 2.23569175 2.09213387\n",
      " 1.41169332 2.31701794 1.62410154 2.39148211 1.46814252 1.54284931\n",
      " 1.69371761 1.50457637 2.25853909 2.42701716 2.99769262 2.75240312\n",
      " 1.29301954 2.22142806 2.85687201 2.49398149 1.53648135 1.28382093\n",
      " 2.59902936 2.28792962 2.1007946  2.40703709 2.08124948 1.0230226\n",
      " 2.22875333 2.62556463 2.07732107 1.87718922 1.76409397 2.16250921\n",
      " 2.6206943  1.39627847 1.86351814 1.08154528 1.41293178 2.00065565\n",
      " 1.16562552 2.00065495 2.78049571 2.48482632 1.97554132 1.54101101\n",
      " 1.55730537 1.2859408  1.23464372 1.24675378 2.02106856 1.25406068\n",
      " 1.1961131  2.19314985 1.96264932 2.40639231 1.67600994 2.91307499\n",
      " 1.73590461 2.97454727 2.43422338 1.78197689 2.68318386 1.82258388\n",
      " 2.47033832 2.40524809 1.72020258 2.36690194 2.50572615 2.16189304\n",
      " 2.4045561  2.77091138 1.77098593 2.06824971 1.72153286 1.39664937\n",
      " 1.51624506 2.26991122 2.54015473 2.15847034 1.15467214 1.52576269\n",
      " 2.35154016 2.29507445 2.00525382 1.68540344 2.80743025 2.08670521\n",
      " 1.04182921 1.9805768  2.30682479 1.47321012 1.73102367 2.19259903\n",
      " 2.11528202 2.45514369 2.46973487 2.40448545 1.80397698 2.53840149\n",
      " 2.26214423 1.42681706 2.87666538 2.53805715 1.00965869 1.99976248\n",
      " 2.91145659 1.52021867 2.27168697 1.47748081 2.73227181 2.4686691\n",
      " 1.58910853 1.95489932 1.8905324  2.60836986 1.9564157  2.41144577\n",
      " 2.98918491 1.59841976 1.7694308  2.38409061 2.03673194 1.80076969\n",
      " 1.59727407 1.99633578 2.7478716  1.5425679  2.69571429 1.15253904\n",
      " 2.42371164 1.60671505 1.07443149 2.45083937 1.88676195 2.92084188\n",
      " 2.6009973  1.05476164 1.80285345 2.99536798 1.33349917 1.34634599\n",
      " 1.6530468  2.50163223 1.9148459  1.3623939  2.41941165 1.85133727\n",
      " 1.08534967 1.50219501 2.25003953 2.80931228 1.52793305 1.22447238\n",
      " 2.52439027 2.13821438 2.94611546 1.59126583 1.34107606 2.98028946\n",
      " 1.89589142 2.34725389 1.76181722 2.27773307 2.2049843  2.79211374\n",
      " 2.18143544 1.58304156 2.18255644 2.55204718 2.94845331 2.76360579\n",
      " 2.4252135  1.26867736 2.45836579 2.74211231 2.13935607 1.16506976\n",
      " 2.82832071 1.88224892 2.57651648 2.34857961 2.8297418  1.13688563\n",
      " 1.09998136 2.12610992 2.08558805 2.95303403 1.39684789 1.28869374\n",
      " 1.43359536 1.5239496  2.96881686 2.05142581 1.6884024  2.43482734\n",
      " 2.18089768 2.69469647 2.72785486 2.90841793 2.91731358 1.04976265\n",
      " 1.55399423 1.65878337 1.24966801 1.48942496 2.29442483 1.8445494\n",
      " 2.31910047 1.69628878 2.20927684 1.37410862 2.38413681 1.76704053\n",
      " 2.02126941 1.12529833 2.9390677  2.23281171 2.40193091 2.47987562\n",
      " 1.87367711 1.41776678 2.76639225 1.98772239 1.42777313 1.78634501\n",
      " 2.41758078 1.94473202 1.38658861 2.00883137 1.2316717  1.76933019\n",
      " 2.82347197 1.94215732 1.96910263 2.88378588 2.17389525 1.39624202\n",
      " 1.75823848 1.15389591 1.46302558 1.40706007 1.09148684 2.87048508\n",
      " 2.0443485  1.80951607 2.31674124 1.07613086 1.85120691 2.51941342\n",
      " 1.59240778 1.67801615 2.73297173 2.20257398 1.85058173 1.8672942\n",
      " 1.29163702 1.16298667 2.30252854 2.75271664 2.33511885 2.25649174\n",
      " 1.1607599  2.00638587 2.38307308 1.98118618 1.25980358 1.10698064\n",
      " 1.7610279  1.45873342 2.65812783 1.36737811 1.06797189 1.93722849\n",
      " 1.69903643 2.70817209 1.41782954 1.95425797 1.12846319 1.13008624\n",
      " 2.02212355 2.32361022 2.31670462 1.72637333 2.0028755  2.54861298\n",
      " 1.79480955 1.6804993  1.65451121 1.27325953 1.95086356 1.5676652\n",
      " 2.94361592 1.63852595 2.3975944  1.7257848  2.01602235 2.65166683\n",
      " 2.47320991 2.86862317 1.37377968 2.96747382 1.79653729 2.88269181\n",
      " 2.43030589 1.06420894 1.7310066  2.2024409  2.54477985 2.01162054\n",
      " 1.60750644 1.60002055 1.48050695 2.89506982 1.75795498 1.14249554\n",
      " 1.61815573 1.29753503 1.48228836 2.0878665  2.96679689 2.0785785\n",
      " 1.68946497 2.8005867  1.16748258 1.63643025 1.70647573 2.03158614\n",
      " 2.70906052 1.87096912 1.80172808 2.91988515 2.45240762 1.73158952\n",
      " 1.91837002 1.24710323 1.87178357 2.66310421 2.81788208 1.55536355\n",
      " 2.28079822 2.77154526 1.97479316 1.19954245 2.31977176 1.9693475\n",
      " 2.74270652 1.34593499 1.37103876 2.01235044 1.04010919 2.72525766\n",
      " 1.48666894 1.87342324 1.09929814 2.57827907 1.40764967 2.62296658\n",
      " 1.73311302 2.86843231 1.28417504 2.82031689 1.76245668 1.18097695\n",
      " 1.35923337 2.16352387 2.96941232 2.74186657 1.65673666 1.13087366\n",
      " 2.76394954 1.92650325 2.16975791 2.82888337 2.61714499 2.83238078\n",
      " 2.84417045 1.86827128 1.26974961 1.94291314 1.96065646 1.12210991\n",
      " 1.54780097 2.50723481 1.04157286 2.8516568  1.01336988 2.0348813\n",
      " 1.99506002 2.86791829 2.54526014 1.70468076 2.30737405 2.83811529\n",
      " 1.31675197 2.49717476 1.61784724 1.13109502 1.42939025 2.31047325\n",
      " 2.39386441 2.34876702 1.3421547  2.87075345 2.78238548 1.87851556\n",
      " 1.59585968 2.19215406 2.23771487 2.20218635 1.43558331 1.99424134\n",
      " 1.69546721 2.6114419  2.62674821 1.22726963 2.60344859 2.38050965\n",
      " 2.37978578 2.86333365 1.51908179 2.34124783 1.39882278 1.18701426\n",
      " 1.9555237  1.19577799 1.99243713 1.2434823  1.07296546 2.06556397\n",
      " 2.64837731 1.10142083 2.30728996 1.1969741  2.53916128 2.6886923\n",
      " 2.61033378 1.4135491  1.87811391 1.31888215 1.25656278 2.95658747\n",
      " 2.36684862 2.39838818 2.81918886 1.11579354 2.22807977 2.21204484\n",
      " 2.61098099 2.82261432 2.83198579 1.86279708 1.2167398  2.6419715\n",
      " 2.2319471  2.59447634 1.50323314 1.40431877 2.57180039 1.69243615\n",
      " 1.57838692 2.91434175 1.80813268 1.32337156 1.06942384 2.06761256\n",
      " 1.80035651 2.88007909 2.46704221 2.32433375 2.33051304 1.55778342\n",
      " 2.46520561 2.04237472 1.69000489 1.20093369 2.60068408 2.84758399\n",
      " 1.0075165  1.92700097 2.75527042 1.7087447  2.69687164 2.73688743\n",
      " 1.30552431 1.60301848 1.48432057 2.50303652 2.00784199 2.14857504\n",
      " 2.1163664  2.81744971 2.86805669 2.79003044 1.08091928 2.69495109\n",
      " 1.86747533 2.13798552 2.60625294 2.50256608 1.39866303 1.14637399\n",
      " 1.06817231 1.97418809 2.96311511 2.54952954 2.56750212 1.50614186\n",
      " 2.89433532 2.64082631 2.38041205 2.78076159 2.94979991 2.58175696\n",
      " 2.37646337 2.59413072 2.0300856  2.1616713  2.46869316 2.9436245\n",
      " 2.45054414 2.77135719 2.8766536  2.24486274 2.78703584 2.35058756\n",
      " 2.60775595 2.56252508 2.21634699 2.85292652 2.92413667 2.87195416\n",
      " 2.35912526 2.18312112 2.47396164 2.00024916 2.82768013 2.8078551\n",
      " 2.16893506 2.72140966 2.30960517 2.03931214 2.62790039 2.27687765\n",
      " 2.00122296 2.81547898 2.20934932 2.00047182 2.48452299 2.00047299\n",
      " 2.46253472 2.74747094 2.74756306 2.71334959 2.53211349 2.10717201\n",
      " 2.53261727 2.26924323 2.11976213 2.89052728 2.0003046  2.67910232\n",
      " 2.21082876 2.46289346 2.41315888 2.28377591 2.3630823  2.5707783\n",
      " 2.64390327 2.60577482 2.52451139 2.03052957 2.25845902 2.82911241\n",
      " 2.57161269 2.27997909 2.18704375 2.00087158 2.11483682 2.61062004\n",
      " 2.71158577 2.15436272 2.05182354 2.06337497 2.98996023 2.19012555\n",
      " 2.00055863 2.68150272 2.47157619 2.41184091 2.00005282 2.16938059\n",
      " 2.96502691 2.06165954 2.00010087 2.74112065 2.00023994 2.18666094\n",
      " 2.52306542 2.60784902 2.46267979 2.69862213 2.00038286 2.2322127\n",
      " 2.10042543 2.38389122 2.45644714 2.375762   2.11689804 2.93983212\n",
      " 2.62770805 2.33490561 2.62007276 2.53346109 2.21140279 2.23754131\n",
      " 2.88936826 2.60271271 2.00116918 2.00042132 2.65430401 2.18159772\n",
      " 2.90845056 2.41704545 2.40085142 2.41377017 2.38854576 2.98188982\n",
      " 2.43572409 2.69665082 2.07819202 2.70723863 2.15253904 2.57628836\n",
      " 2.06563299 2.87533732 2.66480276 2.80285345 2.39816869 2.65365401\n",
      " 2.00075599 2.3623939  2.00063622 2.6325399  2.01309446 2.00312575\n",
      " 2.06707648 2.89805429 2.79486036 2.19068772 2.03654967 2.54671117\n",
      " 2.55923725 2.15524025 2.81834784 2.97461364 2.00099954 2.02709599\n",
      " 2.89589142 2.24317219 2.85569647 2.98699808 2.91449147 2.20788626\n",
      " 2.9734678  2.41695844 2.57857545 2.62030759 2.59029494 2.40941165\n",
      " 2.56387347 2.29446576 2.05154669 2.85988682 2.79985526 2.02246931\n",
      " 2.54163421 2.00130554 2.72594478 2.83000007 2.90001864 2.5974131\n",
      " 2.51891771 2.00126469 2.26308593 2.60315211 2.24534911 2.28095409\n",
      " 2.4760504  2.66418135 2.06317026 2.73773596 2.33424389 2.49549132\n",
      " 2.24640203 2.27269065 2.09296008 2.08268642 2.95023735 2.54190095\n",
      " 2.19343885 2.34121663 2.24966801 2.48942496 2.98766801 2.07475168\n",
      " 2.43248044 2.03394598 2.94426649 2.8445494  2.40373012 2.0769532\n",
      " 2.27523323 2.46050871 2.79072316 2.00017296 2.00206589 2.00098493\n",
      " 2.23397549 2.62750546 2.76122285 2.70369188 2.01787393 2.94996118\n",
      " 2.089411   2.46740151 2.00070656 2.35035335 2.60773679 2.76933019\n",
      " 2.22048621 2.77958447 2.92775228 2.22444057 2.58008621 2.87746086\n",
      " 2.80951607 2.37268852 2.25975378 2.00140145 2.65219079 2.56639072\n",
      " 2.79742602 2.65845183 2.70836298 2.24728336 2.11912924 2.87184353\n",
      " 2.17418325 2.12886987 2.18203298 2.36818647 2.6340057  2.89301936\n",
      " 2.76120701 2.00034381 2.962992   2.36737811 2.34588306 2.37954985\n",
      " 2.12846319 2.02651103 2.25034817 2.48864319 2.00067641 2.79480955\n",
      " 2.6804993  2.65451121 2.15105789 2.4323348  2.00091381 2.00004723\n",
      " 2.86435825 2.18552552 2.13137683 2.00116944 2.84478323 2.13124488\n",
      " 2.61665031 2.79653729 2.48152235 2.31443471 2.20052473 2.06562847\n",
      " 2.4180286  2.39249356 2.47993883 2.8601224  2.77985099 2.75795498\n",
      " 2.85750446 2.61844192 2.70246497 2.44035132 2.32748302 2.48228836\n",
      " 2.07997623 2.39692328 2.00051674 2.79984976 2.83251742 2.10456784\n",
      " 2.29352427 2.94802872 2.12903088 2.18517489 2.54759238 2.18270223\n",
      " 2.52640266 2.73158952 2.91837002 2.06035208 2.24710323 2.84045532\n",
      " 2.00033253 2.00001809 2.65870778 2.49819572 2.55536355 2.00366608\n",
      " 2.35016172 2.68022824 2.65406501 2.56138458 2.00006818 2.23754332\n",
      " 2.1292501  2.44530526 2.77347313 2.03017895 2.54655057 2.23605046\n",
      " 2.48022605 2.66299682 2.83295809 2.00146131 2.80567015 2.58535436\n",
      " 2.88808038 2.93660569 2.03934354 2.93387502 2.00071833 2.1483432\n",
      " 2.04818821]\n",
      "safety feature unique values with Iter imputer :  [3.         2.         1.         1.99166324 1.99193732 1.99449675\n",
      " 1.99383141 1.99291737 1.98962206 1.99431838 1.99360229 1.99230465\n",
      " 1.99224671 1.99335117 1.99293854 1.99130138 2.82279035 2.31896057\n",
      " 2.55600504 1.99410831 2.07535667 2.25299017 2.69541112 2.08474566\n",
      " 2.95870241 2.77060525 2.74005014 2.39721812 2.60701055 2.01367196\n",
      " 2.25008925 2.37785055 2.97781526 2.81638574 2.39191215 2.36335568\n",
      " 2.09100209 1.99813488 2.93376402 2.34741341 2.34156321 2.3980646\n",
      " 2.77615093 1.99602737 2.1287484  2.66990049 2.92404176 2.31283449\n",
      " 2.84444067 2.35414667 2.81771612 2.43603491 2.76678359 2.26317752\n",
      " 2.43554146 1.99658627 2.30303854 2.10338974 2.91739561 2.82086147\n",
      " 2.19950693 2.2322205  2.5938831  2.54860312 2.45107802 2.91213189\n",
      " 2.88330394 2.10669925 2.59148171 2.72159655 2.17205911 2.42251373\n",
      " 2.53185748 2.12137088 2.99769262 2.40895518 2.22811802 2.98779693\n",
      " 1.99622052 2.74398447 2.20991536 2.65136721 2.93107846 1.99274118\n",
      " 2.77260438 2.51517368 2.29404468 2.47235227 2.72769815 2.5920155\n",
      " 2.49449212 2.88746048 2.98872878 2.80685015 2.14108185 2.26409539\n",
      " 2.82510733 2.16934549 2.43422338 2.52893455 2.74168694 2.30115415\n",
      " 2.40255004 2.81505443 2.40524809 2.83707899 2.08448632 2.9493068\n",
      " 2.60335063 2.48375494 2.84532786 2.70492555 2.07776534 2.03790121\n",
      " 2.52130067 2.08670521 2.72410333 2.36276842 2.0194232  2.66991746\n",
      " 2.9993535  1.99613613 2.68714514 2.19602302 2.47983189 2.81452709\n",
      " 2.07002971 2.39828738 2.9103391  2.60836986 2.0435843  2.20201068\n",
      " 2.25898265 2.78367598 2.48475208 2.89743615 2.86012682 2.72704063\n",
      " 2.71860904 2.69571429 2.84746096 1.99535695 2.54916063 1.99515435\n",
      " 2.94523836 2.19714655 2.66650083 2.65365401 1.99307301 2.58107455\n",
      " 2.0851541  2.91465033 2.49780499 2.59538502 1.99806137 2.19068772\n",
      " 1.99658576 2.65274611 2.23818278 1.99784666 2.14430353 1.99385851\n",
      " 2.81744356 2.05154669 2.86846798 2.73132264 2.11775108 2.90001864\n",
      " 2.66503667 2.04696597 2.71130626 1.99782168 2.56640464 2.4760504\n",
      " 1.99248848 2.26226404 2.92486222 2.3115976  2.56517266 2.95023735\n",
      " 2.12705416 2.34121663 2.75033199 2.51057504 2.94405934 2.07475168\n",
      " 2.1554506  2.96299237 2.79072316 2.62589138 1.99690283 2.23295947\n",
      " 2.59806909 2.12632289 2.58223322 1.99409802 2.70369188 2.61567335\n",
      " 2.21365499 2.05526798 2.61341139 2.7683283  2.64964665 1.99528804\n",
      " 2.17652803 2.05784268 2.03089737 2.60375798 2.84610409 1.99826468\n",
      " 2.12951492 2.19048393 2.92386914 2.14879309 2.40759222 2.32198385\n",
      " 2.14941827 2.87113013 2.61692692 2.01881382 2.6340057  1.99643337\n",
      " 2.89301936 2.54126658 1.99489734 2.63262189 2.06277151 1.99248427\n",
      " 2.30096357 2.04574203 2.87153681 2.86991376 2.48864319 2.27362667\n",
      " 2.9971245  2.45138702 2.20519045 2.08238105 2.3195007  2.72674047\n",
      " 2.05638408 2.6024056  2.2742152  2.98397765 2.8940992  1.99389897\n",
      " 2.81447448 2.62622032 2.03252618 1.99598009 2.56969411 1.99380144\n",
      " 2.39249356 2.39997945 2.30501811 1.99887221 2.51949305 2.24204502\n",
      " 2.70246497 2.31053503 2.83251742 2.36356975 2.29352427 2.29093948\n",
      " 2.19827192 1.99487857 2.08162998 2.75289677 1.99394634 2.44463645\n",
      " 2.02520684 2.65032569 2.80045755 2.62896124 2.95989081 2.51333106\n",
      " 2.12657676 2.90070186 2.59235033 2.37703342 1.9992947  2.23754332\n",
      " 2.81902305 1.99416356 2.64076663 2.86912634 2.07349675 1.99417506\n",
      " 2.83295809 2.16761922 2.96332857 1.99843318 2.73025039 2.87789009\n",
      " 2.45219903 2.93387502 1.99754875 1.99606726 2.98663012 2.9651187\n",
      " 2.00493998 2.45473986 2.82285021 2.38215276 2.9309487  2.68952675\n",
      " 1.99694626 2.6578453  2.40414032 2.80784594 2.76228513 2.79781365\n",
      " 2.81783422 2.30453279 1.99507014 2.77273037 1.99532129 1.9970498\n",
      " 2.48091821 2.60117722 2.81298574 2.0444763  2.7565177  1.99949166\n",
      " 2.35162269 2.89857917 2.8030259  2.5864509  2.68111785 1.99651138\n",
      " 2.74343722 1.99843578 2.88420646 1.99835595 2.13720292 2.49676686\n",
      " 1.99330457 2.59568123 2.42161308 2.19186732 2.93057616 2.93238744\n",
      " 2.19964349 2.66948696 2.44221658 2.53479439 2.39931592 2.91087557\n",
      " 2.17393237 2.2912553  1.99971964 2.30312836 2.26311257 1.99484099\n",
      " 2.69447569 2.39698152 2.51567943 2.85142496 2.20996956 2.91908072\n",
      " 2.13252467 1.99893016 2.60133697 2.85362601 2.02581191 2.49385814\n",
      " 1.99367917 1.99705056 2.31532127 2.45642253 2.93141381 2.44514021\n",
      " 2.39092753 2.34898592 2.20679307 2.69428011 2.05565666 2.38997625\n",
      " 2.88759351 2.58817782 2.86591699 2.25212186 2.06282079 2.78751601]\n"
     ]
    }
   ],
   "source": [
    "for feature in real_cols:\n",
    "    print(f\"{feature} feature unique values with Iter imputer : \", X_train_iter[feature].unique())\n",
    "    #print(f\"{feature} feature unique values with Iterative imputer : \", X_train_iter[feature].unique())"
   ]
  },
  {
   "cell_type": "code",
   "execution_count": 66,
   "metadata": {},
   "outputs": [],
   "source": [
    "#X_train_knn = X_train_knn.apply(lambda x : np.int64(np.round(x)))\n",
    "X_train_iter = X_train_iter.apply(lambda x : np.int64(np.round(x)))"
   ]
  },
  {
   "cell_type": "code",
   "execution_count": 67,
   "metadata": {},
   "outputs": [],
   "source": [
    "#X_test_knn = X_test_knn.apply(lambda x : np.int64(np.round(x)))\n",
    "X_test_iter = X_test_iter.apply(lambda x : np.int64(np.round(x)))"
   ]
  },
  {
   "cell_type": "code",
   "execution_count": 68,
   "metadata": {
    "scrolled": true
   },
   "outputs": [
    {
     "data": {
      "image/png": "[encoded data removed]",
      "text/plain": [
       "<Figure size 432x288 with 1 Axes>"
      ]
     },
     "metadata": {},
     "output_type": "display_data"
    },
    {
     "data": {
      "image/png": "[encoded data removed]",
      "text/plain": [
       "<Figure size 432x288 with 1 Axes>"
      ]
     },
     "metadata": {},
     "output_type": "display_data"
    },
    {
     "data": {
      "image/png": "[encoded data removed]",
      "text/plain": [
       "<Figure size 432x288 with 1 Axes>"
      ]
     },
     "metadata": {},
     "output_type": "display_data"
    },
    {
     "data": {
      "image/png": "[encoded data removed]",
      "text/plain": [
       "<Figure size 432x288 with 1 Axes>"
      ]
     },
     "metadata": {},
     "output_type": "display_data"
    },
    {
     "data": {
      "image/png": "[encoded data removed]",
      "text/plain": [
       "<Figure size 432x288 with 1 Axes>"
      ]
     },
     "metadata": {},
     "output_type": "display_data"
    },
    {
     "data": {
      "image/png": "[encoded data removed]",
      "text/plain": [
       "<Figure size 432x288 with 1 Axes>"
      ]
     },
     "metadata": {},
     "output_type": "display_data"
    }
   ],
   "source": [
    "for feature in real_cols:\n",
    "    plt.title(f\"{feature} - Box plot\")\n",
    "    sns.boxplot(x= feature, data=X_train_iter)\n",
    "    plt.show()"
   ]
  },
  {
   "cell_type": "markdown",
   "metadata": {},
   "source": [
    "Since we imputed null values, let's handle nominal category data"
   ]
  },
  {
   "cell_type": "code",
   "execution_count": 69,
   "metadata": {
    "scrolled": true
   },
   "outputs": [
    {
     "data": {
      "text/html": [
       "<div>\n",
       "<style scoped>\n",
       "    .dataframe tbody tr th:only-of-type {\n",
       "        vertical-align: middle;\n",
       "    }\n",
       "\n",
       "    .dataframe tbody tr th {\n",
       "        vertical-align: top;\n",
       "    }\n",
       "\n",
       "    .dataframe thead th {\n",
       "        text-align: right;\n",
       "    }\n",
       "</style>\n",
       "<table border=\"1\" class=\"dataframe\">\n",
       "  <thead>\n",
       "    <tr style=\"text-align: right;\">\n",
       "      <th></th>\n",
       "      <th>buying</th>\n",
       "      <th>maint</th>\n",
       "      <th>doors</th>\n",
       "      <th>persons</th>\n",
       "      <th>lug_boot</th>\n",
       "      <th>safety</th>\n",
       "      <th>buying_na</th>\n",
       "      <th>maint_na</th>\n",
       "      <th>doors_na</th>\n",
       "      <th>persons_na</th>\n",
       "      <th>lug_boot_na</th>\n",
       "      <th>safety_na</th>\n",
       "    </tr>\n",
       "  </thead>\n",
       "  <tbody>\n",
       "    <tr>\n",
       "      <th>0</th>\n",
       "      <td>4</td>\n",
       "      <td>4</td>\n",
       "      <td>6</td>\n",
       "      <td>6</td>\n",
       "      <td>3</td>\n",
       "      <td>3</td>\n",
       "      <td>0</td>\n",
       "      <td>0</td>\n",
       "      <td>0</td>\n",
       "      <td>0</td>\n",
       "      <td>0</td>\n",
       "      <td>0</td>\n",
       "    </tr>\n",
       "    <tr>\n",
       "      <th>1</th>\n",
       "      <td>2</td>\n",
       "      <td>4</td>\n",
       "      <td>3</td>\n",
       "      <td>4</td>\n",
       "      <td>1</td>\n",
       "      <td>2</td>\n",
       "      <td>0</td>\n",
       "      <td>0</td>\n",
       "      <td>0</td>\n",
       "      <td>0</td>\n",
       "      <td>0</td>\n",
       "      <td>0</td>\n",
       "    </tr>\n",
       "    <tr>\n",
       "      <th>2</th>\n",
       "      <td>1</td>\n",
       "      <td>1</td>\n",
       "      <td>6</td>\n",
       "      <td>2</td>\n",
       "      <td>3</td>\n",
       "      <td>3</td>\n",
       "      <td>0</td>\n",
       "      <td>0</td>\n",
       "      <td>0</td>\n",
       "      <td>0</td>\n",
       "      <td>0</td>\n",
       "      <td>0</td>\n",
       "    </tr>\n",
       "    <tr>\n",
       "      <th>3</th>\n",
       "      <td>3</td>\n",
       "      <td>2</td>\n",
       "      <td>4</td>\n",
       "      <td>2</td>\n",
       "      <td>2</td>\n",
       "      <td>2</td>\n",
       "      <td>0</td>\n",
       "      <td>0</td>\n",
       "      <td>0</td>\n",
       "      <td>0</td>\n",
       "      <td>0</td>\n",
       "      <td>0</td>\n",
       "    </tr>\n",
       "    <tr>\n",
       "      <th>4</th>\n",
       "      <td>3</td>\n",
       "      <td>2</td>\n",
       "      <td>3</td>\n",
       "      <td>2</td>\n",
       "      <td>2</td>\n",
       "      <td>1</td>\n",
       "      <td>0</td>\n",
       "      <td>0</td>\n",
       "      <td>0</td>\n",
       "      <td>0</td>\n",
       "      <td>0</td>\n",
       "      <td>0</td>\n",
       "    </tr>\n",
       "  </tbody>\n",
       "</table>\n",
       "</div>"
      ],
      "text/plain": [
       "   buying  maint  doors  persons  lug_boot  safety  buying_na  maint_na  \\\n",
       "0       4      4      6        6         3       3          0         0   \n",
       "1       2      4      3        4         1       2          0         0   \n",
       "2       1      1      6        2         3       3          0         0   \n",
       "3       3      2      4        2         2       2          0         0   \n",
       "4       3      2      3        2         2       1          0         0   \n",
       "\n",
       "   doors_na  persons_na  lug_boot_na  safety_na  \n",
       "0         0           0            0          0  \n",
       "1         0           0            0          0  \n",
       "2         0           0            0          0  \n",
       "3         0           0            0          0  \n",
       "4         0           0            0          0  "
      ]
     },
     "execution_count": 69,
     "metadata": {},
     "output_type": "execute_result"
    }
   ],
   "source": [
    "X_train_iter.head()"
   ]
  },
  {
   "cell_type": "markdown",
   "metadata": {},
   "source": [
    "Encoding dependent variable by replace"
   ]
  },
  {
   "cell_type": "code",
   "execution_count": 70,
   "metadata": {},
   "outputs": [],
   "source": [
    "y_train.unique()\n",
    "order_3 = {'unacc' : 0, 'acc' : 1, 'good' : 2, 'vgood' : 3}\n",
    "y_train.replace(order_3, inplace=True)"
   ]
  },
  {
   "cell_type": "code",
   "execution_count": 71,
   "metadata": {},
   "outputs": [],
   "source": [
    "y_test.unique()\n",
    "order_3 = {'unacc' : 0, 'acc' : 1, 'good' : 2, 'vgood' : 3}\n",
    "y_test.replace(order_3, inplace=True)"
   ]
  },
  {
   "cell_type": "markdown",
   "metadata": {},
   "source": [
    "Let's cluster the data before applying as clustering techniques have a disadvantage with nominal encoding"
   ]
  },
  {
   "cell_type": "markdown",
   "metadata": {},
   "source": [
    "# Clustering the data points"
   ]
  },
  {
   "cell_type": "code",
   "execution_count": 72,
   "metadata": {},
   "outputs": [],
   "source": [
    "from sklearn.cluster import KMeans"
   ]
  },
  {
   "cell_type": "code",
   "execution_count": 73,
   "metadata": {},
   "outputs": [],
   "source": [
    "wcss = []\n",
    "for cluster in range(1, 11):\n",
    "    kmeans = KMeans(n_clusters=cluster, n_init=10, random_state=42)\n",
    "    kmeans.fit(X_train_iter[real_cols])\n",
    "    wcss.append(kmeans.inertia_)"
   ]
  },
  {
   "cell_type": "markdown",
   "metadata": {},
   "source": [
    "Let's Plot the WCSS graph and identity K value "
   ]
  },
  {
   "cell_type": "code",
   "execution_count": 74,
   "metadata": {
    "scrolled": false
   },
   "outputs": [
    {
     "data": {
      "image/png": "[encoded data removed]",
      "text/plain": [
       "<Figure size 640x480 with 1 Axes>"
      ]
     },
     "metadata": {},
     "output_type": "display_data"
    }
   ],
   "source": [
    "sns.reset_defaults()\n",
    "\n",
    "plt.plot(range(1, 11), wcss)\n",
    "plt.title(\"KMeans Clustering\")\n",
    "plt.xlabel(\"K Value\")\n",
    "plt.ylabel(\"WCSS\")\n",
    "plt.show()"
   ]
  },
  {
   "cell_type": "markdown",
   "metadata": {},
   "source": [
    "looking from above elbow curve, we can consider k value between 4 to 6, let's get the k value from a KneeLocator method"
   ]
  },
  {
   "cell_type": "code",
   "execution_count": 75,
   "metadata": {},
   "outputs": [
    {
     "name": "stdout",
     "output_type": "stream",
     "text": [
      "K value from KneeLocator : 3\n"
     ]
    }
   ],
   "source": [
    "from kneed import KneeLocator\n",
    "knee = KneeLocator(range(1, 11), wcss, direction=\"decreasing\", curve=\"convex\")\n",
    "k_value = knee.knee\n",
    "print(f\"K value from KneeLocator : {k_value}\")"
   ]
  },
  {
   "cell_type": "code",
   "execution_count": 76,
   "metadata": {
    "scrolled": true
   },
   "outputs": [
    {
     "data": {
      "text/html": [
       "<div>\n",
       "<style scoped>\n",
       "    .dataframe tbody tr th:only-of-type {\n",
       "        vertical-align: middle;\n",
       "    }\n",
       "\n",
       "    .dataframe tbody tr th {\n",
       "        vertical-align: top;\n",
       "    }\n",
       "\n",
       "    .dataframe thead th {\n",
       "        text-align: right;\n",
       "    }\n",
       "</style>\n",
       "<table border=\"1\" class=\"dataframe\">\n",
       "  <thead>\n",
       "    <tr style=\"text-align: right;\">\n",
       "      <th></th>\n",
       "      <th>clusters</th>\n",
       "    </tr>\n",
       "  </thead>\n",
       "  <tbody>\n",
       "    <tr>\n",
       "      <th>0</th>\n",
       "      <td>2</td>\n",
       "    </tr>\n",
       "    <tr>\n",
       "      <th>1</th>\n",
       "      <td>0</td>\n",
       "    </tr>\n",
       "    <tr>\n",
       "      <th>2</th>\n",
       "      <td>2</td>\n",
       "    </tr>\n",
       "    <tr>\n",
       "      <th>3</th>\n",
       "      <td>0</td>\n",
       "    </tr>\n",
       "    <tr>\n",
       "      <th>4</th>\n",
       "      <td>0</td>\n",
       "    </tr>\n",
       "  </tbody>\n",
       "</table>\n",
       "</div>"
      ],
      "text/plain": [
       "   clusters\n",
       "0         2\n",
       "1         0\n",
       "2         2\n",
       "3         0\n",
       "4         0"
      ]
     },
     "execution_count": 76,
     "metadata": {},
     "output_type": "execute_result"
    }
   ],
   "source": [
    "kmeans = KMeans(n_clusters=k_value, n_init=10, random_state=42)\n",
    "kmeans.fit(X_train_iter[real_cols])\n",
    "clusters = kmeans.predict(X_train_iter[real_cols])\n",
    "\n",
    "clusters_train = pd.Series(clusters)\n",
    "clusters_train = pd.DataFrame(clusters, columns=['clusters'])\n",
    "clusters_train.head()"
   ]
  },
  {
   "cell_type": "code",
   "execution_count": 77,
   "metadata": {
    "scrolled": true
   },
   "outputs": [
    {
     "data": {
      "text/html": [
       "<div>\n",
       "<style scoped>\n",
       "    .dataframe tbody tr th:only-of-type {\n",
       "        vertical-align: middle;\n",
       "    }\n",
       "\n",
       "    .dataframe tbody tr th {\n",
       "        vertical-align: top;\n",
       "    }\n",
       "\n",
       "    .dataframe thead th {\n",
       "        text-align: right;\n",
       "    }\n",
       "</style>\n",
       "<table border=\"1\" class=\"dataframe\">\n",
       "  <thead>\n",
       "    <tr style=\"text-align: right;\">\n",
       "      <th></th>\n",
       "      <th>clusters</th>\n",
       "    </tr>\n",
       "  </thead>\n",
       "  <tbody>\n",
       "    <tr>\n",
       "      <th>0</th>\n",
       "      <td>0</td>\n",
       "    </tr>\n",
       "    <tr>\n",
       "      <th>1</th>\n",
       "      <td>0</td>\n",
       "    </tr>\n",
       "    <tr>\n",
       "      <th>2</th>\n",
       "      <td>2</td>\n",
       "    </tr>\n",
       "    <tr>\n",
       "      <th>3</th>\n",
       "      <td>2</td>\n",
       "    </tr>\n",
       "    <tr>\n",
       "      <th>4</th>\n",
       "      <td>1</td>\n",
       "    </tr>\n",
       "  </tbody>\n",
       "</table>\n",
       "</div>"
      ],
      "text/plain": [
       "   clusters\n",
       "0         0\n",
       "1         0\n",
       "2         2\n",
       "3         2\n",
       "4         1"
      ]
     },
     "execution_count": 77,
     "metadata": {},
     "output_type": "execute_result"
    }
   ],
   "source": [
    "clusters_test = kmeans.predict(X_test_iter[real_cols])\n",
    "\n",
    "clusters_test = pd.Series(clusters_test)\n",
    "clusters_test = pd.DataFrame(clusters_test, columns=['clusters'])\n",
    "clusters_test.head()"
   ]
  },
  {
   "cell_type": "code",
   "execution_count": 78,
   "metadata": {},
   "outputs": [
    {
     "data": {
      "text/plain": [
       "(346, 1)"
      ]
     },
     "execution_count": 78,
     "metadata": {},
     "output_type": "execute_result"
    }
   ],
   "source": [
    "clusters_test.shape"
   ]
  },
  {
   "cell_type": "code",
   "execution_count": 79,
   "metadata": {
    "scrolled": true
   },
   "outputs": [
    {
     "name": "stdout",
     "output_type": "stream",
     "text": [
      "doors unique values [6 3 4 2 5]\n",
      "persons unique values [6 4 2 5]\n",
      "lug_boot unique values [3 1 2]\n"
     ]
    }
   ],
   "source": [
    "nominal_categories = [\"doors\",\"persons\",\"lug_boot\"]\n",
    "for feature in nominal_categories:\n",
    "    print(f\"{feature} unique values {X_train_iter[feature].unique()}\")"
   ]
  },
  {
   "cell_type": "markdown",
   "metadata": {},
   "source": [
    "Let's replace doors value (6) with others, as initially we replaced 'more' value with 6 for doors feature\n",
    "Let's replace persons value (6) with others, as initially we replaced '5more' value with 6 for replace feature"
   ]
  },
  {
   "cell_type": "markdown",
   "metadata": {
    "scrolled": true
   },
   "source": [
    "for feature in nominal_categories:\n",
    "    X_train_knn[feature] = X_train_knn[feature].apply(lambda x : feature + '_' + str(x).strip())\n",
    "X_train_knn.head()"
   ]
  },
  {
   "cell_type": "markdown",
   "metadata": {},
   "source": [
    "for feature in nominal_categories:\n",
    "    X_test_knn[feature] = X_test_knn[feature].apply(lambda x : feature + '_' + str(x).strip())\n",
    "#X_test_knn.head()"
   ]
  },
  {
   "cell_type": "markdown",
   "metadata": {
    "scrolled": true
   },
   "source": [
    "def _one_hot_encoder(data, nominal_categories):\n",
    "    df = data.copy()\n",
    "    for feature in nominal_categories:\n",
    "        df = pd.concat([df, pd.get_dummies(df[feature], drop_first=True)], axis=1)\n",
    "    return df\n",
    "X_train_knn = _one_hot_encoder(X_train_knn, nominal_categories)\n",
    "X_train_knn.head()"
   ]
  },
  {
   "cell_type": "markdown",
   "metadata": {},
   "source": [
    "X_test_knn = _one_hot_encoder(X_test_knn, nominal_categories)"
   ]
  },
  {
   "cell_type": "markdown",
   "metadata": {},
   "source": [
    "X_train_knn.drop(nominal_categories, axis=1, inplace=True)"
   ]
  },
  {
   "cell_type": "markdown",
   "metadata": {},
   "source": [
    "X_test_knn.drop(nominal_categories, axis=1, inplace=True)"
   ]
  },
  {
   "cell_type": "markdown",
   "metadata": {
    "scrolled": false
   },
   "source": [
    "X_train_knn.head()"
   ]
  },
  {
   "cell_type": "markdown",
   "metadata": {
    "scrolled": true
   },
   "source": [
    "X_train_knn.rename(columns={\"doors_6\": \"doors_more\",\"persons_6\": \"persons_more\"}, inplace=True)\n",
    "X_train_knn.head()"
   ]
  },
  {
   "cell_type": "markdown",
   "metadata": {},
   "source": [
    "X_test_knn.rename(columns={\"doors_6\": \"doors_more\",\"persons_6\": \"persons_more\"}, inplace=True)"
   ]
  },
  {
   "cell_type": "code",
   "execution_count": 80,
   "metadata": {
    "scrolled": true
   },
   "outputs": [
    {
     "data": {
      "text/html": [
       "<div>\n",
       "<style scoped>\n",
       "    .dataframe tbody tr th:only-of-type {\n",
       "        vertical-align: middle;\n",
       "    }\n",
       "\n",
       "    .dataframe tbody tr th {\n",
       "        vertical-align: top;\n",
       "    }\n",
       "\n",
       "    .dataframe thead th {\n",
       "        text-align: right;\n",
       "    }\n",
       "</style>\n",
       "<table border=\"1\" class=\"dataframe\">\n",
       "  <thead>\n",
       "    <tr style=\"text-align: right;\">\n",
       "      <th></th>\n",
       "      <th>buying</th>\n",
       "      <th>maint</th>\n",
       "      <th>doors</th>\n",
       "      <th>persons</th>\n",
       "      <th>lug_boot</th>\n",
       "      <th>safety</th>\n",
       "    </tr>\n",
       "  </thead>\n",
       "  <tbody>\n",
       "    <tr>\n",
       "      <th>0</th>\n",
       "      <td>4</td>\n",
       "      <td>4</td>\n",
       "      <td>6</td>\n",
       "      <td>6</td>\n",
       "      <td>3</td>\n",
       "      <td>3</td>\n",
       "    </tr>\n",
       "    <tr>\n",
       "      <th>1</th>\n",
       "      <td>2</td>\n",
       "      <td>4</td>\n",
       "      <td>3</td>\n",
       "      <td>4</td>\n",
       "      <td>1</td>\n",
       "      <td>2</td>\n",
       "    </tr>\n",
       "    <tr>\n",
       "      <th>2</th>\n",
       "      <td>1</td>\n",
       "      <td>1</td>\n",
       "      <td>6</td>\n",
       "      <td>2</td>\n",
       "      <td>3</td>\n",
       "      <td>3</td>\n",
       "    </tr>\n",
       "    <tr>\n",
       "      <th>3</th>\n",
       "      <td>3</td>\n",
       "      <td>2</td>\n",
       "      <td>4</td>\n",
       "      <td>2</td>\n",
       "      <td>2</td>\n",
       "      <td>2</td>\n",
       "    </tr>\n",
       "    <tr>\n",
       "      <th>4</th>\n",
       "      <td>3</td>\n",
       "      <td>2</td>\n",
       "      <td>3</td>\n",
       "      <td>2</td>\n",
       "      <td>2</td>\n",
       "      <td>1</td>\n",
       "    </tr>\n",
       "  </tbody>\n",
       "</table>\n",
       "</div>"
      ],
      "text/plain": [
       "   buying  maint  doors  persons  lug_boot  safety\n",
       "0       4      4      6        6         3       3\n",
       "1       2      4      3        4         1       2\n",
       "2       1      1      6        2         3       3\n",
       "3       3      2      4        2         2       2\n",
       "4       3      2      3        2         2       1"
      ]
     },
     "execution_count": 80,
     "metadata": {},
     "output_type": "execute_result"
    }
   ],
   "source": [
    "extra_cols = [\"buying_na\",\"maint_na\",\"doors_na\",\"persons_na\",\"lug_boot_na\",\"safety_na\"]\n",
    "X_train_iter.drop(extra_cols, axis=1, inplace=True)\n",
    "X_train_iter.head()"
   ]
  },
  {
   "cell_type": "code",
   "execution_count": 81,
   "metadata": {},
   "outputs": [],
   "source": [
    "extra_cols = [\"buying_na\",\"maint_na\",\"doors_na\",\"persons_na\",\"lug_boot_na\",\"safety_na\"]\n",
    "X_test_iter.drop(extra_cols, axis=1, inplace=True)"
   ]
  },
  {
   "cell_type": "code",
   "execution_count": 82,
   "metadata": {},
   "outputs": [
    {
     "data": {
      "text/plain": [
       "((3900, 6), (346, 6), (3900,), (346,))"
      ]
     },
     "execution_count": 82,
     "metadata": {},
     "output_type": "execute_result"
    }
   ],
   "source": [
    "X_train_iter.shape, X_test_iter.shape, y_train.shape, y_test.shape"
   ]
  },
  {
   "cell_type": "code",
   "execution_count": 83,
   "metadata": {},
   "outputs": [
    {
     "data": {
      "text/html": [
       "<div>\n",
       "<style scoped>\n",
       "    .dataframe tbody tr th:only-of-type {\n",
       "        vertical-align: middle;\n",
       "    }\n",
       "\n",
       "    .dataframe tbody tr th {\n",
       "        vertical-align: top;\n",
       "    }\n",
       "\n",
       "    .dataframe thead th {\n",
       "        text-align: right;\n",
       "    }\n",
       "</style>\n",
       "<table border=\"1\" class=\"dataframe\">\n",
       "  <thead>\n",
       "    <tr style=\"text-align: right;\">\n",
       "      <th></th>\n",
       "      <th>buying</th>\n",
       "      <th>maint</th>\n",
       "      <th>doors</th>\n",
       "      <th>persons</th>\n",
       "      <th>lug_boot</th>\n",
       "      <th>safety</th>\n",
       "    </tr>\n",
       "  </thead>\n",
       "  <tbody>\n",
       "    <tr>\n",
       "      <th>0</th>\n",
       "      <td>4</td>\n",
       "      <td>4</td>\n",
       "      <td>6</td>\n",
       "      <td>6</td>\n",
       "      <td>3</td>\n",
       "      <td>3</td>\n",
       "    </tr>\n",
       "    <tr>\n",
       "      <th>1</th>\n",
       "      <td>2</td>\n",
       "      <td>4</td>\n",
       "      <td>3</td>\n",
       "      <td>4</td>\n",
       "      <td>1</td>\n",
       "      <td>2</td>\n",
       "    </tr>\n",
       "    <tr>\n",
       "      <th>2</th>\n",
       "      <td>1</td>\n",
       "      <td>1</td>\n",
       "      <td>6</td>\n",
       "      <td>2</td>\n",
       "      <td>3</td>\n",
       "      <td>3</td>\n",
       "    </tr>\n",
       "    <tr>\n",
       "      <th>3</th>\n",
       "      <td>3</td>\n",
       "      <td>2</td>\n",
       "      <td>4</td>\n",
       "      <td>2</td>\n",
       "      <td>2</td>\n",
       "      <td>2</td>\n",
       "    </tr>\n",
       "    <tr>\n",
       "      <th>4</th>\n",
       "      <td>3</td>\n",
       "      <td>2</td>\n",
       "      <td>3</td>\n",
       "      <td>2</td>\n",
       "      <td>2</td>\n",
       "      <td>1</td>\n",
       "    </tr>\n",
       "  </tbody>\n",
       "</table>\n",
       "</div>"
      ],
      "text/plain": [
       "   buying  maint  doors  persons  lug_boot  safety\n",
       "0       4      4      6        6         3       3\n",
       "1       2      4      3        4         1       2\n",
       "2       1      1      6        2         3       3\n",
       "3       3      2      4        2         2       2\n",
       "4       3      2      3        2         2       1"
      ]
     },
     "execution_count": 83,
     "metadata": {},
     "output_type": "execute_result"
    }
   ],
   "source": [
    "X_train_iter.head()"
   ]
  },
  {
   "cell_type": "markdown",
   "metadata": {},
   "source": [
    "Let's train our data with different models without cross-validation"
   ]
  },
  {
   "cell_type": "code",
   "execution_count": 84,
   "metadata": {},
   "outputs": [],
   "source": [
    "from sklearn.ensemble import RandomForestClassifier # Random forest classifier\n",
    "\n",
    "# Metrics packages\n",
    "from sklearn.metrics import classification_report, confusion_matrix \n",
    "from sklearn.metrics import precision_score, recall_score, f1_score, roc_curve\n",
    "from sklearn.metrics import accuracy_score, make_scorer"
   ]
  },
  {
   "cell_type": "code",
   "execution_count": 85,
   "metadata": {},
   "outputs": [],
   "source": [
    "rf_clf = RandomForestClassifier()"
   ]
  },
  {
   "cell_type": "markdown",
   "metadata": {},
   "source": [
    "for test_feature in X_train_knn.columns:\n",
    "    if test_feature not in X_test_knn:\n",
    "        X_test_knn[test_feature] = 0"
   ]
  },
  {
   "cell_type": "code",
   "execution_count": 86,
   "metadata": {
    "scrolled": true
   },
   "outputs": [
    {
     "name": "stdout",
     "output_type": "stream",
     "text": [
      "model - RandomForestClassifier()\n",
      "              precision    recall  f1-score   support\n",
      "\n",
      "           0       0.99      1.00      0.99       235\n",
      "           1       0.97      0.86      0.91        83\n",
      "           2       0.56      0.91      0.69        11\n",
      "           3       0.88      0.88      0.88        17\n",
      "\n",
      "    accuracy                           0.96       346\n",
      "   macro avg       0.85      0.91      0.87       346\n",
      "weighted avg       0.96      0.96      0.96       346\n",
      "\n"
     ]
    }
   ],
   "source": [
    "for model in [rf_clf]:\n",
    "    print(f\"model - {model}\")\n",
    "    model.fit(X_train_iter, y_train)\n",
    "    y_pred = model.predict(X_test_iter)\n",
    "    print(classification_report(y_pred=y_pred, y_true=y_test))"
   ]
  },
  {
   "cell_type": "code",
   "execution_count": 87,
   "metadata": {
    "scrolled": true
   },
   "outputs": [
    {
     "name": "stdout",
     "output_type": "stream",
     "text": [
      "Cluster - 0\n",
      "0    547\n",
      "3    372\n",
      "2    369\n",
      "1    365\n",
      "Name: accep, dtype: int64\n",
      "Cluster - 1\n",
      "2    340\n",
      "1    340\n",
      "3    273\n",
      "0    201\n",
      "Name: accep, dtype: int64\n",
      "Cluster - 2\n",
      "3    330\n",
      "1    270\n",
      "2    266\n",
      "0    227\n",
      "Name: accep, dtype: int64\n"
     ]
    }
   ],
   "source": [
    "for cluster in range(k_value):\n",
    "    index = clusters_train[clusters_train['clusters'] == cluster].index\n",
    "    print(f\"Cluster - {cluster}\")\n",
    "    print(y_train.iloc[index].value_counts())"
   ]
  },
  {
   "cell_type": "markdown",
   "metadata": {},
   "source": [
    "Looking at target variable in traning set, all the target classes data points exists in all the clusters. So instead of traning individual cluster level, we will train all the data points at a time \n"
   ]
  },
  {
   "cell_type": "code",
   "execution_count": 88,
   "metadata": {},
   "outputs": [],
   "source": [
    "def classification_report_with_accuracy_score(y_true, y_pred):\n",
    "    print(classification_report(y_true, y_pred))# print classification report\n",
    "    return accuracy_score(y_true, y_pred) # return accuracy score"
   ]
  },
  {
   "cell_type": "code",
   "execution_count": 89,
   "metadata": {},
   "outputs": [],
   "source": [
    "from sklearn.model_selection import GridSearchCV, RandomizedSearchCV"
   ]
  },
  {
   "cell_type": "code",
   "execution_count": 90,
   "metadata": {},
   "outputs": [],
   "source": [
    "def get_params(model):\n",
    "    params = {}\n",
    "    lg_params = {\n",
    "        \"max_iter\" : np.arange(150, 300, 10),\n",
    "        \"multi_class\" : ['ovr', 'multinomial'],\n",
    "        \"penalty\" : [\"l1\", \"l2\", \"elasticnet\"],\n",
    "        \"solver\" :['newton-cg', 'lbfgs', 'saga'],\n",
    "        \"C\" : [10e-2, 10e-1, 1, 10, 100, 1000, 1000, 10000, 100000],\n",
    "        \"l1_ratio\" : np.linspace(0.1, 0.5, 100)\n",
    "    }\n",
    "\n",
    "\n",
    "    rf_params = {\n",
    "        \"n_estimators\" : np.arange(100, 2100, 100),\n",
    "        \"max_depth\" : np.arange(5, 11,1),\n",
    "        \"min_samples_split\" : np.arange(2,11, 2),\n",
    "        \"min_samples_leaf\" : np.arange(3,10, 2),\n",
    "        \"max_leaf_nodes\" : np.arange(3,10, 2),\n",
    "        \"max_features\" : ['auto', 'sqrt'],\n",
    "        \"bootstrap\" : [True, False]  \n",
    "    }\n",
    "\n",
    "\n",
    "    sgd_params = {\n",
    "        'loss' : ['hinge', 'squared_hinge', 'log'],\n",
    "        'penalty' : ['l1', 'l2', 'elasticnet'],\n",
    "        'alpha': [1e-4, 1e-3, 1e-2, 1e-1, 1e0, 1e1, 1e2, 1e3],\n",
    "        'l1_ratio'  : np.arange(0.1, 0.55, 0.05),\n",
    "        'max_iter'  : np.arange(700, 1200, 100)\n",
    "    }\n",
    "\n",
    "    xgb_params = {\n",
    "        'eta' : np.arange(0.01, 0.3, 0.05),\n",
    "        'max_depth' : np.arange(2, 7, 1),\n",
    "        'n_estimators' : np.arange(700, 1300, 100),\n",
    "        'objective' : ['multi:softmax'], \n",
    "        'num_class' : [4],\n",
    "        'use_label_encoder' : [False],\n",
    "        'eval_metric' : ['mlogloss']\n",
    "    }\n",
    "    params[\"lg_params\"]  = lg_params\n",
    "    params[\"rf_params\"]  = rf_params\n",
    "    params[\"sgd_params\"] = sgd_params\n",
    "    params[\"xgb_params\"] = xgb_params\n",
    "    return params[model]"
   ]
  },
  {
   "cell_type": "code",
   "execution_count": 91,
   "metadata": {},
   "outputs": [],
   "source": [
    "from sklearn.metrics import accuracy_score, make_scorer\n",
    "\n",
    "def classification_report_with_accuracy_score_train(y_true, y_pred):\n",
    "    #print(classification_report(y_true, y_pred))# print classification report\n",
    "    return accuracy_score(y_true, y_pred) # return accuracy score\n",
    "\n",
    "def classification_report_with_accuracy_score_test(y_true, y_pred):\n",
    "    print(classification_report(y_true, y_pred))# print classification report\n",
    "    return accuracy_score(y_true, y_pred) # return accuracy score"
   ]
  },
  {
   "cell_type": "code",
   "execution_count": 92,
   "metadata": {
    "scrolled": true
   },
   "outputs": [
    {
     "name": "stdout",
     "output_type": "stream",
     "text": [
      "cluster : 0, model : LogisticRegression(random_state=42)\n"
     ]
    },
    {
     "name": "stderr",
     "output_type": "stream",
     "text": [
      "/opt/conda/envs/fastai/lib/python3.8/site-packages/sklearn/linear_model/_logistic.py:1476: UserWarning: l1_ratio parameter is only used when penalty is 'elasticnet'. Got (penalty=l2)\n",
      "  warnings.warn(\n",
      "/opt/conda/envs/fastai/lib/python3.8/site-packages/sklearn/linear_model/_logistic.py:1476: UserWarning: l1_ratio parameter is only used when penalty is 'elasticnet'. Got (penalty=l2)\n",
      "  warnings.warn(\n",
      "/opt/conda/envs/fastai/lib/python3.8/site-packages/sklearn/linear_model/_logistic.py:1476: UserWarning: l1_ratio parameter is only used when penalty is 'elasticnet'. Got (penalty=l2)\n",
      "  warnings.warn(\n",
      "/opt/conda/envs/fastai/lib/python3.8/site-packages/sklearn/linear_model/_logistic.py:1476: UserWarning: l1_ratio parameter is only used when penalty is 'elasticnet'. Got (penalty=l2)\n",
      "  warnings.warn(\n",
      "/opt/conda/envs/fastai/lib/python3.8/site-packages/sklearn/linear_model/_logistic.py:1476: UserWarning: l1_ratio parameter is only used when penalty is 'elasticnet'. Got (penalty=l2)\n",
      "  warnings.warn(\n",
      "/opt/conda/envs/fastai/lib/python3.8/site-packages/sklearn/linear_model/_logistic.py:1476: UserWarning: l1_ratio parameter is only used when penalty is 'elasticnet'. Got (penalty=l1)\n",
      "  warnings.warn(\n",
      "/opt/conda/envs/fastai/lib/python3.8/site-packages/sklearn/linear_model/_sag.py:352: ConvergenceWarning: The max_iter was reached which means the coef_ did not converge\n",
      "  warnings.warn(\n",
      "/opt/conda/envs/fastai/lib/python3.8/site-packages/sklearn/linear_model/_logistic.py:1476: UserWarning: l1_ratio parameter is only used when penalty is 'elasticnet'. Got (penalty=l1)\n",
      "  warnings.warn(\n",
      "/opt/conda/envs/fastai/lib/python3.8/site-packages/sklearn/linear_model/_sag.py:352: ConvergenceWarning: The max_iter was reached which means the coef_ did not converge\n",
      "  warnings.warn(\n",
      "/opt/conda/envs/fastai/lib/python3.8/site-packages/sklearn/linear_model/_logistic.py:1476: UserWarning: l1_ratio parameter is only used when penalty is 'elasticnet'. Got (penalty=l1)\n",
      "  warnings.warn(\n",
      "/opt/conda/envs/fastai/lib/python3.8/site-packages/sklearn/linear_model/_sag.py:352: ConvergenceWarning: The max_iter was reached which means the coef_ did not converge\n",
      "  warnings.warn(\n",
      "/opt/conda/envs/fastai/lib/python3.8/site-packages/sklearn/linear_model/_logistic.py:1476: UserWarning: l1_ratio parameter is only used when penalty is 'elasticnet'. Got (penalty=l1)\n",
      "  warnings.warn(\n",
      "/opt/conda/envs/fastai/lib/python3.8/site-packages/sklearn/linear_model/_sag.py:352: ConvergenceWarning: The max_iter was reached which means the coef_ did not converge\n",
      "  warnings.warn(\n",
      "/opt/conda/envs/fastai/lib/python3.8/site-packages/sklearn/linear_model/_logistic.py:1476: UserWarning: l1_ratio parameter is only used when penalty is 'elasticnet'. Got (penalty=l1)\n",
      "  warnings.warn(\n",
      "/opt/conda/envs/fastai/lib/python3.8/site-packages/sklearn/linear_model/_sag.py:352: ConvergenceWarning: The max_iter was reached which means the coef_ did not converge\n",
      "  warnings.warn(\n",
      "/opt/conda/envs/fastai/lib/python3.8/site-packages/sklearn/linear_model/_sag.py:352: ConvergenceWarning: The max_iter was reached which means the coef_ did not converge\n",
      "  warnings.warn(\n",
      "/opt/conda/envs/fastai/lib/python3.8/site-packages/sklearn/linear_model/_sag.py:352: ConvergenceWarning: The max_iter was reached which means the coef_ did not converge\n",
      "  warnings.warn(\n",
      "/opt/conda/envs/fastai/lib/python3.8/site-packages/sklearn/linear_model/_sag.py:352: ConvergenceWarning: The max_iter was reached which means the coef_ did not converge\n",
      "  warnings.warn(\n",
      "/opt/conda/envs/fastai/lib/python3.8/site-packages/sklearn/linear_model/_sag.py:352: ConvergenceWarning: The max_iter was reached which means the coef_ did not converge\n",
      "  warnings.warn(\n",
      "/opt/conda/envs/fastai/lib/python3.8/site-packages/sklearn/linear_model/_sag.py:352: ConvergenceWarning: The max_iter was reached which means the coef_ did not converge\n",
      "  warnings.warn(\n",
      "/opt/conda/envs/fastai/lib/python3.8/site-packages/sklearn/linear_model/_logistic.py:1476: UserWarning: l1_ratio parameter is only used when penalty is 'elasticnet'. Got (penalty=l2)\n",
      "  warnings.warn(\n",
      "/opt/conda/envs/fastai/lib/python3.8/site-packages/sklearn/linear_model/_logistic.py:1476: UserWarning: l1_ratio parameter is only used when penalty is 'elasticnet'. Got (penalty=l2)\n",
      "  warnings.warn(\n",
      "/opt/conda/envs/fastai/lib/python3.8/site-packages/sklearn/linear_model/_logistic.py:1476: UserWarning: l1_ratio parameter is only used when penalty is 'elasticnet'. Got (penalty=l2)\n",
      "  warnings.warn(\n",
      "/opt/conda/envs/fastai/lib/python3.8/site-packages/sklearn/linear_model/_logistic.py:1476: UserWarning: l1_ratio parameter is only used when penalty is 'elasticnet'. Got (penalty=l2)\n",
      "  warnings.warn(\n",
      "/opt/conda/envs/fastai/lib/python3.8/site-packages/sklearn/linear_model/_logistic.py:1476: UserWarning: l1_ratio parameter is only used when penalty is 'elasticnet'. Got (penalty=l2)\n",
      "  warnings.warn(\n",
      "/opt/conda/envs/fastai/lib/python3.8/site-packages/sklearn/linear_model/_logistic.py:1476: UserWarning: l1_ratio parameter is only used when penalty is 'elasticnet'. Got (penalty=l2)\n",
      "  warnings.warn(\n",
      "/opt/conda/envs/fastai/lib/python3.8/site-packages/sklearn/linear_model/_logistic.py:1476: UserWarning: l1_ratio parameter is only used when penalty is 'elasticnet'. Got (penalty=l2)\n",
      "  warnings.warn(\n",
      "/opt/conda/envs/fastai/lib/python3.8/site-packages/sklearn/linear_model/_logistic.py:1476: UserWarning: l1_ratio parameter is only used when penalty is 'elasticnet'. Got (penalty=l2)\n",
      "  warnings.warn(\n",
      "/opt/conda/envs/fastai/lib/python3.8/site-packages/sklearn/linear_model/_logistic.py:1476: UserWarning: l1_ratio parameter is only used when penalty is 'elasticnet'. Got (penalty=l2)\n",
      "  warnings.warn(\n",
      "/opt/conda/envs/fastai/lib/python3.8/site-packages/sklearn/linear_model/_logistic.py:1476: UserWarning: l1_ratio parameter is only used when penalty is 'elasticnet'. Got (penalty=l2)\n",
      "  warnings.warn(\n",
      "/opt/conda/envs/fastai/lib/python3.8/site-packages/sklearn/linear_model/_logistic.py:1476: UserWarning: l1_ratio parameter is only used when penalty is 'elasticnet'. Got (penalty=l2)\n",
      "  warnings.warn(\n",
      "/opt/conda/envs/fastai/lib/python3.8/site-packages/sklearn/linear_model/_logistic.py:1476: UserWarning: l1_ratio parameter is only used when penalty is 'elasticnet'. Got (penalty=l2)\n",
      "  warnings.warn(\n",
      "/opt/conda/envs/fastai/lib/python3.8/site-packages/sklearn/linear_model/_logistic.py:1476: UserWarning: l1_ratio parameter is only used when penalty is 'elasticnet'. Got (penalty=l2)\n",
      "  warnings.warn(\n",
      "/opt/conda/envs/fastai/lib/python3.8/site-packages/sklearn/linear_model/_logistic.py:1476: UserWarning: l1_ratio parameter is only used when penalty is 'elasticnet'. Got (penalty=l2)\n",
      "  warnings.warn(\n",
      "/opt/conda/envs/fastai/lib/python3.8/site-packages/sklearn/linear_model/_logistic.py:1476: UserWarning: l1_ratio parameter is only used when penalty is 'elasticnet'. Got (penalty=l2)\n",
      "  warnings.warn(\n",
      "/opt/conda/envs/fastai/lib/python3.8/site-packages/sklearn/linear_model/_logistic.py:1476: UserWarning: l1_ratio parameter is only used when penalty is 'elasticnet'. Got (penalty=l2)\n",
      "  warnings.warn(\n",
      "/opt/conda/envs/fastai/lib/python3.8/site-packages/sklearn/linear_model/_logistic.py:1476: UserWarning: l1_ratio parameter is only used when penalty is 'elasticnet'. Got (penalty=l2)\n",
      "  warnings.warn(\n",
      "/opt/conda/envs/fastai/lib/python3.8/site-packages/sklearn/linear_model/_logistic.py:1476: UserWarning: l1_ratio parameter is only used when penalty is 'elasticnet'. Got (penalty=l2)\n",
      "  warnings.warn(\n",
      "/opt/conda/envs/fastai/lib/python3.8/site-packages/sklearn/linear_model/_logistic.py:1476: UserWarning: l1_ratio parameter is only used when penalty is 'elasticnet'. Got (penalty=l2)\n",
      "  warnings.warn(\n",
      "/opt/conda/envs/fastai/lib/python3.8/site-packages/sklearn/linear_model/_logistic.py:1476: UserWarning: l1_ratio parameter is only used when penalty is 'elasticnet'. Got (penalty=l2)\n",
      "  warnings.warn(\n",
      "/opt/conda/envs/fastai/lib/python3.8/site-packages/sklearn/linear_model/_sag.py:352: ConvergenceWarning: The max_iter was reached which means the coef_ did not converge\n",
      "  warnings.warn(\n",
      "/opt/conda/envs/fastai/lib/python3.8/site-packages/sklearn/linear_model/_sag.py:352: ConvergenceWarning: The max_iter was reached which means the coef_ did not converge\n",
      "  warnings.warn(\n",
      "/opt/conda/envs/fastai/lib/python3.8/site-packages/sklearn/linear_model/_sag.py:352: ConvergenceWarning: The max_iter was reached which means the coef_ did not converge\n",
      "  warnings.warn(\n",
      "/opt/conda/envs/fastai/lib/python3.8/site-packages/sklearn/linear_model/_sag.py:352: ConvergenceWarning: The max_iter was reached which means the coef_ did not converge\n",
      "  warnings.warn(\n",
      "/opt/conda/envs/fastai/lib/python3.8/site-packages/sklearn/linear_model/_sag.py:352: ConvergenceWarning: The max_iter was reached which means the coef_ did not converge\n",
      "  warnings.warn(\n",
      "/opt/conda/envs/fastai/lib/python3.8/site-packages/sklearn/model_selection/_validation.py:372: FitFailedWarning: \n",
      "35 fits failed out of a total of 75.\n",
      "The score on these train-test partitions for these parameters will be set to nan.\n",
      "If these failures are not expected, you can try to debug them by setting error_score='raise'.\n",
      "\n",
      "Below are more details about the failures:\n",
      "--------------------------------------------------------------------------------\n",
      "10 fits failed with the following error:\n",
      "Traceback (most recent call last):\n",
      "  File \"/opt/conda/envs/fastai/lib/python3.8/site-packages/sklearn/model_selection/_validation.py\", line 681, in _fit_and_score\n",
      "    estimator.fit(X_train, y_train, **fit_params)\n",
      "  File \"/opt/conda/envs/fastai/lib/python3.8/site-packages/sklearn/linear_model/_logistic.py\", line 1461, in fit\n",
      "    solver = _check_solver(self.solver, self.penalty, self.dual)\n",
      "  File \"/opt/conda/envs/fastai/lib/python3.8/site-packages/sklearn/linear_model/_logistic.py\", line 447, in _check_solver\n",
      "    raise ValueError(\n",
      "ValueError: Solver newton-cg supports only 'l2' or 'none' penalties, got elasticnet penalty.\n",
      "\n",
      "--------------------------------------------------------------------------------\n",
      "20 fits failed with the following error:\n",
      "Traceback (most recent call last):\n",
      "  File \"/opt/conda/envs/fastai/lib/python3.8/site-packages/sklearn/model_selection/_validation.py\", line 681, in _fit_and_score\n",
      "    estimator.fit(X_train, y_train, **fit_params)\n",
      "  File \"/opt/conda/envs/fastai/lib/python3.8/site-packages/sklearn/linear_model/_logistic.py\", line 1461, in fit\n",
      "    solver = _check_solver(self.solver, self.penalty, self.dual)\n",
      "  File \"/opt/conda/envs/fastai/lib/python3.8/site-packages/sklearn/linear_model/_logistic.py\", line 447, in _check_solver\n",
      "    raise ValueError(\n",
      "ValueError: Solver newton-cg supports only 'l2' or 'none' penalties, got l1 penalty.\n",
      "\n",
      "--------------------------------------------------------------------------------\n",
      "5 fits failed with the following error:\n",
      "Traceback (most recent call last):\n",
      "  File \"/opt/conda/envs/fastai/lib/python3.8/site-packages/sklearn/model_selection/_validation.py\", line 681, in _fit_and_score\n",
      "    estimator.fit(X_train, y_train, **fit_params)\n",
      "  File \"/opt/conda/envs/fastai/lib/python3.8/site-packages/sklearn/linear_model/_logistic.py\", line 1461, in fit\n",
      "    solver = _check_solver(self.solver, self.penalty, self.dual)\n",
      "  File \"/opt/conda/envs/fastai/lib/python3.8/site-packages/sklearn/linear_model/_logistic.py\", line 447, in _check_solver\n",
      "    raise ValueError(\n",
      "ValueError: Solver lbfgs supports only 'l2' or 'none' penalties, got l1 penalty.\n",
      "\n",
      "  warnings.warn(some_fits_failed_message, FitFailedWarning)\n",
      "/opt/conda/envs/fastai/lib/python3.8/site-packages/sklearn/model_selection/_search.py:969: UserWarning: One or more of the test scores are non-finite: [       nan 0.82948718 0.83205128        nan 0.85102564 0.82948718\n",
      "        nan 0.82948718        nan 0.82948718 0.83717949        nan\n",
      " 0.83820513        nan        nan]\n",
      "  warnings.warn(\n",
      "/opt/conda/envs/fastai/lib/python3.8/site-packages/sklearn/linear_model/_sag.py:352: ConvergenceWarning: The max_iter was reached which means the coef_ did not converge\n",
      "  warnings.warn(\n",
      "/opt/conda/envs/fastai/lib/python3.8/site-packages/sklearn/linear_model/_sag.py:352: ConvergenceWarning: The max_iter was reached which means the coef_ did not converge\n",
      "  warnings.warn(\n"
     ]
    },
    {
     "name": "stdout",
     "output_type": "stream",
     "text": [
      "cluster : 0, model : logistic\n",
      "              precision    recall  f1-score   support\n",
      "\n",
      "           0       0.88      0.88      0.88       129\n",
      "           1       0.65      0.41      0.50        37\n",
      "           2       0.27      0.80      0.40         5\n",
      "           3       0.29      0.67      0.40         3\n",
      "\n",
      "    accuracy                           0.77       174\n",
      "   macro avg       0.52      0.69      0.54       174\n",
      "weighted avg       0.80      0.77      0.77       174\n",
      "\n",
      "cluster : 0, model : SGDClassifier(random_state=42)\n"
     ]
    },
    {
     "name": "stderr",
     "output_type": "stream",
     "text": [
      "/opt/conda/envs/fastai/lib/python3.8/site-packages/sklearn/linear_model/_stochastic_gradient.py:703: ConvergenceWarning: Maximum number of iteration reached before convergence. Consider increasing max_iter to improve the fit.\n",
      "  warnings.warn(\n",
      "/opt/conda/envs/fastai/lib/python3.8/site-packages/sklearn/linear_model/_stochastic_gradient.py:703: ConvergenceWarning: Maximum number of iteration reached before convergence. Consider increasing max_iter to improve the fit.\n",
      "  warnings.warn(\n",
      "/opt/conda/envs/fastai/lib/python3.8/site-packages/sklearn/linear_model/_stochastic_gradient.py:703: ConvergenceWarning: Maximum number of iteration reached before convergence. Consider increasing max_iter to improve the fit.\n",
      "  warnings.warn(\n",
      "/opt/conda/envs/fastai/lib/python3.8/site-packages/sklearn/linear_model/_stochastic_gradient.py:703: ConvergenceWarning: Maximum number of iteration reached before convergence. Consider increasing max_iter to improve the fit.\n",
      "  warnings.warn(\n",
      "/opt/conda/envs/fastai/lib/python3.8/site-packages/sklearn/linear_model/_stochastic_gradient.py:703: ConvergenceWarning: Maximum number of iteration reached before convergence. Consider increasing max_iter to improve the fit.\n",
      "  warnings.warn(\n",
      "/opt/conda/envs/fastai/lib/python3.8/site-packages/sklearn/linear_model/_stochastic_gradient.py:703: ConvergenceWarning: Maximum number of iteration reached before convergence. Consider increasing max_iter to improve the fit.\n",
      "  warnings.warn(\n",
      "/opt/conda/envs/fastai/lib/python3.8/site-packages/sklearn/linear_model/_stochastic_gradient.py:703: ConvergenceWarning: Maximum number of iteration reached before convergence. Consider increasing max_iter to improve the fit.\n",
      "  warnings.warn(\n",
      "/opt/conda/envs/fastai/lib/python3.8/site-packages/sklearn/linear_model/_stochastic_gradient.py:703: ConvergenceWarning: Maximum number of iteration reached before convergence. Consider increasing max_iter to improve the fit.\n",
      "  warnings.warn(\n",
      "/opt/conda/envs/fastai/lib/python3.8/site-packages/sklearn/linear_model/_stochastic_gradient.py:703: ConvergenceWarning: Maximum number of iteration reached before convergence. Consider increasing max_iter to improve the fit.\n",
      "  warnings.warn(\n",
      "/opt/conda/envs/fastai/lib/python3.8/site-packages/sklearn/linear_model/_stochastic_gradient.py:703: ConvergenceWarning: Maximum number of iteration reached before convergence. Consider increasing max_iter to improve the fit.\n",
      "  warnings.warn(\n",
      "/opt/conda/envs/fastai/lib/python3.8/site-packages/sklearn/linear_model/_stochastic_gradient.py:703: ConvergenceWarning: Maximum number of iteration reached before convergence. Consider increasing max_iter to improve the fit.\n",
      "  warnings.warn(\n",
      "/opt/conda/envs/fastai/lib/python3.8/site-packages/sklearn/linear_model/_stochastic_gradient.py:703: ConvergenceWarning: Maximum number of iteration reached before convergence. Consider increasing max_iter to improve the fit.\n",
      "  warnings.warn(\n",
      "/opt/conda/envs/fastai/lib/python3.8/site-packages/sklearn/linear_model/_stochastic_gradient.py:703: ConvergenceWarning: Maximum number of iteration reached before convergence. Consider increasing max_iter to improve the fit.\n",
      "  warnings.warn(\n",
      "/opt/conda/envs/fastai/lib/python3.8/site-packages/sklearn/linear_model/_stochastic_gradient.py:703: ConvergenceWarning: Maximum number of iteration reached before convergence. Consider increasing max_iter to improve the fit.\n",
      "  warnings.warn(\n",
      "/opt/conda/envs/fastai/lib/python3.8/site-packages/sklearn/linear_model/_stochastic_gradient.py:703: ConvergenceWarning: Maximum number of iteration reached before convergence. Consider increasing max_iter to improve the fit.\n",
      "  warnings.warn(\n",
      "/opt/conda/envs/fastai/lib/python3.8/site-packages/sklearn/linear_model/_stochastic_gradient.py:703: ConvergenceWarning: Maximum number of iteration reached before convergence. Consider increasing max_iter to improve the fit.\n",
      "  warnings.warn(\n",
      "/opt/conda/envs/fastai/lib/python3.8/site-packages/sklearn/linear_model/_stochastic_gradient.py:703: ConvergenceWarning: Maximum number of iteration reached before convergence. Consider increasing max_iter to improve the fit.\n",
      "  warnings.warn(\n"
     ]
    },
    {
     "name": "stdout",
     "output_type": "stream",
     "text": [
      "cluster : 0, model : SGD Classifier\n",
      "              precision    recall  f1-score   support\n",
      "\n",
      "           0       0.83      0.95      0.89       129\n",
      "           1       0.69      0.30      0.42        37\n",
      "           2       0.43      0.60      0.50         5\n",
      "           3       0.33      0.33      0.33         3\n",
      "\n",
      "    accuracy                           0.79       174\n",
      "   macro avg       0.57      0.55      0.53       174\n",
      "weighted avg       0.78      0.79      0.77       174\n",
      "\n",
      "cluster : 0, model : XGBClassifier(base_score=None, booster=None, colsample_bylevel=None,\n",
      "              colsample_bynode=None, colsample_bytree=None, gamma=None,\n",
      "              gpu_id=None, importance_type='gain', interaction_constraints=None,\n",
      "              learning_rate=None, max_delta_step=None, max_depth=None,\n",
      "              min_child_weight=None, missing=nan, monotone_constraints=None,\n",
      "              n_estimators=100, n_jobs=None, num_parallel_tree=None,\n",
      "              random_state=42, reg_alpha=None, reg_lambda=None,\n",
      "              scale_pos_weight=None, subsample=None, tree_method=None,\n",
      "              validate_parameters=None, verbosity=None)\n",
      "cluster : 0, model : XGB Classifier\n",
      "              precision    recall  f1-score   support\n",
      "\n",
      "           0       0.98      1.00      0.99       129\n",
      "           1       0.97      0.86      0.91        37\n",
      "           2       0.67      0.80      0.73         5\n",
      "           3       1.00      1.00      1.00         3\n",
      "\n",
      "    accuracy                           0.97       174\n",
      "   macro avg       0.90      0.92      0.91       174\n",
      "weighted avg       0.97      0.97      0.97       174\n",
      "\n",
      "cluster : 0, model : RandomForestClassifier(random_state=42)\n",
      "cluster : 0, model : random forest\n",
      "              precision    recall  f1-score   support\n",
      "\n",
      "           0       1.00      0.95      0.98       129\n",
      "           1       0.81      0.68      0.74        37\n",
      "           2       0.25      0.60      0.35         5\n",
      "           3       0.38      1.00      0.55         3\n",
      "\n",
      "    accuracy                           0.89       174\n",
      "   macro avg       0.61      0.81      0.65       174\n",
      "weighted avg       0.93      0.89      0.90       174\n",
      "\n",
      "cluster : 1, model : LogisticRegression(random_state=42)\n"
     ]
    },
    {
     "name": "stderr",
     "output_type": "stream",
     "text": [
      "/opt/conda/envs/fastai/lib/python3.8/site-packages/sklearn/linear_model/_logistic.py:1476: UserWarning: l1_ratio parameter is only used when penalty is 'elasticnet'. Got (penalty=l2)\n",
      "  warnings.warn(\n",
      "/opt/conda/envs/fastai/lib/python3.8/site-packages/sklearn/linear_model/_logistic.py:1476: UserWarning: l1_ratio parameter is only used when penalty is 'elasticnet'. Got (penalty=l2)\n",
      "  warnings.warn(\n",
      "/opt/conda/envs/fastai/lib/python3.8/site-packages/sklearn/linear_model/_logistic.py:1476: UserWarning: l1_ratio parameter is only used when penalty is 'elasticnet'. Got (penalty=l2)\n",
      "  warnings.warn(\n",
      "/opt/conda/envs/fastai/lib/python3.8/site-packages/sklearn/linear_model/_logistic.py:1476: UserWarning: l1_ratio parameter is only used when penalty is 'elasticnet'. Got (penalty=l2)\n",
      "  warnings.warn(\n",
      "/opt/conda/envs/fastai/lib/python3.8/site-packages/sklearn/linear_model/_logistic.py:1476: UserWarning: l1_ratio parameter is only used when penalty is 'elasticnet'. Got (penalty=l2)\n",
      "  warnings.warn(\n",
      "/opt/conda/envs/fastai/lib/python3.8/site-packages/sklearn/linear_model/_sag.py:352: ConvergenceWarning: The max_iter was reached which means the coef_ did not converge\n",
      "  warnings.warn(\n",
      "/opt/conda/envs/fastai/lib/python3.8/site-packages/sklearn/linear_model/_sag.py:352: ConvergenceWarning: The max_iter was reached which means the coef_ did not converge\n",
      "  warnings.warn(\n",
      "/opt/conda/envs/fastai/lib/python3.8/site-packages/sklearn/linear_model/_sag.py:352: ConvergenceWarning: The max_iter was reached which means the coef_ did not converge\n",
      "  warnings.warn(\n",
      "/opt/conda/envs/fastai/lib/python3.8/site-packages/sklearn/linear_model/_sag.py:352: ConvergenceWarning: The max_iter was reached which means the coef_ did not converge\n",
      "  warnings.warn(\n",
      "/opt/conda/envs/fastai/lib/python3.8/site-packages/sklearn/linear_model/_sag.py:352: ConvergenceWarning: The max_iter was reached which means the coef_ did not converge\n",
      "  warnings.warn(\n",
      "/opt/conda/envs/fastai/lib/python3.8/site-packages/sklearn/linear_model/_sag.py:352: ConvergenceWarning: The max_iter was reached which means the coef_ did not converge\n",
      "  warnings.warn(\n",
      "/opt/conda/envs/fastai/lib/python3.8/site-packages/sklearn/linear_model/_sag.py:352: ConvergenceWarning: The max_iter was reached which means the coef_ did not converge\n",
      "  warnings.warn(\n",
      "/opt/conda/envs/fastai/lib/python3.8/site-packages/sklearn/linear_model/_sag.py:352: ConvergenceWarning: The max_iter was reached which means the coef_ did not converge\n",
      "  warnings.warn(\n",
      "/opt/conda/envs/fastai/lib/python3.8/site-packages/sklearn/linear_model/_sag.py:352: ConvergenceWarning: The max_iter was reached which means the coef_ did not converge\n",
      "  warnings.warn(\n",
      "/opt/conda/envs/fastai/lib/python3.8/site-packages/sklearn/linear_model/_sag.py:352: ConvergenceWarning: The max_iter was reached which means the coef_ did not converge\n",
      "  warnings.warn(\n",
      "/opt/conda/envs/fastai/lib/python3.8/site-packages/sklearn/linear_model/_logistic.py:1476: UserWarning: l1_ratio parameter is only used when penalty is 'elasticnet'. Got (penalty=l1)\n",
      "  warnings.warn(\n",
      "/opt/conda/envs/fastai/lib/python3.8/site-packages/sklearn/linear_model/_sag.py:352: ConvergenceWarning: The max_iter was reached which means the coef_ did not converge\n",
      "  warnings.warn(\n",
      "/opt/conda/envs/fastai/lib/python3.8/site-packages/sklearn/linear_model/_logistic.py:1476: UserWarning: l1_ratio parameter is only used when penalty is 'elasticnet'. Got (penalty=l1)\n",
      "  warnings.warn(\n",
      "/opt/conda/envs/fastai/lib/python3.8/site-packages/sklearn/linear_model/_sag.py:352: ConvergenceWarning: The max_iter was reached which means the coef_ did not converge\n",
      "  warnings.warn(\n",
      "/opt/conda/envs/fastai/lib/python3.8/site-packages/sklearn/linear_model/_logistic.py:1476: UserWarning: l1_ratio parameter is only used when penalty is 'elasticnet'. Got (penalty=l1)\n",
      "  warnings.warn(\n",
      "/opt/conda/envs/fastai/lib/python3.8/site-packages/sklearn/linear_model/_sag.py:352: ConvergenceWarning: The max_iter was reached which means the coef_ did not converge\n",
      "  warnings.warn(\n",
      "/opt/conda/envs/fastai/lib/python3.8/site-packages/sklearn/linear_model/_logistic.py:1476: UserWarning: l1_ratio parameter is only used when penalty is 'elasticnet'. Got (penalty=l1)\n",
      "  warnings.warn(\n",
      "/opt/conda/envs/fastai/lib/python3.8/site-packages/sklearn/linear_model/_sag.py:352: ConvergenceWarning: The max_iter was reached which means the coef_ did not converge\n",
      "  warnings.warn(\n",
      "/opt/conda/envs/fastai/lib/python3.8/site-packages/sklearn/linear_model/_logistic.py:1476: UserWarning: l1_ratio parameter is only used when penalty is 'elasticnet'. Got (penalty=l1)\n",
      "  warnings.warn(\n",
      "/opt/conda/envs/fastai/lib/python3.8/site-packages/sklearn/linear_model/_sag.py:352: ConvergenceWarning: The max_iter was reached which means the coef_ did not converge\n",
      "  warnings.warn(\n",
      "/opt/conda/envs/fastai/lib/python3.8/site-packages/sklearn/linear_model/_logistic.py:1476: UserWarning: l1_ratio parameter is only used when penalty is 'elasticnet'. Got (penalty=l2)\n",
      "  warnings.warn(\n",
      "/opt/conda/envs/fastai/lib/python3.8/site-packages/sklearn/linear_model/_logistic.py:1476: UserWarning: l1_ratio parameter is only used when penalty is 'elasticnet'. Got (penalty=l2)\n",
      "  warnings.warn(\n",
      "/opt/conda/envs/fastai/lib/python3.8/site-packages/sklearn/linear_model/_logistic.py:1476: UserWarning: l1_ratio parameter is only used when penalty is 'elasticnet'. Got (penalty=l2)\n",
      "  warnings.warn(\n",
      "/opt/conda/envs/fastai/lib/python3.8/site-packages/sklearn/linear_model/_logistic.py:1476: UserWarning: l1_ratio parameter is only used when penalty is 'elasticnet'. Got (penalty=l2)\n",
      "  warnings.warn(\n",
      "/opt/conda/envs/fastai/lib/python3.8/site-packages/sklearn/linear_model/_logistic.py:1476: UserWarning: l1_ratio parameter is only used when penalty is 'elasticnet'. Got (penalty=l2)\n",
      "  warnings.warn(\n",
      "/opt/conda/envs/fastai/lib/python3.8/site-packages/sklearn/linear_model/_logistic.py:1476: UserWarning: l1_ratio parameter is only used when penalty is 'elasticnet'. Got (penalty=l2)\n",
      "  warnings.warn(\n",
      "/opt/conda/envs/fastai/lib/python3.8/site-packages/sklearn/linear_model/_logistic.py:1476: UserWarning: l1_ratio parameter is only used when penalty is 'elasticnet'. Got (penalty=l2)\n",
      "  warnings.warn(\n",
      "/opt/conda/envs/fastai/lib/python3.8/site-packages/sklearn/linear_model/_logistic.py:1476: UserWarning: l1_ratio parameter is only used when penalty is 'elasticnet'. Got (penalty=l2)\n",
      "  warnings.warn(\n",
      "/opt/conda/envs/fastai/lib/python3.8/site-packages/sklearn/linear_model/_logistic.py:1476: UserWarning: l1_ratio parameter is only used when penalty is 'elasticnet'. Got (penalty=l2)\n",
      "  warnings.warn(\n",
      "/opt/conda/envs/fastai/lib/python3.8/site-packages/sklearn/linear_model/_logistic.py:1476: UserWarning: l1_ratio parameter is only used when penalty is 'elasticnet'. Got (penalty=l2)\n",
      "  warnings.warn(\n",
      "/opt/conda/envs/fastai/lib/python3.8/site-packages/sklearn/linear_model/_logistic.py:1476: UserWarning: l1_ratio parameter is only used when penalty is 'elasticnet'. Got (penalty=l1)\n",
      "  warnings.warn(\n",
      "/opt/conda/envs/fastai/lib/python3.8/site-packages/sklearn/linear_model/_sag.py:352: ConvergenceWarning: The max_iter was reached which means the coef_ did not converge\n",
      "  warnings.warn(\n",
      "/opt/conda/envs/fastai/lib/python3.8/site-packages/sklearn/linear_model/_logistic.py:1476: UserWarning: l1_ratio parameter is only used when penalty is 'elasticnet'. Got (penalty=l1)\n",
      "  warnings.warn(\n",
      "/opt/conda/envs/fastai/lib/python3.8/site-packages/sklearn/linear_model/_sag.py:352: ConvergenceWarning: The max_iter was reached which means the coef_ did not converge\n",
      "  warnings.warn(\n",
      "/opt/conda/envs/fastai/lib/python3.8/site-packages/sklearn/linear_model/_logistic.py:1476: UserWarning: l1_ratio parameter is only used when penalty is 'elasticnet'. Got (penalty=l1)\n",
      "  warnings.warn(\n",
      "/opt/conda/envs/fastai/lib/python3.8/site-packages/sklearn/linear_model/_sag.py:352: ConvergenceWarning: The max_iter was reached which means the coef_ did not converge\n",
      "  warnings.warn(\n",
      "/opt/conda/envs/fastai/lib/python3.8/site-packages/sklearn/linear_model/_logistic.py:1476: UserWarning: l1_ratio parameter is only used when penalty is 'elasticnet'. Got (penalty=l1)\n",
      "  warnings.warn(\n",
      "/opt/conda/envs/fastai/lib/python3.8/site-packages/sklearn/linear_model/_sag.py:352: ConvergenceWarning: The max_iter was reached which means the coef_ did not converge\n",
      "  warnings.warn(\n",
      "/opt/conda/envs/fastai/lib/python3.8/site-packages/sklearn/linear_model/_logistic.py:1476: UserWarning: l1_ratio parameter is only used when penalty is 'elasticnet'. Got (penalty=l1)\n",
      "  warnings.warn(\n",
      "/opt/conda/envs/fastai/lib/python3.8/site-packages/sklearn/linear_model/_sag.py:352: ConvergenceWarning: The max_iter was reached which means the coef_ did not converge\n",
      "  warnings.warn(\n",
      "/opt/conda/envs/fastai/lib/python3.8/site-packages/sklearn/linear_model/_sag.py:352: ConvergenceWarning: The max_iter was reached which means the coef_ did not converge\n",
      "  warnings.warn(\n",
      "/opt/conda/envs/fastai/lib/python3.8/site-packages/sklearn/linear_model/_sag.py:352: ConvergenceWarning: The max_iter was reached which means the coef_ did not converge\n",
      "  warnings.warn(\n",
      "/opt/conda/envs/fastai/lib/python3.8/site-packages/sklearn/linear_model/_sag.py:352: ConvergenceWarning: The max_iter was reached which means the coef_ did not converge\n",
      "  warnings.warn(\n",
      "/opt/conda/envs/fastai/lib/python3.8/site-packages/sklearn/linear_model/_sag.py:352: ConvergenceWarning: The max_iter was reached which means the coef_ did not converge\n",
      "  warnings.warn(\n",
      "/opt/conda/envs/fastai/lib/python3.8/site-packages/sklearn/linear_model/_sag.py:352: ConvergenceWarning: The max_iter was reached which means the coef_ did not converge\n",
      "  warnings.warn(\n",
      "/opt/conda/envs/fastai/lib/python3.8/site-packages/sklearn/linear_model/_logistic.py:1476: UserWarning: l1_ratio parameter is only used when penalty is 'elasticnet'. Got (penalty=l1)\n",
      "  warnings.warn(\n",
      "/opt/conda/envs/fastai/lib/python3.8/site-packages/sklearn/linear_model/_sag.py:352: ConvergenceWarning: The max_iter was reached which means the coef_ did not converge\n",
      "  warnings.warn(\n",
      "/opt/conda/envs/fastai/lib/python3.8/site-packages/sklearn/linear_model/_logistic.py:1476: UserWarning: l1_ratio parameter is only used when penalty is 'elasticnet'. Got (penalty=l1)\n",
      "  warnings.warn(\n",
      "/opt/conda/envs/fastai/lib/python3.8/site-packages/sklearn/linear_model/_sag.py:352: ConvergenceWarning: The max_iter was reached which means the coef_ did not converge\n",
      "  warnings.warn(\n",
      "/opt/conda/envs/fastai/lib/python3.8/site-packages/sklearn/linear_model/_logistic.py:1476: UserWarning: l1_ratio parameter is only used when penalty is 'elasticnet'. Got (penalty=l1)\n",
      "  warnings.warn(\n",
      "/opt/conda/envs/fastai/lib/python3.8/site-packages/sklearn/linear_model/_sag.py:352: ConvergenceWarning: The max_iter was reached which means the coef_ did not converge\n",
      "  warnings.warn(\n",
      "/opt/conda/envs/fastai/lib/python3.8/site-packages/sklearn/linear_model/_logistic.py:1476: UserWarning: l1_ratio parameter is only used when penalty is 'elasticnet'. Got (penalty=l1)\n",
      "  warnings.warn(\n",
      "/opt/conda/envs/fastai/lib/python3.8/site-packages/sklearn/linear_model/_sag.py:352: ConvergenceWarning: The max_iter was reached which means the coef_ did not converge\n",
      "  warnings.warn(\n",
      "/opt/conda/envs/fastai/lib/python3.8/site-packages/sklearn/linear_model/_logistic.py:1476: UserWarning: l1_ratio parameter is only used when penalty is 'elasticnet'. Got (penalty=l1)\n",
      "  warnings.warn(\n",
      "/opt/conda/envs/fastai/lib/python3.8/site-packages/sklearn/linear_model/_sag.py:352: ConvergenceWarning: The max_iter was reached which means the coef_ did not converge\n",
      "  warnings.warn(\n",
      "/opt/conda/envs/fastai/lib/python3.8/site-packages/sklearn/linear_model/_logistic.py:1476: UserWarning: l1_ratio parameter is only used when penalty is 'elasticnet'. Got (penalty=l2)\n",
      "  warnings.warn(\n",
      "/opt/conda/envs/fastai/lib/python3.8/site-packages/sklearn/linear_model/_sag.py:352: ConvergenceWarning: The max_iter was reached which means the coef_ did not converge\n",
      "  warnings.warn(\n",
      "/opt/conda/envs/fastai/lib/python3.8/site-packages/sklearn/linear_model/_logistic.py:1476: UserWarning: l1_ratio parameter is only used when penalty is 'elasticnet'. Got (penalty=l2)\n",
      "  warnings.warn(\n",
      "/opt/conda/envs/fastai/lib/python3.8/site-packages/sklearn/linear_model/_sag.py:352: ConvergenceWarning: The max_iter was reached which means the coef_ did not converge\n",
      "  warnings.warn(\n",
      "/opt/conda/envs/fastai/lib/python3.8/site-packages/sklearn/linear_model/_logistic.py:1476: UserWarning: l1_ratio parameter is only used when penalty is 'elasticnet'. Got (penalty=l2)\n",
      "  warnings.warn(\n",
      "/opt/conda/envs/fastai/lib/python3.8/site-packages/sklearn/linear_model/_sag.py:352: ConvergenceWarning: The max_iter was reached which means the coef_ did not converge\n",
      "  warnings.warn(\n",
      "/opt/conda/envs/fastai/lib/python3.8/site-packages/sklearn/linear_model/_logistic.py:1476: UserWarning: l1_ratio parameter is only used when penalty is 'elasticnet'. Got (penalty=l2)\n",
      "  warnings.warn(\n",
      "/opt/conda/envs/fastai/lib/python3.8/site-packages/sklearn/linear_model/_sag.py:352: ConvergenceWarning: The max_iter was reached which means the coef_ did not converge\n",
      "  warnings.warn(\n",
      "/opt/conda/envs/fastai/lib/python3.8/site-packages/sklearn/linear_model/_logistic.py:1476: UserWarning: l1_ratio parameter is only used when penalty is 'elasticnet'. Got (penalty=l2)\n",
      "  warnings.warn(\n",
      "/opt/conda/envs/fastai/lib/python3.8/site-packages/sklearn/linear_model/_sag.py:352: ConvergenceWarning: The max_iter was reached which means the coef_ did not converge\n",
      "  warnings.warn(\n",
      "/opt/conda/envs/fastai/lib/python3.8/site-packages/sklearn/linear_model/_logistic.py:1476: UserWarning: l1_ratio parameter is only used when penalty is 'elasticnet'. Got (penalty=l2)\n",
      "  warnings.warn(\n",
      "/opt/conda/envs/fastai/lib/python3.8/site-packages/sklearn/linear_model/_logistic.py:814: ConvergenceWarning: lbfgs failed to converge (status=1):\n",
      "STOP: TOTAL NO. of ITERATIONS REACHED LIMIT.\n",
      "\n",
      "Increase the number of iterations (max_iter) or scale the data as shown in:\n",
      "    https://scikit-learn.org/stable/modules/preprocessing.html\n",
      "Please also refer to the documentation for alternative solver options:\n",
      "    https://scikit-learn.org/stable/modules/linear_model.html#logistic-regression\n",
      "  n_iter_i = _check_optimize_result(\n",
      "/opt/conda/envs/fastai/lib/python3.8/site-packages/sklearn/linear_model/_logistic.py:1476: UserWarning: l1_ratio parameter is only used when penalty is 'elasticnet'. Got (penalty=l2)\n",
      "  warnings.warn(\n",
      "/opt/conda/envs/fastai/lib/python3.8/site-packages/sklearn/linear_model/_logistic.py:814: ConvergenceWarning: lbfgs failed to converge (status=1):\n",
      "STOP: TOTAL NO. of ITERATIONS REACHED LIMIT.\n",
      "\n",
      "Increase the number of iterations (max_iter) or scale the data as shown in:\n",
      "    https://scikit-learn.org/stable/modules/preprocessing.html\n",
      "Please also refer to the documentation for alternative solver options:\n",
      "    https://scikit-learn.org/stable/modules/linear_model.html#logistic-regression\n",
      "  n_iter_i = _check_optimize_result(\n",
      "/opt/conda/envs/fastai/lib/python3.8/site-packages/sklearn/linear_model/_logistic.py:1476: UserWarning: l1_ratio parameter is only used when penalty is 'elasticnet'. Got (penalty=l2)\n",
      "  warnings.warn(\n",
      "/opt/conda/envs/fastai/lib/python3.8/site-packages/sklearn/linear_model/_logistic.py:814: ConvergenceWarning: lbfgs failed to converge (status=1):\n",
      "STOP: TOTAL NO. of ITERATIONS REACHED LIMIT.\n",
      "\n",
      "Increase the number of iterations (max_iter) or scale the data as shown in:\n",
      "    https://scikit-learn.org/stable/modules/preprocessing.html\n",
      "Please also refer to the documentation for alternative solver options:\n",
      "    https://scikit-learn.org/stable/modules/linear_model.html#logistic-regression\n",
      "  n_iter_i = _check_optimize_result(\n",
      "/opt/conda/envs/fastai/lib/python3.8/site-packages/sklearn/linear_model/_logistic.py:1476: UserWarning: l1_ratio parameter is only used when penalty is 'elasticnet'. Got (penalty=l2)\n",
      "  warnings.warn(\n",
      "/opt/conda/envs/fastai/lib/python3.8/site-packages/sklearn/linear_model/_logistic.py:814: ConvergenceWarning: lbfgs failed to converge (status=1):\n",
      "STOP: TOTAL NO. of ITERATIONS REACHED LIMIT.\n",
      "\n",
      "Increase the number of iterations (max_iter) or scale the data as shown in:\n",
      "    https://scikit-learn.org/stable/modules/preprocessing.html\n",
      "Please also refer to the documentation for alternative solver options:\n",
      "    https://scikit-learn.org/stable/modules/linear_model.html#logistic-regression\n",
      "  n_iter_i = _check_optimize_result(\n",
      "/opt/conda/envs/fastai/lib/python3.8/site-packages/sklearn/linear_model/_logistic.py:1476: UserWarning: l1_ratio parameter is only used when penalty is 'elasticnet'. Got (penalty=l2)\n",
      "  warnings.warn(\n",
      "/opt/conda/envs/fastai/lib/python3.8/site-packages/sklearn/linear_model/_logistic.py:814: ConvergenceWarning: lbfgs failed to converge (status=1):\n",
      "STOP: TOTAL NO. of ITERATIONS REACHED LIMIT.\n",
      "\n",
      "Increase the number of iterations (max_iter) or scale the data as shown in:\n",
      "    https://scikit-learn.org/stable/modules/preprocessing.html\n",
      "Please also refer to the documentation for alternative solver options:\n",
      "    https://scikit-learn.org/stable/modules/linear_model.html#logistic-regression\n",
      "  n_iter_i = _check_optimize_result(\n",
      "/opt/conda/envs/fastai/lib/python3.8/site-packages/sklearn/model_selection/_validation.py:372: FitFailedWarning: \n",
      "20 fits failed out of a total of 75.\n",
      "The score on these train-test partitions for these parameters will be set to nan.\n",
      "If these failures are not expected, you can try to debug them by setting error_score='raise'.\n",
      "\n",
      "Below are more details about the failures:\n",
      "--------------------------------------------------------------------------------\n",
      "10 fits failed with the following error:\n",
      "Traceback (most recent call last):\n",
      "  File \"/opt/conda/envs/fastai/lib/python3.8/site-packages/sklearn/model_selection/_validation.py\", line 681, in _fit_and_score\n",
      "    estimator.fit(X_train, y_train, **fit_params)\n",
      "  File \"/opt/conda/envs/fastai/lib/python3.8/site-packages/sklearn/linear_model/_logistic.py\", line 1461, in fit\n",
      "    solver = _check_solver(self.solver, self.penalty, self.dual)\n",
      "  File \"/opt/conda/envs/fastai/lib/python3.8/site-packages/sklearn/linear_model/_logistic.py\", line 447, in _check_solver\n",
      "    raise ValueError(\n",
      "ValueError: Solver newton-cg supports only 'l2' or 'none' penalties, got l1 penalty.\n",
      "\n",
      "--------------------------------------------------------------------------------\n",
      "10 fits failed with the following error:\n",
      "Traceback (most recent call last):\n",
      "  File \"/opt/conda/envs/fastai/lib/python3.8/site-packages/sklearn/model_selection/_validation.py\", line 681, in _fit_and_score\n",
      "    estimator.fit(X_train, y_train, **fit_params)\n",
      "  File \"/opt/conda/envs/fastai/lib/python3.8/site-packages/sklearn/linear_model/_logistic.py\", line 1461, in fit\n",
      "    solver = _check_solver(self.solver, self.penalty, self.dual)\n",
      "  File \"/opt/conda/envs/fastai/lib/python3.8/site-packages/sklearn/linear_model/_logistic.py\", line 447, in _check_solver\n",
      "    raise ValueError(\n",
      "ValueError: Solver lbfgs supports only 'l2' or 'none' penalties, got l1 penalty.\n",
      "\n",
      "  warnings.warn(some_fits_failed_message, FitFailedWarning)\n",
      "/opt/conda/envs/fastai/lib/python3.8/site-packages/sklearn/model_selection/_search.py:969: UserWarning: One or more of the test scores are non-finite: [       nan 0.82410256 0.8325641  0.85102564        nan        nan\n",
      "        nan 0.83205128 0.82948718 0.82974359 0.83333333 0.85102564\n",
      " 0.83307692 0.85025641 0.85051282]\n",
      "  warnings.warn(\n",
      "/opt/conda/envs/fastai/lib/python3.8/site-packages/sklearn/linear_model/_sag.py:352: ConvergenceWarning: The max_iter was reached which means the coef_ did not converge\n",
      "  warnings.warn(\n",
      "/opt/conda/envs/fastai/lib/python3.8/site-packages/sklearn/linear_model/_sag.py:352: ConvergenceWarning: The max_iter was reached which means the coef_ did not converge\n",
      "  warnings.warn(\n"
     ]
    },
    {
     "name": "stdout",
     "output_type": "stream",
     "text": [
      "cluster : 1, model : logistic\n",
      "              precision    recall  f1-score   support\n",
      "\n",
      "           0       1.00      0.67      0.80        45\n",
      "           1       0.64      0.82      0.72        28\n",
      "           2       0.38      1.00      0.55         3\n",
      "           3       0.83      1.00      0.91        10\n",
      "\n",
      "    accuracy                           0.77        86\n",
      "   macro avg       0.71      0.87      0.74        86\n",
      "weighted avg       0.84      0.77      0.78        86\n",
      "\n",
      "cluster : 1, model : SGDClassifier(random_state=42)\n"
     ]
    },
    {
     "name": "stderr",
     "output_type": "stream",
     "text": [
      "/opt/conda/envs/fastai/lib/python3.8/site-packages/sklearn/linear_model/_stochastic_gradient.py:703: ConvergenceWarning: Maximum number of iteration reached before convergence. Consider increasing max_iter to improve the fit.\n",
      "  warnings.warn(\n",
      "/opt/conda/envs/fastai/lib/python3.8/site-packages/sklearn/linear_model/_stochastic_gradient.py:703: ConvergenceWarning: Maximum number of iteration reached before convergence. Consider increasing max_iter to improve the fit.\n",
      "  warnings.warn(\n",
      "/opt/conda/envs/fastai/lib/python3.8/site-packages/sklearn/linear_model/_stochastic_gradient.py:703: ConvergenceWarning: Maximum number of iteration reached before convergence. Consider increasing max_iter to improve the fit.\n",
      "  warnings.warn(\n",
      "/opt/conda/envs/fastai/lib/python3.8/site-packages/sklearn/linear_model/_stochastic_gradient.py:703: ConvergenceWarning: Maximum number of iteration reached before convergence. Consider increasing max_iter to improve the fit.\n",
      "  warnings.warn(\n",
      "/opt/conda/envs/fastai/lib/python3.8/site-packages/sklearn/linear_model/_stochastic_gradient.py:703: ConvergenceWarning: Maximum number of iteration reached before convergence. Consider increasing max_iter to improve the fit.\n",
      "  warnings.warn(\n"
     ]
    },
    {
     "name": "stdout",
     "output_type": "stream",
     "text": [
      "cluster : 1, model : SGD Classifier\n",
      "              precision    recall  f1-score   support\n",
      "\n",
      "           0       0.97      0.73      0.84        45\n",
      "           1       0.66      0.82      0.73        28\n",
      "           2       0.33      1.00      0.50         3\n",
      "           3       0.88      0.70      0.78        10\n",
      "\n",
      "    accuracy                           0.77        86\n",
      "   macro avg       0.71      0.81      0.71        86\n",
      "weighted avg       0.84      0.77      0.78        86\n",
      "\n",
      "cluster : 1, model : XGBClassifier(base_score=None, booster=None, colsample_bylevel=None,\n",
      "              colsample_bynode=None, colsample_bytree=None, gamma=None,\n",
      "              gpu_id=None, importance_type='gain', interaction_constraints=None,\n",
      "              learning_rate=None, max_delta_step=None, max_depth=None,\n",
      "              min_child_weight=None, missing=nan, monotone_constraints=None,\n",
      "              n_estimators=100, n_jobs=None, num_parallel_tree=None,\n",
      "              random_state=42, reg_alpha=None, reg_lambda=None,\n",
      "              scale_pos_weight=None, subsample=None, tree_method=None,\n",
      "              validate_parameters=None, verbosity=None)\n",
      "cluster : 1, model : XGB Classifier\n",
      "              precision    recall  f1-score   support\n",
      "\n",
      "           0       0.98      1.00      0.99        45\n",
      "           1       0.96      0.96      0.96        28\n",
      "           2       1.00      1.00      1.00         3\n",
      "           3       1.00      0.90      0.95        10\n",
      "\n",
      "    accuracy                           0.98        86\n",
      "   macro avg       0.99      0.97      0.98        86\n",
      "weighted avg       0.98      0.98      0.98        86\n",
      "\n",
      "cluster : 1, model : RandomForestClassifier(random_state=42)\n",
      "cluster : 1, model : random forest\n",
      "              precision    recall  f1-score   support\n",
      "\n",
      "           0       1.00      0.78      0.88        45\n",
      "           1       0.69      0.79      0.73        28\n",
      "           2       0.43      1.00      0.60         3\n",
      "           3       0.83      1.00      0.91        10\n",
      "\n",
      "    accuracy                           0.81        86\n",
      "   macro avg       0.74      0.89      0.78        86\n",
      "weighted avg       0.86      0.81      0.82        86\n",
      "\n",
      "cluster : 2, model : LogisticRegression(random_state=42)\n"
     ]
    },
    {
     "name": "stderr",
     "output_type": "stream",
     "text": [
      "/opt/conda/envs/fastai/lib/python3.8/site-packages/sklearn/linear_model/_logistic.py:1476: UserWarning: l1_ratio parameter is only used when penalty is 'elasticnet'. Got (penalty=l2)\n",
      "  warnings.warn(\n",
      "/opt/conda/envs/fastai/lib/python3.8/site-packages/sklearn/linear_model/_logistic.py:1476: UserWarning: l1_ratio parameter is only used when penalty is 'elasticnet'. Got (penalty=l2)\n",
      "  warnings.warn(\n",
      "/opt/conda/envs/fastai/lib/python3.8/site-packages/sklearn/linear_model/_logistic.py:1476: UserWarning: l1_ratio parameter is only used when penalty is 'elasticnet'. Got (penalty=l2)\n",
      "  warnings.warn(\n",
      "/opt/conda/envs/fastai/lib/python3.8/site-packages/sklearn/linear_model/_logistic.py:1476: UserWarning: l1_ratio parameter is only used when penalty is 'elasticnet'. Got (penalty=l2)\n",
      "  warnings.warn(\n",
      "/opt/conda/envs/fastai/lib/python3.8/site-packages/sklearn/linear_model/_logistic.py:1476: UserWarning: l1_ratio parameter is only used when penalty is 'elasticnet'. Got (penalty=l2)\n",
      "  warnings.warn(\n",
      "/opt/conda/envs/fastai/lib/python3.8/site-packages/sklearn/linear_model/_logistic.py:1476: UserWarning: l1_ratio parameter is only used when penalty is 'elasticnet'. Got (penalty=l2)\n",
      "  warnings.warn(\n",
      "/opt/conda/envs/fastai/lib/python3.8/site-packages/sklearn/linear_model/_logistic.py:1476: UserWarning: l1_ratio parameter is only used when penalty is 'elasticnet'. Got (penalty=l2)\n",
      "  warnings.warn(\n",
      "/opt/conda/envs/fastai/lib/python3.8/site-packages/sklearn/linear_model/_logistic.py:1476: UserWarning: l1_ratio parameter is only used when penalty is 'elasticnet'. Got (penalty=l2)\n",
      "  warnings.warn(\n",
      "/opt/conda/envs/fastai/lib/python3.8/site-packages/sklearn/linear_model/_logistic.py:1476: UserWarning: l1_ratio parameter is only used when penalty is 'elasticnet'. Got (penalty=l2)\n",
      "  warnings.warn(\n",
      "/opt/conda/envs/fastai/lib/python3.8/site-packages/sklearn/linear_model/_logistic.py:1476: UserWarning: l1_ratio parameter is only used when penalty is 'elasticnet'. Got (penalty=l2)\n",
      "  warnings.warn(\n",
      "/opt/conda/envs/fastai/lib/python3.8/site-packages/sklearn/linear_model/_logistic.py:1476: UserWarning: l1_ratio parameter is only used when penalty is 'elasticnet'. Got (penalty=l2)\n",
      "  warnings.warn(\n",
      "/opt/conda/envs/fastai/lib/python3.8/site-packages/sklearn/linear_model/_logistic.py:814: ConvergenceWarning: lbfgs failed to converge (status=1):\n",
      "STOP: TOTAL NO. of ITERATIONS REACHED LIMIT.\n",
      "\n",
      "Increase the number of iterations (max_iter) or scale the data as shown in:\n",
      "    https://scikit-learn.org/stable/modules/preprocessing.html\n",
      "Please also refer to the documentation for alternative solver options:\n",
      "    https://scikit-learn.org/stable/modules/linear_model.html#logistic-regression\n",
      "  n_iter_i = _check_optimize_result(\n",
      "/opt/conda/envs/fastai/lib/python3.8/site-packages/sklearn/linear_model/_logistic.py:1476: UserWarning: l1_ratio parameter is only used when penalty is 'elasticnet'. Got (penalty=l2)\n",
      "  warnings.warn(\n",
      "/opt/conda/envs/fastai/lib/python3.8/site-packages/sklearn/linear_model/_logistic.py:814: ConvergenceWarning: lbfgs failed to converge (status=1):\n",
      "STOP: TOTAL NO. of ITERATIONS REACHED LIMIT.\n",
      "\n",
      "Increase the number of iterations (max_iter) or scale the data as shown in:\n",
      "    https://scikit-learn.org/stable/modules/preprocessing.html\n",
      "Please also refer to the documentation for alternative solver options:\n",
      "    https://scikit-learn.org/stable/modules/linear_model.html#logistic-regression\n",
      "  n_iter_i = _check_optimize_result(\n",
      "/opt/conda/envs/fastai/lib/python3.8/site-packages/sklearn/linear_model/_logistic.py:1476: UserWarning: l1_ratio parameter is only used when penalty is 'elasticnet'. Got (penalty=l2)\n",
      "  warnings.warn(\n",
      "/opt/conda/envs/fastai/lib/python3.8/site-packages/sklearn/linear_model/_logistic.py:814: ConvergenceWarning: lbfgs failed to converge (status=1):\n",
      "STOP: TOTAL NO. of ITERATIONS REACHED LIMIT.\n",
      "\n",
      "Increase the number of iterations (max_iter) or scale the data as shown in:\n",
      "    https://scikit-learn.org/stable/modules/preprocessing.html\n",
      "Please also refer to the documentation for alternative solver options:\n",
      "    https://scikit-learn.org/stable/modules/linear_model.html#logistic-regression\n",
      "  n_iter_i = _check_optimize_result(\n",
      "/opt/conda/envs/fastai/lib/python3.8/site-packages/sklearn/linear_model/_logistic.py:1476: UserWarning: l1_ratio parameter is only used when penalty is 'elasticnet'. Got (penalty=l2)\n",
      "  warnings.warn(\n",
      "/opt/conda/envs/fastai/lib/python3.8/site-packages/sklearn/linear_model/_logistic.py:814: ConvergenceWarning: lbfgs failed to converge (status=1):\n",
      "STOP: TOTAL NO. of ITERATIONS REACHED LIMIT.\n",
      "\n",
      "Increase the number of iterations (max_iter) or scale the data as shown in:\n",
      "    https://scikit-learn.org/stable/modules/preprocessing.html\n",
      "Please also refer to the documentation for alternative solver options:\n",
      "    https://scikit-learn.org/stable/modules/linear_model.html#logistic-regression\n",
      "  n_iter_i = _check_optimize_result(\n",
      "/opt/conda/envs/fastai/lib/python3.8/site-packages/sklearn/linear_model/_logistic.py:1476: UserWarning: l1_ratio parameter is only used when penalty is 'elasticnet'. Got (penalty=l2)\n",
      "  warnings.warn(\n",
      "/opt/conda/envs/fastai/lib/python3.8/site-packages/sklearn/linear_model/_logistic.py:814: ConvergenceWarning: lbfgs failed to converge (status=1):\n",
      "STOP: TOTAL NO. of ITERATIONS REACHED LIMIT.\n",
      "\n",
      "Increase the number of iterations (max_iter) or scale the data as shown in:\n",
      "    https://scikit-learn.org/stable/modules/preprocessing.html\n",
      "Please also refer to the documentation for alternative solver options:\n",
      "    https://scikit-learn.org/stable/modules/linear_model.html#logistic-regression\n",
      "  n_iter_i = _check_optimize_result(\n",
      "/opt/conda/envs/fastai/lib/python3.8/site-packages/sklearn/linear_model/_logistic.py:1476: UserWarning: l1_ratio parameter is only used when penalty is 'elasticnet'. Got (penalty=l1)\n",
      "  warnings.warn(\n",
      "/opt/conda/envs/fastai/lib/python3.8/site-packages/sklearn/linear_model/_sag.py:352: ConvergenceWarning: The max_iter was reached which means the coef_ did not converge\n",
      "  warnings.warn(\n",
      "/opt/conda/envs/fastai/lib/python3.8/site-packages/sklearn/linear_model/_logistic.py:1476: UserWarning: l1_ratio parameter is only used when penalty is 'elasticnet'. Got (penalty=l1)\n",
      "  warnings.warn(\n",
      "/opt/conda/envs/fastai/lib/python3.8/site-packages/sklearn/linear_model/_sag.py:352: ConvergenceWarning: The max_iter was reached which means the coef_ did not converge\n",
      "  warnings.warn(\n",
      "/opt/conda/envs/fastai/lib/python3.8/site-packages/sklearn/linear_model/_logistic.py:1476: UserWarning: l1_ratio parameter is only used when penalty is 'elasticnet'. Got (penalty=l1)\n",
      "  warnings.warn(\n",
      "/opt/conda/envs/fastai/lib/python3.8/site-packages/sklearn/linear_model/_sag.py:352: ConvergenceWarning: The max_iter was reached which means the coef_ did not converge\n",
      "  warnings.warn(\n",
      "/opt/conda/envs/fastai/lib/python3.8/site-packages/sklearn/linear_model/_logistic.py:1476: UserWarning: l1_ratio parameter is only used when penalty is 'elasticnet'. Got (penalty=l1)\n",
      "  warnings.warn(\n",
      "/opt/conda/envs/fastai/lib/python3.8/site-packages/sklearn/linear_model/_sag.py:352: ConvergenceWarning: The max_iter was reached which means the coef_ did not converge\n",
      "  warnings.warn(\n",
      "/opt/conda/envs/fastai/lib/python3.8/site-packages/sklearn/linear_model/_logistic.py:1476: UserWarning: l1_ratio parameter is only used when penalty is 'elasticnet'. Got (penalty=l1)\n",
      "  warnings.warn(\n",
      "/opt/conda/envs/fastai/lib/python3.8/site-packages/sklearn/linear_model/_sag.py:352: ConvergenceWarning: The max_iter was reached which means the coef_ did not converge\n",
      "  warnings.warn(\n",
      "/opt/conda/envs/fastai/lib/python3.8/site-packages/sklearn/linear_model/_sag.py:352: ConvergenceWarning: The max_iter was reached which means the coef_ did not converge\n",
      "  warnings.warn(\n",
      "/opt/conda/envs/fastai/lib/python3.8/site-packages/sklearn/linear_model/_sag.py:352: ConvergenceWarning: The max_iter was reached which means the coef_ did not converge\n",
      "  warnings.warn(\n",
      "/opt/conda/envs/fastai/lib/python3.8/site-packages/sklearn/linear_model/_sag.py:352: ConvergenceWarning: The max_iter was reached which means the coef_ did not converge\n",
      "  warnings.warn(\n",
      "/opt/conda/envs/fastai/lib/python3.8/site-packages/sklearn/linear_model/_sag.py:352: ConvergenceWarning: The max_iter was reached which means the coef_ did not converge\n",
      "  warnings.warn(\n",
      "/opt/conda/envs/fastai/lib/python3.8/site-packages/sklearn/linear_model/_sag.py:352: ConvergenceWarning: The max_iter was reached which means the coef_ did not converge\n",
      "  warnings.warn(\n",
      "/opt/conda/envs/fastai/lib/python3.8/site-packages/sklearn/linear_model/_logistic.py:1476: UserWarning: l1_ratio parameter is only used when penalty is 'elasticnet'. Got (penalty=l2)\n",
      "  warnings.warn(\n",
      "/opt/conda/envs/fastai/lib/python3.8/site-packages/sklearn/linear_model/_sag.py:352: ConvergenceWarning: The max_iter was reached which means the coef_ did not converge\n",
      "  warnings.warn(\n",
      "/opt/conda/envs/fastai/lib/python3.8/site-packages/sklearn/linear_model/_logistic.py:1476: UserWarning: l1_ratio parameter is only used when penalty is 'elasticnet'. Got (penalty=l2)\n",
      "  warnings.warn(\n",
      "/opt/conda/envs/fastai/lib/python3.8/site-packages/sklearn/linear_model/_sag.py:352: ConvergenceWarning: The max_iter was reached which means the coef_ did not converge\n",
      "  warnings.warn(\n",
      "/opt/conda/envs/fastai/lib/python3.8/site-packages/sklearn/linear_model/_logistic.py:1476: UserWarning: l1_ratio parameter is only used when penalty is 'elasticnet'. Got (penalty=l2)\n",
      "  warnings.warn(\n",
      "/opt/conda/envs/fastai/lib/python3.8/site-packages/sklearn/linear_model/_sag.py:352: ConvergenceWarning: The max_iter was reached which means the coef_ did not converge\n",
      "  warnings.warn(\n",
      "/opt/conda/envs/fastai/lib/python3.8/site-packages/sklearn/linear_model/_logistic.py:1476: UserWarning: l1_ratio parameter is only used when penalty is 'elasticnet'. Got (penalty=l2)\n",
      "  warnings.warn(\n",
      "/opt/conda/envs/fastai/lib/python3.8/site-packages/sklearn/linear_model/_sag.py:352: ConvergenceWarning: The max_iter was reached which means the coef_ did not converge\n",
      "  warnings.warn(\n",
      "/opt/conda/envs/fastai/lib/python3.8/site-packages/sklearn/linear_model/_logistic.py:1476: UserWarning: l1_ratio parameter is only used when penalty is 'elasticnet'. Got (penalty=l2)\n",
      "  warnings.warn(\n",
      "/opt/conda/envs/fastai/lib/python3.8/site-packages/sklearn/linear_model/_sag.py:352: ConvergenceWarning: The max_iter was reached which means the coef_ did not converge\n",
      "  warnings.warn(\n",
      "/opt/conda/envs/fastai/lib/python3.8/site-packages/sklearn/linear_model/_logistic.py:1476: UserWarning: l1_ratio parameter is only used when penalty is 'elasticnet'. Got (penalty=l2)\n",
      "  warnings.warn(\n",
      "/opt/conda/envs/fastai/lib/python3.8/site-packages/sklearn/linear_model/_sag.py:352: ConvergenceWarning: The max_iter was reached which means the coef_ did not converge\n",
      "  warnings.warn(\n",
      "/opt/conda/envs/fastai/lib/python3.8/site-packages/sklearn/linear_model/_logistic.py:1476: UserWarning: l1_ratio parameter is only used when penalty is 'elasticnet'. Got (penalty=l2)\n",
      "  warnings.warn(\n",
      "/opt/conda/envs/fastai/lib/python3.8/site-packages/sklearn/linear_model/_sag.py:352: ConvergenceWarning: The max_iter was reached which means the coef_ did not converge\n",
      "  warnings.warn(\n",
      "/opt/conda/envs/fastai/lib/python3.8/site-packages/sklearn/linear_model/_logistic.py:1476: UserWarning: l1_ratio parameter is only used when penalty is 'elasticnet'. Got (penalty=l2)\n",
      "  warnings.warn(\n",
      "/opt/conda/envs/fastai/lib/python3.8/site-packages/sklearn/linear_model/_sag.py:352: ConvergenceWarning: The max_iter was reached which means the coef_ did not converge\n",
      "  warnings.warn(\n",
      "/opt/conda/envs/fastai/lib/python3.8/site-packages/sklearn/linear_model/_logistic.py:1476: UserWarning: l1_ratio parameter is only used when penalty is 'elasticnet'. Got (penalty=l2)\n",
      "  warnings.warn(\n",
      "/opt/conda/envs/fastai/lib/python3.8/site-packages/sklearn/linear_model/_sag.py:352: ConvergenceWarning: The max_iter was reached which means the coef_ did not converge\n",
      "  warnings.warn(\n",
      "/opt/conda/envs/fastai/lib/python3.8/site-packages/sklearn/linear_model/_logistic.py:1476: UserWarning: l1_ratio parameter is only used when penalty is 'elasticnet'. Got (penalty=l2)\n",
      "  warnings.warn(\n",
      "/opt/conda/envs/fastai/lib/python3.8/site-packages/sklearn/linear_model/_sag.py:352: ConvergenceWarning: The max_iter was reached which means the coef_ did not converge\n",
      "  warnings.warn(\n",
      "/opt/conda/envs/fastai/lib/python3.8/site-packages/sklearn/linear_model/_logistic.py:1476: UserWarning: l1_ratio parameter is only used when penalty is 'elasticnet'. Got (penalty=l2)\n",
      "  warnings.warn(\n",
      "/opt/conda/envs/fastai/lib/python3.8/site-packages/sklearn/linear_model/_sag.py:352: ConvergenceWarning: The max_iter was reached which means the coef_ did not converge\n",
      "  warnings.warn(\n",
      "/opt/conda/envs/fastai/lib/python3.8/site-packages/sklearn/linear_model/_logistic.py:1476: UserWarning: l1_ratio parameter is only used when penalty is 'elasticnet'. Got (penalty=l2)\n",
      "  warnings.warn(\n",
      "/opt/conda/envs/fastai/lib/python3.8/site-packages/sklearn/linear_model/_sag.py:352: ConvergenceWarning: The max_iter was reached which means the coef_ did not converge\n",
      "  warnings.warn(\n",
      "/opt/conda/envs/fastai/lib/python3.8/site-packages/sklearn/linear_model/_logistic.py:1476: UserWarning: l1_ratio parameter is only used when penalty is 'elasticnet'. Got (penalty=l2)\n",
      "  warnings.warn(\n",
      "/opt/conda/envs/fastai/lib/python3.8/site-packages/sklearn/linear_model/_sag.py:352: ConvergenceWarning: The max_iter was reached which means the coef_ did not converge\n",
      "  warnings.warn(\n",
      "/opt/conda/envs/fastai/lib/python3.8/site-packages/sklearn/linear_model/_logistic.py:1476: UserWarning: l1_ratio parameter is only used when penalty is 'elasticnet'. Got (penalty=l2)\n",
      "  warnings.warn(\n",
      "/opt/conda/envs/fastai/lib/python3.8/site-packages/sklearn/linear_model/_sag.py:352: ConvergenceWarning: The max_iter was reached which means the coef_ did not converge\n",
      "  warnings.warn(\n",
      "/opt/conda/envs/fastai/lib/python3.8/site-packages/sklearn/linear_model/_logistic.py:1476: UserWarning: l1_ratio parameter is only used when penalty is 'elasticnet'. Got (penalty=l2)\n",
      "  warnings.warn(\n",
      "/opt/conda/envs/fastai/lib/python3.8/site-packages/sklearn/linear_model/_sag.py:352: ConvergenceWarning: The max_iter was reached which means the coef_ did not converge\n",
      "  warnings.warn(\n",
      "/opt/conda/envs/fastai/lib/python3.8/site-packages/sklearn/linear_model/_logistic.py:1476: UserWarning: l1_ratio parameter is only used when penalty is 'elasticnet'. Got (penalty=l2)\n",
      "  warnings.warn(\n",
      "/opt/conda/envs/fastai/lib/python3.8/site-packages/sklearn/linear_model/_logistic.py:814: ConvergenceWarning: lbfgs failed to converge (status=1):\n",
      "STOP: TOTAL NO. of ITERATIONS REACHED LIMIT.\n",
      "\n",
      "Increase the number of iterations (max_iter) or scale the data as shown in:\n",
      "    https://scikit-learn.org/stable/modules/preprocessing.html\n",
      "Please also refer to the documentation for alternative solver options:\n",
      "    https://scikit-learn.org/stable/modules/linear_model.html#logistic-regression\n",
      "  n_iter_i = _check_optimize_result(\n",
      "/opt/conda/envs/fastai/lib/python3.8/site-packages/sklearn/linear_model/_logistic.py:1476: UserWarning: l1_ratio parameter is only used when penalty is 'elasticnet'. Got (penalty=l2)\n",
      "  warnings.warn(\n",
      "/opt/conda/envs/fastai/lib/python3.8/site-packages/sklearn/linear_model/_logistic.py:814: ConvergenceWarning: lbfgs failed to converge (status=1):\n",
      "STOP: TOTAL NO. of ITERATIONS REACHED LIMIT.\n",
      "\n",
      "Increase the number of iterations (max_iter) or scale the data as shown in:\n",
      "    https://scikit-learn.org/stable/modules/preprocessing.html\n",
      "Please also refer to the documentation for alternative solver options:\n",
      "    https://scikit-learn.org/stable/modules/linear_model.html#logistic-regression\n",
      "  n_iter_i = _check_optimize_result(\n",
      "/opt/conda/envs/fastai/lib/python3.8/site-packages/sklearn/linear_model/_logistic.py:1476: UserWarning: l1_ratio parameter is only used when penalty is 'elasticnet'. Got (penalty=l2)\n",
      "  warnings.warn(\n",
      "/opt/conda/envs/fastai/lib/python3.8/site-packages/sklearn/linear_model/_logistic.py:814: ConvergenceWarning: lbfgs failed to converge (status=1):\n",
      "STOP: TOTAL NO. of ITERATIONS REACHED LIMIT.\n",
      "\n",
      "Increase the number of iterations (max_iter) or scale the data as shown in:\n",
      "    https://scikit-learn.org/stable/modules/preprocessing.html\n",
      "Please also refer to the documentation for alternative solver options:\n",
      "    https://scikit-learn.org/stable/modules/linear_model.html#logistic-regression\n",
      "  n_iter_i = _check_optimize_result(\n",
      "/opt/conda/envs/fastai/lib/python3.8/site-packages/sklearn/linear_model/_logistic.py:1476: UserWarning: l1_ratio parameter is only used when penalty is 'elasticnet'. Got (penalty=l2)\n",
      "  warnings.warn(\n",
      "/opt/conda/envs/fastai/lib/python3.8/site-packages/sklearn/linear_model/_logistic.py:814: ConvergenceWarning: lbfgs failed to converge (status=1):\n",
      "STOP: TOTAL NO. of ITERATIONS REACHED LIMIT.\n",
      "\n",
      "Increase the number of iterations (max_iter) or scale the data as shown in:\n",
      "    https://scikit-learn.org/stable/modules/preprocessing.html\n",
      "Please also refer to the documentation for alternative solver options:\n",
      "    https://scikit-learn.org/stable/modules/linear_model.html#logistic-regression\n",
      "  n_iter_i = _check_optimize_result(\n",
      "/opt/conda/envs/fastai/lib/python3.8/site-packages/sklearn/linear_model/_logistic.py:1476: UserWarning: l1_ratio parameter is only used when penalty is 'elasticnet'. Got (penalty=l2)\n",
      "  warnings.warn(\n",
      "/opt/conda/envs/fastai/lib/python3.8/site-packages/sklearn/linear_model/_logistic.py:814: ConvergenceWarning: lbfgs failed to converge (status=1):\n",
      "STOP: TOTAL NO. of ITERATIONS REACHED LIMIT.\n",
      "\n",
      "Increase the number of iterations (max_iter) or scale the data as shown in:\n",
      "    https://scikit-learn.org/stable/modules/preprocessing.html\n",
      "Please also refer to the documentation for alternative solver options:\n",
      "    https://scikit-learn.org/stable/modules/linear_model.html#logistic-regression\n",
      "  n_iter_i = _check_optimize_result(\n",
      "/opt/conda/envs/fastai/lib/python3.8/site-packages/sklearn/linear_model/_sag.py:352: ConvergenceWarning: The max_iter was reached which means the coef_ did not converge\n",
      "  warnings.warn(\n",
      "/opt/conda/envs/fastai/lib/python3.8/site-packages/sklearn/linear_model/_sag.py:352: ConvergenceWarning: The max_iter was reached which means the coef_ did not converge\n",
      "  warnings.warn(\n",
      "/opt/conda/envs/fastai/lib/python3.8/site-packages/sklearn/linear_model/_sag.py:352: ConvergenceWarning: The max_iter was reached which means the coef_ did not converge\n",
      "  warnings.warn(\n",
      "/opt/conda/envs/fastai/lib/python3.8/site-packages/sklearn/linear_model/_sag.py:352: ConvergenceWarning: The max_iter was reached which means the coef_ did not converge\n",
      "  warnings.warn(\n",
      "/opt/conda/envs/fastai/lib/python3.8/site-packages/sklearn/linear_model/_sag.py:352: ConvergenceWarning: The max_iter was reached which means the coef_ did not converge\n",
      "  warnings.warn(\n",
      "/opt/conda/envs/fastai/lib/python3.8/site-packages/sklearn/model_selection/_validation.py:372: FitFailedWarning: \n",
      "25 fits failed out of a total of 75.\n",
      "The score on these train-test partitions for these parameters will be set to nan.\n",
      "If these failures are not expected, you can try to debug them by setting error_score='raise'.\n",
      "\n",
      "Below are more details about the failures:\n",
      "--------------------------------------------------------------------------------\n",
      "10 fits failed with the following error:\n",
      "Traceback (most recent call last):\n",
      "  File \"/opt/conda/envs/fastai/lib/python3.8/site-packages/sklearn/model_selection/_validation.py\", line 681, in _fit_and_score\n",
      "    estimator.fit(X_train, y_train, **fit_params)\n",
      "  File \"/opt/conda/envs/fastai/lib/python3.8/site-packages/sklearn/linear_model/_logistic.py\", line 1461, in fit\n",
      "    solver = _check_solver(self.solver, self.penalty, self.dual)\n",
      "  File \"/opt/conda/envs/fastai/lib/python3.8/site-packages/sklearn/linear_model/_logistic.py\", line 447, in _check_solver\n",
      "    raise ValueError(\n",
      "ValueError: Solver newton-cg supports only 'l2' or 'none' penalties, got elasticnet penalty.\n",
      "\n",
      "--------------------------------------------------------------------------------\n",
      "10 fits failed with the following error:\n",
      "Traceback (most recent call last):\n",
      "  File \"/opt/conda/envs/fastai/lib/python3.8/site-packages/sklearn/model_selection/_validation.py\", line 681, in _fit_and_score\n",
      "    estimator.fit(X_train, y_train, **fit_params)\n",
      "  File \"/opt/conda/envs/fastai/lib/python3.8/site-packages/sklearn/linear_model/_logistic.py\", line 1461, in fit\n",
      "    solver = _check_solver(self.solver, self.penalty, self.dual)\n",
      "  File \"/opt/conda/envs/fastai/lib/python3.8/site-packages/sklearn/linear_model/_logistic.py\", line 447, in _check_solver\n",
      "    raise ValueError(\n",
      "ValueError: Solver newton-cg supports only 'l2' or 'none' penalties, got l1 penalty.\n",
      "\n",
      "--------------------------------------------------------------------------------\n",
      "5 fits failed with the following error:\n",
      "Traceback (most recent call last):\n",
      "  File \"/opt/conda/envs/fastai/lib/python3.8/site-packages/sklearn/model_selection/_validation.py\", line 681, in _fit_and_score\n",
      "    estimator.fit(X_train, y_train, **fit_params)\n",
      "  File \"/opt/conda/envs/fastai/lib/python3.8/site-packages/sklearn/linear_model/_logistic.py\", line 1461, in fit\n",
      "    solver = _check_solver(self.solver, self.penalty, self.dual)\n",
      "  File \"/opt/conda/envs/fastai/lib/python3.8/site-packages/sklearn/linear_model/_logistic.py\", line 447, in _check_solver\n",
      "    raise ValueError(\n",
      "ValueError: Solver lbfgs supports only 'l2' or 'none' penalties, got elasticnet penalty.\n",
      "\n",
      "  warnings.warn(some_fits_failed_message, FitFailedWarning)\n",
      "/opt/conda/envs/fastai/lib/python3.8/site-packages/sklearn/model_selection/_search.py:969: UserWarning: One or more of the test scores are non-finite: [0.82948718 0.82948718 0.85153846        nan 0.83307692        nan\n",
      " 0.85076923 0.85025641        nan 0.82410256        nan        nan\n",
      " 0.83307692 0.85051282 0.85102564]\n",
      "  warnings.warn(\n",
      "/opt/conda/envs/fastai/lib/python3.8/site-packages/sklearn/linear_model/_logistic.py:1476: UserWarning: l1_ratio parameter is only used when penalty is 'elasticnet'. Got (penalty=l2)\n",
      "  warnings.warn(\n",
      "/opt/conda/envs/fastai/lib/python3.8/site-packages/sklearn/linear_model/_logistic.py:814: ConvergenceWarning: lbfgs failed to converge (status=1):\n",
      "STOP: TOTAL NO. of ITERATIONS REACHED LIMIT.\n",
      "\n",
      "Increase the number of iterations (max_iter) or scale the data as shown in:\n",
      "    https://scikit-learn.org/stable/modules/preprocessing.html\n",
      "Please also refer to the documentation for alternative solver options:\n",
      "    https://scikit-learn.org/stable/modules/linear_model.html#logistic-regression\n",
      "  n_iter_i = _check_optimize_result(\n",
      "/opt/conda/envs/fastai/lib/python3.8/site-packages/sklearn/linear_model/_logistic.py:1476: UserWarning: l1_ratio parameter is only used when penalty is 'elasticnet'. Got (penalty=l2)\n",
      "  warnings.warn(\n",
      "/opt/conda/envs/fastai/lib/python3.8/site-packages/sklearn/linear_model/_logistic.py:814: ConvergenceWarning: lbfgs failed to converge (status=1):\n",
      "STOP: TOTAL NO. of ITERATIONS REACHED LIMIT.\n",
      "\n",
      "Increase the number of iterations (max_iter) or scale the data as shown in:\n",
      "    https://scikit-learn.org/stable/modules/preprocessing.html\n",
      "Please also refer to the documentation for alternative solver options:\n",
      "    https://scikit-learn.org/stable/modules/linear_model.html#logistic-regression\n",
      "  n_iter_i = _check_optimize_result(\n"
     ]
    },
    {
     "name": "stdout",
     "output_type": "stream",
     "text": [
      "cluster : 2, model : logistic\n",
      "              precision    recall  f1-score   support\n",
      "\n",
      "           0       1.00      0.80      0.89        61\n",
      "           1       0.63      0.94      0.76        18\n",
      "           2       0.50      1.00      0.67         3\n",
      "           3       0.75      0.75      0.75         4\n",
      "\n",
      "    accuracy                           0.84        86\n",
      "   macro avg       0.72      0.87      0.77        86\n",
      "weighted avg       0.89      0.84      0.85        86\n",
      "\n",
      "cluster : 2, model : SGDClassifier(random_state=42)\n"
     ]
    },
    {
     "name": "stderr",
     "output_type": "stream",
     "text": [
      "/opt/conda/envs/fastai/lib/python3.8/site-packages/sklearn/linear_model/_stochastic_gradient.py:703: ConvergenceWarning: Maximum number of iteration reached before convergence. Consider increasing max_iter to improve the fit.\n",
      "  warnings.warn(\n",
      "/opt/conda/envs/fastai/lib/python3.8/site-packages/sklearn/linear_model/_stochastic_gradient.py:703: ConvergenceWarning: Maximum number of iteration reached before convergence. Consider increasing max_iter to improve the fit.\n",
      "  warnings.warn(\n",
      "/opt/conda/envs/fastai/lib/python3.8/site-packages/sklearn/linear_model/_stochastic_gradient.py:703: ConvergenceWarning: Maximum number of iteration reached before convergence. Consider increasing max_iter to improve the fit.\n",
      "  warnings.warn(\n",
      "/opt/conda/envs/fastai/lib/python3.8/site-packages/sklearn/linear_model/_stochastic_gradient.py:703: ConvergenceWarning: Maximum number of iteration reached before convergence. Consider increasing max_iter to improve the fit.\n",
      "  warnings.warn(\n",
      "/opt/conda/envs/fastai/lib/python3.8/site-packages/sklearn/linear_model/_stochastic_gradient.py:703: ConvergenceWarning: Maximum number of iteration reached before convergence. Consider increasing max_iter to improve the fit.\n",
      "  warnings.warn(\n",
      "/opt/conda/envs/fastai/lib/python3.8/site-packages/sklearn/linear_model/_stochastic_gradient.py:703: ConvergenceWarning: Maximum number of iteration reached before convergence. Consider increasing max_iter to improve the fit.\n",
      "  warnings.warn(\n",
      "/opt/conda/envs/fastai/lib/python3.8/site-packages/sklearn/linear_model/_stochastic_gradient.py:703: ConvergenceWarning: Maximum number of iteration reached before convergence. Consider increasing max_iter to improve the fit.\n",
      "  warnings.warn(\n",
      "/opt/conda/envs/fastai/lib/python3.8/site-packages/sklearn/linear_model/_stochastic_gradient.py:703: ConvergenceWarning: Maximum number of iteration reached before convergence. Consider increasing max_iter to improve the fit.\n",
      "  warnings.warn(\n",
      "/opt/conda/envs/fastai/lib/python3.8/site-packages/sklearn/linear_model/_stochastic_gradient.py:703: ConvergenceWarning: Maximum number of iteration reached before convergence. Consider increasing max_iter to improve the fit.\n",
      "  warnings.warn(\n",
      "/opt/conda/envs/fastai/lib/python3.8/site-packages/sklearn/linear_model/_stochastic_gradient.py:703: ConvergenceWarning: Maximum number of iteration reached before convergence. Consider increasing max_iter to improve the fit.\n",
      "  warnings.warn(\n"
     ]
    },
    {
     "name": "stdout",
     "output_type": "stream",
     "text": [
      "cluster : 2, model : SGD Classifier\n",
      "              precision    recall  f1-score   support\n",
      "\n",
      "           0       0.94      0.77      0.85        61\n",
      "           1       0.57      0.72      0.63        18\n",
      "           2       0.17      0.33      0.22         3\n",
      "           3       0.57      1.00      0.73         4\n",
      "\n",
      "    accuracy                           0.76        86\n",
      "   macro avg       0.56      0.71      0.61        86\n",
      "weighted avg       0.82      0.76      0.77        86\n",
      "\n",
      "cluster : 2, model : XGBClassifier(base_score=None, booster=None, colsample_bylevel=None,\n",
      "              colsample_bynode=None, colsample_bytree=None, gamma=None,\n",
      "              gpu_id=None, importance_type='gain', interaction_constraints=None,\n",
      "              learning_rate=None, max_delta_step=None, max_depth=None,\n",
      "              min_child_weight=None, missing=nan, monotone_constraints=None,\n",
      "              n_estimators=100, n_jobs=None, num_parallel_tree=None,\n",
      "              random_state=42, reg_alpha=None, reg_lambda=None,\n",
      "              scale_pos_weight=None, subsample=None, tree_method=None,\n",
      "              validate_parameters=None, verbosity=None)\n",
      "cluster : 2, model : XGB Classifier\n",
      "              precision    recall  f1-score   support\n",
      "\n",
      "           0       0.98      1.00      0.99        61\n",
      "           1       1.00      0.94      0.97        18\n",
      "           2       1.00      1.00      1.00         3\n",
      "           3       1.00      1.00      1.00         4\n",
      "\n",
      "    accuracy                           0.99        86\n",
      "   macro avg       1.00      0.99      0.99        86\n",
      "weighted avg       0.99      0.99      0.99        86\n",
      "\n",
      "cluster : 2, model : RandomForestClassifier(random_state=42)\n",
      "cluster : 2, model : random forest\n",
      "              precision    recall  f1-score   support\n",
      "\n",
      "           0       1.00      0.89      0.94        61\n",
      "           1       0.71      0.94      0.81        18\n",
      "           2       0.75      1.00      0.86         3\n",
      "           3       1.00      1.00      1.00         4\n",
      "\n",
      "    accuracy                           0.91        86\n",
      "   macro avg       0.86      0.96      0.90        86\n",
      "weighted avg       0.93      0.91      0.91        86\n",
      "\n"
     ]
    }
   ],
   "source": [
    "accuracy = {}\n",
    "best_params = {}\n",
    "for cluster in range(0, k_value):\n",
    "    \n",
    "    model_accuracy = {}\n",
    "    model_params = {}\n",
    "    lg_regression = LogisticRegression(random_state=42)\n",
    "    rf_clf = RandomForestClassifier(random_state=42)\n",
    "    sgd_clf = SGDClassifier(random_state=42)\n",
    "    xgboost = XGBClassifier(random_state=42)\n",
    "    for model in [lg_regression, sgd_clf, xgboost, rf_clf]:\n",
    "        if model == lg_regression : \n",
    "            params = get_params(\"lg_params\")\n",
    "        elif model == rf_clf : \n",
    "            params = get_params(\"rf_params\")\n",
    "        elif model == sgd_clf : \n",
    "            params = get_params(\"sgd_params\")\n",
    "        elif model == xgboost : \n",
    "            params = get_params(\"xgb_params\")\n",
    "        print(f\"cluster : {cluster}, model : {model}\")\n",
    "        random_cv = RandomizedSearchCV(model, param_distributions=params, n_iter=15, cv=5, \n",
    "                               scoring=make_scorer(classification_report_with_accuracy_score_train), \n",
    "                               n_jobs=-1)\n",
    "        random_cv.fit(X_train_iter, y_train)\n",
    "        \n",
    "        tuned_model = model.set_params(**random_cv.best_params_)\n",
    "        tuned_model.fit(X_train_iter, y_train)\n",
    "        index = clusters_test[clusters_test['clusters'] == cluster].index\n",
    "        y_pred = tuned_model.predict(X_test_iter.iloc[index])\n",
    "        if model == lg_regression:\n",
    "            print(f\"cluster : {cluster}, model : logistic\")\n",
    "            model_accuracy['lg_reg'] = classification_report_with_accuracy_score_test(y_pred=y_pred,y_true=y_test.iloc[index])\n",
    "            model_params['lg_reg'] = random_cv.best_params_\n",
    "        if model == rf_clf:\n",
    "            print(f\"cluster : {cluster}, model : random forest\")\n",
    "            model_accuracy['rf_reg'] = classification_report_with_accuracy_score_test(y_pred=y_pred,y_true=y_test.iloc[index])\n",
    "            model_params['rf_reg'] = random_cv.best_params_\n",
    "        if model == sgd_clf:\n",
    "            print(f\"cluster : {cluster}, model : SGD Classifier\")\n",
    "            model_accuracy['sgd_clf'] = classification_report_with_accuracy_score_test(y_pred=y_pred,y_true=y_test.iloc[index])\n",
    "            model_params['sgd_clf'] = random_cv.best_params_\n",
    "        if model == xgboost:\n",
    "            print(f\"cluster : {cluster}, model : XGB Classifier\")\n",
    "            model_accuracy['xgb_clf'] = classification_report_with_accuracy_score_test(y_pred=y_pred,y_true=y_test.iloc[index])\n",
    "            model_params['xgb_clf'] = random_cv.best_params_\n",
    "    accuracy[cluster] = model_accuracy\n",
    "    best_params[cluster] = model_params"
   ]
  },
  {
   "cell_type": "code",
   "execution_count": 93,
   "metadata": {
    "scrolled": false
   },
   "outputs": [
    {
     "name": "stdout",
     "output_type": "stream",
     "text": [
      "{0: {'lg_reg': 0.7701149425287356, 'sgd_clf': 0.7931034482758621, 'xgb_clf': 0.9655172413793104, 'rf_reg': 0.8850574712643678}, 1: {'lg_reg': 0.7674418604651163, 'sgd_clf': 0.7674418604651163, 'xgb_clf': 0.9767441860465116, 'rf_reg': 0.813953488372093}, 2: {'lg_reg': 0.8372093023255814, 'sgd_clf': 0.7558139534883721, 'xgb_clf': 0.9883720930232558, 'rf_reg': 0.9069767441860465}}\n"
     ]
    }
   ],
   "source": [
    "print(accuracy)"
   ]
  },
  {
   "cell_type": "code",
   "execution_count": 94,
   "metadata": {
    "scrolled": true
   },
   "outputs": [
    {
     "name": "stdout",
     "output_type": "stream",
     "text": [
      "{0: {'lg_reg': {'solver': 'saga', 'penalty': 'elasticnet', 'multi_class': 'multinomial', 'max_iter': 280, 'l1_ratio': 0.42727272727272725, 'C': 10}, 'sgd_clf': {'penalty': 'elasticnet', 'max_iter': 1100, 'loss': 'squared_hinge', 'l1_ratio': 0.1, 'alpha': 0.01}, 'xgb_clf': {'use_label_encoder': False, 'objective': 'multi:softmax', 'num_class': 4, 'n_estimators': 900, 'max_depth': 5, 'eval_metric': 'mlogloss', 'eta': 0.26}, 'rf_reg': {'n_estimators': 500, 'min_samples_split': 4, 'min_samples_leaf': 5, 'max_leaf_nodes': 9, 'max_features': 'sqrt', 'max_depth': 9, 'bootstrap': False}}, 1: {'lg_reg': {'solver': 'saga', 'penalty': 'elasticnet', 'multi_class': 'multinomial', 'max_iter': 230, 'l1_ratio': 0.3666666666666667, 'C': 1.0}, 'sgd_clf': {'penalty': 'l1', 'max_iter': 800, 'loss': 'log', 'l1_ratio': 0.20000000000000004, 'alpha': 0.001}, 'xgb_clf': {'use_label_encoder': False, 'objective': 'multi:softmax', 'num_class': 4, 'n_estimators': 1200, 'max_depth': 6, 'eval_metric': 'mlogloss', 'eta': 0.26}, 'rf_reg': {'n_estimators': 2000, 'min_samples_split': 6, 'min_samples_leaf': 9, 'max_leaf_nodes': 9, 'max_features': 'auto', 'max_depth': 10, 'bootstrap': True}}, 2: {'lg_reg': {'solver': 'lbfgs', 'penalty': 'l2', 'multi_class': 'multinomial', 'max_iter': 160, 'l1_ratio': 0.13232323232323234, 'C': 100000}, 'sgd_clf': {'penalty': 'l2', 'max_iter': 800, 'loss': 'log', 'l1_ratio': 0.45000000000000007, 'alpha': 0.01}, 'xgb_clf': {'use_label_encoder': False, 'objective': 'multi:softmax', 'num_class': 4, 'n_estimators': 1100, 'max_depth': 6, 'eval_metric': 'mlogloss', 'eta': 0.21000000000000002}, 'rf_reg': {'n_estimators': 800, 'min_samples_split': 2, 'min_samples_leaf': 9, 'max_leaf_nodes': 9, 'max_features': 'auto', 'max_depth': 8, 'bootstrap': False}}}\n"
     ]
    }
   ],
   "source": [
    "print(best_params)"
   ]
  },
  {
   "cell_type": "markdown",
   "metadata": {},
   "source": [
    "We applied different models to each cluster and observed the below best models for each cluster\n",
    "\n",
    "* cluster 0 - XG Boost with 96.55% accuracy\n",
    "* cluster 1 - XG Boost with 97.67% accuracy\n",
    "* cluster 2 - XG Boost with 98.83% accuracy\n",
    "\n",
    "Best Hypertuned params for best fitted models for each cluster\n",
    "\n",
    "* cluster - 0\n",
    "#### 'xgb_clf': {'use_label_encoder': False, 'objective': 'multi:softmax', 'num_class': 4, 'n_estimators': 900, 'max_depth': 5, 'eval_metric': 'mlogloss', 'eta': 0.26}\n",
    "\n",
    "\n",
    "* cluster - 1\n",
    "#### 'xgb_clf': {'use_label_encoder': False, 'objective': 'multi:softmax', 'num_class': 4, 'n_estimators': 1200, 'max_depth': 6, 'eval_metric': 'mlogloss', 'eta': 0.26}\n",
    "\n",
    "* cluster - 2\n",
    "#### 'xgb_clf': {'use_label_encoder': False, 'objective': 'multi:softmax', 'num_class': 4, 'n_estimators': 1100, 'max_depth': 6, 'eval_metric': 'mlogloss', 'eta': 0.21000000000000002}"
   ]
  },
  {
   "cell_type": "markdown",
   "metadata": {},
   "source": [
    "From initial model creation, we clearly see all the models couldn't predict the values properly. Then we applied hyper parameter tuning and divided our data into multiple clusters and trained 4 models with the training set. Finally we extracted best fitted model with hypertuned parameters. Let's use cross validation on the final model to see the accuaracy"
   ]
  },
  {
   "cell_type": "markdown",
   "metadata": {},
   "source": [
    "## Cross- validation\n",
    "\n",
    "Cross-validation is a technique in which we train our model using the subset of the data-set and then evaluate using the complementary subset of the data-set. There are different types of cross validation techniques. We use StratifiedKFold technique"
   ]
  },
  {
   "cell_type": "code",
   "execution_count": 95,
   "metadata": {},
   "outputs": [],
   "source": [
    "hypertuned_parameters = {\n",
    "    0: best_params[0]['xgb_clf'],\n",
    "    1: best_params[1]['xgb_clf'],\n",
    "    2: best_params[2]['xgb_clf'],\n",
    "}    "
   ]
  },
  {
   "cell_type": "code",
   "execution_count": 96,
   "metadata": {},
   "outputs": [],
   "source": [
    "def classification_report_with_accuracy_score(y_true, y_pred):\n",
    "    print(classification_report(y_true, y_pred))# print classification report\n",
    "    return accuracy_score(y_true, y_pred)"
   ]
  },
  {
   "cell_type": "code",
   "execution_count": 99,
   "metadata": {},
   "outputs": [
    {
     "name": "stdout",
     "output_type": "stream",
     "text": [
      "Cluster - 0 & Accuracy Train Score - 0.9905128205128205\n",
      "Cluster - 1 & Accuracy Train Score - 0.9910256410256411\n",
      "Cluster - 2 & Accuracy Train Score - 0.9912820512820513\n"
     ]
    }
   ],
   "source": [
    "avg_accuracy = []\n",
    "for cluster in set(clusters):\n",
    "    test_index = clusters_test[clusters_test['clusters'] == cluster].index\n",
    "    params = hypertuned_parameters[cluster]\n",
    "    model = XGBClassifier(random_state=42).set_params(**params)\n",
    "    score = cross_val_score(model, X_train_iter, y_train, cv=5, scoring=make_scorer(classification_report_with_accuracy_score_train))\n",
    "    print(f\"Cluster - {cluster}\", end=\" & \")\n",
    "    print(f\"Accuracy Train Score - {score.mean()}\")"
   ]
  },
  {
   "cell_type": "code",
   "execution_count": 100,
   "metadata": {},
   "outputs": [
    {
     "name": "stdout",
     "output_type": "stream",
     "text": [
      "Cluster - 0 & Accuracy Test Score - 96.55172413793103\n",
      "Cluster - 1 & Accuracy Test Score - 97.67441860465115\n",
      "Cluster - 2 & Accuracy Test Score - 98.83720930232558\n",
      "Model Average Accuracy - 97.68778401496924\n"
     ]
    }
   ],
   "source": [
    "iter_avg_accuracy = []\n",
    "models = []\n",
    "for cluster in set(clusters):\n",
    "    test_index = clusters_test[clusters_test['clusters'] == cluster].index\n",
    "    #train_index = clusters_train[clusters_train['clusters'] == cluster].index\n",
    "    params = hypertuned_parameters[cluster]\n",
    "    model = XGBClassifier(random_state=42).set_params(**params)\n",
    "    model.fit(X_train_iter, y_train)\n",
    "    models.append(model)\n",
    "    y_pred = model.predict(X_test_iter.iloc[test_index])\n",
    "    print(f\"Cluster - {cluster}\", end=\" & \")\n",
    "    iter_avg_accuracy.append(accuracy_score(y_test.iloc[test_index], y_pred)*100)\n",
    "    print(f\"Accuracy Test Score - {iter_avg_accuracy[-1]}\")\n",
    "print(f\"Model Average Accuracy - {sum(iter_avg_accuracy)/k_value}\")"
   ]
  },
  {
   "cell_type": "markdown",
   "metadata": {},
   "source": [
    "Finally, our model final accuracy is 97.68% which is good accuracy"
   ]
  },
  {
   "cell_type": "markdown",
   "metadata": {},
   "source": [
    "# Save the clustering logic and model"
   ]
  },
  {
   "cell_type": "code",
   "execution_count": 101,
   "metadata": {},
   "outputs": [],
   "source": [
    "import pickle as pkl"
   ]
  },
  {
   "cell_type": "markdown",
   "metadata": {},
   "source": [
    "Saving the cluster algorithm into cluster.pkl file, which can be re-used using pickle.load() method"
   ]
  },
  {
   "cell_type": "code",
   "execution_count": 102,
   "metadata": {},
   "outputs": [],
   "source": [
    "cluster_file = open(\"cluster_imputer.pkl\", \"wb\")\n",
    "pkl.dump(kmeans, cluster_file)\n",
    "cluster_file.close()"
   ]
  },
  {
   "cell_type": "markdown",
   "metadata": {},
   "source": [
    "Saving the model into model.pkl file, which can be re-used using pickle.load() method"
   ]
  },
  {
   "cell_type": "code",
   "execution_count": 103,
   "metadata": {},
   "outputs": [],
   "source": [
    "model_file = open(\"model_imputer.pkl\", \"wb\")\n",
    "pkl.dump(models, model_file)\n",
    "model_file.close()"
   ]
  },
  {
   "cell_type": "markdown",
   "metadata": {},
   "source": [
    "# Imputing Null values using KNN Imputer"
   ]
  },
  {
   "cell_type": "code",
   "execution_count": 104,
   "metadata": {
    "scrolled": true
   },
   "outputs": [
    {
     "name": "stdout",
     "output_type": "stream",
     "text": [
      "Missing values in train data set using KNN imputer\n",
      "buying         0\n",
      "maint          0\n",
      "doors          0\n",
      "persons        0\n",
      "lug_boot       0\n",
      "safety         0\n",
      "buying_na      0\n",
      "maint_na       0\n",
      "doors_na       0\n",
      "persons_na     0\n",
      "lug_boot_na    0\n",
      "safety_na      0\n",
      "dtype: int64\n"
     ]
    }
   ],
   "source": [
    "knn_imputer = KNNImputer(n_neighbors = 3)\n",
    "knn_imputer.fit(X_train)\n",
    "X_train_knn = knn_imputer.transform(X_train)\n",
    "X_train_knn = pd.DataFrame(X_train_knn, columns=X_train.columns)\n",
    "print(f\"Missing values in train data set using KNN imputer\\n{X_train_knn.isna().sum()}\")"
   ]
  },
  {
   "cell_type": "markdown",
   "metadata": {},
   "source": [
    "### Handling Imbalanced Dataset"
   ]
  },
  {
   "cell_type": "code",
   "execution_count": 105,
   "metadata": {},
   "outputs": [],
   "source": [
    "y_train = y_train_cp.copy()"
   ]
  },
  {
   "cell_type": "code",
   "execution_count": 106,
   "metadata": {
    "scrolled": true
   },
   "outputs": [
    {
     "data": {
      "text/plain": [
       "unacc    70.549928\n",
       "acc      21.780029\n",
       "good      4.196816\n",
       "vgood     3.473227\n",
       "Name: accep, dtype: float64"
      ]
     },
     "execution_count": 106,
     "metadata": {},
     "output_type": "execute_result"
    }
   ],
   "source": [
    "y_train.value_counts()/y_train.shape[0] * 100"
   ]
  },
  {
   "cell_type": "markdown",
   "metadata": {},
   "source": [
    "looking at target variable, **unacc(1), acc(2)** accounts for 92% of training data and this is clear indication of biased data. We will handle the biased data using two methods **1. undersampling 2. Oversampling** methods from imblearn package\n",
    "Applying underlying method, sample down the data  to make all categories value counts equal to least count whereas oversampling increase the data and make equal to maximum count values"
   ]
  },
  {
   "cell_type": "code",
   "execution_count": 107,
   "metadata": {
    "scrolled": true
   },
   "outputs": [
    {
     "data": {
      "text/plain": [
       "unacc    975\n",
       "acc      301\n",
       "good      58\n",
       "vgood     48\n",
       "Name: accep, dtype: int64"
      ]
     },
     "execution_count": 107,
     "metadata": {},
     "output_type": "execute_result"
    }
   ],
   "source": [
    "y_train.value_counts()"
   ]
  },
  {
   "cell_type": "code",
   "execution_count": 108,
   "metadata": {
    "scrolled": true
   },
   "outputs": [],
   "source": [
    "#!pip install imblearn"
   ]
  },
  {
   "cell_type": "code",
   "execution_count": 109,
   "metadata": {},
   "outputs": [],
   "source": [
    "from imblearn.over_sampling import SMOTE\n",
    "from imblearn.under_sampling import NearMiss "
   ]
  },
  {
   "cell_type": "code",
   "execution_count": 110,
   "metadata": {},
   "outputs": [],
   "source": [
    "ovr_spl = SMOTE(random_state=42)\n",
    "undr_spl = NearMiss()"
   ]
  },
  {
   "cell_type": "code",
   "execution_count": 111,
   "metadata": {
    "scrolled": false
   },
   "outputs": [
    {
     "data": {
      "text/plain": [
       "(3900, 12)"
      ]
     },
     "execution_count": 111,
     "metadata": {},
     "output_type": "execute_result"
    }
   ],
   "source": [
    "X_train_knn, y_train = ovr_spl.fit_resample(X_train_knn,y_train)\n",
    "X_train_knn.shape"
   ]
  },
  {
   "cell_type": "code",
   "execution_count": 112,
   "metadata": {},
   "outputs": [],
   "source": [
    "X_test_knn = knn_imputer.transform(X_test)"
   ]
  },
  {
   "cell_type": "code",
   "execution_count": 113,
   "metadata": {},
   "outputs": [],
   "source": [
    "X_test_knn = pd.DataFrame(X_test_knn, columns=X_test.columns)"
   ]
  },
  {
   "cell_type": "code",
   "execution_count": 114,
   "metadata": {},
   "outputs": [],
   "source": [
    "#X_train_knn = X_train_knn.apply(lambda x : np.int64(np.round(x)))\n",
    "X_train_knn = X_train_knn.apply(lambda x : np.int64(np.round(x)))"
   ]
  },
  {
   "cell_type": "code",
   "execution_count": 115,
   "metadata": {},
   "outputs": [],
   "source": [
    "#X_test_knn = X_test_knn.apply(lambda x : np.int64(np.round(x)))\n",
    "X_test_knn = X_test_knn.apply(lambda x : np.int64(np.round(x)))"
   ]
  },
  {
   "cell_type": "code",
   "execution_count": 116,
   "metadata": {
    "scrolled": true
   },
   "outputs": [
    {
     "data": {
      "image/png": "[encoded data removed]",
      "text/plain": [
       "<Figure size 640x480 with 1 Axes>"
      ]
     },
     "metadata": {},
     "output_type": "display_data"
    },
    {
     "data": {
      "image/png": "[encoded data removed]",
      "text/plain": [
       "<Figure size 640x480 with 1 Axes>"
      ]
     },
     "metadata": {},
     "output_type": "display_data"
    },
    {
     "data": {
      "image/png": "[encoded data removed]",
      "text/plain": [
       "<Figure size 640x480 with 1 Axes>"
      ]
     },
     "metadata": {},
     "output_type": "display_data"
    },
    {
     "data": {
      "image/png": "[encoded data removed]",
      "text/plain": [
       "<Figure size 640x480 with 1 Axes>"
      ]
     },
     "metadata": {},
     "output_type": "display_data"
    },
    {
     "data": {
      "image/png": "[encoded data removed]",
      "text/plain": [
       "<Figure size 640x480 with 1 Axes>"
      ]
     },
     "metadata": {},
     "output_type": "display_data"
    },
    {
     "data": {
      "image/png": "[encoded data removed]",
      "text/plain": [
       "<Figure size 640x480 with 1 Axes>"
      ]
     },
     "metadata": {},
     "output_type": "display_data"
    }
   ],
   "source": [
    "for feature in real_cols:\n",
    "    plt.title(f\"{feature} - Box plot\")\n",
    "    sns.boxplot(x= feature, data=X_train_knn)\n",
    "    plt.show()"
   ]
  },
  {
   "cell_type": "markdown",
   "metadata": {},
   "source": [
    "Since we imputed null values, let's handle nominal category data"
   ]
  },
  {
   "cell_type": "code",
   "execution_count": 117,
   "metadata": {
    "scrolled": true
   },
   "outputs": [
    {
     "data": {
      "text/html": [
       "<div>\n",
       "<style scoped>\n",
       "    .dataframe tbody tr th:only-of-type {\n",
       "        vertical-align: middle;\n",
       "    }\n",
       "\n",
       "    .dataframe tbody tr th {\n",
       "        vertical-align: top;\n",
       "    }\n",
       "\n",
       "    .dataframe thead th {\n",
       "        text-align: right;\n",
       "    }\n",
       "</style>\n",
       "<table border=\"1\" class=\"dataframe\">\n",
       "  <thead>\n",
       "    <tr style=\"text-align: right;\">\n",
       "      <th></th>\n",
       "      <th>buying</th>\n",
       "      <th>maint</th>\n",
       "      <th>doors</th>\n",
       "      <th>persons</th>\n",
       "      <th>lug_boot</th>\n",
       "      <th>safety</th>\n",
       "      <th>buying_na</th>\n",
       "      <th>maint_na</th>\n",
       "      <th>doors_na</th>\n",
       "      <th>persons_na</th>\n",
       "      <th>lug_boot_na</th>\n",
       "      <th>safety_na</th>\n",
       "    </tr>\n",
       "  </thead>\n",
       "  <tbody>\n",
       "    <tr>\n",
       "      <th>0</th>\n",
       "      <td>4</td>\n",
       "      <td>4</td>\n",
       "      <td>6</td>\n",
       "      <td>6</td>\n",
       "      <td>3</td>\n",
       "      <td>3</td>\n",
       "      <td>0</td>\n",
       "      <td>0</td>\n",
       "      <td>0</td>\n",
       "      <td>0</td>\n",
       "      <td>0</td>\n",
       "      <td>0</td>\n",
       "    </tr>\n",
       "    <tr>\n",
       "      <th>1</th>\n",
       "      <td>2</td>\n",
       "      <td>4</td>\n",
       "      <td>3</td>\n",
       "      <td>4</td>\n",
       "      <td>1</td>\n",
       "      <td>2</td>\n",
       "      <td>0</td>\n",
       "      <td>0</td>\n",
       "      <td>0</td>\n",
       "      <td>0</td>\n",
       "      <td>0</td>\n",
       "      <td>0</td>\n",
       "    </tr>\n",
       "    <tr>\n",
       "      <th>2</th>\n",
       "      <td>1</td>\n",
       "      <td>1</td>\n",
       "      <td>6</td>\n",
       "      <td>2</td>\n",
       "      <td>3</td>\n",
       "      <td>3</td>\n",
       "      <td>0</td>\n",
       "      <td>0</td>\n",
       "      <td>0</td>\n",
       "      <td>0</td>\n",
       "      <td>0</td>\n",
       "      <td>0</td>\n",
       "    </tr>\n",
       "    <tr>\n",
       "      <th>3</th>\n",
       "      <td>3</td>\n",
       "      <td>2</td>\n",
       "      <td>4</td>\n",
       "      <td>2</td>\n",
       "      <td>2</td>\n",
       "      <td>2</td>\n",
       "      <td>0</td>\n",
       "      <td>0</td>\n",
       "      <td>0</td>\n",
       "      <td>0</td>\n",
       "      <td>0</td>\n",
       "      <td>0</td>\n",
       "    </tr>\n",
       "    <tr>\n",
       "      <th>4</th>\n",
       "      <td>3</td>\n",
       "      <td>2</td>\n",
       "      <td>3</td>\n",
       "      <td>2</td>\n",
       "      <td>2</td>\n",
       "      <td>1</td>\n",
       "      <td>0</td>\n",
       "      <td>0</td>\n",
       "      <td>0</td>\n",
       "      <td>0</td>\n",
       "      <td>0</td>\n",
       "      <td>0</td>\n",
       "    </tr>\n",
       "  </tbody>\n",
       "</table>\n",
       "</div>"
      ],
      "text/plain": [
       "   buying  maint  doors  persons  lug_boot  safety  buying_na  maint_na  \\\n",
       "0       4      4      6        6         3       3          0         0   \n",
       "1       2      4      3        4         1       2          0         0   \n",
       "2       1      1      6        2         3       3          0         0   \n",
       "3       3      2      4        2         2       2          0         0   \n",
       "4       3      2      3        2         2       1          0         0   \n",
       "\n",
       "   doors_na  persons_na  lug_boot_na  safety_na  \n",
       "0         0           0            0          0  \n",
       "1         0           0            0          0  \n",
       "2         0           0            0          0  \n",
       "3         0           0            0          0  \n",
       "4         0           0            0          0  "
      ]
     },
     "execution_count": 117,
     "metadata": {},
     "output_type": "execute_result"
    }
   ],
   "source": [
    "X_train_knn.head()"
   ]
  },
  {
   "cell_type": "markdown",
   "metadata": {},
   "source": [
    "Encoding dependent variable by replace"
   ]
  },
  {
   "cell_type": "code",
   "execution_count": 118,
   "metadata": {},
   "outputs": [],
   "source": [
    "y_train.unique()\n",
    "order_3 = {'unacc' : 0, 'acc' : 1, 'good' : 2, 'vgood' : 3}\n",
    "y_train.replace(order_3, inplace=True)"
   ]
  },
  {
   "cell_type": "code",
   "execution_count": 119,
   "metadata": {},
   "outputs": [],
   "source": [
    "#y_test.unique()\n",
    "#order_3 = {'unacc' : 0, 'acc' : 1, 'good' : 2, 'vgood' : 3}\n",
    "#y_test.replace(order_3, inplace=True)"
   ]
  },
  {
   "cell_type": "markdown",
   "metadata": {},
   "source": [
    "Let's cluster the data before applying as clustering techniques have a disadvantage with nominal encoding"
   ]
  },
  {
   "cell_type": "markdown",
   "metadata": {},
   "source": [
    "# Clustering the data points"
   ]
  },
  {
   "cell_type": "code",
   "execution_count": 120,
   "metadata": {},
   "outputs": [],
   "source": [
    "from sklearn.cluster import KMeans"
   ]
  },
  {
   "cell_type": "code",
   "execution_count": 121,
   "metadata": {},
   "outputs": [],
   "source": [
    "wcss = []\n",
    "for cluster in range(1, 11):\n",
    "    kmeans = KMeans(n_clusters=cluster, n_init=10, random_state=42)\n",
    "    kmeans.fit(X_train_knn[real_cols])\n",
    "    wcss.append(kmeans.inertia_)"
   ]
  },
  {
   "cell_type": "markdown",
   "metadata": {},
   "source": [
    "Let's Plot the WCSS graph and identity K value "
   ]
  },
  {
   "cell_type": "code",
   "execution_count": 122,
   "metadata": {
    "scrolled": false
   },
   "outputs": [
    {
     "data": {
      "image/png": "[encoded data removed]",
      "text/plain": [
       "<Figure size 640x480 with 1 Axes>"
      ]
     },
     "metadata": {},
     "output_type": "display_data"
    }
   ],
   "source": [
    "sns.reset_defaults()\n",
    "\n",
    "plt.plot(range(1, 11), wcss)\n",
    "plt.title(\"KMeans Clustering\")\n",
    "plt.xlabel(\"K Value\")\n",
    "plt.ylabel(\"WCSS\")\n",
    "plt.show()"
   ]
  },
  {
   "cell_type": "markdown",
   "metadata": {},
   "source": [
    "looking from above elbow curve, we can consider k value between 4 to 6, let's get the k value from a KneeLocator method"
   ]
  },
  {
   "cell_type": "code",
   "execution_count": 123,
   "metadata": {},
   "outputs": [
    {
     "name": "stdout",
     "output_type": "stream",
     "text": [
      "K value from KneeLocator : 3\n"
     ]
    }
   ],
   "source": [
    "from kneed import KneeLocator\n",
    "knee = KneeLocator(range(1, 11), wcss, direction=\"decreasing\", curve=\"convex\")\n",
    "k_value = knee.knee\n",
    "print(f\"K value from KneeLocator : {k_value}\")"
   ]
  },
  {
   "cell_type": "code",
   "execution_count": 124,
   "metadata": {
    "scrolled": true
   },
   "outputs": [
    {
     "data": {
      "text/html": [
       "<div>\n",
       "<style scoped>\n",
       "    .dataframe tbody tr th:only-of-type {\n",
       "        vertical-align: middle;\n",
       "    }\n",
       "\n",
       "    .dataframe tbody tr th {\n",
       "        vertical-align: top;\n",
       "    }\n",
       "\n",
       "    .dataframe thead th {\n",
       "        text-align: right;\n",
       "    }\n",
       "</style>\n",
       "<table border=\"1\" class=\"dataframe\">\n",
       "  <thead>\n",
       "    <tr style=\"text-align: right;\">\n",
       "      <th></th>\n",
       "      <th>clusters</th>\n",
       "    </tr>\n",
       "  </thead>\n",
       "  <tbody>\n",
       "    <tr>\n",
       "      <th>0</th>\n",
       "      <td>1</td>\n",
       "    </tr>\n",
       "    <tr>\n",
       "      <th>1</th>\n",
       "      <td>0</td>\n",
       "    </tr>\n",
       "    <tr>\n",
       "      <th>2</th>\n",
       "      <td>1</td>\n",
       "    </tr>\n",
       "    <tr>\n",
       "      <th>3</th>\n",
       "      <td>0</td>\n",
       "    </tr>\n",
       "    <tr>\n",
       "      <th>4</th>\n",
       "      <td>0</td>\n",
       "    </tr>\n",
       "  </tbody>\n",
       "</table>\n",
       "</div>"
      ],
      "text/plain": [
       "   clusters\n",
       "0         1\n",
       "1         0\n",
       "2         1\n",
       "3         0\n",
       "4         0"
      ]
     },
     "execution_count": 124,
     "metadata": {},
     "output_type": "execute_result"
    }
   ],
   "source": [
    "kmeans = KMeans(n_clusters=k_value, n_init=10, random_state=42)\n",
    "kmeans.fit(X_train_knn[real_cols])\n",
    "clusters = kmeans.predict(X_train_knn[real_cols])\n",
    "\n",
    "clusters_train = pd.Series(clusters)\n",
    "clusters_train = pd.DataFrame(clusters, columns=['clusters'])\n",
    "clusters_train.head()"
   ]
  },
  {
   "cell_type": "code",
   "execution_count": 125,
   "metadata": {
    "scrolled": true
   },
   "outputs": [
    {
     "data": {
      "text/html": [
       "<div>\n",
       "<style scoped>\n",
       "    .dataframe tbody tr th:only-of-type {\n",
       "        vertical-align: middle;\n",
       "    }\n",
       "\n",
       "    .dataframe tbody tr th {\n",
       "        vertical-align: top;\n",
       "    }\n",
       "\n",
       "    .dataframe thead th {\n",
       "        text-align: right;\n",
       "    }\n",
       "</style>\n",
       "<table border=\"1\" class=\"dataframe\">\n",
       "  <thead>\n",
       "    <tr style=\"text-align: right;\">\n",
       "      <th></th>\n",
       "      <th>clusters</th>\n",
       "    </tr>\n",
       "  </thead>\n",
       "  <tbody>\n",
       "    <tr>\n",
       "      <th>0</th>\n",
       "      <td>0</td>\n",
       "    </tr>\n",
       "    <tr>\n",
       "      <th>1</th>\n",
       "      <td>0</td>\n",
       "    </tr>\n",
       "    <tr>\n",
       "      <th>2</th>\n",
       "      <td>1</td>\n",
       "    </tr>\n",
       "    <tr>\n",
       "      <th>3</th>\n",
       "      <td>1</td>\n",
       "    </tr>\n",
       "    <tr>\n",
       "      <th>4</th>\n",
       "      <td>2</td>\n",
       "    </tr>\n",
       "  </tbody>\n",
       "</table>\n",
       "</div>"
      ],
      "text/plain": [
       "   clusters\n",
       "0         0\n",
       "1         0\n",
       "2         1\n",
       "3         1\n",
       "4         2"
      ]
     },
     "execution_count": 125,
     "metadata": {},
     "output_type": "execute_result"
    }
   ],
   "source": [
    "clusters_test = kmeans.predict(X_test_knn[real_cols])\n",
    "\n",
    "clusters_test = pd.Series(clusters_test)\n",
    "clusters_test = pd.DataFrame(clusters_test, columns=['clusters'])\n",
    "clusters_test.head()"
   ]
  },
  {
   "cell_type": "code",
   "execution_count": 126,
   "metadata": {},
   "outputs": [
    {
     "data": {
      "text/plain": [
       "(346, 1)"
      ]
     },
     "execution_count": 126,
     "metadata": {},
     "output_type": "execute_result"
    }
   ],
   "source": [
    "clusters_test.shape"
   ]
  },
  {
   "cell_type": "code",
   "execution_count": 127,
   "metadata": {
    "scrolled": true
   },
   "outputs": [
    {
     "name": "stdout",
     "output_type": "stream",
     "text": [
      "doors unique values [6 3 4 2 5]\n",
      "persons unique values [6 4 2 3 5]\n",
      "lug_boot unique values [3 1 2]\n"
     ]
    }
   ],
   "source": [
    "nominal_categories = [\"doors\",\"persons\",\"lug_boot\"]\n",
    "for feature in nominal_categories:\n",
    "    print(f\"{feature} unique values {X_train_knn[feature].unique()}\")"
   ]
  },
  {
   "cell_type": "markdown",
   "metadata": {},
   "source": [
    "Let's replace doors value (6) with others, as initially we replaced 'more' value with 6 for doors feature\n",
    "Let's replace persons value (6) with others, as initially we replaced '5more' value with 6 for replace feature"
   ]
  },
  {
   "cell_type": "markdown",
   "metadata": {
    "scrolled": true
   },
   "source": [
    "for feature in nominal_categories:\n",
    "    X_train_knn[feature] = X_train_knn[feature].apply(lambda x : feature + '_' + str(x).strip())\n",
    "X_train_knn.head()"
   ]
  },
  {
   "cell_type": "markdown",
   "metadata": {},
   "source": [
    "for feature in nominal_categories:\n",
    "    X_test_knn[feature] = X_test_knn[feature].apply(lambda x : feature + '_' + str(x).strip())\n",
    "#X_test_knn.head()"
   ]
  },
  {
   "cell_type": "markdown",
   "metadata": {
    "scrolled": true
   },
   "source": [
    "def _one_hot_encoder(data, nominal_categories):\n",
    "    df = data.copy()\n",
    "    for feature in nominal_categories:\n",
    "        df = pd.concat([df, pd.get_dummies(df[feature], drop_first=True)], axis=1)\n",
    "    return df\n",
    "X_train_knn = _one_hot_encoder(X_train_knn, nominal_categories)\n",
    "X_train_knn.head()"
   ]
  },
  {
   "cell_type": "markdown",
   "metadata": {},
   "source": [
    "X_test_knn = _one_hot_encoder(X_test_knn, nominal_categories)"
   ]
  },
  {
   "cell_type": "markdown",
   "metadata": {},
   "source": [
    "X_train_knn.drop(nominal_categories, axis=1, inplace=True)"
   ]
  },
  {
   "cell_type": "markdown",
   "metadata": {},
   "source": [
    "X_test_knn.drop(nominal_categories, axis=1, inplace=True)"
   ]
  },
  {
   "cell_type": "markdown",
   "metadata": {
    "scrolled": false
   },
   "source": [
    "X_train_knn.head()"
   ]
  },
  {
   "cell_type": "markdown",
   "metadata": {
    "scrolled": true
   },
   "source": [
    "X_train_knn.rename(columns={\"doors_6\": \"doors_more\",\"persons_6\": \"persons_more\"}, inplace=True)\n",
    "X_train_knn.head()"
   ]
  },
  {
   "cell_type": "markdown",
   "metadata": {},
   "source": [
    "X_test_knn.rename(columns={\"doors_6\": \"doors_more\",\"persons_6\": \"persons_more\"}, inplace=True)"
   ]
  },
  {
   "cell_type": "code",
   "execution_count": 128,
   "metadata": {
    "scrolled": true
   },
   "outputs": [
    {
     "data": {
      "text/html": [
       "<div>\n",
       "<style scoped>\n",
       "    .dataframe tbody tr th:only-of-type {\n",
       "        vertical-align: middle;\n",
       "    }\n",
       "\n",
       "    .dataframe tbody tr th {\n",
       "        vertical-align: top;\n",
       "    }\n",
       "\n",
       "    .dataframe thead th {\n",
       "        text-align: right;\n",
       "    }\n",
       "</style>\n",
       "<table border=\"1\" class=\"dataframe\">\n",
       "  <thead>\n",
       "    <tr style=\"text-align: right;\">\n",
       "      <th></th>\n",
       "      <th>buying</th>\n",
       "      <th>maint</th>\n",
       "      <th>doors</th>\n",
       "      <th>persons</th>\n",
       "      <th>lug_boot</th>\n",
       "      <th>safety</th>\n",
       "    </tr>\n",
       "  </thead>\n",
       "  <tbody>\n",
       "    <tr>\n",
       "      <th>0</th>\n",
       "      <td>4</td>\n",
       "      <td>4</td>\n",
       "      <td>6</td>\n",
       "      <td>6</td>\n",
       "      <td>3</td>\n",
       "      <td>3</td>\n",
       "    </tr>\n",
       "    <tr>\n",
       "      <th>1</th>\n",
       "      <td>2</td>\n",
       "      <td>4</td>\n",
       "      <td>3</td>\n",
       "      <td>4</td>\n",
       "      <td>1</td>\n",
       "      <td>2</td>\n",
       "    </tr>\n",
       "    <tr>\n",
       "      <th>2</th>\n",
       "      <td>1</td>\n",
       "      <td>1</td>\n",
       "      <td>6</td>\n",
       "      <td>2</td>\n",
       "      <td>3</td>\n",
       "      <td>3</td>\n",
       "    </tr>\n",
       "    <tr>\n",
       "      <th>3</th>\n",
       "      <td>3</td>\n",
       "      <td>2</td>\n",
       "      <td>4</td>\n",
       "      <td>2</td>\n",
       "      <td>2</td>\n",
       "      <td>2</td>\n",
       "    </tr>\n",
       "    <tr>\n",
       "      <th>4</th>\n",
       "      <td>3</td>\n",
       "      <td>2</td>\n",
       "      <td>3</td>\n",
       "      <td>2</td>\n",
       "      <td>2</td>\n",
       "      <td>1</td>\n",
       "    </tr>\n",
       "  </tbody>\n",
       "</table>\n",
       "</div>"
      ],
      "text/plain": [
       "   buying  maint  doors  persons  lug_boot  safety\n",
       "0       4      4      6        6         3       3\n",
       "1       2      4      3        4         1       2\n",
       "2       1      1      6        2         3       3\n",
       "3       3      2      4        2         2       2\n",
       "4       3      2      3        2         2       1"
      ]
     },
     "execution_count": 128,
     "metadata": {},
     "output_type": "execute_result"
    }
   ],
   "source": [
    "extra_cols = [\"buying_na\",\"maint_na\",\"doors_na\",\"persons_na\",\"lug_boot_na\",\"safety_na\"]\n",
    "X_train_knn.drop(extra_cols, axis=1, inplace=True)\n",
    "X_train_knn.head()"
   ]
  },
  {
   "cell_type": "code",
   "execution_count": 129,
   "metadata": {},
   "outputs": [],
   "source": [
    "extra_cols = [\"buying_na\",\"maint_na\",\"doors_na\",\"persons_na\",\"lug_boot_na\",\"safety_na\"]\n",
    "X_test_knn.drop(extra_cols, axis=1, inplace=True)"
   ]
  },
  {
   "cell_type": "code",
   "execution_count": 130,
   "metadata": {},
   "outputs": [
    {
     "data": {
      "text/plain": [
       "((3900, 6), (346, 6), (3900,), (346,))"
      ]
     },
     "execution_count": 130,
     "metadata": {},
     "output_type": "execute_result"
    }
   ],
   "source": [
    "X_train_knn.shape, X_test_knn.shape, y_train.shape, y_test.shape"
   ]
  },
  {
   "cell_type": "code",
   "execution_count": 131,
   "metadata": {},
   "outputs": [
    {
     "data": {
      "text/html": [
       "<div>\n",
       "<style scoped>\n",
       "    .dataframe tbody tr th:only-of-type {\n",
       "        vertical-align: middle;\n",
       "    }\n",
       "\n",
       "    .dataframe tbody tr th {\n",
       "        vertical-align: top;\n",
       "    }\n",
       "\n",
       "    .dataframe thead th {\n",
       "        text-align: right;\n",
       "    }\n",
       "</style>\n",
       "<table border=\"1\" class=\"dataframe\">\n",
       "  <thead>\n",
       "    <tr style=\"text-align: right;\">\n",
       "      <th></th>\n",
       "      <th>buying</th>\n",
       "      <th>maint</th>\n",
       "      <th>doors</th>\n",
       "      <th>persons</th>\n",
       "      <th>lug_boot</th>\n",
       "      <th>safety</th>\n",
       "    </tr>\n",
       "  </thead>\n",
       "  <tbody>\n",
       "    <tr>\n",
       "      <th>0</th>\n",
       "      <td>4</td>\n",
       "      <td>4</td>\n",
       "      <td>6</td>\n",
       "      <td>6</td>\n",
       "      <td>3</td>\n",
       "      <td>3</td>\n",
       "    </tr>\n",
       "    <tr>\n",
       "      <th>1</th>\n",
       "      <td>2</td>\n",
       "      <td>4</td>\n",
       "      <td>3</td>\n",
       "      <td>4</td>\n",
       "      <td>1</td>\n",
       "      <td>2</td>\n",
       "    </tr>\n",
       "    <tr>\n",
       "      <th>2</th>\n",
       "      <td>1</td>\n",
       "      <td>1</td>\n",
       "      <td>6</td>\n",
       "      <td>2</td>\n",
       "      <td>3</td>\n",
       "      <td>3</td>\n",
       "    </tr>\n",
       "    <tr>\n",
       "      <th>3</th>\n",
       "      <td>3</td>\n",
       "      <td>2</td>\n",
       "      <td>4</td>\n",
       "      <td>2</td>\n",
       "      <td>2</td>\n",
       "      <td>2</td>\n",
       "    </tr>\n",
       "    <tr>\n",
       "      <th>4</th>\n",
       "      <td>3</td>\n",
       "      <td>2</td>\n",
       "      <td>3</td>\n",
       "      <td>2</td>\n",
       "      <td>2</td>\n",
       "      <td>1</td>\n",
       "    </tr>\n",
       "  </tbody>\n",
       "</table>\n",
       "</div>"
      ],
      "text/plain": [
       "   buying  maint  doors  persons  lug_boot  safety\n",
       "0       4      4      6        6         3       3\n",
       "1       2      4      3        4         1       2\n",
       "2       1      1      6        2         3       3\n",
       "3       3      2      4        2         2       2\n",
       "4       3      2      3        2         2       1"
      ]
     },
     "execution_count": 131,
     "metadata": {},
     "output_type": "execute_result"
    }
   ],
   "source": [
    "X_train_knn.head()"
   ]
  },
  {
   "cell_type": "markdown",
   "metadata": {},
   "source": [
    "Let's train our data with different models without cross-validation"
   ]
  },
  {
   "cell_type": "code",
   "execution_count": 132,
   "metadata": {},
   "outputs": [],
   "source": [
    "from sklearn.ensemble import RandomForestClassifier # Random forest classifier\n",
    "\n",
    "# Metrics packages\n",
    "from sklearn.metrics import classification_report, confusion_matrix \n",
    "from sklearn.metrics import precision_score, recall_score, f1_score, roc_curve\n",
    "from sklearn.metrics import accuracy_score, make_scorer"
   ]
  },
  {
   "cell_type": "code",
   "execution_count": 133,
   "metadata": {},
   "outputs": [],
   "source": [
    "rf_clf = RandomForestClassifier()"
   ]
  },
  {
   "cell_type": "markdown",
   "metadata": {},
   "source": [
    "for test_feature in X_train_knn.columns:\n",
    "    if test_feature not in X_test_knn:\n",
    "        X_test_knn[test_feature] = 0"
   ]
  },
  {
   "cell_type": "code",
   "execution_count": 134,
   "metadata": {
    "scrolled": true
   },
   "outputs": [
    {
     "name": "stdout",
     "output_type": "stream",
     "text": [
      "model - RandomForestClassifier()\n",
      "              precision    recall  f1-score   support\n",
      "\n",
      "           0       0.99      1.00      0.99       235\n",
      "           1       0.97      0.87      0.92        83\n",
      "           2       0.47      0.82      0.60        11\n",
      "           3       0.94      0.94      0.94        17\n",
      "\n",
      "    accuracy                           0.96       346\n",
      "   macro avg       0.84      0.91      0.86       346\n",
      "weighted avg       0.97      0.96      0.96       346\n",
      "\n"
     ]
    }
   ],
   "source": [
    "for model in [rf_clf]:\n",
    "    print(f\"model - {model}\")\n",
    "    model.fit(X_train_knn, y_train)\n",
    "    y_pred = model.predict(X_test_knn)\n",
    "    print(classification_report(y_pred=y_pred, y_true=y_test))"
   ]
  },
  {
   "cell_type": "code",
   "execution_count": 135,
   "metadata": {
    "scrolled": true
   },
   "outputs": [
    {
     "name": "stdout",
     "output_type": "stream",
     "text": [
      "Cluster - 0\n",
      "0    541\n",
      "3    375\n",
      "2    369\n",
      "1    365\n",
      "Name: accep, dtype: int64\n",
      "Cluster - 1\n",
      "3    325\n",
      "1    270\n",
      "2    265\n",
      "0    229\n",
      "Name: accep, dtype: int64\n",
      "Cluster - 2\n",
      "2    341\n",
      "1    340\n",
      "3    275\n",
      "0    205\n",
      "Name: accep, dtype: int64\n"
     ]
    }
   ],
   "source": [
    "for cluster in range(k_value):\n",
    "    index = clusters_train[clusters_train['clusters'] == cluster].index\n",
    "    print(f\"Cluster - {cluster}\")\n",
    "    print(y_train.iloc[index].value_counts())"
   ]
  },
  {
   "cell_type": "markdown",
   "metadata": {},
   "source": [
    "Looking at target variable in traning set, all the target classes data points exists in all the clusters. So instead of traning individual cluster level, we will train all the data points at a time \n"
   ]
  },
  {
   "cell_type": "code",
   "execution_count": 136,
   "metadata": {},
   "outputs": [],
   "source": [
    "lg_regression = LogisticRegression()\n",
    "rf_clf = RandomForestClassifier()\n",
    "sgd_clf = SGDClassifier()\n",
    "xgboost = XGBClassifier()"
   ]
  },
  {
   "cell_type": "code",
   "execution_count": 137,
   "metadata": {},
   "outputs": [],
   "source": [
    "def classification_report_with_accuracy_score(y_true, y_pred):\n",
    "    print(classification_report(y_true, y_pred))# print classification report\n",
    "    return accuracy_score(y_true, y_pred) # return accuracy score"
   ]
  },
  {
   "cell_type": "code",
   "execution_count": 138,
   "metadata": {},
   "outputs": [],
   "source": [
    "from sklearn.model_selection import GridSearchCV, RandomizedSearchCV"
   ]
  },
  {
   "cell_type": "code",
   "execution_count": 139,
   "metadata": {},
   "outputs": [],
   "source": [
    "def get_params(model):\n",
    "    params = {}\n",
    "    lg_params = {\n",
    "        \"max_iter\" : np.arange(150, 300, 10),\n",
    "        \"multi_class\" : ['ovr', 'multinomial'],\n",
    "        \"penalty\" : [\"l1\", \"l2\", \"elasticnet\"],\n",
    "        \"solver\" :['newton-cg', 'lbfgs', 'saga'],\n",
    "        \"C\" : [10e-2, 10e-1, 1, 10, 100, 1000, 1000, 10000, 100000],\n",
    "        \"l1_ratio\" : np.linspace(0.1, 0.5, 100)\n",
    "    }\n",
    "\n",
    "\n",
    "    rf_params = {\n",
    "        \"n_estimators\" : np.arange(100, 2100, 100),\n",
    "        \"max_depth\" : np.arange(5, 11,1),\n",
    "        \"min_samples_split\" : np.arange(2,11, 2),\n",
    "        \"min_samples_leaf\" : np.arange(3,10, 2),\n",
    "        \"max_leaf_nodes\" : np.arange(3,10, 2),\n",
    "        \"max_features\" : ['auto', 'sqrt'],\n",
    "        \"bootstrap\" : [True, False]  \n",
    "    }\n",
    "\n",
    "\n",
    "    sgd_params = {\n",
    "        'loss' : ['hinge', 'squared_hinge', 'log'],\n",
    "        'penalty' : ['l1', 'l2', 'elasticnet'],\n",
    "        'alpha': [1e-4, 1e-3, 1e-2, 1e-1, 1e0, 1e1, 1e2, 1e3],\n",
    "        'l1_ratio'  : np.arange(0.1, 0.55, 0.05),\n",
    "        'max_iter'  : np.arange(700, 1200, 100)\n",
    "    }\n",
    "\n",
    "    xgb_params = {\n",
    "        'eta' : np.arange(0.01, 0.3, 0.05),\n",
    "        'max_depth' : np.arange(2, 7, 1),\n",
    "        'n_estimators' : np.arange(700, 1300, 100),\n",
    "        'objective' : ['multi:softmax'], \n",
    "        'num_class' : [4],\n",
    "        'use_label_encoder' : [False],\n",
    "        'eval_metric' : ['mlogloss']\n",
    "    }\n",
    "    params[\"lg_params\"]  = lg_params\n",
    "    params[\"rf_params\"]  = rf_params\n",
    "    params[\"sgd_params\"] = sgd_params\n",
    "    params[\"xgb_params\"] = xgb_params\n",
    "    return params[model]"
   ]
  },
  {
   "cell_type": "code",
   "execution_count": 140,
   "metadata": {},
   "outputs": [],
   "source": [
    "lg_regression = LogisticRegression(random_state=42)\n",
    "rf_clf = RandomForestClassifier(random_state=42)\n",
    "sgd_clf = SGDClassifier(random_state=42)\n",
    "xgboost = XGBClassifier(random_state=42)"
   ]
  },
  {
   "cell_type": "code",
   "execution_count": 141,
   "metadata": {},
   "outputs": [],
   "source": [
    "from sklearn.metrics import accuracy_score, make_scorer\n",
    "\n",
    "def classification_report_with_accuracy_score_train(y_true, y_pred):\n",
    "    #print(classification_report(y_true, y_pred))# print classification report\n",
    "    return accuracy_score(y_true, y_pred) # return accuracy score\n",
    "\n",
    "def classification_report_with_accuracy_score_test(y_true, y_pred):\n",
    "    print(classification_report(y_true, y_pred))# print classification report\n",
    "    return accuracy_score(y_true, y_pred) # return accuracy score"
   ]
  },
  {
   "cell_type": "code",
   "execution_count": 142,
   "metadata": {
    "scrolled": true
   },
   "outputs": [
    {
     "name": "stdout",
     "output_type": "stream",
     "text": [
      "cluster : 0, model : LogisticRegression(random_state=42)\n"
     ]
    },
    {
     "name": "stderr",
     "output_type": "stream",
     "text": [
      "/opt/conda/envs/fastai/lib/python3.8/site-packages/sklearn/linear_model/_sag.py:352: ConvergenceWarning: The max_iter was reached which means the coef_ did not converge\n",
      "  warnings.warn(\n",
      "/opt/conda/envs/fastai/lib/python3.8/site-packages/sklearn/linear_model/_sag.py:352: ConvergenceWarning: The max_iter was reached which means the coef_ did not converge\n",
      "  warnings.warn(\n",
      "/opt/conda/envs/fastai/lib/python3.8/site-packages/sklearn/linear_model/_sag.py:352: ConvergenceWarning: The max_iter was reached which means the coef_ did not converge\n",
      "  warnings.warn(\n",
      "/opt/conda/envs/fastai/lib/python3.8/site-packages/sklearn/linear_model/_sag.py:352: ConvergenceWarning: The max_iter was reached which means the coef_ did not converge\n",
      "  warnings.warn(\n",
      "/opt/conda/envs/fastai/lib/python3.8/site-packages/sklearn/linear_model/_sag.py:352: ConvergenceWarning: The max_iter was reached which means the coef_ did not converge\n",
      "  warnings.warn(\n",
      "/opt/conda/envs/fastai/lib/python3.8/site-packages/sklearn/linear_model/_logistic.py:1476: UserWarning: l1_ratio parameter is only used when penalty is 'elasticnet'. Got (penalty=l1)\n",
      "  warnings.warn(\n",
      "/opt/conda/envs/fastai/lib/python3.8/site-packages/sklearn/linear_model/_sag.py:352: ConvergenceWarning: The max_iter was reached which means the coef_ did not converge\n",
      "  warnings.warn(\n",
      "/opt/conda/envs/fastai/lib/python3.8/site-packages/sklearn/linear_model/_logistic.py:1476: UserWarning: l1_ratio parameter is only used when penalty is 'elasticnet'. Got (penalty=l1)\n",
      "  warnings.warn(\n",
      "/opt/conda/envs/fastai/lib/python3.8/site-packages/sklearn/linear_model/_sag.py:352: ConvergenceWarning: The max_iter was reached which means the coef_ did not converge\n",
      "  warnings.warn(\n",
      "/opt/conda/envs/fastai/lib/python3.8/site-packages/sklearn/linear_model/_logistic.py:1476: UserWarning: l1_ratio parameter is only used when penalty is 'elasticnet'. Got (penalty=l1)\n",
      "  warnings.warn(\n",
      "/opt/conda/envs/fastai/lib/python3.8/site-packages/sklearn/linear_model/_sag.py:352: ConvergenceWarning: The max_iter was reached which means the coef_ did not converge\n",
      "  warnings.warn(\n",
      "/opt/conda/envs/fastai/lib/python3.8/site-packages/sklearn/linear_model/_logistic.py:1476: UserWarning: l1_ratio parameter is only used when penalty is 'elasticnet'. Got (penalty=l1)\n",
      "  warnings.warn(\n",
      "/opt/conda/envs/fastai/lib/python3.8/site-packages/sklearn/linear_model/_sag.py:352: ConvergenceWarning: The max_iter was reached which means the coef_ did not converge\n",
      "  warnings.warn(\n",
      "/opt/conda/envs/fastai/lib/python3.8/site-packages/sklearn/linear_model/_logistic.py:1476: UserWarning: l1_ratio parameter is only used when penalty is 'elasticnet'. Got (penalty=l1)\n",
      "  warnings.warn(\n",
      "/opt/conda/envs/fastai/lib/python3.8/site-packages/sklearn/linear_model/_sag.py:352: ConvergenceWarning: The max_iter was reached which means the coef_ did not converge\n",
      "  warnings.warn(\n",
      "/opt/conda/envs/fastai/lib/python3.8/site-packages/sklearn/linear_model/_logistic.py:1476: UserWarning: l1_ratio parameter is only used when penalty is 'elasticnet'. Got (penalty=l2)\n",
      "  warnings.warn(\n",
      "/opt/conda/envs/fastai/lib/python3.8/site-packages/sklearn/linear_model/_logistic.py:1476: UserWarning: l1_ratio parameter is only used when penalty is 'elasticnet'. Got (penalty=l2)\n",
      "  warnings.warn(\n",
      "/opt/conda/envs/fastai/lib/python3.8/site-packages/sklearn/linear_model/_logistic.py:1476: UserWarning: l1_ratio parameter is only used when penalty is 'elasticnet'. Got (penalty=l2)\n",
      "  warnings.warn(\n",
      "/opt/conda/envs/fastai/lib/python3.8/site-packages/sklearn/linear_model/_logistic.py:1476: UserWarning: l1_ratio parameter is only used when penalty is 'elasticnet'. Got (penalty=l2)\n",
      "  warnings.warn(\n",
      "/opt/conda/envs/fastai/lib/python3.8/site-packages/sklearn/linear_model/_logistic.py:1476: UserWarning: l1_ratio parameter is only used when penalty is 'elasticnet'. Got (penalty=l2)\n",
      "  warnings.warn(\n",
      "/opt/conda/envs/fastai/lib/python3.8/site-packages/sklearn/linear_model/_sag.py:352: ConvergenceWarning: The max_iter was reached which means the coef_ did not converge\n",
      "  warnings.warn(\n",
      "/opt/conda/envs/fastai/lib/python3.8/site-packages/sklearn/linear_model/_sag.py:352: ConvergenceWarning: The max_iter was reached which means the coef_ did not converge\n",
      "  warnings.warn(\n",
      "/opt/conda/envs/fastai/lib/python3.8/site-packages/sklearn/linear_model/_sag.py:352: ConvergenceWarning: The max_iter was reached which means the coef_ did not converge\n",
      "  warnings.warn(\n",
      "/opt/conda/envs/fastai/lib/python3.8/site-packages/sklearn/linear_model/_sag.py:352: ConvergenceWarning: The max_iter was reached which means the coef_ did not converge\n",
      "  warnings.warn(\n",
      "/opt/conda/envs/fastai/lib/python3.8/site-packages/sklearn/linear_model/_sag.py:352: ConvergenceWarning: The max_iter was reached which means the coef_ did not converge\n",
      "  warnings.warn(\n",
      "/opt/conda/envs/fastai/lib/python3.8/site-packages/sklearn/linear_model/_sag.py:352: ConvergenceWarning: The max_iter was reached which means the coef_ did not converge\n",
      "  warnings.warn(\n",
      "/opt/conda/envs/fastai/lib/python3.8/site-packages/sklearn/linear_model/_sag.py:352: ConvergenceWarning: The max_iter was reached which means the coef_ did not converge\n",
      "  warnings.warn(\n",
      "/opt/conda/envs/fastai/lib/python3.8/site-packages/sklearn/linear_model/_sag.py:352: ConvergenceWarning: The max_iter was reached which means the coef_ did not converge\n",
      "  warnings.warn(\n",
      "/opt/conda/envs/fastai/lib/python3.8/site-packages/sklearn/linear_model/_sag.py:352: ConvergenceWarning: The max_iter was reached which means the coef_ did not converge\n",
      "  warnings.warn(\n",
      "/opt/conda/envs/fastai/lib/python3.8/site-packages/sklearn/linear_model/_sag.py:352: ConvergenceWarning: The max_iter was reached which means the coef_ did not converge\n",
      "  warnings.warn(\n",
      "/opt/conda/envs/fastai/lib/python3.8/site-packages/sklearn/linear_model/_logistic.py:1476: UserWarning: l1_ratio parameter is only used when penalty is 'elasticnet'. Got (penalty=l1)\n",
      "  warnings.warn(\n",
      "/opt/conda/envs/fastai/lib/python3.8/site-packages/sklearn/linear_model/_sag.py:352: ConvergenceWarning: The max_iter was reached which means the coef_ did not converge\n",
      "  warnings.warn(\n",
      "/opt/conda/envs/fastai/lib/python3.8/site-packages/sklearn/linear_model/_logistic.py:1476: UserWarning: l1_ratio parameter is only used when penalty is 'elasticnet'. Got (penalty=l1)\n",
      "  warnings.warn(\n",
      "/opt/conda/envs/fastai/lib/python3.8/site-packages/sklearn/linear_model/_sag.py:352: ConvergenceWarning: The max_iter was reached which means the coef_ did not converge\n",
      "  warnings.warn(\n",
      "/opt/conda/envs/fastai/lib/python3.8/site-packages/sklearn/linear_model/_logistic.py:1476: UserWarning: l1_ratio parameter is only used when penalty is 'elasticnet'. Got (penalty=l1)\n",
      "  warnings.warn(\n",
      "/opt/conda/envs/fastai/lib/python3.8/site-packages/sklearn/linear_model/_sag.py:352: ConvergenceWarning: The max_iter was reached which means the coef_ did not converge\n",
      "  warnings.warn(\n",
      "/opt/conda/envs/fastai/lib/python3.8/site-packages/sklearn/linear_model/_logistic.py:1476: UserWarning: l1_ratio parameter is only used when penalty is 'elasticnet'. Got (penalty=l1)\n",
      "  warnings.warn(\n",
      "/opt/conda/envs/fastai/lib/python3.8/site-packages/sklearn/linear_model/_sag.py:352: ConvergenceWarning: The max_iter was reached which means the coef_ did not converge\n",
      "  warnings.warn(\n",
      "/opt/conda/envs/fastai/lib/python3.8/site-packages/sklearn/linear_model/_logistic.py:1476: UserWarning: l1_ratio parameter is only used when penalty is 'elasticnet'. Got (penalty=l1)\n",
      "  warnings.warn(\n",
      "/opt/conda/envs/fastai/lib/python3.8/site-packages/sklearn/linear_model/_sag.py:352: ConvergenceWarning: The max_iter was reached which means the coef_ did not converge\n",
      "  warnings.warn(\n",
      "/opt/conda/envs/fastai/lib/python3.8/site-packages/sklearn/linear_model/_logistic.py:1476: UserWarning: l1_ratio parameter is only used when penalty is 'elasticnet'. Got (penalty=l2)\n",
      "  warnings.warn(\n",
      "/opt/conda/envs/fastai/lib/python3.8/site-packages/sklearn/linear_model/_sag.py:352: ConvergenceWarning: The max_iter was reached which means the coef_ did not converge\n",
      "  warnings.warn(\n",
      "/opt/conda/envs/fastai/lib/python3.8/site-packages/sklearn/linear_model/_logistic.py:1476: UserWarning: l1_ratio parameter is only used when penalty is 'elasticnet'. Got (penalty=l2)\n",
      "  warnings.warn(\n",
      "/opt/conda/envs/fastai/lib/python3.8/site-packages/sklearn/linear_model/_sag.py:352: ConvergenceWarning: The max_iter was reached which means the coef_ did not converge\n",
      "  warnings.warn(\n",
      "/opt/conda/envs/fastai/lib/python3.8/site-packages/sklearn/linear_model/_logistic.py:1476: UserWarning: l1_ratio parameter is only used when penalty is 'elasticnet'. Got (penalty=l2)\n",
      "  warnings.warn(\n",
      "/opt/conda/envs/fastai/lib/python3.8/site-packages/sklearn/linear_model/_sag.py:352: ConvergenceWarning: The max_iter was reached which means the coef_ did not converge\n",
      "  warnings.warn(\n",
      "/opt/conda/envs/fastai/lib/python3.8/site-packages/sklearn/linear_model/_logistic.py:1476: UserWarning: l1_ratio parameter is only used when penalty is 'elasticnet'. Got (penalty=l2)\n",
      "  warnings.warn(\n",
      "/opt/conda/envs/fastai/lib/python3.8/site-packages/sklearn/linear_model/_sag.py:352: ConvergenceWarning: The max_iter was reached which means the coef_ did not converge\n",
      "  warnings.warn(\n",
      "/opt/conda/envs/fastai/lib/python3.8/site-packages/sklearn/linear_model/_logistic.py:1476: UserWarning: l1_ratio parameter is only used when penalty is 'elasticnet'. Got (penalty=l2)\n",
      "  warnings.warn(\n",
      "/opt/conda/envs/fastai/lib/python3.8/site-packages/sklearn/linear_model/_sag.py:352: ConvergenceWarning: The max_iter was reached which means the coef_ did not converge\n",
      "  warnings.warn(\n",
      "/opt/conda/envs/fastai/lib/python3.8/site-packages/sklearn/linear_model/_logistic.py:1476: UserWarning: l1_ratio parameter is only used when penalty is 'elasticnet'. Got (penalty=l2)\n",
      "  warnings.warn(\n",
      "/opt/conda/envs/fastai/lib/python3.8/site-packages/sklearn/linear_model/_logistic.py:1476: UserWarning: l1_ratio parameter is only used when penalty is 'elasticnet'. Got (penalty=l2)\n",
      "  warnings.warn(\n",
      "/opt/conda/envs/fastai/lib/python3.8/site-packages/sklearn/linear_model/_logistic.py:1476: UserWarning: l1_ratio parameter is only used when penalty is 'elasticnet'. Got (penalty=l2)\n",
      "  warnings.warn(\n",
      "/opt/conda/envs/fastai/lib/python3.8/site-packages/sklearn/linear_model/_logistic.py:1476: UserWarning: l1_ratio parameter is only used when penalty is 'elasticnet'. Got (penalty=l2)\n",
      "  warnings.warn(\n",
      "/opt/conda/envs/fastai/lib/python3.8/site-packages/sklearn/linear_model/_logistic.py:1476: UserWarning: l1_ratio parameter is only used when penalty is 'elasticnet'. Got (penalty=l2)\n",
      "  warnings.warn(\n",
      "/opt/conda/envs/fastai/lib/python3.8/site-packages/sklearn/model_selection/_validation.py:372: FitFailedWarning: \n",
      "35 fits failed out of a total of 75.\n",
      "The score on these train-test partitions for these parameters will be set to nan.\n",
      "If these failures are not expected, you can try to debug them by setting error_score='raise'.\n",
      "\n",
      "Below are more details about the failures:\n",
      "--------------------------------------------------------------------------------\n",
      "20 fits failed with the following error:\n",
      "Traceback (most recent call last):\n",
      "  File \"/opt/conda/envs/fastai/lib/python3.8/site-packages/sklearn/model_selection/_validation.py\", line 681, in _fit_and_score\n",
      "    estimator.fit(X_train, y_train, **fit_params)\n",
      "  File \"/opt/conda/envs/fastai/lib/python3.8/site-packages/sklearn/linear_model/_logistic.py\", line 1461, in fit\n",
      "    solver = _check_solver(self.solver, self.penalty, self.dual)\n",
      "  File \"/opt/conda/envs/fastai/lib/python3.8/site-packages/sklearn/linear_model/_logistic.py\", line 447, in _check_solver\n",
      "    raise ValueError(\n",
      "ValueError: Solver lbfgs supports only 'l2' or 'none' penalties, got elasticnet penalty.\n",
      "\n",
      "--------------------------------------------------------------------------------\n",
      "5 fits failed with the following error:\n",
      "Traceback (most recent call last):\n",
      "  File \"/opt/conda/envs/fastai/lib/python3.8/site-packages/sklearn/model_selection/_validation.py\", line 681, in _fit_and_score\n",
      "    estimator.fit(X_train, y_train, **fit_params)\n",
      "  File \"/opt/conda/envs/fastai/lib/python3.8/site-packages/sklearn/linear_model/_logistic.py\", line 1461, in fit\n",
      "    solver = _check_solver(self.solver, self.penalty, self.dual)\n",
      "  File \"/opt/conda/envs/fastai/lib/python3.8/site-packages/sklearn/linear_model/_logistic.py\", line 447, in _check_solver\n",
      "    raise ValueError(\n",
      "ValueError: Solver newton-cg supports only 'l2' or 'none' penalties, got elasticnet penalty.\n",
      "\n",
      "--------------------------------------------------------------------------------\n",
      "5 fits failed with the following error:\n",
      "Traceback (most recent call last):\n",
      "  File \"/opt/conda/envs/fastai/lib/python3.8/site-packages/sklearn/model_selection/_validation.py\", line 681, in _fit_and_score\n",
      "    estimator.fit(X_train, y_train, **fit_params)\n",
      "  File \"/opt/conda/envs/fastai/lib/python3.8/site-packages/sklearn/linear_model/_logistic.py\", line 1461, in fit\n",
      "    solver = _check_solver(self.solver, self.penalty, self.dual)\n",
      "  File \"/opt/conda/envs/fastai/lib/python3.8/site-packages/sklearn/linear_model/_logistic.py\", line 447, in _check_solver\n",
      "    raise ValueError(\n",
      "ValueError: Solver newton-cg supports only 'l2' or 'none' penalties, got l1 penalty.\n",
      "\n",
      "--------------------------------------------------------------------------------\n",
      "5 fits failed with the following error:\n",
      "Traceback (most recent call last):\n",
      "  File \"/opt/conda/envs/fastai/lib/python3.8/site-packages/sklearn/model_selection/_validation.py\", line 681, in _fit_and_score\n",
      "    estimator.fit(X_train, y_train, **fit_params)\n",
      "  File \"/opt/conda/envs/fastai/lib/python3.8/site-packages/sklearn/linear_model/_logistic.py\", line 1461, in fit\n",
      "    solver = _check_solver(self.solver, self.penalty, self.dual)\n",
      "  File \"/opt/conda/envs/fastai/lib/python3.8/site-packages/sklearn/linear_model/_logistic.py\", line 447, in _check_solver\n",
      "    raise ValueError(\n",
      "ValueError: Solver lbfgs supports only 'l2' or 'none' penalties, got l1 penalty.\n",
      "\n",
      "  warnings.warn(some_fits_failed_message, FitFailedWarning)\n",
      "/opt/conda/envs/fastai/lib/python3.8/site-packages/sklearn/model_selection/_search.py:969: UserWarning: One or more of the test scores are non-finite: [0.84282051 0.82128205 0.82128205        nan        nan 0.82128205\n",
      " 0.8425641  0.82102564        nan 0.82282051        nan        nan\n",
      " 0.8225641         nan        nan]\n",
      "  warnings.warn(\n",
      "/opt/conda/envs/fastai/lib/python3.8/site-packages/sklearn/linear_model/_sag.py:352: ConvergenceWarning: The max_iter was reached which means the coef_ did not converge\n",
      "  warnings.warn(\n",
      "/opt/conda/envs/fastai/lib/python3.8/site-packages/sklearn/linear_model/_sag.py:352: ConvergenceWarning: The max_iter was reached which means the coef_ did not converge\n",
      "  warnings.warn(\n"
     ]
    },
    {
     "name": "stdout",
     "output_type": "stream",
     "text": [
      "cluster : 0, model : logistic\n",
      "              precision    recall  f1-score   support\n",
      "\n",
      "           0       0.88      0.85      0.87       128\n",
      "           1       0.71      0.42      0.53        36\n",
      "           2       0.21      0.80      0.33         5\n",
      "           3       0.25      0.67      0.36         3\n",
      "\n",
      "    accuracy                           0.76       172\n",
      "   macro avg       0.51      0.68      0.52       172\n",
      "weighted avg       0.81      0.76      0.77       172\n",
      "\n",
      "cluster : 0, model : SGDClassifier(random_state=42)\n"
     ]
    },
    {
     "name": "stderr",
     "output_type": "stream",
     "text": [
      "/opt/conda/envs/fastai/lib/python3.8/site-packages/sklearn/linear_model/_stochastic_gradient.py:703: ConvergenceWarning: Maximum number of iteration reached before convergence. Consider increasing max_iter to improve the fit.\n",
      "  warnings.warn(\n",
      "/opt/conda/envs/fastai/lib/python3.8/site-packages/sklearn/linear_model/_stochastic_gradient.py:703: ConvergenceWarning: Maximum number of iteration reached before convergence. Consider increasing max_iter to improve the fit.\n",
      "  warnings.warn(\n",
      "/opt/conda/envs/fastai/lib/python3.8/site-packages/sklearn/linear_model/_stochastic_gradient.py:703: ConvergenceWarning: Maximum number of iteration reached before convergence. Consider increasing max_iter to improve the fit.\n",
      "  warnings.warn(\n",
      "/opt/conda/envs/fastai/lib/python3.8/site-packages/sklearn/linear_model/_stochastic_gradient.py:703: ConvergenceWarning: Maximum number of iteration reached before convergence. Consider increasing max_iter to improve the fit.\n",
      "  warnings.warn(\n",
      "/opt/conda/envs/fastai/lib/python3.8/site-packages/sklearn/linear_model/_stochastic_gradient.py:703: ConvergenceWarning: Maximum number of iteration reached before convergence. Consider increasing max_iter to improve the fit.\n",
      "  warnings.warn(\n",
      "/opt/conda/envs/fastai/lib/python3.8/site-packages/sklearn/linear_model/_stochastic_gradient.py:703: ConvergenceWarning: Maximum number of iteration reached before convergence. Consider increasing max_iter to improve the fit.\n",
      "  warnings.warn(\n"
     ]
    },
    {
     "name": "stdout",
     "output_type": "stream",
     "text": [
      "cluster : 0, model : SGD Classifier\n",
      "              precision    recall  f1-score   support\n",
      "\n",
      "           0       0.90      0.89      0.90       128\n",
      "           1       0.76      0.44      0.56        36\n",
      "           2       0.27      0.80      0.40         5\n",
      "           3       0.20      0.67      0.31         3\n",
      "\n",
      "    accuracy                           0.79       172\n",
      "   macro avg       0.53      0.70      0.54       172\n",
      "weighted avg       0.84      0.79      0.80       172\n",
      "\n",
      "cluster : 0, model : XGBClassifier(base_score=None, booster=None, colsample_bylevel=None,\n",
      "              colsample_bynode=None, colsample_bytree=None, gamma=None,\n",
      "              gpu_id=None, importance_type='gain', interaction_constraints=None,\n",
      "              learning_rate=None, max_delta_step=None, max_depth=None,\n",
      "              min_child_weight=None, missing=nan, monotone_constraints=None,\n",
      "              n_estimators=100, n_jobs=None, num_parallel_tree=None,\n",
      "              random_state=42, reg_alpha=None, reg_lambda=None,\n",
      "              scale_pos_weight=None, subsample=None, tree_method=None,\n",
      "              validate_parameters=None, verbosity=None)\n",
      "cluster : 0, model : XGB Classifier\n",
      "              precision    recall  f1-score   support\n",
      "\n",
      "           0       0.98      1.00      0.99       128\n",
      "           1       1.00      0.89      0.94        36\n",
      "           2       0.57      0.80      0.67         5\n",
      "           3       1.00      1.00      1.00         3\n",
      "\n",
      "    accuracy                           0.97       172\n",
      "   macro avg       0.89      0.92      0.90       172\n",
      "weighted avg       0.98      0.97      0.97       172\n",
      "\n",
      "cluster : 0, model : RandomForestClassifier(random_state=42)\n",
      "cluster : 0, model : random forest\n",
      "              precision    recall  f1-score   support\n",
      "\n",
      "           0       0.99      0.98      0.98       128\n",
      "           1       0.88      0.64      0.74        36\n",
      "           2       0.21      0.60      0.32         5\n",
      "           3       0.50      1.00      0.67         3\n",
      "\n",
      "    accuracy                           0.90       172\n",
      "   macro avg       0.65      0.80      0.68       172\n",
      "weighted avg       0.94      0.90      0.91       172\n",
      "\n",
      "cluster : 1, model : LogisticRegression(random_state=42)\n"
     ]
    },
    {
     "name": "stderr",
     "output_type": "stream",
     "text": [
      "/opt/conda/envs/fastai/lib/python3.8/site-packages/sklearn/linear_model/_logistic.py:1476: UserWarning: l1_ratio parameter is only used when penalty is 'elasticnet'. Got (penalty=l2)\n",
      "  warnings.warn(\n",
      "/opt/conda/envs/fastai/lib/python3.8/site-packages/sklearn/linear_model/_logistic.py:1476: UserWarning: l1_ratio parameter is only used when penalty is 'elasticnet'. Got (penalty=l2)\n",
      "  warnings.warn(\n",
      "/opt/conda/envs/fastai/lib/python3.8/site-packages/sklearn/linear_model/_logistic.py:1476: UserWarning: l1_ratio parameter is only used when penalty is 'elasticnet'. Got (penalty=l2)\n",
      "  warnings.warn(\n",
      "/opt/conda/envs/fastai/lib/python3.8/site-packages/sklearn/linear_model/_logistic.py:1476: UserWarning: l1_ratio parameter is only used when penalty is 'elasticnet'. Got (penalty=l2)\n",
      "  warnings.warn(\n",
      "/opt/conda/envs/fastai/lib/python3.8/site-packages/sklearn/linear_model/_logistic.py:1476: UserWarning: l1_ratio parameter is only used when penalty is 'elasticnet'. Got (penalty=l2)\n",
      "  warnings.warn(\n",
      "/opt/conda/envs/fastai/lib/python3.8/site-packages/sklearn/linear_model/_logistic.py:1476: UserWarning: l1_ratio parameter is only used when penalty is 'elasticnet'. Got (penalty=l2)\n",
      "  warnings.warn(\n",
      "/opt/conda/envs/fastai/lib/python3.8/site-packages/sklearn/linear_model/_logistic.py:1476: UserWarning: l1_ratio parameter is only used when penalty is 'elasticnet'. Got (penalty=l2)\n",
      "  warnings.warn(\n",
      "/opt/conda/envs/fastai/lib/python3.8/site-packages/sklearn/linear_model/_logistic.py:1476: UserWarning: l1_ratio parameter is only used when penalty is 'elasticnet'. Got (penalty=l2)\n",
      "  warnings.warn(\n",
      "/opt/conda/envs/fastai/lib/python3.8/site-packages/sklearn/linear_model/_logistic.py:1476: UserWarning: l1_ratio parameter is only used when penalty is 'elasticnet'. Got (penalty=l2)\n",
      "  warnings.warn(\n",
      "/opt/conda/envs/fastai/lib/python3.8/site-packages/sklearn/linear_model/_logistic.py:1476: UserWarning: l1_ratio parameter is only used when penalty is 'elasticnet'. Got (penalty=l2)\n",
      "  warnings.warn(\n",
      "/opt/conda/envs/fastai/lib/python3.8/site-packages/sklearn/linear_model/_sag.py:352: ConvergenceWarning: The max_iter was reached which means the coef_ did not converge\n",
      "  warnings.warn(\n",
      "/opt/conda/envs/fastai/lib/python3.8/site-packages/sklearn/linear_model/_sag.py:352: ConvergenceWarning: The max_iter was reached which means the coef_ did not converge\n",
      "  warnings.warn(\n",
      "/opt/conda/envs/fastai/lib/python3.8/site-packages/sklearn/linear_model/_sag.py:352: ConvergenceWarning: The max_iter was reached which means the coef_ did not converge\n",
      "  warnings.warn(\n",
      "/opt/conda/envs/fastai/lib/python3.8/site-packages/sklearn/linear_model/_sag.py:352: ConvergenceWarning: The max_iter was reached which means the coef_ did not converge\n",
      "  warnings.warn(\n",
      "/opt/conda/envs/fastai/lib/python3.8/site-packages/sklearn/linear_model/_sag.py:352: ConvergenceWarning: The max_iter was reached which means the coef_ did not converge\n",
      "  warnings.warn(\n",
      "/opt/conda/envs/fastai/lib/python3.8/site-packages/sklearn/linear_model/_logistic.py:1476: UserWarning: l1_ratio parameter is only used when penalty is 'elasticnet'. Got (penalty=l2)\n",
      "  warnings.warn(\n",
      "/opt/conda/envs/fastai/lib/python3.8/site-packages/sklearn/linear_model/_sag.py:352: ConvergenceWarning: The max_iter was reached which means the coef_ did not converge\n",
      "  warnings.warn(\n",
      "/opt/conda/envs/fastai/lib/python3.8/site-packages/sklearn/linear_model/_logistic.py:1476: UserWarning: l1_ratio parameter is only used when penalty is 'elasticnet'. Got (penalty=l2)\n",
      "  warnings.warn(\n",
      "/opt/conda/envs/fastai/lib/python3.8/site-packages/sklearn/linear_model/_sag.py:352: ConvergenceWarning: The max_iter was reached which means the coef_ did not converge\n",
      "  warnings.warn(\n",
      "/opt/conda/envs/fastai/lib/python3.8/site-packages/sklearn/linear_model/_logistic.py:1476: UserWarning: l1_ratio parameter is only used when penalty is 'elasticnet'. Got (penalty=l2)\n",
      "  warnings.warn(\n",
      "/opt/conda/envs/fastai/lib/python3.8/site-packages/sklearn/linear_model/_sag.py:352: ConvergenceWarning: The max_iter was reached which means the coef_ did not converge\n",
      "  warnings.warn(\n",
      "/opt/conda/envs/fastai/lib/python3.8/site-packages/sklearn/linear_model/_logistic.py:1476: UserWarning: l1_ratio parameter is only used when penalty is 'elasticnet'. Got (penalty=l2)\n",
      "  warnings.warn(\n",
      "/opt/conda/envs/fastai/lib/python3.8/site-packages/sklearn/linear_model/_sag.py:352: ConvergenceWarning: The max_iter was reached which means the coef_ did not converge\n",
      "  warnings.warn(\n",
      "/opt/conda/envs/fastai/lib/python3.8/site-packages/sklearn/linear_model/_logistic.py:1476: UserWarning: l1_ratio parameter is only used when penalty is 'elasticnet'. Got (penalty=l2)\n",
      "  warnings.warn(\n",
      "/opt/conda/envs/fastai/lib/python3.8/site-packages/sklearn/linear_model/_sag.py:352: ConvergenceWarning: The max_iter was reached which means the coef_ did not converge\n",
      "  warnings.warn(\n",
      "/opt/conda/envs/fastai/lib/python3.8/site-packages/sklearn/linear_model/_sag.py:352: ConvergenceWarning: The max_iter was reached which means the coef_ did not converge\n",
      "  warnings.warn(\n",
      "/opt/conda/envs/fastai/lib/python3.8/site-packages/sklearn/linear_model/_sag.py:352: ConvergenceWarning: The max_iter was reached which means the coef_ did not converge\n",
      "  warnings.warn(\n",
      "/opt/conda/envs/fastai/lib/python3.8/site-packages/sklearn/linear_model/_sag.py:352: ConvergenceWarning: The max_iter was reached which means the coef_ did not converge\n",
      "  warnings.warn(\n",
      "/opt/conda/envs/fastai/lib/python3.8/site-packages/sklearn/linear_model/_sag.py:352: ConvergenceWarning: The max_iter was reached which means the coef_ did not converge\n",
      "  warnings.warn(\n",
      "/opt/conda/envs/fastai/lib/python3.8/site-packages/sklearn/linear_model/_sag.py:352: ConvergenceWarning: The max_iter was reached which means the coef_ did not converge\n",
      "  warnings.warn(\n",
      "/opt/conda/envs/fastai/lib/python3.8/site-packages/sklearn/linear_model/_logistic.py:1476: UserWarning: l1_ratio parameter is only used when penalty is 'elasticnet'. Got (penalty=l2)\n",
      "  warnings.warn(\n",
      "/opt/conda/envs/fastai/lib/python3.8/site-packages/sklearn/linear_model/_sag.py:352: ConvergenceWarning: The max_iter was reached which means the coef_ did not converge\n",
      "  warnings.warn(\n",
      "/opt/conda/envs/fastai/lib/python3.8/site-packages/sklearn/linear_model/_logistic.py:1476: UserWarning: l1_ratio parameter is only used when penalty is 'elasticnet'. Got (penalty=l2)\n",
      "  warnings.warn(\n",
      "/opt/conda/envs/fastai/lib/python3.8/site-packages/sklearn/linear_model/_sag.py:352: ConvergenceWarning: The max_iter was reached which means the coef_ did not converge\n",
      "  warnings.warn(\n",
      "/opt/conda/envs/fastai/lib/python3.8/site-packages/sklearn/linear_model/_logistic.py:1476: UserWarning: l1_ratio parameter is only used when penalty is 'elasticnet'. Got (penalty=l2)\n",
      "  warnings.warn(\n",
      "/opt/conda/envs/fastai/lib/python3.8/site-packages/sklearn/linear_model/_sag.py:352: ConvergenceWarning: The max_iter was reached which means the coef_ did not converge\n",
      "  warnings.warn(\n",
      "/opt/conda/envs/fastai/lib/python3.8/site-packages/sklearn/linear_model/_logistic.py:1476: UserWarning: l1_ratio parameter is only used when penalty is 'elasticnet'. Got (penalty=l2)\n",
      "  warnings.warn(\n",
      "/opt/conda/envs/fastai/lib/python3.8/site-packages/sklearn/linear_model/_sag.py:352: ConvergenceWarning: The max_iter was reached which means the coef_ did not converge\n",
      "  warnings.warn(\n",
      "/opt/conda/envs/fastai/lib/python3.8/site-packages/sklearn/linear_model/_logistic.py:1476: UserWarning: l1_ratio parameter is only used when penalty is 'elasticnet'. Got (penalty=l2)\n",
      "  warnings.warn(\n",
      "/opt/conda/envs/fastai/lib/python3.8/site-packages/sklearn/linear_model/_sag.py:352: ConvergenceWarning: The max_iter was reached which means the coef_ did not converge\n",
      "  warnings.warn(\n",
      "/opt/conda/envs/fastai/lib/python3.8/site-packages/sklearn/linear_model/_logistic.py:1476: UserWarning: l1_ratio parameter is only used when penalty is 'elasticnet'. Got (penalty=l2)\n",
      "  warnings.warn(\n",
      "/opt/conda/envs/fastai/lib/python3.8/site-packages/sklearn/linear_model/_logistic.py:1476: UserWarning: l1_ratio parameter is only used when penalty is 'elasticnet'. Got (penalty=l2)\n",
      "  warnings.warn(\n",
      "/opt/conda/envs/fastai/lib/python3.8/site-packages/sklearn/linear_model/_logistic.py:1476: UserWarning: l1_ratio parameter is only used when penalty is 'elasticnet'. Got (penalty=l2)\n",
      "  warnings.warn(\n",
      "/opt/conda/envs/fastai/lib/python3.8/site-packages/sklearn/linear_model/_logistic.py:1476: UserWarning: l1_ratio parameter is only used when penalty is 'elasticnet'. Got (penalty=l2)\n",
      "  warnings.warn(\n",
      "/opt/conda/envs/fastai/lib/python3.8/site-packages/sklearn/linear_model/_logistic.py:1476: UserWarning: l1_ratio parameter is only used when penalty is 'elasticnet'. Got (penalty=l2)\n",
      "  warnings.warn(\n",
      "/opt/conda/envs/fastai/lib/python3.8/site-packages/sklearn/linear_model/_logistic.py:1476: UserWarning: l1_ratio parameter is only used when penalty is 'elasticnet'. Got (penalty=l2)\n",
      "  warnings.warn(\n",
      "/opt/conda/envs/fastai/lib/python3.8/site-packages/sklearn/linear_model/_logistic.py:1476: UserWarning: l1_ratio parameter is only used when penalty is 'elasticnet'. Got (penalty=l2)\n",
      "  warnings.warn(\n",
      "/opt/conda/envs/fastai/lib/python3.8/site-packages/sklearn/linear_model/_logistic.py:1476: UserWarning: l1_ratio parameter is only used when penalty is 'elasticnet'. Got (penalty=l2)\n",
      "  warnings.warn(\n",
      "/opt/conda/envs/fastai/lib/python3.8/site-packages/sklearn/linear_model/_logistic.py:1476: UserWarning: l1_ratio parameter is only used when penalty is 'elasticnet'. Got (penalty=l2)\n",
      "  warnings.warn(\n",
      "/opt/conda/envs/fastai/lib/python3.8/site-packages/sklearn/linear_model/_logistic.py:1476: UserWarning: l1_ratio parameter is only used when penalty is 'elasticnet'. Got (penalty=l2)\n",
      "  warnings.warn(\n",
      "/opt/conda/envs/fastai/lib/python3.8/site-packages/sklearn/linear_model/_logistic.py:1476: UserWarning: l1_ratio parameter is only used when penalty is 'elasticnet'. Got (penalty=l2)\n",
      "  warnings.warn(\n",
      "/opt/conda/envs/fastai/lib/python3.8/site-packages/sklearn/linear_model/_logistic.py:814: ConvergenceWarning: lbfgs failed to converge (status=1):\n",
      "STOP: TOTAL NO. of ITERATIONS REACHED LIMIT.\n",
      "\n",
      "Increase the number of iterations (max_iter) or scale the data as shown in:\n",
      "    https://scikit-learn.org/stable/modules/preprocessing.html\n",
      "Please also refer to the documentation for alternative solver options:\n",
      "    https://scikit-learn.org/stable/modules/linear_model.html#logistic-regression\n",
      "  n_iter_i = _check_optimize_result(\n",
      "/opt/conda/envs/fastai/lib/python3.8/site-packages/sklearn/linear_model/_logistic.py:1476: UserWarning: l1_ratio parameter is only used when penalty is 'elasticnet'. Got (penalty=l2)\n",
      "  warnings.warn(\n",
      "/opt/conda/envs/fastai/lib/python3.8/site-packages/sklearn/linear_model/_logistic.py:814: ConvergenceWarning: lbfgs failed to converge (status=1):\n",
      "STOP: TOTAL NO. of ITERATIONS REACHED LIMIT.\n",
      "\n",
      "Increase the number of iterations (max_iter) or scale the data as shown in:\n",
      "    https://scikit-learn.org/stable/modules/preprocessing.html\n",
      "Please also refer to the documentation for alternative solver options:\n",
      "    https://scikit-learn.org/stable/modules/linear_model.html#logistic-regression\n",
      "  n_iter_i = _check_optimize_result(\n",
      "/opt/conda/envs/fastai/lib/python3.8/site-packages/sklearn/linear_model/_logistic.py:1476: UserWarning: l1_ratio parameter is only used when penalty is 'elasticnet'. Got (penalty=l2)\n",
      "  warnings.warn(\n",
      "/opt/conda/envs/fastai/lib/python3.8/site-packages/sklearn/linear_model/_logistic.py:814: ConvergenceWarning: lbfgs failed to converge (status=1):\n",
      "STOP: TOTAL NO. of ITERATIONS REACHED LIMIT.\n",
      "\n",
      "Increase the number of iterations (max_iter) or scale the data as shown in:\n",
      "    https://scikit-learn.org/stable/modules/preprocessing.html\n",
      "Please also refer to the documentation for alternative solver options:\n",
      "    https://scikit-learn.org/stable/modules/linear_model.html#logistic-regression\n",
      "  n_iter_i = _check_optimize_result(\n",
      "/opt/conda/envs/fastai/lib/python3.8/site-packages/sklearn/linear_model/_logistic.py:1476: UserWarning: l1_ratio parameter is only used when penalty is 'elasticnet'. Got (penalty=l2)\n",
      "  warnings.warn(\n",
      "/opt/conda/envs/fastai/lib/python3.8/site-packages/sklearn/linear_model/_logistic.py:814: ConvergenceWarning: lbfgs failed to converge (status=1):\n",
      "STOP: TOTAL NO. of ITERATIONS REACHED LIMIT.\n",
      "\n",
      "Increase the number of iterations (max_iter) or scale the data as shown in:\n",
      "    https://scikit-learn.org/stable/modules/preprocessing.html\n",
      "Please also refer to the documentation for alternative solver options:\n",
      "    https://scikit-learn.org/stable/modules/linear_model.html#logistic-regression\n",
      "  n_iter_i = _check_optimize_result(\n",
      "/opt/conda/envs/fastai/lib/python3.8/site-packages/sklearn/linear_model/_logistic.py:1476: UserWarning: l1_ratio parameter is only used when penalty is 'elasticnet'. Got (penalty=l2)\n",
      "  warnings.warn(\n",
      "/opt/conda/envs/fastai/lib/python3.8/site-packages/sklearn/linear_model/_logistic.py:814: ConvergenceWarning: lbfgs failed to converge (status=1):\n",
      "STOP: TOTAL NO. of ITERATIONS REACHED LIMIT.\n",
      "\n",
      "Increase the number of iterations (max_iter) or scale the data as shown in:\n",
      "    https://scikit-learn.org/stable/modules/preprocessing.html\n",
      "Please also refer to the documentation for alternative solver options:\n",
      "    https://scikit-learn.org/stable/modules/linear_model.html#logistic-regression\n",
      "  n_iter_i = _check_optimize_result(\n",
      "/opt/conda/envs/fastai/lib/python3.8/site-packages/sklearn/model_selection/_validation.py:372: FitFailedWarning: \n",
      "25 fits failed out of a total of 75.\n",
      "The score on these train-test partitions for these parameters will be set to nan.\n",
      "If these failures are not expected, you can try to debug them by setting error_score='raise'.\n",
      "\n",
      "Below are more details about the failures:\n",
      "--------------------------------------------------------------------------------\n",
      "5 fits failed with the following error:\n",
      "Traceback (most recent call last):\n",
      "  File \"/opt/conda/envs/fastai/lib/python3.8/site-packages/sklearn/model_selection/_validation.py\", line 681, in _fit_and_score\n",
      "    estimator.fit(X_train, y_train, **fit_params)\n",
      "  File \"/opt/conda/envs/fastai/lib/python3.8/site-packages/sklearn/linear_model/_logistic.py\", line 1461, in fit\n",
      "    solver = _check_solver(self.solver, self.penalty, self.dual)\n",
      "  File \"/opt/conda/envs/fastai/lib/python3.8/site-packages/sklearn/linear_model/_logistic.py\", line 447, in _check_solver\n",
      "    raise ValueError(\n",
      "ValueError: Solver newton-cg supports only 'l2' or 'none' penalties, got l1 penalty.\n",
      "\n",
      "--------------------------------------------------------------------------------\n",
      "5 fits failed with the following error:\n",
      "Traceback (most recent call last):\n",
      "  File \"/opt/conda/envs/fastai/lib/python3.8/site-packages/sklearn/model_selection/_validation.py\", line 681, in _fit_and_score\n",
      "    estimator.fit(X_train, y_train, **fit_params)\n",
      "  File \"/opt/conda/envs/fastai/lib/python3.8/site-packages/sklearn/linear_model/_logistic.py\", line 1461, in fit\n",
      "    solver = _check_solver(self.solver, self.penalty, self.dual)\n",
      "  File \"/opt/conda/envs/fastai/lib/python3.8/site-packages/sklearn/linear_model/_logistic.py\", line 447, in _check_solver\n",
      "    raise ValueError(\n",
      "ValueError: Solver lbfgs supports only 'l2' or 'none' penalties, got elasticnet penalty.\n",
      "\n",
      "--------------------------------------------------------------------------------\n",
      "10 fits failed with the following error:\n",
      "Traceback (most recent call last):\n",
      "  File \"/opt/conda/envs/fastai/lib/python3.8/site-packages/sklearn/model_selection/_validation.py\", line 681, in _fit_and_score\n",
      "    estimator.fit(X_train, y_train, **fit_params)\n",
      "  File \"/opt/conda/envs/fastai/lib/python3.8/site-packages/sklearn/linear_model/_logistic.py\", line 1461, in fit\n",
      "    solver = _check_solver(self.solver, self.penalty, self.dual)\n",
      "  File \"/opt/conda/envs/fastai/lib/python3.8/site-packages/sklearn/linear_model/_logistic.py\", line 447, in _check_solver\n",
      "    raise ValueError(\n",
      "ValueError: Solver lbfgs supports only 'l2' or 'none' penalties, got l1 penalty.\n",
      "\n",
      "--------------------------------------------------------------------------------\n",
      "5 fits failed with the following error:\n",
      "Traceback (most recent call last):\n",
      "  File \"/opt/conda/envs/fastai/lib/python3.8/site-packages/sklearn/model_selection/_validation.py\", line 681, in _fit_and_score\n",
      "    estimator.fit(X_train, y_train, **fit_params)\n",
      "  File \"/opt/conda/envs/fastai/lib/python3.8/site-packages/sklearn/linear_model/_logistic.py\", line 1461, in fit\n",
      "    solver = _check_solver(self.solver, self.penalty, self.dual)\n",
      "  File \"/opt/conda/envs/fastai/lib/python3.8/site-packages/sklearn/linear_model/_logistic.py\", line 447, in _check_solver\n",
      "    raise ValueError(\n",
      "ValueError: Solver newton-cg supports only 'l2' or 'none' penalties, got elasticnet penalty.\n",
      "\n",
      "  warnings.warn(some_fits_failed_message, FitFailedWarning)\n",
      "/opt/conda/envs/fastai/lib/python3.8/site-packages/sklearn/model_selection/_search.py:969: UserWarning: One or more of the test scores are non-finite: [       nan 0.8225641  0.82897436 0.83948718 0.82153846 0.83076923\n",
      " 0.84307692 0.82153846 0.8225641         nan 0.8425641         nan\n",
      " 0.84025641        nan        nan]\n",
      "  warnings.warn(\n",
      "/opt/conda/envs/fastai/lib/python3.8/site-packages/sklearn/linear_model/_sag.py:352: ConvergenceWarning: The max_iter was reached which means the coef_ did not converge\n",
      "  warnings.warn(\n",
      "/opt/conda/envs/fastai/lib/python3.8/site-packages/sklearn/linear_model/_sag.py:352: ConvergenceWarning: The max_iter was reached which means the coef_ did not converge\n",
      "  warnings.warn(\n"
     ]
    },
    {
     "name": "stdout",
     "output_type": "stream",
     "text": [
      "cluster : 1, model : logistic\n",
      "              precision    recall  f1-score   support\n",
      "\n",
      "           0       1.00      0.80      0.89        61\n",
      "           1       0.62      0.83      0.71        18\n",
      "           2       0.38      1.00      0.55         3\n",
      "           3       0.80      1.00      0.89         4\n",
      "\n",
      "    accuracy                           0.83        86\n",
      "   macro avg       0.70      0.91      0.76        86\n",
      "weighted avg       0.89      0.83      0.84        86\n",
      "\n",
      "cluster : 1, model : SGDClassifier(random_state=42)\n"
     ]
    },
    {
     "name": "stderr",
     "output_type": "stream",
     "text": [
      "/opt/conda/envs/fastai/lib/python3.8/site-packages/sklearn/linear_model/_stochastic_gradient.py:703: ConvergenceWarning: Maximum number of iteration reached before convergence. Consider increasing max_iter to improve the fit.\n",
      "  warnings.warn(\n",
      "/opt/conda/envs/fastai/lib/python3.8/site-packages/sklearn/linear_model/_stochastic_gradient.py:703: ConvergenceWarning: Maximum number of iteration reached before convergence. Consider increasing max_iter to improve the fit.\n",
      "  warnings.warn(\n",
      "/opt/conda/envs/fastai/lib/python3.8/site-packages/sklearn/linear_model/_stochastic_gradient.py:703: ConvergenceWarning: Maximum number of iteration reached before convergence. Consider increasing max_iter to improve the fit.\n",
      "  warnings.warn(\n",
      "/opt/conda/envs/fastai/lib/python3.8/site-packages/sklearn/linear_model/_stochastic_gradient.py:703: ConvergenceWarning: Maximum number of iteration reached before convergence. Consider increasing max_iter to improve the fit.\n",
      "  warnings.warn(\n",
      "/opt/conda/envs/fastai/lib/python3.8/site-packages/sklearn/linear_model/_stochastic_gradient.py:703: ConvergenceWarning: Maximum number of iteration reached before convergence. Consider increasing max_iter to improve the fit.\n",
      "  warnings.warn(\n",
      "/opt/conda/envs/fastai/lib/python3.8/site-packages/sklearn/linear_model/_stochastic_gradient.py:703: ConvergenceWarning: Maximum number of iteration reached before convergence. Consider increasing max_iter to improve the fit.\n",
      "  warnings.warn(\n",
      "/opt/conda/envs/fastai/lib/python3.8/site-packages/sklearn/linear_model/_stochastic_gradient.py:703: ConvergenceWarning: Maximum number of iteration reached before convergence. Consider increasing max_iter to improve the fit.\n",
      "  warnings.warn(\n",
      "/opt/conda/envs/fastai/lib/python3.8/site-packages/sklearn/linear_model/_stochastic_gradient.py:703: ConvergenceWarning: Maximum number of iteration reached before convergence. Consider increasing max_iter to improve the fit.\n",
      "  warnings.warn(\n",
      "/opt/conda/envs/fastai/lib/python3.8/site-packages/sklearn/linear_model/_stochastic_gradient.py:703: ConvergenceWarning: Maximum number of iteration reached before convergence. Consider increasing max_iter to improve the fit.\n",
      "  warnings.warn(\n",
      "/opt/conda/envs/fastai/lib/python3.8/site-packages/sklearn/linear_model/_stochastic_gradient.py:703: ConvergenceWarning: Maximum number of iteration reached before convergence. Consider increasing max_iter to improve the fit.\n",
      "  warnings.warn(\n",
      "/opt/conda/envs/fastai/lib/python3.8/site-packages/sklearn/linear_model/_stochastic_gradient.py:703: ConvergenceWarning: Maximum number of iteration reached before convergence. Consider increasing max_iter to improve the fit.\n",
      "  warnings.warn(\n",
      "/opt/conda/envs/fastai/lib/python3.8/site-packages/sklearn/linear_model/_stochastic_gradient.py:703: ConvergenceWarning: Maximum number of iteration reached before convergence. Consider increasing max_iter to improve the fit.\n",
      "  warnings.warn(\n",
      "/opt/conda/envs/fastai/lib/python3.8/site-packages/sklearn/linear_model/_stochastic_gradient.py:703: ConvergenceWarning: Maximum number of iteration reached before convergence. Consider increasing max_iter to improve the fit.\n",
      "  warnings.warn(\n",
      "/opt/conda/envs/fastai/lib/python3.8/site-packages/sklearn/linear_model/_stochastic_gradient.py:703: ConvergenceWarning: Maximum number of iteration reached before convergence. Consider increasing max_iter to improve the fit.\n",
      "  warnings.warn(\n",
      "/opt/conda/envs/fastai/lib/python3.8/site-packages/sklearn/linear_model/_stochastic_gradient.py:703: ConvergenceWarning: Maximum number of iteration reached before convergence. Consider increasing max_iter to improve the fit.\n",
      "  warnings.warn(\n",
      "/opt/conda/envs/fastai/lib/python3.8/site-packages/sklearn/linear_model/_stochastic_gradient.py:703: ConvergenceWarning: Maximum number of iteration reached before convergence. Consider increasing max_iter to improve the fit.\n",
      "  warnings.warn(\n",
      "/opt/conda/envs/fastai/lib/python3.8/site-packages/sklearn/linear_model/_stochastic_gradient.py:703: ConvergenceWarning: Maximum number of iteration reached before convergence. Consider increasing max_iter to improve the fit.\n",
      "  warnings.warn(\n",
      "/opt/conda/envs/fastai/lib/python3.8/site-packages/sklearn/linear_model/_stochastic_gradient.py:703: ConvergenceWarning: Maximum number of iteration reached before convergence. Consider increasing max_iter to improve the fit.\n",
      "  warnings.warn(\n",
      "/opt/conda/envs/fastai/lib/python3.8/site-packages/sklearn/linear_model/_stochastic_gradient.py:703: ConvergenceWarning: Maximum number of iteration reached before convergence. Consider increasing max_iter to improve the fit.\n",
      "  warnings.warn(\n",
      "/opt/conda/envs/fastai/lib/python3.8/site-packages/sklearn/linear_model/_stochastic_gradient.py:703: ConvergenceWarning: Maximum number of iteration reached before convergence. Consider increasing max_iter to improve the fit.\n",
      "  warnings.warn(\n"
     ]
    },
    {
     "name": "stdout",
     "output_type": "stream",
     "text": [
      "cluster : 1, model : SGD Classifier\n",
      "              precision    recall  f1-score   support\n",
      "\n",
      "           0       0.98      0.82      0.89        61\n",
      "           1       0.65      0.61      0.63        18\n",
      "           2       0.27      1.00      0.43         3\n",
      "           3       0.57      1.00      0.73         4\n",
      "\n",
      "    accuracy                           0.79        86\n",
      "   macro avg       0.62      0.86      0.67        86\n",
      "weighted avg       0.87      0.79      0.81        86\n",
      "\n",
      "cluster : 1, model : XGBClassifier(base_score=None, booster=None, colsample_bylevel=None,\n",
      "              colsample_bynode=None, colsample_bytree=None, gamma=None,\n",
      "              gpu_id=None, importance_type='gain', interaction_constraints=None,\n",
      "              learning_rate=None, max_delta_step=None, max_depth=None,\n",
      "              min_child_weight=None, missing=nan, monotone_constraints=None,\n",
      "              n_estimators=100, n_jobs=None, num_parallel_tree=None,\n",
      "              random_state=42, reg_alpha=None, reg_lambda=None,\n",
      "              scale_pos_weight=None, subsample=None, tree_method=None,\n",
      "              validate_parameters=None, verbosity=None)\n",
      "cluster : 1, model : XGB Classifier\n",
      "              precision    recall  f1-score   support\n",
      "\n",
      "           0       1.00      1.00      1.00        61\n",
      "           1       1.00      0.94      0.97        18\n",
      "           2       0.75      1.00      0.86         3\n",
      "           3       1.00      1.00      1.00         4\n",
      "\n",
      "    accuracy                           0.99        86\n",
      "   macro avg       0.94      0.99      0.96        86\n",
      "weighted avg       0.99      0.99      0.99        86\n",
      "\n",
      "cluster : 1, model : RandomForestClassifier(random_state=42)\n",
      "cluster : 1, model : random forest\n",
      "              precision    recall  f1-score   support\n",
      "\n",
      "           0       1.00      0.89      0.94        61\n",
      "           1       0.68      0.83      0.75        18\n",
      "           2       0.50      1.00      0.67         3\n",
      "           3       1.00      1.00      1.00         4\n",
      "\n",
      "    accuracy                           0.88        86\n",
      "   macro avg       0.80      0.93      0.84        86\n",
      "weighted avg       0.92      0.88      0.89        86\n",
      "\n",
      "cluster : 2, model : LogisticRegression(random_state=42)\n"
     ]
    },
    {
     "name": "stderr",
     "output_type": "stream",
     "text": [
      "/opt/conda/envs/fastai/lib/python3.8/site-packages/sklearn/linear_model/_logistic.py:1476: UserWarning: l1_ratio parameter is only used when penalty is 'elasticnet'. Got (penalty=l2)\n",
      "  warnings.warn(\n",
      "/opt/conda/envs/fastai/lib/python3.8/site-packages/sklearn/linear_model/_logistic.py:1476: UserWarning: l1_ratio parameter is only used when penalty is 'elasticnet'. Got (penalty=l2)\n",
      "  warnings.warn(\n",
      "/opt/conda/envs/fastai/lib/python3.8/site-packages/sklearn/linear_model/_logistic.py:1476: UserWarning: l1_ratio parameter is only used when penalty is 'elasticnet'. Got (penalty=l2)\n",
      "  warnings.warn(\n",
      "/opt/conda/envs/fastai/lib/python3.8/site-packages/sklearn/linear_model/_logistic.py:1476: UserWarning: l1_ratio parameter is only used when penalty is 'elasticnet'. Got (penalty=l2)\n",
      "  warnings.warn(\n",
      "/opt/conda/envs/fastai/lib/python3.8/site-packages/sklearn/linear_model/_logistic.py:1476: UserWarning: l1_ratio parameter is only used when penalty is 'elasticnet'. Got (penalty=l2)\n",
      "  warnings.warn(\n",
      "/opt/conda/envs/fastai/lib/python3.8/site-packages/sklearn/linear_model/_logistic.py:1476: UserWarning: l1_ratio parameter is only used when penalty is 'elasticnet'. Got (penalty=l2)\n",
      "  warnings.warn(\n",
      "/opt/conda/envs/fastai/lib/python3.8/site-packages/sklearn/linear_model/_logistic.py:1476: UserWarning: l1_ratio parameter is only used when penalty is 'elasticnet'. Got (penalty=l2)\n",
      "  warnings.warn(\n",
      "/opt/conda/envs/fastai/lib/python3.8/site-packages/sklearn/linear_model/_logistic.py:1476: UserWarning: l1_ratio parameter is only used when penalty is 'elasticnet'. Got (penalty=l2)\n",
      "  warnings.warn(\n",
      "/opt/conda/envs/fastai/lib/python3.8/site-packages/sklearn/linear_model/_logistic.py:1476: UserWarning: l1_ratio parameter is only used when penalty is 'elasticnet'. Got (penalty=l2)\n",
      "  warnings.warn(\n",
      "/opt/conda/envs/fastai/lib/python3.8/site-packages/sklearn/linear_model/_logistic.py:1476: UserWarning: l1_ratio parameter is only used when penalty is 'elasticnet'. Got (penalty=l2)\n",
      "  warnings.warn(\n",
      "/opt/conda/envs/fastai/lib/python3.8/site-packages/sklearn/linear_model/_logistic.py:1476: UserWarning: l1_ratio parameter is only used when penalty is 'elasticnet'. Got (penalty=l2)\n",
      "  warnings.warn(\n",
      "/opt/conda/envs/fastai/lib/python3.8/site-packages/sklearn/linear_model/_logistic.py:1476: UserWarning: l1_ratio parameter is only used when penalty is 'elasticnet'. Got (penalty=l2)\n",
      "  warnings.warn(\n",
      "/opt/conda/envs/fastai/lib/python3.8/site-packages/sklearn/linear_model/_logistic.py:1476: UserWarning: l1_ratio parameter is only used when penalty is 'elasticnet'. Got (penalty=l2)\n",
      "  warnings.warn(\n",
      "/opt/conda/envs/fastai/lib/python3.8/site-packages/sklearn/linear_model/_logistic.py:1476: UserWarning: l1_ratio parameter is only used when penalty is 'elasticnet'. Got (penalty=l2)\n",
      "  warnings.warn(\n",
      "/opt/conda/envs/fastai/lib/python3.8/site-packages/sklearn/linear_model/_logistic.py:1476: UserWarning: l1_ratio parameter is only used when penalty is 'elasticnet'. Got (penalty=l2)\n",
      "  warnings.warn(\n",
      "/opt/conda/envs/fastai/lib/python3.8/site-packages/sklearn/linear_model/_logistic.py:1476: UserWarning: l1_ratio parameter is only used when penalty is 'elasticnet'. Got (penalty=l2)\n",
      "  warnings.warn(\n",
      "/opt/conda/envs/fastai/lib/python3.8/site-packages/sklearn/linear_model/_logistic.py:1476: UserWarning: l1_ratio parameter is only used when penalty is 'elasticnet'. Got (penalty=l2)\n",
      "  warnings.warn(\n",
      "/opt/conda/envs/fastai/lib/python3.8/site-packages/sklearn/linear_model/_logistic.py:1476: UserWarning: l1_ratio parameter is only used when penalty is 'elasticnet'. Got (penalty=l2)\n",
      "  warnings.warn(\n",
      "/opt/conda/envs/fastai/lib/python3.8/site-packages/sklearn/linear_model/_logistic.py:1476: UserWarning: l1_ratio parameter is only used when penalty is 'elasticnet'. Got (penalty=l2)\n",
      "  warnings.warn(\n",
      "/opt/conda/envs/fastai/lib/python3.8/site-packages/sklearn/linear_model/_logistic.py:1476: UserWarning: l1_ratio parameter is only used when penalty is 'elasticnet'. Got (penalty=l2)\n",
      "  warnings.warn(\n",
      "/opt/conda/envs/fastai/lib/python3.8/site-packages/sklearn/linear_model/_logistic.py:1476: UserWarning: l1_ratio parameter is only used when penalty is 'elasticnet'. Got (penalty=l1)\n",
      "  warnings.warn(\n",
      "/opt/conda/envs/fastai/lib/python3.8/site-packages/sklearn/linear_model/_sag.py:352: ConvergenceWarning: The max_iter was reached which means the coef_ did not converge\n",
      "  warnings.warn(\n",
      "/opt/conda/envs/fastai/lib/python3.8/site-packages/sklearn/linear_model/_logistic.py:1476: UserWarning: l1_ratio parameter is only used when penalty is 'elasticnet'. Got (penalty=l1)\n",
      "  warnings.warn(\n",
      "/opt/conda/envs/fastai/lib/python3.8/site-packages/sklearn/linear_model/_sag.py:352: ConvergenceWarning: The max_iter was reached which means the coef_ did not converge\n",
      "  warnings.warn(\n",
      "/opt/conda/envs/fastai/lib/python3.8/site-packages/sklearn/linear_model/_logistic.py:1476: UserWarning: l1_ratio parameter is only used when penalty is 'elasticnet'. Got (penalty=l1)\n",
      "  warnings.warn(\n",
      "/opt/conda/envs/fastai/lib/python3.8/site-packages/sklearn/linear_model/_sag.py:352: ConvergenceWarning: The max_iter was reached which means the coef_ did not converge\n",
      "  warnings.warn(\n",
      "/opt/conda/envs/fastai/lib/python3.8/site-packages/sklearn/linear_model/_logistic.py:1476: UserWarning: l1_ratio parameter is only used when penalty is 'elasticnet'. Got (penalty=l1)\n",
      "  warnings.warn(\n",
      "/opt/conda/envs/fastai/lib/python3.8/site-packages/sklearn/linear_model/_sag.py:352: ConvergenceWarning: The max_iter was reached which means the coef_ did not converge\n",
      "  warnings.warn(\n",
      "/opt/conda/envs/fastai/lib/python3.8/site-packages/sklearn/linear_model/_logistic.py:1476: UserWarning: l1_ratio parameter is only used when penalty is 'elasticnet'. Got (penalty=l1)\n",
      "  warnings.warn(\n",
      "/opt/conda/envs/fastai/lib/python3.8/site-packages/sklearn/linear_model/_sag.py:352: ConvergenceWarning: The max_iter was reached which means the coef_ did not converge\n",
      "  warnings.warn(\n",
      "/opt/conda/envs/fastai/lib/python3.8/site-packages/sklearn/linear_model/_sag.py:352: ConvergenceWarning: The max_iter was reached which means the coef_ did not converge\n",
      "  warnings.warn(\n",
      "/opt/conda/envs/fastai/lib/python3.8/site-packages/sklearn/linear_model/_sag.py:352: ConvergenceWarning: The max_iter was reached which means the coef_ did not converge\n",
      "  warnings.warn(\n",
      "/opt/conda/envs/fastai/lib/python3.8/site-packages/sklearn/linear_model/_sag.py:352: ConvergenceWarning: The max_iter was reached which means the coef_ did not converge\n",
      "  warnings.warn(\n",
      "/opt/conda/envs/fastai/lib/python3.8/site-packages/sklearn/linear_model/_sag.py:352: ConvergenceWarning: The max_iter was reached which means the coef_ did not converge\n",
      "  warnings.warn(\n",
      "/opt/conda/envs/fastai/lib/python3.8/site-packages/sklearn/linear_model/_sag.py:352: ConvergenceWarning: The max_iter was reached which means the coef_ did not converge\n",
      "  warnings.warn(\n",
      "/opt/conda/envs/fastai/lib/python3.8/site-packages/sklearn/linear_model/_sag.py:352: ConvergenceWarning: The max_iter was reached which means the coef_ did not converge\n",
      "  warnings.warn(\n",
      "/opt/conda/envs/fastai/lib/python3.8/site-packages/sklearn/linear_model/_sag.py:352: ConvergenceWarning: The max_iter was reached which means the coef_ did not converge\n",
      "  warnings.warn(\n",
      "/opt/conda/envs/fastai/lib/python3.8/site-packages/sklearn/linear_model/_sag.py:352: ConvergenceWarning: The max_iter was reached which means the coef_ did not converge\n",
      "  warnings.warn(\n",
      "/opt/conda/envs/fastai/lib/python3.8/site-packages/sklearn/linear_model/_sag.py:352: ConvergenceWarning: The max_iter was reached which means the coef_ did not converge\n",
      "  warnings.warn(\n",
      "/opt/conda/envs/fastai/lib/python3.8/site-packages/sklearn/linear_model/_sag.py:352: ConvergenceWarning: The max_iter was reached which means the coef_ did not converge\n",
      "  warnings.warn(\n",
      "/opt/conda/envs/fastai/lib/python3.8/site-packages/sklearn/model_selection/_validation.py:372: FitFailedWarning: \n",
      "40 fits failed out of a total of 75.\n",
      "The score on these train-test partitions for these parameters will be set to nan.\n",
      "If these failures are not expected, you can try to debug them by setting error_score='raise'.\n",
      "\n",
      "Below are more details about the failures:\n",
      "--------------------------------------------------------------------------------\n",
      "5 fits failed with the following error:\n",
      "Traceback (most recent call last):\n",
      "  File \"/opt/conda/envs/fastai/lib/python3.8/site-packages/sklearn/model_selection/_validation.py\", line 681, in _fit_and_score\n",
      "    estimator.fit(X_train, y_train, **fit_params)\n",
      "  File \"/opt/conda/envs/fastai/lib/python3.8/site-packages/sklearn/linear_model/_logistic.py\", line 1461, in fit\n",
      "    solver = _check_solver(self.solver, self.penalty, self.dual)\n",
      "  File \"/opt/conda/envs/fastai/lib/python3.8/site-packages/sklearn/linear_model/_logistic.py\", line 447, in _check_solver\n",
      "    raise ValueError(\n",
      "ValueError: Solver newton-cg supports only 'l2' or 'none' penalties, got l1 penalty.\n",
      "\n",
      "--------------------------------------------------------------------------------\n",
      "10 fits failed with the following error:\n",
      "Traceback (most recent call last):\n",
      "  File \"/opt/conda/envs/fastai/lib/python3.8/site-packages/sklearn/model_selection/_validation.py\", line 681, in _fit_and_score\n",
      "    estimator.fit(X_train, y_train, **fit_params)\n",
      "  File \"/opt/conda/envs/fastai/lib/python3.8/site-packages/sklearn/linear_model/_logistic.py\", line 1461, in fit\n",
      "    solver = _check_solver(self.solver, self.penalty, self.dual)\n",
      "  File \"/opt/conda/envs/fastai/lib/python3.8/site-packages/sklearn/linear_model/_logistic.py\", line 447, in _check_solver\n",
      "    raise ValueError(\n",
      "ValueError: Solver newton-cg supports only 'l2' or 'none' penalties, got elasticnet penalty.\n",
      "\n",
      "--------------------------------------------------------------------------------\n",
      "15 fits failed with the following error:\n",
      "Traceback (most recent call last):\n",
      "  File \"/opt/conda/envs/fastai/lib/python3.8/site-packages/sklearn/model_selection/_validation.py\", line 681, in _fit_and_score\n",
      "    estimator.fit(X_train, y_train, **fit_params)\n",
      "  File \"/opt/conda/envs/fastai/lib/python3.8/site-packages/sklearn/linear_model/_logistic.py\", line 1461, in fit\n",
      "    solver = _check_solver(self.solver, self.penalty, self.dual)\n",
      "  File \"/opt/conda/envs/fastai/lib/python3.8/site-packages/sklearn/linear_model/_logistic.py\", line 447, in _check_solver\n",
      "    raise ValueError(\n",
      "ValueError: Solver lbfgs supports only 'l2' or 'none' penalties, got elasticnet penalty.\n",
      "\n",
      "--------------------------------------------------------------------------------\n",
      "10 fits failed with the following error:\n",
      "Traceback (most recent call last):\n",
      "  File \"/opt/conda/envs/fastai/lib/python3.8/site-packages/sklearn/model_selection/_validation.py\", line 681, in _fit_and_score\n",
      "    estimator.fit(X_train, y_train, **fit_params)\n",
      "  File \"/opt/conda/envs/fastai/lib/python3.8/site-packages/sklearn/linear_model/_logistic.py\", line 1461, in fit\n",
      "    solver = _check_solver(self.solver, self.penalty, self.dual)\n",
      "  File \"/opt/conda/envs/fastai/lib/python3.8/site-packages/sklearn/linear_model/_logistic.py\", line 447, in _check_solver\n",
      "    raise ValueError(\n",
      "ValueError: Solver lbfgs supports only 'l2' or 'none' penalties, got l1 penalty.\n",
      "\n",
      "  warnings.warn(some_fits_failed_message, FitFailedWarning)\n",
      "/opt/conda/envs/fastai/lib/python3.8/site-packages/sklearn/model_selection/_search.py:969: UserWarning: One or more of the test scores are non-finite: [       nan 0.82128205        nan        nan        nan 0.82128205\n",
      " 0.82128205 0.81410256        nan        nan        nan 0.83128205\n",
      " 0.84102564 0.8425641         nan]\n",
      "  warnings.warn(\n",
      "/opt/conda/envs/fastai/lib/python3.8/site-packages/sklearn/linear_model/_sag.py:352: ConvergenceWarning: The max_iter was reached which means the coef_ did not converge\n",
      "  warnings.warn(\n",
      "/opt/conda/envs/fastai/lib/python3.8/site-packages/sklearn/linear_model/_sag.py:352: ConvergenceWarning: The max_iter was reached which means the coef_ did not converge\n",
      "  warnings.warn(\n"
     ]
    },
    {
     "name": "stdout",
     "output_type": "stream",
     "text": [
      "cluster : 2, model : logistic\n",
      "              precision    recall  f1-score   support\n",
      "\n",
      "           0       1.00      0.70      0.82        46\n",
      "           1       0.67      0.83      0.74        29\n",
      "           2       0.38      1.00      0.55         3\n",
      "           3       0.83      1.00      0.91        10\n",
      "\n",
      "    accuracy                           0.78        88\n",
      "   macro avg       0.72      0.88      0.75        88\n",
      "weighted avg       0.85      0.78      0.79        88\n",
      "\n",
      "cluster : 2, model : SGDClassifier(random_state=42)\n"
     ]
    },
    {
     "name": "stderr",
     "output_type": "stream",
     "text": [
      "/opt/conda/envs/fastai/lib/python3.8/site-packages/sklearn/linear_model/_stochastic_gradient.py:703: ConvergenceWarning: Maximum number of iteration reached before convergence. Consider increasing max_iter to improve the fit.\n",
      "  warnings.warn(\n",
      "/opt/conda/envs/fastai/lib/python3.8/site-packages/sklearn/linear_model/_stochastic_gradient.py:703: ConvergenceWarning: Maximum number of iteration reached before convergence. Consider increasing max_iter to improve the fit.\n",
      "  warnings.warn(\n",
      "/opt/conda/envs/fastai/lib/python3.8/site-packages/sklearn/linear_model/_stochastic_gradient.py:703: ConvergenceWarning: Maximum number of iteration reached before convergence. Consider increasing max_iter to improve the fit.\n",
      "  warnings.warn(\n",
      "/opt/conda/envs/fastai/lib/python3.8/site-packages/sklearn/linear_model/_stochastic_gradient.py:703: ConvergenceWarning: Maximum number of iteration reached before convergence. Consider increasing max_iter to improve the fit.\n",
      "  warnings.warn(\n",
      "/opt/conda/envs/fastai/lib/python3.8/site-packages/sklearn/linear_model/_stochastic_gradient.py:703: ConvergenceWarning: Maximum number of iteration reached before convergence. Consider increasing max_iter to improve the fit.\n",
      "  warnings.warn(\n",
      "/opt/conda/envs/fastai/lib/python3.8/site-packages/sklearn/linear_model/_stochastic_gradient.py:703: ConvergenceWarning: Maximum number of iteration reached before convergence. Consider increasing max_iter to improve the fit.\n",
      "  warnings.warn(\n",
      "/opt/conda/envs/fastai/lib/python3.8/site-packages/sklearn/linear_model/_stochastic_gradient.py:703: ConvergenceWarning: Maximum number of iteration reached before convergence. Consider increasing max_iter to improve the fit.\n",
      "  warnings.warn(\n",
      "/opt/conda/envs/fastai/lib/python3.8/site-packages/sklearn/linear_model/_stochastic_gradient.py:703: ConvergenceWarning: Maximum number of iteration reached before convergence. Consider increasing max_iter to improve the fit.\n",
      "  warnings.warn(\n",
      "/opt/conda/envs/fastai/lib/python3.8/site-packages/sklearn/linear_model/_stochastic_gradient.py:703: ConvergenceWarning: Maximum number of iteration reached before convergence. Consider increasing max_iter to improve the fit.\n",
      "  warnings.warn(\n",
      "/opt/conda/envs/fastai/lib/python3.8/site-packages/sklearn/linear_model/_stochastic_gradient.py:703: ConvergenceWarning: Maximum number of iteration reached before convergence. Consider increasing max_iter to improve the fit.\n",
      "  warnings.warn(\n",
      "/opt/conda/envs/fastai/lib/python3.8/site-packages/sklearn/linear_model/_stochastic_gradient.py:703: ConvergenceWarning: Maximum number of iteration reached before convergence. Consider increasing max_iter to improve the fit.\n",
      "  warnings.warn(\n",
      "/opt/conda/envs/fastai/lib/python3.8/site-packages/sklearn/linear_model/_stochastic_gradient.py:703: ConvergenceWarning: Maximum number of iteration reached before convergence. Consider increasing max_iter to improve the fit.\n",
      "  warnings.warn(\n",
      "/opt/conda/envs/fastai/lib/python3.8/site-packages/sklearn/linear_model/_stochastic_gradient.py:703: ConvergenceWarning: Maximum number of iteration reached before convergence. Consider increasing max_iter to improve the fit.\n",
      "  warnings.warn(\n",
      "/opt/conda/envs/fastai/lib/python3.8/site-packages/sklearn/linear_model/_stochastic_gradient.py:703: ConvergenceWarning: Maximum number of iteration reached before convergence. Consider increasing max_iter to improve the fit.\n",
      "  warnings.warn(\n",
      "/opt/conda/envs/fastai/lib/python3.8/site-packages/sklearn/linear_model/_stochastic_gradient.py:703: ConvergenceWarning: Maximum number of iteration reached before convergence. Consider increasing max_iter to improve the fit.\n",
      "  warnings.warn(\n",
      "/opt/conda/envs/fastai/lib/python3.8/site-packages/sklearn/linear_model/_stochastic_gradient.py:703: ConvergenceWarning: Maximum number of iteration reached before convergence. Consider increasing max_iter to improve the fit.\n",
      "  warnings.warn(\n",
      "/opt/conda/envs/fastai/lib/python3.8/site-packages/sklearn/linear_model/_stochastic_gradient.py:703: ConvergenceWarning: Maximum number of iteration reached before convergence. Consider increasing max_iter to improve the fit.\n",
      "  warnings.warn(\n",
      "/opt/conda/envs/fastai/lib/python3.8/site-packages/sklearn/linear_model/_stochastic_gradient.py:703: ConvergenceWarning: Maximum number of iteration reached before convergence. Consider increasing max_iter to improve the fit.\n",
      "  warnings.warn(\n",
      "/opt/conda/envs/fastai/lib/python3.8/site-packages/sklearn/linear_model/_stochastic_gradient.py:703: ConvergenceWarning: Maximum number of iteration reached before convergence. Consider increasing max_iter to improve the fit.\n",
      "  warnings.warn(\n",
      "/opt/conda/envs/fastai/lib/python3.8/site-packages/sklearn/linear_model/_stochastic_gradient.py:703: ConvergenceWarning: Maximum number of iteration reached before convergence. Consider increasing max_iter to improve the fit.\n",
      "  warnings.warn(\n",
      "/opt/conda/envs/fastai/lib/python3.8/site-packages/sklearn/linear_model/_stochastic_gradient.py:703: ConvergenceWarning: Maximum number of iteration reached before convergence. Consider increasing max_iter to improve the fit.\n",
      "  warnings.warn(\n",
      "/opt/conda/envs/fastai/lib/python3.8/site-packages/sklearn/linear_model/_stochastic_gradient.py:703: ConvergenceWarning: Maximum number of iteration reached before convergence. Consider increasing max_iter to improve the fit.\n",
      "  warnings.warn(\n",
      "/opt/conda/envs/fastai/lib/python3.8/site-packages/sklearn/linear_model/_stochastic_gradient.py:703: ConvergenceWarning: Maximum number of iteration reached before convergence. Consider increasing max_iter to improve the fit.\n",
      "  warnings.warn(\n",
      "/opt/conda/envs/fastai/lib/python3.8/site-packages/sklearn/linear_model/_stochastic_gradient.py:703: ConvergenceWarning: Maximum number of iteration reached before convergence. Consider increasing max_iter to improve the fit.\n",
      "  warnings.warn(\n",
      "/opt/conda/envs/fastai/lib/python3.8/site-packages/sklearn/linear_model/_stochastic_gradient.py:703: ConvergenceWarning: Maximum number of iteration reached before convergence. Consider increasing max_iter to improve the fit.\n",
      "  warnings.warn(\n"
     ]
    },
    {
     "name": "stdout",
     "output_type": "stream",
     "text": [
      "cluster : 2, model : SGD Classifier\n",
      "              precision    recall  f1-score   support\n",
      "\n",
      "           0       1.00      0.46      0.63        46\n",
      "           1       0.59      0.83      0.69        29\n",
      "           2       0.18      1.00      0.30         3\n",
      "           3       0.89      0.80      0.84        10\n",
      "\n",
      "    accuracy                           0.64        88\n",
      "   macro avg       0.66      0.77      0.61        88\n",
      "weighted avg       0.82      0.64      0.66        88\n",
      "\n",
      "cluster : 2, model : XGBClassifier(base_score=None, booster=None, colsample_bylevel=None,\n",
      "              colsample_bynode=None, colsample_bytree=None, gamma=None,\n",
      "              gpu_id=None, importance_type='gain', interaction_constraints=None,\n",
      "              learning_rate=None, max_delta_step=None, max_depth=None,\n",
      "              min_child_weight=None, missing=nan, monotone_constraints=None,\n",
      "              n_estimators=100, n_jobs=None, num_parallel_tree=None,\n",
      "              random_state=42, reg_alpha=None, reg_lambda=None,\n",
      "              scale_pos_weight=None, subsample=None, tree_method=None,\n",
      "              validate_parameters=None, verbosity=None)\n",
      "cluster : 2, model : XGB Classifier\n",
      "              precision    recall  f1-score   support\n",
      "\n",
      "           0       0.98      0.96      0.97        46\n",
      "           1       0.93      0.90      0.91        29\n",
      "           2       0.60      1.00      0.75         3\n",
      "           3       1.00      1.00      1.00        10\n",
      "\n",
      "    accuracy                           0.94        88\n",
      "   macro avg       0.88      0.96      0.91        88\n",
      "weighted avg       0.95      0.94      0.95        88\n",
      "\n",
      "cluster : 2, model : RandomForestClassifier(random_state=42)\n",
      "cluster : 2, model : random forest\n",
      "              precision    recall  f1-score   support\n",
      "\n",
      "           0       1.00      0.74      0.85        46\n",
      "           1       0.67      0.83      0.74        29\n",
      "           2       0.43      1.00      0.60         3\n",
      "           3       0.91      1.00      0.95        10\n",
      "\n",
      "    accuracy                           0.81        88\n",
      "   macro avg       0.75      0.89      0.79        88\n",
      "weighted avg       0.86      0.81      0.82        88\n",
      "\n"
     ]
    }
   ],
   "source": [
    "accuracy = {}\n",
    "best_params = {}\n",
    "for cluster in range(0, k_value):\n",
    "    index = clusters_train[clusters_train['clusters'] == cluster].index\n",
    "    model_accuracy = {}\n",
    "    model_params = {}\n",
    "    lg_regression = LogisticRegression(random_state=42)\n",
    "    rf_clf = RandomForestClassifier(random_state=42)\n",
    "    sgd_clf = SGDClassifier(random_state=42)\n",
    "    xgboost = XGBClassifier(random_state=42)\n",
    "    for model in [lg_regression, sgd_clf, xgboost, rf_clf]:\n",
    "        if model == lg_regression : \n",
    "            params = get_params(\"lg_params\")\n",
    "        elif model == rf_clf : \n",
    "            params = get_params(\"rf_params\")\n",
    "        elif model == sgd_clf : \n",
    "            params = get_params(\"sgd_params\")\n",
    "        elif model == xgboost : \n",
    "            params = get_params(\"xgb_params\")\n",
    "        print(f\"cluster : {cluster}, model : {model}\")\n",
    "        random_cv = RandomizedSearchCV(model, param_distributions=params, n_iter=15, cv=5, \n",
    "                               scoring=make_scorer(classification_report_with_accuracy_score_train), \n",
    "                               n_jobs=-1)\n",
    "        random_cv.fit(X_train_knn, y_train)\n",
    "        \n",
    "        tuned_model = model.set_params(**random_cv.best_params_)\n",
    "        tuned_model.fit(X_train_knn, y_train)\n",
    "        index = clusters_test[clusters_test['clusters'] == cluster].index\n",
    "        y_pred = tuned_model.predict(X_test_knn.iloc[index])\n",
    "        if model == lg_regression:\n",
    "            print(f\"cluster : {cluster}, model : logistic\")\n",
    "            model_accuracy['lg_reg'] = classification_report_with_accuracy_score_test(y_pred=y_pred,y_true=y_test.iloc[index])\n",
    "            model_params['lg_reg'] = random_cv.best_params_\n",
    "        if model == rf_clf:\n",
    "            print(f\"cluster : {cluster}, model : random forest\")\n",
    "            model_accuracy['rf_reg'] = classification_report_with_accuracy_score_test(y_pred=y_pred,y_true=y_test.iloc[index])\n",
    "            model_params['rf_reg'] = random_cv.best_params_\n",
    "        if model == sgd_clf:\n",
    "            print(f\"cluster : {cluster}, model : SGD Classifier\")\n",
    "            model_accuracy['sgd_clf'] = classification_report_with_accuracy_score_test(y_pred=y_pred,y_true=y_test.iloc[index])\n",
    "            model_params['sgd_clf'] = random_cv.best_params_\n",
    "        if model == xgboost:\n",
    "            print(f\"cluster : {cluster}, model : XGB Classifier\")\n",
    "            model_accuracy['xgb_clf'] = classification_report_with_accuracy_score_test(y_pred=y_pred,y_true=y_test.iloc[index])\n",
    "            model_params['xgb_clf'] = random_cv.best_params_\n",
    "    accuracy[cluster] = model_accuracy\n",
    "    best_params[cluster] = model_params"
   ]
  },
  {
   "cell_type": "code",
   "execution_count": 143,
   "metadata": {
    "scrolled": false
   },
   "outputs": [
    {
     "name": "stdout",
     "output_type": "stream",
     "text": [
      "{0: {'lg_reg': 0.7558139534883721, 'sgd_clf': 0.7906976744186046, 'xgb_clf': 0.9709302325581395, 'rf_reg': 0.8953488372093024}, 1: {'lg_reg': 0.8255813953488372, 'sgd_clf': 0.7906976744186046, 'xgb_clf': 0.9883720930232558, 'rf_reg': 0.8837209302325582}, 2: {'lg_reg': 0.7840909090909091, 'sgd_clf': 0.6363636363636364, 'xgb_clf': 0.9431818181818182, 'rf_reg': 0.8068181818181818}}\n"
     ]
    }
   ],
   "source": [
    "print(accuracy)"
   ]
  },
  {
   "cell_type": "code",
   "execution_count": 144,
   "metadata": {
    "scrolled": true
   },
   "outputs": [
    {
     "name": "stdout",
     "output_type": "stream",
     "text": [
      "{0: {'lg_reg': {'solver': 'saga', 'penalty': 'elasticnet', 'multi_class': 'multinomial', 'max_iter': 260, 'l1_ratio': 0.4232323232323232, 'C': 100}, 'sgd_clf': {'penalty': 'elasticnet', 'max_iter': 700, 'loss': 'log', 'l1_ratio': 0.25000000000000006, 'alpha': 0.001}, 'xgb_clf': {'use_label_encoder': False, 'objective': 'multi:softmax', 'num_class': 4, 'n_estimators': 900, 'max_depth': 6, 'eval_metric': 'mlogloss', 'eta': 0.21000000000000002}, 'rf_reg': {'n_estimators': 100, 'min_samples_split': 2, 'min_samples_leaf': 3, 'max_leaf_nodes': 9, 'max_features': 'auto', 'max_depth': 10, 'bootstrap': False}}, 1: {'lg_reg': {'solver': 'saga', 'penalty': 'elasticnet', 'multi_class': 'multinomial', 'max_iter': 290, 'l1_ratio': 0.12828282828282828, 'C': 1000}, 'sgd_clf': {'penalty': 'l1', 'max_iter': 700, 'loss': 'log', 'l1_ratio': 0.3500000000000001, 'alpha': 0.001}, 'xgb_clf': {'use_label_encoder': False, 'objective': 'multi:softmax', 'num_class': 4, 'n_estimators': 900, 'max_depth': 6, 'eval_metric': 'mlogloss', 'eta': 0.21000000000000002}, 'rf_reg': {'n_estimators': 600, 'min_samples_split': 2, 'min_samples_leaf': 3, 'max_leaf_nodes': 9, 'max_features': 'auto', 'max_depth': 10, 'bootstrap': True}}, 2: {'lg_reg': {'solver': 'saga', 'penalty': 'elasticnet', 'multi_class': 'multinomial', 'max_iter': 200, 'l1_ratio': 0.4676767676767677, 'C': 1000}, 'sgd_clf': {'penalty': 'elasticnet', 'max_iter': 1100, 'loss': 'hinge', 'l1_ratio': 0.45000000000000007, 'alpha': 0.01}, 'xgb_clf': {'use_label_encoder': False, 'objective': 'multi:softmax', 'num_class': 4, 'n_estimators': 1200, 'max_depth': 6, 'eval_metric': 'mlogloss', 'eta': 0.21000000000000002}, 'rf_reg': {'n_estimators': 700, 'min_samples_split': 6, 'min_samples_leaf': 5, 'max_leaf_nodes': 9, 'max_features': 'sqrt', 'max_depth': 9, 'bootstrap': True}}}\n"
     ]
    }
   ],
   "source": [
    "print(best_params)"
   ]
  },
  {
   "cell_type": "markdown",
   "metadata": {},
   "source": [
    "We applied different models to each cluster and observed the below best models for each cluster\n",
    "\n",
    "* cluster 0 - XG Boost with 97.09% accuracy\n",
    "* cluster 1 - XG Boost with 98.83% accuracy\n",
    "* cluster 2 - XG Boost with 94.31% accuracy\n",
    "\n",
    "Best Hypertuned params for best fitted models for each cluster\n",
    "\n",
    "* cluster - 0\n",
    "#### 'xgb_clf': {'use_label_encoder': False, 'objective': 'multi:softmax', 'num_class': 4, 'n_estimators': 900, 'max_depth': 6, 'eval_metric': 'mlogloss', 'eta': 0.21000000000000002}\n",
    "\n",
    "\n",
    "* cluster - 1\n",
    "#### 'xgb_clf': {'use_label_encoder': False, 'objective': 'multi:softmax', 'num_class': 4, 'n_estimators': 900, 'max_depth': 6, 'eval_metric': 'mlogloss', 'eta': 0.21000000000000002}\n",
    "\n",
    "* cluster - 2\n",
    "#### 'xgb_clf': {'use_label_encoder': False, 'objective': 'multi:softmax', 'num_class': 4, 'n_estimators': 1200, 'max_depth': 6, 'eval_metric': 'mlogloss', 'eta': 0.21000000000000002}"
   ]
  },
  {
   "cell_type": "markdown",
   "metadata": {},
   "source": [
    "From initial model creation, we clearly see all the models couldn't predict the values properly. Then we applied hyper parameter tuning and divided our data into multiple clusters and trained 4 models with the training set. Finally we extracted best fitted model with hypertuned parameters. Let's use cross validation on the final model to see the accuaracy"
   ]
  },
  {
   "cell_type": "markdown",
   "metadata": {},
   "source": [
    "## Cross- validation\n",
    "\n",
    "Cross-validation is a technique in which we train our model using the subset of the data-set and then evaluate using the complementary subset of the data-set. There are different types of cross validation techniques. We use StratifiedKFold technique"
   ]
  },
  {
   "cell_type": "code",
   "execution_count": 145,
   "metadata": {},
   "outputs": [],
   "source": [
    "hypertuned_parameters = {\n",
    "    0: best_params[0]['xgb_clf'],\n",
    "    1: best_params[1]['xgb_clf'],\n",
    "    2: best_params[2]['xgb_clf'],\n",
    "}    "
   ]
  },
  {
   "cell_type": "code",
   "execution_count": 146,
   "metadata": {},
   "outputs": [],
   "source": [
    "def classification_report_with_accuracy_score(y_true, y_pred):\n",
    "    print(classification_report(y_true, y_pred))# print classification report\n",
    "    return accuracy_score(y_true, y_pred)"
   ]
  },
  {
   "cell_type": "code",
   "execution_count": 147,
   "metadata": {},
   "outputs": [
    {
     "name": "stdout",
     "output_type": "stream",
     "text": [
      "Cluster - 0 & Accuracy Train Score - 0.9884615384615385\n",
      "Cluster - 1 & Accuracy Train Score - 0.9884615384615385\n",
      "Cluster - 2 & Accuracy Train Score - 0.9887179487179487\n"
     ]
    }
   ],
   "source": [
    "avg_accuracy = []\n",
    "for cluster in set(clusters):\n",
    "    test_index = clusters_test[clusters_test['clusters'] == cluster].index\n",
    "    params = hypertuned_parameters[cluster]\n",
    "    model = XGBClassifier(random_state=42).set_params(**params)\n",
    "    score = cross_val_score(model, X_train_knn, y_train, cv=5, scoring=make_scorer(classification_report_with_accuracy_score_train))\n",
    "    print(f\"Cluster - {cluster}\", end=\" & \")\n",
    "    print(f\"Accuracy Train Score - {score.mean()}\")"
   ]
  },
  {
   "cell_type": "code",
   "execution_count": 148,
   "metadata": {},
   "outputs": [
    {
     "name": "stdout",
     "output_type": "stream",
     "text": [
      "Cluster - 0 & Accuracy Test Score - 97.09302325581395\n",
      "Cluster - 1 & Accuracy Test Score - 98.83720930232558\n",
      "Cluster - 2 & Accuracy Test Score - 94.31818181818183\n",
      "Model Average Accuracy - 96.74947145877378\n"
     ]
    }
   ],
   "source": [
    "avg_knn_accuracy = []\n",
    "models = []\n",
    "for cluster in set(clusters):\n",
    "    test_index = clusters_test[clusters_test['clusters'] == cluster].index\n",
    "    #train_index = clusters_train[clusters_train['clusters'] == cluster].index\n",
    "    params = hypertuned_parameters[cluster]\n",
    "    model = XGBClassifier(random_state=42).set_params(**params)\n",
    "    model.fit(X_train_knn, y_train)\n",
    "    models.append(model)\n",
    "    y_pred = model.predict(X_test_knn.iloc[test_index])\n",
    "    print(f\"Cluster - {cluster}\", end=\" & \")\n",
    "    avg_knn_accuracy.append(accuracy_score(y_test.iloc[test_index], y_pred)*100)\n",
    "    print(f\"Accuracy Test Score - {avg_knn_accuracy[-1]}\")\n",
    "print(f\"Model Average Accuracy - {sum(avg_knn_accuracy)/k_value}\")"
   ]
  },
  {
   "cell_type": "markdown",
   "metadata": {},
   "source": [
    "Finally, our model final accuracy is 96.74% which is good accuracy"
   ]
  },
  {
   "cell_type": "markdown",
   "metadata": {},
   "source": [
    "Saving the cluster algorithm into cluster.pkl file, which can be re-used using pickle.load() method"
   ]
  },
  {
   "cell_type": "code",
   "execution_count": 149,
   "metadata": {},
   "outputs": [],
   "source": [
    "cluster_file = open(\"cluster_knn.pkl\", \"wb\")\n",
    "pkl.dump(kmeans, cluster_file)\n",
    "cluster_file.close()"
   ]
  },
  {
   "cell_type": "markdown",
   "metadata": {},
   "source": [
    "Saving the model into model.pkl file, which can be re-used using pickle.load() method"
   ]
  },
  {
   "cell_type": "code",
   "execution_count": 150,
   "metadata": {},
   "outputs": [],
   "source": [
    "model_file = open(\"model_knn.pkl\", \"wb\")\n",
    "pkl.dump(models, model_file)\n",
    "model_file.close()"
   ]
  },
  {
   "cell_type": "code",
   "execution_count": null,
   "metadata": {},
   "outputs": [],
   "source": []
  }
 ],
 "metadata": {
  "celltoolbar": "Raw Cell Format",
  "kernelspec": {
   "display_name": "Python 3",
   "language": "python",
   "name": "python3"
  },
  "language_info": {
   "codemirror_mode": {
    "name": "ipython",
    "version": 3
   },
   "file_extension": ".py",
   "mimetype": "text/x-python",
   "name": "python",
   "nbconvert_exporter": "python",
   "pygments_lexer": "ipython3",
   "version": "3.8.6"
  }
 },
 "nbformat": 4,
 "nbformat_minor": 4
}
